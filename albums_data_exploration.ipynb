{
 "cells": [
  {
   "cell_type": "markdown",
   "metadata": {},
   "source": [
    "# <b>Albums data exploration</b>"
   ]
  },
  {
   "cell_type": "markdown",
   "metadata": {},
   "source": [
    "### <b>Import libraries</b>"
   ]
  },
  {
   "cell_type": "code",
   "execution_count": 17,
   "metadata": {},
   "outputs": [],
   "source": [
    "import pandas as pd\n",
    "import matplotlib.pyplot as plt\n",
    "from sklearn import set_config\n",
    "import seaborn as sns; sns.set()\n",
    "from datetime import datetime\n",
    "set_config(display = 'diagram')"
   ]
  },
  {
   "cell_type": "markdown",
   "metadata": {},
   "source": [
    "### <b>Read raw albums' data from tsv by pandas</b>"
   ]
  },
  {
   "cell_type": "code",
   "execution_count": 18,
   "metadata": {},
   "outputs": [
    {
     "data": {
      "text/html": [
       "<div>\n",
       "<style scoped>\n",
       "    .dataframe tbody tr th:only-of-type {\n",
       "        vertical-align: middle;\n",
       "    }\n",
       "\n",
       "    .dataframe tbody tr th {\n",
       "        vertical-align: top;\n",
       "    }\n",
       "\n",
       "    .dataframe thead th {\n",
       "        text-align: right;\n",
       "    }\n",
       "</style>\n",
       "<table border=\"1\" class=\"dataframe\">\n",
       "  <thead>\n",
       "    <tr style=\"text-align: right;\">\n",
       "      <th></th>\n",
       "      <th>id</th>\n",
       "      <th>name</th>\n",
       "      <th>popularity</th>\n",
       "      <th>available_markets</th>\n",
       "      <th>release_date</th>\n",
       "      <th>total_tracks</th>\n",
       "    </tr>\n",
       "  </thead>\n",
       "  <tbody>\n",
       "    <tr>\n",
       "      <th>0</th>\n",
       "      <td>7lPoGKpCGgdKFAxpudhAH5</td>\n",
       "      <td>Speak Your Mind (Deluxe)</td>\n",
       "      <td>72</td>\n",
       "      <td>183</td>\n",
       "      <td>2018-04-27</td>\n",
       "      <td>18</td>\n",
       "    </tr>\n",
       "    <tr>\n",
       "      <th>1</th>\n",
       "      <td>0gr5OmB74UhoANEXwYT3gE</td>\n",
       "      <td>Dreamers [Music from the FIFA World Cup Qatar ...</td>\n",
       "      <td>67</td>\n",
       "      <td>183</td>\n",
       "      <td>2022-11-20</td>\n",
       "      <td>1</td>\n",
       "    </tr>\n",
       "    <tr>\n",
       "      <th>2</th>\n",
       "      <td>6al2VdKbb6FIz9d7lU7WRB</td>\n",
       "      <td>Proof</td>\n",
       "      <td>85</td>\n",
       "      <td>183</td>\n",
       "      <td>2022-06-10</td>\n",
       "      <td>35</td>\n",
       "    </tr>\n",
       "    <tr>\n",
       "      <th>3</th>\n",
       "      <td>6oSxSPOg7Kuitjt2zwP7sU</td>\n",
       "      <td>2002</td>\n",
       "      <td>52</td>\n",
       "      <td>183</td>\n",
       "      <td>2018-04-19</td>\n",
       "      <td>1</td>\n",
       "    </tr>\n",
       "    <tr>\n",
       "      <th>4</th>\n",
       "      <td>4uDaEWj8W206qyyyndHri9</td>\n",
       "      <td>2022 Tanging Ain't Dead Cypher</td>\n",
       "      <td>36</td>\n",
       "      <td>183</td>\n",
       "      <td>2022-02-21</td>\n",
       "      <td>1</td>\n",
       "    </tr>\n",
       "    <tr>\n",
       "      <th>...</th>\n",
       "      <td>...</td>\n",
       "      <td>...</td>\n",
       "      <td>...</td>\n",
       "      <td>...</td>\n",
       "      <td>...</td>\n",
       "      <td>...</td>\n",
       "    </tr>\n",
       "    <tr>\n",
       "      <th>2995</th>\n",
       "      <td>4L9AVldyJCKBOjWLMZieW0</td>\n",
       "      <td>2020 Vision</td>\n",
       "      <td>41</td>\n",
       "      <td>183</td>\n",
       "      <td>2020-03-20</td>\n",
       "      <td>8</td>\n",
       "    </tr>\n",
       "    <tr>\n",
       "      <th>2996</th>\n",
       "      <td>4EaxXFlLmcARrR4svYOBPG</td>\n",
       "      <td>Beste Zangers 2020 (Stef Bos)</td>\n",
       "      <td>37</td>\n",
       "      <td>183</td>\n",
       "      <td>2020-10-30</td>\n",
       "      <td>7</td>\n",
       "    </tr>\n",
       "    <tr>\n",
       "      <th>2997</th>\n",
       "      <td>6vyjuun6BIWGkkUKseUVzf</td>\n",
       "      <td>Boogadaboogadaboogada! (2020 Remaster)</td>\n",
       "      <td>42</td>\n",
       "      <td>183</td>\n",
       "      <td>2020-08-07</td>\n",
       "      <td>26</td>\n",
       "    </tr>\n",
       "    <tr>\n",
       "      <th>2998</th>\n",
       "      <td>3jCbuVrvccIww2TZrz8xPB</td>\n",
       "      <td>Beste Zangers Seizoen 2020 (Aflevering 4 - Tab...</td>\n",
       "      <td>33</td>\n",
       "      <td>183</td>\n",
       "      <td>2020-09-24</td>\n",
       "      <td>6</td>\n",
       "    </tr>\n",
       "    <tr>\n",
       "      <th>2999</th>\n",
       "      <td>0kmBEk4CbklFQljNVMbpqL</td>\n",
       "      <td>LOS Exitos DEL REY 2020</td>\n",
       "      <td>37</td>\n",
       "      <td>183</td>\n",
       "      <td>2020-11-28</td>\n",
       "      <td>12</td>\n",
       "    </tr>\n",
       "  </tbody>\n",
       "</table>\n",
       "<p>3000 rows × 6 columns</p>\n",
       "</div>"
      ],
      "text/plain": [
       "                          id  \\\n",
       "0     7lPoGKpCGgdKFAxpudhAH5   \n",
       "1     0gr5OmB74UhoANEXwYT3gE   \n",
       "2     6al2VdKbb6FIz9d7lU7WRB   \n",
       "3     6oSxSPOg7Kuitjt2zwP7sU   \n",
       "4     4uDaEWj8W206qyyyndHri9   \n",
       "...                      ...   \n",
       "2995  4L9AVldyJCKBOjWLMZieW0   \n",
       "2996  4EaxXFlLmcARrR4svYOBPG   \n",
       "2997  6vyjuun6BIWGkkUKseUVzf   \n",
       "2998  3jCbuVrvccIww2TZrz8xPB   \n",
       "2999  0kmBEk4CbklFQljNVMbpqL   \n",
       "\n",
       "                                                   name  popularity  \\\n",
       "0                              Speak Your Mind (Deluxe)          72   \n",
       "1     Dreamers [Music from the FIFA World Cup Qatar ...          67   \n",
       "2                                                 Proof          85   \n",
       "3                                                  2002          52   \n",
       "4                        2022 Tanging Ain't Dead Cypher          36   \n",
       "...                                                 ...         ...   \n",
       "2995                                        2020 Vision          41   \n",
       "2996                      Beste Zangers 2020 (Stef Bos)          37   \n",
       "2997             Boogadaboogadaboogada! (2020 Remaster)          42   \n",
       "2998  Beste Zangers Seizoen 2020 (Aflevering 4 - Tab...          33   \n",
       "2999                            LOS Exitos DEL REY 2020          37   \n",
       "\n",
       "      available_markets release_date  total_tracks  \n",
       "0                   183   2018-04-27            18  \n",
       "1                   183   2022-11-20             1  \n",
       "2                   183   2022-06-10            35  \n",
       "3                   183   2018-04-19             1  \n",
       "4                   183   2022-02-21             1  \n",
       "...                 ...          ...           ...  \n",
       "2995                183   2020-03-20             8  \n",
       "2996                183   2020-10-30             7  \n",
       "2997                183   2020-08-07            26  \n",
       "2998                183   2020-09-24             6  \n",
       "2999                183   2020-11-28            12  \n",
       "\n",
       "[3000 rows x 6 columns]"
      ]
     },
     "execution_count": 18,
     "metadata": {},
     "output_type": "execute_result"
    }
   ],
   "source": [
    "pd_album = pd.read_csv('albums_data.tsv', sep = '\\t')\n",
    "pd_album"
   ]
  },
  {
   "cell_type": "markdown",
   "metadata": {},
   "source": [
    "### <b>Number of raw data's rows and columns</b>"
   ]
  },
  {
   "cell_type": "code",
   "execution_count": 19,
   "metadata": {},
   "outputs": [
    {
     "data": {
      "text/plain": [
       "(3000, 6)"
      ]
     },
     "execution_count": 19,
     "metadata": {},
     "output_type": "execute_result"
    }
   ],
   "source": [
    "rows, columns = pd_album.shape\n",
    "rows, columns"
   ]
  },
  {
   "cell_type": "markdown",
   "metadata": {},
   "source": [
    "### <b>Get information of data</b>"
   ]
  },
  {
   "cell_type": "code",
   "execution_count": 20,
   "metadata": {},
   "outputs": [
    {
     "name": "stdout",
     "output_type": "stream",
     "text": [
      "<class 'pandas.core.frame.DataFrame'>\n",
      "RangeIndex: 3000 entries, 0 to 2999\n",
      "Data columns (total 6 columns):\n",
      " #   Column             Non-Null Count  Dtype \n",
      "---  ------             --------------  ----- \n",
      " 0   id                 3000 non-null   object\n",
      " 1   name               3000 non-null   object\n",
      " 2   popularity         3000 non-null   int64 \n",
      " 3   available_markets  3000 non-null   int64 \n",
      " 4   release_date       3000 non-null   object\n",
      " 5   total_tracks       3000 non-null   int64 \n",
      "dtypes: int64(3), object(3)\n",
      "memory usage: 140.8+ KB\n"
     ]
    }
   ],
   "source": [
    "pd_album.info()"
   ]
  },
  {
   "cell_type": "markdown",
   "metadata": {},
   "source": [
    "### <b>Datatype of each columns </b>"
   ]
  },
  {
   "cell_type": "code",
   "execution_count": 21,
   "metadata": {},
   "outputs": [
    {
     "data": {
      "text/plain": [
       "id                   object\n",
       "name                 object\n",
       "popularity            int64\n",
       "available_markets     int64\n",
       "release_date         object\n",
       "total_tracks          int64\n",
       "dtype: object"
      ]
     },
     "execution_count": 21,
     "metadata": {},
     "output_type": "execute_result"
    }
   ],
   "source": [
    "dtypes = pd_album.dtypes\n",
    "dtypes"
   ]
  },
  {
   "cell_type": "markdown",
   "metadata": {},
   "source": [
    "### <b>Description of each data's column </b>"
   ]
  },
  {
   "cell_type": "code",
   "execution_count": 22,
   "metadata": {},
   "outputs": [
    {
     "data": {
      "text/html": [
       "<div>\n",
       "<style scoped>\n",
       "    .dataframe tbody tr th:only-of-type {\n",
       "        vertical-align: middle;\n",
       "    }\n",
       "\n",
       "    .dataframe tbody tr th {\n",
       "        vertical-align: top;\n",
       "    }\n",
       "\n",
       "    .dataframe thead th {\n",
       "        text-align: right;\n",
       "    }\n",
       "</style>\n",
       "<table border=\"1\" class=\"dataframe\">\n",
       "  <thead>\n",
       "    <tr style=\"text-align: right;\">\n",
       "      <th></th>\n",
       "      <th>column name</th>\n",
       "      <th>data type</th>\n",
       "      <th>meaning</th>\n",
       "      <th>example</th>\n",
       "    </tr>\n",
       "  </thead>\n",
       "  <tbody>\n",
       "    <tr>\n",
       "      <th>0</th>\n",
       "      <td>id</td>\n",
       "      <td>string</td>\n",
       "      <td>The Spotify ID of the album</td>\n",
       "      <td>7lPoGKpCGgdKFAxpudhAH5</td>\n",
       "    </tr>\n",
       "    <tr>\n",
       "      <th>1</th>\n",
       "      <td>name</td>\n",
       "      <td>string</td>\n",
       "      <td>The name of the album</td>\n",
       "      <td>Speak Your Mind (Deluxe)</td>\n",
       "    </tr>\n",
       "    <tr>\n",
       "      <th>2</th>\n",
       "      <td>popularity</td>\n",
       "      <td>int</td>\n",
       "      <td>\"The popularity of the album. The value will ...</td>\n",
       "      <td>72</td>\n",
       "    </tr>\n",
       "    <tr>\n",
       "      <th>3</th>\n",
       "      <td>available_markets</td>\n",
       "      <td>int</td>\n",
       "      <td>The number of markets (countries) which the a...</td>\n",
       "      <td>183</td>\n",
       "    </tr>\n",
       "    <tr>\n",
       "      <th>4</th>\n",
       "      <td>release_date</td>\n",
       "      <td>datetime</td>\n",
       "      <td>The day when the album was released</td>\n",
       "      <td>\"2018-04-27\"</td>\n",
       "    </tr>\n",
       "    <tr>\n",
       "      <th>5</th>\n",
       "      <td>total_tracks</td>\n",
       "      <td>int</td>\n",
       "      <td>The number of tracks which the album contain</td>\n",
       "      <td>18</td>\n",
       "    </tr>\n",
       "  </tbody>\n",
       "</table>\n",
       "</div>"
      ],
      "text/plain": [
       "         column name  data type  \\\n",
       "0                 id     string   \n",
       "1               name     string   \n",
       "2         popularity        int   \n",
       "3  available_markets        int   \n",
       "4       release_date   datetime   \n",
       "5       total_tracks        int   \n",
       "\n",
       "                                             meaning  \\\n",
       "0                        The Spotify ID of the album   \n",
       "1                              The name of the album   \n",
       "2   \"The popularity of the album. The value will ...   \n",
       "3   The number of markets (countries) which the a...   \n",
       "4                The day when the album was released   \n",
       "5       The number of tracks which the album contain   \n",
       "\n",
       "                     example  \n",
       "0     7lPoGKpCGgdKFAxpudhAH5  \n",
       "1   Speak Your Mind (Deluxe)  \n",
       "2                         72  \n",
       "3                        183  \n",
       "4               \"2018-04-27\"  \n",
       "5                         18  "
      ]
     },
     "execution_count": 22,
     "metadata": {},
     "output_type": "execute_result"
    }
   ],
   "source": [
    "albums_data_des = pd.read_csv('albums_data_des.csv')\n",
    "albums_data_des"
   ]
  },
  {
   "cell_type": "markdown",
   "metadata": {},
   "source": [
    "### <b>Count how many albums are duplicated</b>"
   ]
  },
  {
   "cell_type": "code",
   "execution_count": 23,
   "metadata": {},
   "outputs": [
    {
     "data": {
      "text/plain": [
       "True     1761\n",
       "False    1239\n",
       "dtype: int64"
      ]
     },
     "execution_count": 23,
     "metadata": {},
     "output_type": "execute_result"
    }
   ],
   "source": [
    "pd_album.duplicated().value_counts()"
   ]
  },
  {
   "cell_type": "markdown",
   "metadata": {},
   "source": [
    "### <b>Show off unique data </b>"
   ]
  },
  {
   "cell_type": "code",
   "execution_count": 24,
   "metadata": {},
   "outputs": [
    {
     "data": {
      "text/html": [
       "<div>\n",
       "<style scoped>\n",
       "    .dataframe tbody tr th:only-of-type {\n",
       "        vertical-align: middle;\n",
       "    }\n",
       "\n",
       "    .dataframe tbody tr th {\n",
       "        vertical-align: top;\n",
       "    }\n",
       "\n",
       "    .dataframe thead th {\n",
       "        text-align: right;\n",
       "    }\n",
       "</style>\n",
       "<table border=\"1\" class=\"dataframe\">\n",
       "  <thead>\n",
       "    <tr style=\"text-align: right;\">\n",
       "      <th></th>\n",
       "      <th>id</th>\n",
       "      <th>name</th>\n",
       "      <th>popularity</th>\n",
       "      <th>available_markets</th>\n",
       "      <th>release_date</th>\n",
       "      <th>total_tracks</th>\n",
       "    </tr>\n",
       "  </thead>\n",
       "  <tbody>\n",
       "    <tr>\n",
       "      <th>0</th>\n",
       "      <td>7lPoGKpCGgdKFAxpudhAH5</td>\n",
       "      <td>Speak Your Mind (Deluxe)</td>\n",
       "      <td>72</td>\n",
       "      <td>183</td>\n",
       "      <td>2018-04-27</td>\n",
       "      <td>18</td>\n",
       "    </tr>\n",
       "    <tr>\n",
       "      <th>1</th>\n",
       "      <td>0gr5OmB74UhoANEXwYT3gE</td>\n",
       "      <td>Dreamers [Music from the FIFA World Cup Qatar ...</td>\n",
       "      <td>67</td>\n",
       "      <td>183</td>\n",
       "      <td>2022-11-20</td>\n",
       "      <td>1</td>\n",
       "    </tr>\n",
       "    <tr>\n",
       "      <th>2</th>\n",
       "      <td>6al2VdKbb6FIz9d7lU7WRB</td>\n",
       "      <td>Proof</td>\n",
       "      <td>85</td>\n",
       "      <td>183</td>\n",
       "      <td>2022-06-10</td>\n",
       "      <td>35</td>\n",
       "    </tr>\n",
       "    <tr>\n",
       "      <th>3</th>\n",
       "      <td>6oSxSPOg7Kuitjt2zwP7sU</td>\n",
       "      <td>2002</td>\n",
       "      <td>52</td>\n",
       "      <td>183</td>\n",
       "      <td>2018-04-19</td>\n",
       "      <td>1</td>\n",
       "    </tr>\n",
       "    <tr>\n",
       "      <th>4</th>\n",
       "      <td>4uDaEWj8W206qyyyndHri9</td>\n",
       "      <td>2022 Tanging Ain't Dead Cypher</td>\n",
       "      <td>36</td>\n",
       "      <td>183</td>\n",
       "      <td>2022-02-21</td>\n",
       "      <td>1</td>\n",
       "    </tr>\n",
       "    <tr>\n",
       "      <th>...</th>\n",
       "      <td>...</td>\n",
       "      <td>...</td>\n",
       "      <td>...</td>\n",
       "      <td>...</td>\n",
       "      <td>...</td>\n",
       "      <td>...</td>\n",
       "    </tr>\n",
       "    <tr>\n",
       "      <th>2993</th>\n",
       "      <td>2XXF6pODroMYQ3qPmXeMB1</td>\n",
       "      <td>Mona Bone Jakon (Remastered 2020)</td>\n",
       "      <td>50</td>\n",
       "      <td>183</td>\n",
       "      <td>1970-04-24</td>\n",
       "      <td>11</td>\n",
       "    </tr>\n",
       "    <tr>\n",
       "      <th>2994</th>\n",
       "      <td>1zTte6jrgPExyHmoytoUue</td>\n",
       "      <td>Песни На Русском 2020 Vol-1</td>\n",
       "      <td>34</td>\n",
       "      <td>175</td>\n",
       "      <td>2020-02-09</td>\n",
       "      <td>10</td>\n",
       "    </tr>\n",
       "    <tr>\n",
       "      <th>2997</th>\n",
       "      <td>6vyjuun6BIWGkkUKseUVzf</td>\n",
       "      <td>Boogadaboogadaboogada! (2020 Remaster)</td>\n",
       "      <td>42</td>\n",
       "      <td>183</td>\n",
       "      <td>2020-08-07</td>\n",
       "      <td>26</td>\n",
       "    </tr>\n",
       "    <tr>\n",
       "      <th>2998</th>\n",
       "      <td>3jCbuVrvccIww2TZrz8xPB</td>\n",
       "      <td>Beste Zangers Seizoen 2020 (Aflevering 4 - Tab...</td>\n",
       "      <td>33</td>\n",
       "      <td>183</td>\n",
       "      <td>2020-09-24</td>\n",
       "      <td>6</td>\n",
       "    </tr>\n",
       "    <tr>\n",
       "      <th>2999</th>\n",
       "      <td>0kmBEk4CbklFQljNVMbpqL</td>\n",
       "      <td>LOS Exitos DEL REY 2020</td>\n",
       "      <td>37</td>\n",
       "      <td>183</td>\n",
       "      <td>2020-11-28</td>\n",
       "      <td>12</td>\n",
       "    </tr>\n",
       "  </tbody>\n",
       "</table>\n",
       "<p>1239 rows × 6 columns</p>\n",
       "</div>"
      ],
      "text/plain": [
       "                          id  \\\n",
       "0     7lPoGKpCGgdKFAxpudhAH5   \n",
       "1     0gr5OmB74UhoANEXwYT3gE   \n",
       "2     6al2VdKbb6FIz9d7lU7WRB   \n",
       "3     6oSxSPOg7Kuitjt2zwP7sU   \n",
       "4     4uDaEWj8W206qyyyndHri9   \n",
       "...                      ...   \n",
       "2993  2XXF6pODroMYQ3qPmXeMB1   \n",
       "2994  1zTte6jrgPExyHmoytoUue   \n",
       "2997  6vyjuun6BIWGkkUKseUVzf   \n",
       "2998  3jCbuVrvccIww2TZrz8xPB   \n",
       "2999  0kmBEk4CbklFQljNVMbpqL   \n",
       "\n",
       "                                                   name  popularity  \\\n",
       "0                              Speak Your Mind (Deluxe)          72   \n",
       "1     Dreamers [Music from the FIFA World Cup Qatar ...          67   \n",
       "2                                                 Proof          85   \n",
       "3                                                  2002          52   \n",
       "4                        2022 Tanging Ain't Dead Cypher          36   \n",
       "...                                                 ...         ...   \n",
       "2993                  Mona Bone Jakon (Remastered 2020)          50   \n",
       "2994                        Песни На Русском 2020 Vol-1          34   \n",
       "2997             Boogadaboogadaboogada! (2020 Remaster)          42   \n",
       "2998  Beste Zangers Seizoen 2020 (Aflevering 4 - Tab...          33   \n",
       "2999                            LOS Exitos DEL REY 2020          37   \n",
       "\n",
       "      available_markets release_date  total_tracks  \n",
       "0                   183   2018-04-27            18  \n",
       "1                   183   2022-11-20             1  \n",
       "2                   183   2022-06-10            35  \n",
       "3                   183   2018-04-19             1  \n",
       "4                   183   2022-02-21             1  \n",
       "...                 ...          ...           ...  \n",
       "2993                183   1970-04-24            11  \n",
       "2994                175   2020-02-09            10  \n",
       "2997                183   2020-08-07            26  \n",
       "2998                183   2020-09-24             6  \n",
       "2999                183   2020-11-28            12  \n",
       "\n",
       "[1239 rows x 6 columns]"
      ]
     },
     "execution_count": 24,
     "metadata": {},
     "output_type": "execute_result"
    }
   ],
   "source": [
    "num_duplicated_rows = pd_album.duplicated()\n",
    "pd_album[num_duplicated_rows == False]"
   ]
  },
  {
   "attachments": {},
   "cell_type": "markdown",
   "metadata": {},
   "source": [
    "### <b>Count how much time each album occurs in 3000 rows of raw data</b>\n",
    "- Count duplication of each albums by pd.groupby()\n",
    "- Drop irrelevant columns\n",
    "- Rename the counted value column from \"size\" to \"occurrences\"\n",
    "- Sort \"occurrences\" by descending order"
   ]
  },
  {
   "cell_type": "code",
   "execution_count": 25,
   "metadata": {},
   "outputs": [
    {
     "data": {
      "text/html": [
       "<div>\n",
       "<style scoped>\n",
       "    .dataframe tbody tr th:only-of-type {\n",
       "        vertical-align: middle;\n",
       "    }\n",
       "\n",
       "    .dataframe tbody tr th {\n",
       "        vertical-align: top;\n",
       "    }\n",
       "\n",
       "    .dataframe thead th {\n",
       "        text-align: right;\n",
       "    }\n",
       "</style>\n",
       "<table border=\"1\" class=\"dataframe\">\n",
       "  <thead>\n",
       "    <tr style=\"text-align: right;\">\n",
       "      <th></th>\n",
       "      <th>id</th>\n",
       "      <th>name</th>\n",
       "      <th>occurrences</th>\n",
       "    </tr>\n",
       "  </thead>\n",
       "  <tbody>\n",
       "    <tr>\n",
       "      <th>0</th>\n",
       "      <td>6tMXhYSWXf3xcbrEQgNckz</td>\n",
       "      <td>Capodanno 2022 Baila! Latin Hits</td>\n",
       "      <td>66</td>\n",
       "    </tr>\n",
       "    <tr>\n",
       "      <th>1</th>\n",
       "      <td>2HQ1QwLkpqd5Jn0u5oskim</td>\n",
       "      <td>this was 2022 the hits</td>\n",
       "      <td>48</td>\n",
       "    </tr>\n",
       "    <tr>\n",
       "      <th>2</th>\n",
       "      <td>7nII01joxrmJU3KQPLejxV</td>\n",
       "      <td>2022 Rewind</td>\n",
       "      <td>41</td>\n",
       "    </tr>\n",
       "    <tr>\n",
       "      <th>3</th>\n",
       "      <td>6QIWJVJPPgAA5c4aIb1zCA</td>\n",
       "      <td>SKZ2020</td>\n",
       "      <td>40</td>\n",
       "    </tr>\n",
       "    <tr>\n",
       "      <th>4</th>\n",
       "      <td>69tpCFA80jyssTOIHDQQO8</td>\n",
       "      <td>Capodanno 2022 Pop Hits</td>\n",
       "      <td>38</td>\n",
       "    </tr>\n",
       "    <tr>\n",
       "      <th>5</th>\n",
       "      <td>2hftqbjw8Ka5Z4TbawH8UP</td>\n",
       "      <td>Capodanno 2022 Dance Hits</td>\n",
       "      <td>34</td>\n",
       "    </tr>\n",
       "    <tr>\n",
       "      <th>6</th>\n",
       "      <td>6RINHoeZp00BYfcCqQyRkE</td>\n",
       "      <td>2022 Thanksgiving Dance Party</td>\n",
       "      <td>34</td>\n",
       "    </tr>\n",
       "    <tr>\n",
       "      <th>7</th>\n",
       "      <td>7zva9wg87euC958GKmscJz</td>\n",
       "      <td>Festa di Capodanno 2022</td>\n",
       "      <td>30</td>\n",
       "    </tr>\n",
       "    <tr>\n",
       "      <th>8</th>\n",
       "      <td>0xkKzTdvWzS8DA4hzyQijn</td>\n",
       "      <td>Let It Snow 2022</td>\n",
       "      <td>25</td>\n",
       "    </tr>\n",
       "    <tr>\n",
       "      <th>9</th>\n",
       "      <td>7bX3RQl9L4oCiVT81Fuqes</td>\n",
       "      <td>HUMAN (Live Concert 2020)</td>\n",
       "      <td>25</td>\n",
       "    </tr>\n",
       "  </tbody>\n",
       "</table>\n",
       "</div>"
      ],
      "text/plain": [
       "                       id                              name  occurrences\n",
       "0  6tMXhYSWXf3xcbrEQgNckz  Capodanno 2022 Baila! Latin Hits           66\n",
       "1  2HQ1QwLkpqd5Jn0u5oskim            this was 2022 the hits           48\n",
       "2  7nII01joxrmJU3KQPLejxV                       2022 Rewind           41\n",
       "3  6QIWJVJPPgAA5c4aIb1zCA                           SKZ2020           40\n",
       "4  69tpCFA80jyssTOIHDQQO8           Capodanno 2022 Pop Hits           38\n",
       "5  2hftqbjw8Ka5Z4TbawH8UP         Capodanno 2022 Dance Hits           34\n",
       "6  6RINHoeZp00BYfcCqQyRkE     2022 Thanksgiving Dance Party           34\n",
       "7  7zva9wg87euC958GKmscJz           Festa di Capodanno 2022           30\n",
       "8  0xkKzTdvWzS8DA4hzyQijn                  Let It Snow 2022           25\n",
       "9  7bX3RQl9L4oCiVT81Fuqes         HUMAN (Live Concert 2020)           25"
      ]
     },
     "execution_count": 25,
     "metadata": {},
     "output_type": "execute_result"
    }
   ],
   "source": [
    "album_occur = pd_album.groupby(pd_album.columns.tolist(), as_index = False).size()\n",
    "album_occur = album_occur.drop(['popularity', 'available_markets', 'release_date', 'total_tracks'], axis = 1)\n",
    "album_occur = album_occur.rename(columns = {'size': 'occurrences'})\n",
    "album_occur = album_occur.sort_values(by = 'occurrences', ascending = False, ignore_index = True)\n",
    "album_occur.head(10)"
   ]
  },
  {
   "cell_type": "markdown",
   "metadata": {},
   "source": [
    "### <b>Visualization of top 10 albums' occurrences among 3000 songs</b>"
   ]
  },
  {
   "cell_type": "code",
   "execution_count": 26,
   "metadata": {},
   "outputs": [
    {
     "data": {
      "text/plain": [
       "<AxesSubplot:ylabel='name'>"
      ]
     },
     "execution_count": 26,
     "metadata": {},
     "output_type": "execute_result"
    },
    {
     "data": {
      "image/png": "[encoded data removed]",
      "text/plain": [
       "<Figure size 360x360 with 1 Axes>"
      ]
     },
     "metadata": {
      "needs_background": "light"
     },
     "output_type": "display_data"
    }
   ],
   "source": [
    "top10_occurrences = album_occur[['name', 'occurrences']].nlargest(n = 10, columns = ['occurrences'])\n",
    "top10_occurrences.set_index('name').plot.barh(figsize = (5, 5), color = \"red\")"
   ]
  },
  {
   "cell_type": "markdown",
   "metadata": {},
   "source": [
    "### <b>Convert release_date column from datetime type to Timestamp type</b>"
   ]
  },
  {
   "cell_type": "code",
   "execution_count": 57,
   "metadata": {},
   "outputs": [
    {
     "name": "stdout",
     "output_type": "stream",
     "text": [
      "Ex: 2022-11-20 00:00:00\n"
     ]
    }
   ],
   "source": [
    "pd_album['release_date'] = pd.to_datetime(pd_album['release_date'])\n",
    "print('Ex:', pd_album['release_date'][1])"
   ]
  },
  {
   "cell_type": "markdown",
   "metadata": {},
   "source": [
    "### <b>Drop duplicated albums</b>"
   ]
  },
  {
   "cell_type": "code",
   "execution_count": 63,
   "metadata": {},
   "outputs": [
    {
     "data": {
      "text/html": [
       "<div>\n",
       "<style scoped>\n",
       "    .dataframe tbody tr th:only-of-type {\n",
       "        vertical-align: middle;\n",
       "    }\n",
       "\n",
       "    .dataframe tbody tr th {\n",
       "        vertical-align: top;\n",
       "    }\n",
       "\n",
       "    .dataframe thead th {\n",
       "        text-align: right;\n",
       "    }\n",
       "</style>\n",
       "<table border=\"1\" class=\"dataframe\">\n",
       "  <thead>\n",
       "    <tr style=\"text-align: right;\">\n",
       "      <th></th>\n",
       "      <th>id</th>\n",
       "      <th>name</th>\n",
       "      <th>popularity</th>\n",
       "      <th>available_markets</th>\n",
       "      <th>release_date</th>\n",
       "      <th>total_tracks</th>\n",
       "    </tr>\n",
       "  </thead>\n",
       "  <tbody>\n",
       "    <tr>\n",
       "      <th>0</th>\n",
       "      <td>7lPoGKpCGgdKFAxpudhAH5</td>\n",
       "      <td>Speak Your Mind (Deluxe)</td>\n",
       "      <td>72</td>\n",
       "      <td>183</td>\n",
       "      <td>2018-04-27</td>\n",
       "      <td>18</td>\n",
       "    </tr>\n",
       "    <tr>\n",
       "      <th>1</th>\n",
       "      <td>0gr5OmB74UhoANEXwYT3gE</td>\n",
       "      <td>Dreamers [Music from the FIFA World Cup Qatar ...</td>\n",
       "      <td>67</td>\n",
       "      <td>183</td>\n",
       "      <td>2022-11-20</td>\n",
       "      <td>1</td>\n",
       "    </tr>\n",
       "    <tr>\n",
       "      <th>2</th>\n",
       "      <td>6al2VdKbb6FIz9d7lU7WRB</td>\n",
       "      <td>Proof</td>\n",
       "      <td>85</td>\n",
       "      <td>183</td>\n",
       "      <td>2022-06-10</td>\n",
       "      <td>35</td>\n",
       "    </tr>\n",
       "    <tr>\n",
       "      <th>3</th>\n",
       "      <td>6oSxSPOg7Kuitjt2zwP7sU</td>\n",
       "      <td>2002</td>\n",
       "      <td>52</td>\n",
       "      <td>183</td>\n",
       "      <td>2018-04-19</td>\n",
       "      <td>1</td>\n",
       "    </tr>\n",
       "    <tr>\n",
       "      <th>4</th>\n",
       "      <td>4uDaEWj8W206qyyyndHri9</td>\n",
       "      <td>2022 Tanging Ain't Dead Cypher</td>\n",
       "      <td>36</td>\n",
       "      <td>183</td>\n",
       "      <td>2022-02-21</td>\n",
       "      <td>1</td>\n",
       "    </tr>\n",
       "    <tr>\n",
       "      <th>5</th>\n",
       "      <td>1Ll6pBUUA0uZttCi95oXY5</td>\n",
       "      <td>2022</td>\n",
       "      <td>14</td>\n",
       "      <td>183</td>\n",
       "      <td>2022-10-15</td>\n",
       "      <td>1</td>\n",
       "    </tr>\n",
       "    <tr>\n",
       "      <th>6</th>\n",
       "      <td>3Qj2vsFzmaB8jcH6Q60WIG</td>\n",
       "      <td>The Prelude</td>\n",
       "      <td>62</td>\n",
       "      <td>183</td>\n",
       "      <td>2020-07-17</td>\n",
       "      <td>6</td>\n",
       "    </tr>\n",
       "    <tr>\n",
       "      <th>7</th>\n",
       "      <td>2emh7ZBzZLeQJwzAfeX1CK</td>\n",
       "      <td>Barbarians in Black (2022 Remix)</td>\n",
       "      <td>38</td>\n",
       "      <td>183</td>\n",
       "      <td>2022-10-21</td>\n",
       "      <td>1</td>\n",
       "    </tr>\n",
       "    <tr>\n",
       "      <th>8</th>\n",
       "      <td>6mPSjHXiuf2zHA0ssVp8iU</td>\n",
       "      <td>Hayya Hayya (Better Together) [Music from FIFA...</td>\n",
       "      <td>55</td>\n",
       "      <td>182</td>\n",
       "      <td>2022-04-01</td>\n",
       "      <td>1</td>\n",
       "    </tr>\n",
       "    <tr>\n",
       "      <th>9</th>\n",
       "      <td>0gX9tkL5njRax8ymWcXARi</td>\n",
       "      <td>Unholy (feat. Kim Petras)</td>\n",
       "      <td>88</td>\n",
       "      <td>182</td>\n",
       "      <td>2022-09-22</td>\n",
       "      <td>1</td>\n",
       "    </tr>\n",
       "  </tbody>\n",
       "</table>\n",
       "</div>"
      ],
      "text/plain": [
       "                       id                                               name  \\\n",
       "0  7lPoGKpCGgdKFAxpudhAH5                           Speak Your Mind (Deluxe)   \n",
       "1  0gr5OmB74UhoANEXwYT3gE  Dreamers [Music from the FIFA World Cup Qatar ...   \n",
       "2  6al2VdKbb6FIz9d7lU7WRB                                              Proof   \n",
       "3  6oSxSPOg7Kuitjt2zwP7sU                                               2002   \n",
       "4  4uDaEWj8W206qyyyndHri9                     2022 Tanging Ain't Dead Cypher   \n",
       "5  1Ll6pBUUA0uZttCi95oXY5                                               2022   \n",
       "6  3Qj2vsFzmaB8jcH6Q60WIG                                        The Prelude   \n",
       "7  2emh7ZBzZLeQJwzAfeX1CK                   Barbarians in Black (2022 Remix)   \n",
       "8  6mPSjHXiuf2zHA0ssVp8iU  Hayya Hayya (Better Together) [Music from FIFA...   \n",
       "9  0gX9tkL5njRax8ymWcXARi                          Unholy (feat. Kim Petras)   \n",
       "\n",
       "   popularity  available_markets release_date  total_tracks  \n",
       "0          72                183   2018-04-27            18  \n",
       "1          67                183   2022-11-20             1  \n",
       "2          85                183   2022-06-10            35  \n",
       "3          52                183   2018-04-19             1  \n",
       "4          36                183   2022-02-21             1  \n",
       "5          14                183   2022-10-15             1  \n",
       "6          62                183   2020-07-17             6  \n",
       "7          38                183   2022-10-21             1  \n",
       "8          55                182   2022-04-01             1  \n",
       "9          88                182   2022-09-22             1  "
      ]
     },
     "execution_count": 63,
     "metadata": {},
     "output_type": "execute_result"
    }
   ],
   "source": [
    "albums_data = pd_album.drop_duplicates(subset = ['id'], keep = 'first', inplace = False)\n",
    "albums_data.head(10)"
   ]
  },
  {
   "cell_type": "markdown",
   "metadata": {},
   "source": [
    "### <b>Visualization of top 10 albums' number of tracks</b>"
   ]
  },
  {
   "cell_type": "code",
   "execution_count": 29,
   "metadata": {},
   "outputs": [
    {
     "data": {
      "text/plain": [
       "<AxesSubplot:ylabel='name'>"
      ]
     },
     "execution_count": 29,
     "metadata": {},
     "output_type": "execute_result"
    },
    {
     "data": {
      "image/png": "[encoded data removed]",
      "text/plain": [
       "<Figure size 360x360 with 1 Axes>"
      ]
     },
     "metadata": {
      "needs_background": "light"
     },
     "output_type": "display_data"
    }
   ],
   "source": [
    "top10_notracks = albums_data[['name', 'total_tracks']].nlargest(n = 10, columns = ['total_tracks'])\n",
    "top10_notracks.set_index('name').plot.barh(figsize = (5, 5), color = \"blue\")"
   ]
  },
  {
   "cell_type": "markdown",
   "metadata": {},
   "source": [
    "### <b>List all albums have popularity over 80</b>"
   ]
  },
  {
   "cell_type": "code",
   "execution_count": 30,
   "metadata": {},
   "outputs": [
    {
     "data": {
      "text/html": [
       "<div>\n",
       "<style scoped>\n",
       "    .dataframe tbody tr th:only-of-type {\n",
       "        vertical-align: middle;\n",
       "    }\n",
       "\n",
       "    .dataframe tbody tr th {\n",
       "        vertical-align: top;\n",
       "    }\n",
       "\n",
       "    .dataframe thead th {\n",
       "        text-align: right;\n",
       "    }\n",
       "</style>\n",
       "<table border=\"1\" class=\"dataframe\">\n",
       "  <thead>\n",
       "    <tr style=\"text-align: right;\">\n",
       "      <th></th>\n",
       "      <th>id</th>\n",
       "      <th>name</th>\n",
       "      <th>popularity</th>\n",
       "      <th>available_markets</th>\n",
       "      <th>release_date</th>\n",
       "      <th>total_tracks</th>\n",
       "    </tr>\n",
       "  </thead>\n",
       "  <tbody>\n",
       "    <tr>\n",
       "      <th>117</th>\n",
       "      <td>5r36AJ6VOJtp00oxSkBZ5h</td>\n",
       "      <td>Harry's House</td>\n",
       "      <td>91</td>\n",
       "      <td>183</td>\n",
       "      <td>2022-05-20</td>\n",
       "      <td>13</td>\n",
       "    </tr>\n",
       "    <tr>\n",
       "      <th>9</th>\n",
       "      <td>0gX9tkL5njRax8ymWcXARi</td>\n",
       "      <td>Unholy (feat. Kim Petras)</td>\n",
       "      <td>88</td>\n",
       "      <td>182</td>\n",
       "      <td>2022-09-22</td>\n",
       "      <td>1</td>\n",
       "    </tr>\n",
       "    <tr>\n",
       "      <th>115</th>\n",
       "      <td>7M842DMhYVALrXsw3ty7B3</td>\n",
       "      <td>I'm Good (Blue)</td>\n",
       "      <td>86</td>\n",
       "      <td>182</td>\n",
       "      <td>2022-08-26</td>\n",
       "      <td>2</td>\n",
       "    </tr>\n",
       "    <tr>\n",
       "      <th>2</th>\n",
       "      <td>6al2VdKbb6FIz9d7lU7WRB</td>\n",
       "      <td>Proof</td>\n",
       "      <td>85</td>\n",
       "      <td>183</td>\n",
       "      <td>2022-06-10</td>\n",
       "      <td>35</td>\n",
       "    </tr>\n",
       "    <tr>\n",
       "      <th>152</th>\n",
       "      <td>1nAQbHeOWTfQzbOoFrvndW</td>\n",
       "      <td>Planet Her</td>\n",
       "      <td>85</td>\n",
       "      <td>183</td>\n",
       "      <td>2021-06-25</td>\n",
       "      <td>14</td>\n",
       "    </tr>\n",
       "    <tr>\n",
       "      <th>2151</th>\n",
       "      <td>0S0KGZnfBGSIssfF54WSJh</td>\n",
       "      <td>WHEN WE ALL FALL ASLEEP, WHERE DO WE GO?</td>\n",
       "      <td>84</td>\n",
       "      <td>183</td>\n",
       "      <td>2019-03-29</td>\n",
       "      <td>14</td>\n",
       "    </tr>\n",
       "    <tr>\n",
       "      <th>17</th>\n",
       "      <td>2pqdSWeJVsXAhHFuVLzuA8</td>\n",
       "      <td>As It Was</td>\n",
       "      <td>82</td>\n",
       "      <td>182</td>\n",
       "      <td>2022-03-31</td>\n",
       "      <td>1</td>\n",
       "    </tr>\n",
       "    <tr>\n",
       "      <th>111</th>\n",
       "      <td>1HMLpmZAnNyl9pxvOnTovV</td>\n",
       "      <td>NewJeans 1st EP 'New Jeans'</td>\n",
       "      <td>81</td>\n",
       "      <td>183</td>\n",
       "      <td>2022-08-01</td>\n",
       "      <td>4</td>\n",
       "    </tr>\n",
       "  </tbody>\n",
       "</table>\n",
       "</div>"
      ],
      "text/plain": [
       "                          id                                      name  \\\n",
       "117   5r36AJ6VOJtp00oxSkBZ5h                             Harry's House   \n",
       "9     0gX9tkL5njRax8ymWcXARi                 Unholy (feat. Kim Petras)   \n",
       "115   7M842DMhYVALrXsw3ty7B3                           I'm Good (Blue)   \n",
       "2     6al2VdKbb6FIz9d7lU7WRB                                     Proof   \n",
       "152   1nAQbHeOWTfQzbOoFrvndW                                Planet Her   \n",
       "2151  0S0KGZnfBGSIssfF54WSJh  WHEN WE ALL FALL ASLEEP, WHERE DO WE GO?   \n",
       "17    2pqdSWeJVsXAhHFuVLzuA8                                 As It Was   \n",
       "111   1HMLpmZAnNyl9pxvOnTovV               NewJeans 1st EP 'New Jeans'   \n",
       "\n",
       "      popularity  available_markets release_date  total_tracks  \n",
       "117           91                183   2022-05-20            13  \n",
       "9             88                182   2022-09-22             1  \n",
       "115           86                182   2022-08-26             2  \n",
       "2             85                183   2022-06-10            35  \n",
       "152           85                183   2021-06-25            14  \n",
       "2151          84                183   2019-03-29            14  \n",
       "17            82                182   2022-03-31             1  \n",
       "111           81                183   2022-08-01             4  "
      ]
     },
     "execution_count": 30,
     "metadata": {},
     "output_type": "execute_result"
    }
   ],
   "source": [
    "albums_data[albums_data['popularity'] > 80].sort_values(by = ['popularity'], ascending = False)"
   ]
  },
  {
   "cell_type": "markdown",
   "metadata": {},
   "source": [
    "### <b>Visualization of top 10 albums' popularity</b>"
   ]
  },
  {
   "cell_type": "code",
   "execution_count": 31,
   "metadata": {},
   "outputs": [
    {
     "data": {
      "text/plain": [
       "<AxesSubplot:ylabel='name'>"
      ]
     },
     "execution_count": 31,
     "metadata": {},
     "output_type": "execute_result"
    },
    {
     "data": {
      "image/png": "[encoded data removed]",
      "text/plain": [
       "<Figure size 360x360 with 1 Axes>"
      ]
     },
     "metadata": {
      "needs_background": "light"
     },
     "output_type": "display_data"
    }
   ],
   "source": [
    "top10_popularity = albums_data[['name', 'popularity']].nlargest(n = 10, columns = ['popularity'])\n",
    "top10_popularity.set_index('name').plot.barh(figsize = (5, 5), color = \"green\")"
   ]
  },
  {
   "attachments": {},
   "cell_type": "markdown",
   "metadata": {},
   "source": [
    "### <b>Show all existing albums' releasing-years</b>"
   ]
  },
  {
   "cell_type": "code",
   "execution_count": 32,
   "metadata": {},
   "outputs": [
    {
     "data": {
      "text/plain": [
       "array([2018, 2022, 2020, 2021, 2016, 2008, 2013, 2019, 1971, 1991, 1983,\n",
       "       1981, 2001, 1974, 2007, 1995, 2009, 2017, 1996, 2004, 1970, 2010,\n",
       "       1984, 1982, 1997, 1988, 2015, 2012, 1960, 1979, 2011, 1980, 1999,\n",
       "       1990, 2002, 2000, 1994, 2006])"
      ]
     },
     "execution_count": 32,
     "metadata": {},
     "output_type": "execute_result"
    }
   ],
   "source": [
    "albums_data['release_date'].dt.year.unique()"
   ]
  },
  {
   "attachments": {},
   "cell_type": "markdown",
   "metadata": {},
   "source": [
    "### <b>The album with the highest popularity in 2022</b>\n",
    "- Get all albums which released in 2022"
   ]
  },
  {
   "cell_type": "code",
   "execution_count": 65,
   "metadata": {},
   "outputs": [
    {
     "data": {
      "text/html": [
       "<div>\n",
       "<style scoped>\n",
       "    .dataframe tbody tr th:only-of-type {\n",
       "        vertical-align: middle;\n",
       "    }\n",
       "\n",
       "    .dataframe tbody tr th {\n",
       "        vertical-align: top;\n",
       "    }\n",
       "\n",
       "    .dataframe thead th {\n",
       "        text-align: right;\n",
       "    }\n",
       "</style>\n",
       "<table border=\"1\" class=\"dataframe\">\n",
       "  <thead>\n",
       "    <tr style=\"text-align: right;\">\n",
       "      <th></th>\n",
       "      <th>id</th>\n",
       "      <th>name</th>\n",
       "      <th>popularity</th>\n",
       "      <th>release_date</th>\n",
       "    </tr>\n",
       "  </thead>\n",
       "  <tbody>\n",
       "    <tr>\n",
       "      <th>0</th>\n",
       "      <td>5r36AJ6VOJtp00oxSkBZ5h</td>\n",
       "      <td>Harry's House</td>\n",
       "      <td>91.0</td>\n",
       "      <td>2022-05-20</td>\n",
       "    </tr>\n",
       "    <tr>\n",
       "      <th>1</th>\n",
       "      <td>0gX9tkL5njRax8ymWcXARi</td>\n",
       "      <td>Unholy (feat. Kim Petras)</td>\n",
       "      <td>88.0</td>\n",
       "      <td>2022-09-22</td>\n",
       "    </tr>\n",
       "    <tr>\n",
       "      <th>2</th>\n",
       "      <td>7M842DMhYVALrXsw3ty7B3</td>\n",
       "      <td>I'm Good (Blue)</td>\n",
       "      <td>86.0</td>\n",
       "      <td>2022-08-26</td>\n",
       "    </tr>\n",
       "    <tr>\n",
       "      <th>3</th>\n",
       "      <td>6al2VdKbb6FIz9d7lU7WRB</td>\n",
       "      <td>Proof</td>\n",
       "      <td>85.0</td>\n",
       "      <td>2022-06-10</td>\n",
       "    </tr>\n",
       "    <tr>\n",
       "      <th>4</th>\n",
       "      <td>2pqdSWeJVsXAhHFuVLzuA8</td>\n",
       "      <td>As It Was</td>\n",
       "      <td>82.0</td>\n",
       "      <td>2022-03-31</td>\n",
       "    </tr>\n",
       "    <tr>\n",
       "      <th>5</th>\n",
       "      <td>1HMLpmZAnNyl9pxvOnTovV</td>\n",
       "      <td>NewJeans 1st EP 'New Jeans'</td>\n",
       "      <td>81.0</td>\n",
       "      <td>2022-08-01</td>\n",
       "    </tr>\n",
       "    <tr>\n",
       "      <th>6</th>\n",
       "      <td>3u0ggfmK0vjuHMNdUbtaa9</td>\n",
       "      <td>ANTIFRAGILE</td>\n",
       "      <td>79.0</td>\n",
       "      <td>2022-10-17</td>\n",
       "    </tr>\n",
       "    <tr>\n",
       "      <th>7</th>\n",
       "      <td>3NZ94nQbqimcu2i71qhc4f</td>\n",
       "      <td>BETWEEN 1&amp;2</td>\n",
       "      <td>75.0</td>\n",
       "      <td>2022-08-26</td>\n",
       "    </tr>\n",
       "    <tr>\n",
       "      <th>8</th>\n",
       "      <td>0Gmf4pfe0POEQq2FgGAj2q</td>\n",
       "      <td>ODDINARY</td>\n",
       "      <td>74.0</td>\n",
       "      <td>2022-03-18</td>\n",
       "    </tr>\n",
       "    <tr>\n",
       "      <th>9</th>\n",
       "      <td>36bNKiiUjxUCaAO7QtUVfi</td>\n",
       "      <td>KU LO SA - A COLORS SHOW</td>\n",
       "      <td>74.0</td>\n",
       "      <td>2022-06-10</td>\n",
       "    </tr>\n",
       "  </tbody>\n",
       "</table>\n",
       "</div>"
      ],
      "text/plain": [
       "                       id                         name  popularity  \\\n",
       "0  5r36AJ6VOJtp00oxSkBZ5h                Harry's House        91.0   \n",
       "1  0gX9tkL5njRax8ymWcXARi    Unholy (feat. Kim Petras)        88.0   \n",
       "2  7M842DMhYVALrXsw3ty7B3              I'm Good (Blue)        86.0   \n",
       "3  6al2VdKbb6FIz9d7lU7WRB                        Proof        85.0   \n",
       "4  2pqdSWeJVsXAhHFuVLzuA8                    As It Was        82.0   \n",
       "5  1HMLpmZAnNyl9pxvOnTovV  NewJeans 1st EP 'New Jeans'        81.0   \n",
       "6  3u0ggfmK0vjuHMNdUbtaa9                  ANTIFRAGILE        79.0   \n",
       "7  3NZ94nQbqimcu2i71qhc4f                  BETWEEN 1&2        75.0   \n",
       "8  0Gmf4pfe0POEQq2FgGAj2q                     ODDINARY        74.0   \n",
       "9  36bNKiiUjxUCaAO7QtUVfi     KU LO SA - A COLORS SHOW        74.0   \n",
       "\n",
       "  release_date  \n",
       "0   2022-05-20  \n",
       "1   2022-09-22  \n",
       "2   2022-08-26  \n",
       "3   2022-06-10  \n",
       "4   2022-03-31  \n",
       "5   2022-08-01  \n",
       "6   2022-10-17  \n",
       "7   2022-08-26  \n",
       "8   2022-03-18  \n",
       "9   2022-06-10  "
      ]
     },
     "execution_count": 65,
     "metadata": {},
     "output_type": "execute_result"
    }
   ],
   "source": [
    "albums_2022 = albums_data[['id', 'name', 'popularity', 'release_date']].where(albums_data['release_date'].dt.year == 2022)\n",
    "albums_2022.dropna(inplace = True)\n",
    "albums_2022.sort_values(by = 'popularity', ascending = False, ignore_index = True).head(10)"
   ]
  },
  {
   "attachments": {},
   "cell_type": "markdown",
   "metadata": {},
   "source": [
    "- Query to get the album with the highest popularity in 2022"
   ]
  },
  {
   "cell_type": "code",
   "execution_count": 34,
   "metadata": {},
   "outputs": [
    {
     "data": {
      "text/html": [
       "<div>\n",
       "<style scoped>\n",
       "    .dataframe tbody tr th:only-of-type {\n",
       "        vertical-align: middle;\n",
       "    }\n",
       "\n",
       "    .dataframe tbody tr th {\n",
       "        vertical-align: top;\n",
       "    }\n",
       "\n",
       "    .dataframe thead th {\n",
       "        text-align: right;\n",
       "    }\n",
       "</style>\n",
       "<table border=\"1\" class=\"dataframe\">\n",
       "  <thead>\n",
       "    <tr style=\"text-align: right;\">\n",
       "      <th></th>\n",
       "      <th>id</th>\n",
       "      <th>name</th>\n",
       "      <th>popularity</th>\n",
       "      <th>release_date</th>\n",
       "    </tr>\n",
       "  </thead>\n",
       "  <tbody>\n",
       "    <tr>\n",
       "      <th>117</th>\n",
       "      <td>5r36AJ6VOJtp00oxSkBZ5h</td>\n",
       "      <td>Harry's House</td>\n",
       "      <td>91.0</td>\n",
       "      <td>2022-05-20</td>\n",
       "    </tr>\n",
       "  </tbody>\n",
       "</table>\n",
       "</div>"
      ],
      "text/plain": [
       "                         id           name  popularity release_date\n",
       "117  5r36AJ6VOJtp00oxSkBZ5h  Harry's House        91.0   2022-05-20"
      ]
     },
     "metadata": {},
     "output_type": "display_data"
    }
   ],
   "source": [
    "display(albums_2022.loc[(albums_2022['popularity'] >= albums_2022['popularity'].max()), ['id', 'name', 'popularity', 'release_date']])"
   ]
  },
  {
   "attachments": {},
   "cell_type": "markdown",
   "metadata": {},
   "source": [
    "### <b>The album with the highest popularity in 2021</b>\n",
    "- Get all albums which released in 2021"
   ]
  },
  {
   "cell_type": "code",
   "execution_count": 64,
   "metadata": {},
   "outputs": [
    {
     "data": {
      "text/html": [
       "<div>\n",
       "<style scoped>\n",
       "    .dataframe tbody tr th:only-of-type {\n",
       "        vertical-align: middle;\n",
       "    }\n",
       "\n",
       "    .dataframe tbody tr th {\n",
       "        vertical-align: top;\n",
       "    }\n",
       "\n",
       "    .dataframe thead th {\n",
       "        text-align: right;\n",
       "    }\n",
       "</style>\n",
       "<table border=\"1\" class=\"dataframe\">\n",
       "  <thead>\n",
       "    <tr style=\"text-align: right;\">\n",
       "      <th></th>\n",
       "      <th>id</th>\n",
       "      <th>name</th>\n",
       "      <th>popularity</th>\n",
       "      <th>release_date</th>\n",
       "    </tr>\n",
       "  </thead>\n",
       "  <tbody>\n",
       "    <tr>\n",
       "      <th>0</th>\n",
       "      <td>1nAQbHeOWTfQzbOoFrvndW</td>\n",
       "      <td>Planet Her</td>\n",
       "      <td>85.0</td>\n",
       "      <td>2021-06-25</td>\n",
       "    </tr>\n",
       "    <tr>\n",
       "      <th>1</th>\n",
       "      <td>0VaHnwzDug4AcDkejYDUl5</td>\n",
       "      <td>Sunroof</td>\n",
       "      <td>78.0</td>\n",
       "      <td>2021-12-03</td>\n",
       "    </tr>\n",
       "    <tr>\n",
       "      <th>2</th>\n",
       "      <td>1YgekJJTEueWDaMr7BYqPk</td>\n",
       "      <td>An Evening With Silk Sonic</td>\n",
       "      <td>77.0</td>\n",
       "      <td>2021-11-11</td>\n",
       "    </tr>\n",
       "    <tr>\n",
       "      <th>3</th>\n",
       "      <td>4QLAtpLNUsHEYrcHXmMIZZ</td>\n",
       "      <td>STAY (with Justin Bieber)</td>\n",
       "      <td>76.0</td>\n",
       "      <td>2021-07-09</td>\n",
       "    </tr>\n",
       "    <tr>\n",
       "      <th>4</th>\n",
       "      <td>270o30h7cAlEhBnbuSpFZq</td>\n",
       "      <td>El Dorado</td>\n",
       "      <td>73.0</td>\n",
       "      <td>2021-03-26</td>\n",
       "    </tr>\n",
       "    <tr>\n",
       "      <th>5</th>\n",
       "      <td>1bTgKomQYSkKYPD9UI9W4b</td>\n",
       "      <td>Enemy (with JID) [from the series Arcane Leagu...</td>\n",
       "      <td>73.0</td>\n",
       "      <td>2021-10-28</td>\n",
       "    </tr>\n",
       "    <tr>\n",
       "      <th>6</th>\n",
       "      <td>3zjKITMp5FHj5aqtWWXrxH</td>\n",
       "      <td>Todo De Ti</td>\n",
       "      <td>70.0</td>\n",
       "      <td>2021-05-20</td>\n",
       "    </tr>\n",
       "    <tr>\n",
       "      <th>7</th>\n",
       "      <td>5Zdr9vactwnJH4Vpe9Mid9</td>\n",
       "      <td>The Chaos Chapter: FREEZE</td>\n",
       "      <td>69.0</td>\n",
       "      <td>2021-05-31</td>\n",
       "    </tr>\n",
       "    <tr>\n",
       "      <th>8</th>\n",
       "      <td>6o86bV7TAt5x4exc2qLDqC</td>\n",
       "      <td>Actual Life (April 14 - December 17 2020)</td>\n",
       "      <td>68.0</td>\n",
       "      <td>2021-04-15</td>\n",
       "    </tr>\n",
       "    <tr>\n",
       "      <th>9</th>\n",
       "      <td>35DIb6j45YmbHAfyN7HgaG</td>\n",
       "      <td>Lofi Fruits Music 2021</td>\n",
       "      <td>68.0</td>\n",
       "      <td>2021-06-09</td>\n",
       "    </tr>\n",
       "  </tbody>\n",
       "</table>\n",
       "</div>"
      ],
      "text/plain": [
       "                       id                                               name  \\\n",
       "0  1nAQbHeOWTfQzbOoFrvndW                                         Planet Her   \n",
       "1  0VaHnwzDug4AcDkejYDUl5                                            Sunroof   \n",
       "2  1YgekJJTEueWDaMr7BYqPk                         An Evening With Silk Sonic   \n",
       "3  4QLAtpLNUsHEYrcHXmMIZZ                          STAY (with Justin Bieber)   \n",
       "4  270o30h7cAlEhBnbuSpFZq                                          El Dorado   \n",
       "5  1bTgKomQYSkKYPD9UI9W4b  Enemy (with JID) [from the series Arcane Leagu...   \n",
       "6  3zjKITMp5FHj5aqtWWXrxH                                         Todo De Ti   \n",
       "7  5Zdr9vactwnJH4Vpe9Mid9                          The Chaos Chapter: FREEZE   \n",
       "8  6o86bV7TAt5x4exc2qLDqC          Actual Life (April 14 - December 17 2020)   \n",
       "9  35DIb6j45YmbHAfyN7HgaG                             Lofi Fruits Music 2021   \n",
       "\n",
       "   popularity release_date  \n",
       "0        85.0   2021-06-25  \n",
       "1        78.0   2021-12-03  \n",
       "2        77.0   2021-11-11  \n",
       "3        76.0   2021-07-09  \n",
       "4        73.0   2021-03-26  \n",
       "5        73.0   2021-10-28  \n",
       "6        70.0   2021-05-20  \n",
       "7        69.0   2021-05-31  \n",
       "8        68.0   2021-04-15  \n",
       "9        68.0   2021-06-09  "
      ]
     },
     "execution_count": 64,
     "metadata": {},
     "output_type": "execute_result"
    }
   ],
   "source": [
    "albums_2021 = albums_data[['id', 'name', 'popularity', 'release_date']].where(albums_data['release_date'].dt.year == 2021)\n",
    "albums_2021.dropna(inplace = True)\n",
    "albums_2021.sort_values(by = 'popularity', ascending = False, ignore_index = True).head(10)"
   ]
  },
  {
   "attachments": {},
   "cell_type": "markdown",
   "metadata": {},
   "source": [
    "- Query to get the album with the highest popularity in 2021"
   ]
  },
  {
   "cell_type": "code",
   "execution_count": 36,
   "metadata": {},
   "outputs": [
    {
     "data": {
      "text/html": [
       "<div>\n",
       "<style scoped>\n",
       "    .dataframe tbody tr th:only-of-type {\n",
       "        vertical-align: middle;\n",
       "    }\n",
       "\n",
       "    .dataframe tbody tr th {\n",
       "        vertical-align: top;\n",
       "    }\n",
       "\n",
       "    .dataframe thead th {\n",
       "        text-align: right;\n",
       "    }\n",
       "</style>\n",
       "<table border=\"1\" class=\"dataframe\">\n",
       "  <thead>\n",
       "    <tr style=\"text-align: right;\">\n",
       "      <th></th>\n",
       "      <th>id</th>\n",
       "      <th>name</th>\n",
       "      <th>popularity</th>\n",
       "      <th>release_date</th>\n",
       "    </tr>\n",
       "  </thead>\n",
       "  <tbody>\n",
       "    <tr>\n",
       "      <th>152</th>\n",
       "      <td>1nAQbHeOWTfQzbOoFrvndW</td>\n",
       "      <td>Planet Her</td>\n",
       "      <td>85.0</td>\n",
       "      <td>2021-06-25</td>\n",
       "    </tr>\n",
       "  </tbody>\n",
       "</table>\n",
       "</div>"
      ],
      "text/plain": [
       "                         id        name  popularity release_date\n",
       "152  1nAQbHeOWTfQzbOoFrvndW  Planet Her        85.0   2021-06-25"
      ]
     },
     "metadata": {},
     "output_type": "display_data"
    }
   ],
   "source": [
    "display(albums_2021.loc[(albums_2021['popularity'] >= albums_2021['popularity'].max()), ['id', 'name', 'popularity', 'release_date']])"
   ]
  },
  {
   "attachments": {},
   "cell_type": "markdown",
   "metadata": {},
   "source": [
    "### <b>The album with the highest popularity in 2020</b>\n",
    "- Get all albums which released in 2020"
   ]
  },
  {
   "cell_type": "code",
   "execution_count": 66,
   "metadata": {},
   "outputs": [
    {
     "data": {
      "text/html": [
       "<div>\n",
       "<style scoped>\n",
       "    .dataframe tbody tr th:only-of-type {\n",
       "        vertical-align: middle;\n",
       "    }\n",
       "\n",
       "    .dataframe tbody tr th {\n",
       "        vertical-align: top;\n",
       "    }\n",
       "\n",
       "    .dataframe thead th {\n",
       "        text-align: right;\n",
       "    }\n",
       "</style>\n",
       "<table border=\"1\" class=\"dataframe\">\n",
       "  <thead>\n",
       "    <tr style=\"text-align: right;\">\n",
       "      <th></th>\n",
       "      <th>id</th>\n",
       "      <th>name</th>\n",
       "      <th>popularity</th>\n",
       "      <th>release_date</th>\n",
       "    </tr>\n",
       "  </thead>\n",
       "  <tbody>\n",
       "    <tr>\n",
       "      <th>0</th>\n",
       "      <td>3euz4vS7ezKGnNSwgyvKcd</td>\n",
       "      <td>Positions</td>\n",
       "      <td>80.0</td>\n",
       "      <td>2020-10-30</td>\n",
       "    </tr>\n",
       "    <tr>\n",
       "      <th>1</th>\n",
       "      <td>1zHR48K6XtWYm6bhrw4J6C</td>\n",
       "      <td>TAKE TIME</td>\n",
       "      <td>76.0</td>\n",
       "      <td>2020-03-27</td>\n",
       "    </tr>\n",
       "    <tr>\n",
       "      <th>2</th>\n",
       "      <td>4otkd9As6YaxxEkIjXPiZ6</td>\n",
       "      <td>Music To Be Murdered By</td>\n",
       "      <td>75.0</td>\n",
       "      <td>2020-01-17</td>\n",
       "    </tr>\n",
       "    <tr>\n",
       "      <th>3</th>\n",
       "      <td>7IyoGB8J31fvQDwGtHAq9m</td>\n",
       "      <td>Eternal Atake</td>\n",
       "      <td>72.0</td>\n",
       "      <td>2020-03-06</td>\n",
       "    </tr>\n",
       "    <tr>\n",
       "      <th>4</th>\n",
       "      <td>63iWSELt9V1kV6RSMxN7Ii</td>\n",
       "      <td>Changes</td>\n",
       "      <td>72.0</td>\n",
       "      <td>2020-02-14</td>\n",
       "    </tr>\n",
       "    <tr>\n",
       "      <th>5</th>\n",
       "      <td>0fEO7g2c5onkaXsybEtuD2</td>\n",
       "      <td>Eternal Atake (Deluxe) - LUV vs. The World 2</td>\n",
       "      <td>71.0</td>\n",
       "      <td>2020-03-13</td>\n",
       "    </tr>\n",
       "    <tr>\n",
       "      <th>6</th>\n",
       "      <td>2p9gK2BcdrloHNJwarc9gc</td>\n",
       "      <td>death bed (coffee for your head)</td>\n",
       "      <td>71.0</td>\n",
       "      <td>2020-02-08</td>\n",
       "    </tr>\n",
       "    <tr>\n",
       "      <th>7</th>\n",
       "      <td>6QIWJVJPPgAA5c4aIb1zCA</td>\n",
       "      <td>SKZ2020</td>\n",
       "      <td>68.0</td>\n",
       "      <td>2020-03-18</td>\n",
       "    </tr>\n",
       "    <tr>\n",
       "      <th>8</th>\n",
       "      <td>5jlE1zlhT3mEWw0mRpN920</td>\n",
       "      <td>Chilombo</td>\n",
       "      <td>65.0</td>\n",
       "      <td>2020-03-06</td>\n",
       "    </tr>\n",
       "    <tr>\n",
       "      <th>9</th>\n",
       "      <td>1XMw3pBrYeXzNXZXc84DNw</td>\n",
       "      <td>Savage Love (Laxed - Siren Beat)</td>\n",
       "      <td>64.0</td>\n",
       "      <td>2020-06-11</td>\n",
       "    </tr>\n",
       "  </tbody>\n",
       "</table>\n",
       "</div>"
      ],
      "text/plain": [
       "                       id                                          name  \\\n",
       "0  3euz4vS7ezKGnNSwgyvKcd                                     Positions   \n",
       "1  1zHR48K6XtWYm6bhrw4J6C                                     TAKE TIME   \n",
       "2  4otkd9As6YaxxEkIjXPiZ6                       Music To Be Murdered By   \n",
       "3  7IyoGB8J31fvQDwGtHAq9m                                 Eternal Atake   \n",
       "4  63iWSELt9V1kV6RSMxN7Ii                                       Changes   \n",
       "5  0fEO7g2c5onkaXsybEtuD2  Eternal Atake (Deluxe) - LUV vs. The World 2   \n",
       "6  2p9gK2BcdrloHNJwarc9gc              death bed (coffee for your head)   \n",
       "7  6QIWJVJPPgAA5c4aIb1zCA                                       SKZ2020   \n",
       "8  5jlE1zlhT3mEWw0mRpN920                                      Chilombo   \n",
       "9  1XMw3pBrYeXzNXZXc84DNw              Savage Love (Laxed - Siren Beat)   \n",
       "\n",
       "   popularity release_date  \n",
       "0        80.0   2020-10-30  \n",
       "1        76.0   2020-03-27  \n",
       "2        75.0   2020-01-17  \n",
       "3        72.0   2020-03-06  \n",
       "4        72.0   2020-02-14  \n",
       "5        71.0   2020-03-13  \n",
       "6        71.0   2020-02-08  \n",
       "7        68.0   2020-03-18  \n",
       "8        65.0   2020-03-06  \n",
       "9        64.0   2020-06-11  "
      ]
     },
     "execution_count": 66,
     "metadata": {},
     "output_type": "execute_result"
    }
   ],
   "source": [
    "albums_2020 = albums_data[['id', 'name', 'popularity', 'release_date']].where(albums_data['release_date'].dt.year == 2020)\n",
    "albums_2020.dropna(inplace = True)\n",
    "albums_2020.sort_values(by = 'popularity', ascending = False, ignore_index = True).head(10)"
   ]
  },
  {
   "attachments": {},
   "cell_type": "markdown",
   "metadata": {},
   "source": [
    "- Query to get the album with the highest popularity in 2020"
   ]
  },
  {
   "cell_type": "code",
   "execution_count": 38,
   "metadata": {},
   "outputs": [
    {
     "data": {
      "text/html": [
       "<div>\n",
       "<style scoped>\n",
       "    .dataframe tbody tr th:only-of-type {\n",
       "        vertical-align: middle;\n",
       "    }\n",
       "\n",
       "    .dataframe tbody tr th {\n",
       "        vertical-align: top;\n",
       "    }\n",
       "\n",
       "    .dataframe thead th {\n",
       "        text-align: right;\n",
       "    }\n",
       "</style>\n",
       "<table border=\"1\" class=\"dataframe\">\n",
       "  <thead>\n",
       "    <tr style=\"text-align: right;\">\n",
       "      <th></th>\n",
       "      <th>id</th>\n",
       "      <th>name</th>\n",
       "      <th>popularity</th>\n",
       "      <th>release_date</th>\n",
       "    </tr>\n",
       "  </thead>\n",
       "  <tbody>\n",
       "    <tr>\n",
       "      <th>1104</th>\n",
       "      <td>3euz4vS7ezKGnNSwgyvKcd</td>\n",
       "      <td>Positions</td>\n",
       "      <td>80.0</td>\n",
       "      <td>2020-10-30</td>\n",
       "    </tr>\n",
       "  </tbody>\n",
       "</table>\n",
       "</div>"
      ],
      "text/plain": [
       "                          id       name  popularity release_date\n",
       "1104  3euz4vS7ezKGnNSwgyvKcd  Positions        80.0   2020-10-30"
      ]
     },
     "metadata": {},
     "output_type": "display_data"
    }
   ],
   "source": [
    "display(albums_2020.loc[(albums_2020['popularity'] >= albums_2020['popularity'].max()), ['id', 'name', 'popularity', 'release_date']])"
   ]
  }
 ],
 "metadata": {
  "kernelspec": {
   "display_name": "Python 3.9.6 64-bit",
   "language": "python",
   "name": "python3"
  },
  "language_info": {
   "codemirror_mode": {
    "name": "ipython",
    "version": 3
   },
   "file_extension": ".py",
   "mimetype": "text/x-python",
   "name": "python",
   "nbconvert_exporter": "python",
   "pygments_lexer": "ipython3",
   "version": "3.9.6"
  },
  "orig_nbformat": 4,
  "vscode": {
   "interpreter": {
    "hash": "949777d72b0d2535278d3dc13498b2535136f6dfe0678499012e853ee9abcab1"
   }
  }
 },
 "nbformat": 4,
 "nbformat_minor": 2
}
