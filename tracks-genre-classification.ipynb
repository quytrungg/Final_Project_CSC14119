{
 "cells": [
  {
   "cell_type": "code",
   "execution_count": 1,
   "metadata": {},
   "outputs": [],
   "source": [
    "import numpy as np\n",
    "import pandas as pd\n",
    "import ipynb.fs.full.get_artists_info_api as getter"
   ]
  },
  {
   "cell_type": "code",
   "execution_count": 38,
   "metadata": {},
   "outputs": [],
   "source": [
    "tracks_id = []\n",
    "for i in range(len(getter.tracks)):\n",
    "    tracks_id.append(getter.tracks[i]['id'])\n",
    "\n",
    "tracks_id = list(dict.fromkeys(tracks_id))"
   ]
  },
  {
   "cell_type": "code",
   "execution_count": 111,
   "metadata": {},
   "outputs": [],
   "source": [
    "track_features_list = []\n",
    "\n",
    "for i in range(len(tracks_id)):\n",
    "    track_features_list.append(getter.spotify.audio_features(tracks_id[i]))"
   ]
  },
  {
   "cell_type": "code",
   "execution_count": 112,
   "metadata": {},
   "outputs": [],
   "source": [
    "#there are some tracks without their audio features so we need to remove them from the list\n",
    "track_features_list = list(filter(lambda x: x != [None], track_features_list))"
   ]
  },
  {
   "cell_type": "code",
   "execution_count": 113,
   "metadata": {},
   "outputs": [],
   "source": [
    "for i in range(len(track_features_list)):\n",
    "    track_features_list[i] = dict(list(filter(lambda x: x[0] == 'id' or type(x[1]) != str, list(track_features_list[i][0].items()))))"
   ]
  },
  {
   "cell_type": "code",
   "execution_count": 164,
   "metadata": {},
   "outputs": [],
   "source": [
    "artists = list(filter(lambda x: x['genres'] != '' ,getter.artists))"
   ]
  },
  {
   "cell_type": "code",
   "execution_count": 169,
   "metadata": {},
   "outputs": [],
   "source": [
    "genres_list = []\n",
    "\n",
    "for i in range(len(artists)):\n",
    "    keys = ['id', 'genre']\n",
    "    genre = dict.fromkeys(keys)\n",
    "    for j in range(len(getter.tracks)):\n",
    "        if artists[i]['id'] == getter.tracks[j]['artists'][0]['id']:\n",
    "            genre['id'] = getter.tracks[j]['id']\n",
    "            genre['genre'] = artists[i]['genres'].split(', ')\n",
    "            genre['genre'] = genre['genre'][0]\n",
    "            genres_list.append(genre)"
   ]
  },
  {
   "cell_type": "code",
   "execution_count": 196,
   "metadata": {},
   "outputs": [],
   "source": [
    "for i in range(len(track_features_list)):\n",
    "    for j in range(len(genres_list)):\n",
    "        if track_features_list[i]['id'] == genres_list[j]['id']:\n",
    "            track_features_list[i]['genre'] = genres_list[j]['genre']"
   ]
  },
  {
   "cell_type": "code",
   "execution_count": 201,
   "metadata": {},
   "outputs": [],
   "source": [
    "track_features_list = list(filter(lambda x: len(x) == 15, track_features_list))"
   ]
  },
  {
   "cell_type": "code",
   "execution_count": 203,
   "metadata": {},
   "outputs": [
    {
     "data": {
      "text/plain": [
       "294"
      ]
     },
     "execution_count": 203,
     "metadata": {},
     "output_type": "execute_result"
    }
   ],
   "source": [
    "len(track_features_list)"
   ]
  }
 ],
 "metadata": {
  "kernelspec": {
   "display_name": "Python 3.10.6 ('min_ds-env')",
   "language": "python",
   "name": "python3"
  },
  "language_info": {
   "codemirror_mode": {
    "name": "ipython",
    "version": 3
   },
   "file_extension": ".py",
   "mimetype": "text/x-python",
   "name": "python",
   "nbconvert_exporter": "python",
   "pygments_lexer": "ipython3",
   "version": "3.10.6"
  },
  "orig_nbformat": 4,
  "vscode": {
   "interpreter": {
    "hash": "3b298dc8b5ec9755d3b5e5b4831b9bf767d0a22ad509bcbd5b6f1f1a5498747c"
   }
  }
 },
 "nbformat": 4,
 "nbformat_minor": 2
}
