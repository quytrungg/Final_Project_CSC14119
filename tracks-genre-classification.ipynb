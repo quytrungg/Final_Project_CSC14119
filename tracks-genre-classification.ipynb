{
 "cells": [
  {
   "cell_type": "code",
   "execution_count": 222,
   "metadata": {},
   "outputs": [],
   "source": [
    "import ipynb.fs.full.get_artists_info_api as getter"
   ]
  },
  {
   "cell_type": "code",
   "execution_count": 38,
   "metadata": {},
   "outputs": [],
   "source": [
    "tracks_id = []\n",
    "for i in range(len(getter.tracks)):\n",
    "    tracks_id.append(getter.tracks[i]['id'])\n",
    "\n",
    "tracks_id = list(dict.fromkeys(tracks_id))"
   ]
  },
  {
   "cell_type": "code",
   "execution_count": 111,
   "metadata": {},
   "outputs": [],
   "source": [
    "track_features_list = []\n",
    "\n",
    "for i in range(len(tracks_id)):\n",
    "    track_features_list.append(getter.spotify.audio_features(tracks_id[i]))"
   ]
  },
  {
   "cell_type": "code",
   "execution_count": 112,
   "metadata": {},
   "outputs": [],
   "source": [
    "#there are some tracks without their audio features so we need to remove them from the list\n",
    "track_features_list = list(filter(lambda x: x != [None], track_features_list))"
   ]
  },
  {
   "cell_type": "code",
   "execution_count": 113,
   "metadata": {},
   "outputs": [],
   "source": [
    "for i in range(len(track_features_list)):\n",
    "    track_features_list[i] = dict(list(filter(lambda x: x[0] == 'id' or type(x[1]) != str, list(track_features_list[i][0].items()))))"
   ]
  },
  {
   "cell_type": "code",
   "execution_count": 164,
   "metadata": {},
   "outputs": [],
   "source": [
    "artists = list(filter(lambda x: x['genres'] != '' ,getter.artists))"
   ]
  },
  {
   "cell_type": "code",
   "execution_count": 169,
   "metadata": {},
   "outputs": [],
   "source": [
    "genres_list = []\n",
    "\n",
    "for i in range(len(artists)):\n",
    "    keys = ['id', 'genre']\n",
    "    genre = dict.fromkeys(keys)\n",
    "    for j in range(len(getter.tracks)):\n",
    "        if artists[i]['id'] == getter.tracks[j]['artists'][0]['id']:\n",
    "            genre['id'] = getter.tracks[j]['id']\n",
    "            genre['genre'] = artists[i]['genres'].split(', ')\n",
    "            genre['genre'] = genre['genre'][0]\n",
    "            genres_list.append(genre)"
   ]
  },
  {
   "cell_type": "code",
   "execution_count": 196,
   "metadata": {},
   "outputs": [],
   "source": [
    "for i in range(len(track_features_list)):\n",
    "    for j in range(len(genres_list)):\n",
    "        if track_features_list[i]['id'] == genres_list[j]['id']:\n",
    "            track_features_list[i]['genre'] = genres_list[j]['genre']"
   ]
  },
  {
   "cell_type": "code",
   "execution_count": 201,
   "metadata": {},
   "outputs": [],
   "source": [
    "track_features_list = list(filter(lambda x: len(x) == 15, track_features_list))"
   ]
  },
  {
   "cell_type": "markdown",
   "metadata": {},
   "source": [
    "---------------------------------------------------------------------------------------------------------------"
   ]
  },
  {
   "cell_type": "code",
   "execution_count": 245,
   "metadata": {},
   "outputs": [],
   "source": [
    "import numpy as np\n",
    "import pandas as pd\n",
    "\n",
    "from sklearn.preprocessing import LabelEncoder, StandardScaler\n",
    "from sklearn.model_selection import train_test_split\n",
    "from sklearn.metrics import confusion_matrix"
   ]
  },
  {
   "cell_type": "code",
   "execution_count": 224,
   "metadata": {},
   "outputs": [],
   "source": [
    "df = pd.DataFrame(track_features_list)"
   ]
  },
  {
   "cell_type": "code",
   "execution_count": 225,
   "metadata": {},
   "outputs": [],
   "source": [
    "df.insert(0, 'id', df.pop('id'))"
   ]
  },
  {
   "cell_type": "code",
   "execution_count": 226,
   "metadata": {},
   "outputs": [
    {
     "data": {
      "text/html": [
       "<div>\n",
       "<style scoped>\n",
       "    .dataframe tbody tr th:only-of-type {\n",
       "        vertical-align: middle;\n",
       "    }\n",
       "\n",
       "    .dataframe tbody tr th {\n",
       "        vertical-align: top;\n",
       "    }\n",
       "\n",
       "    .dataframe thead th {\n",
       "        text-align: right;\n",
       "    }\n",
       "</style>\n",
       "<table border=\"1\" class=\"dataframe\">\n",
       "  <thead>\n",
       "    <tr style=\"text-align: right;\">\n",
       "      <th></th>\n",
       "      <th>id</th>\n",
       "      <th>danceability</th>\n",
       "      <th>energy</th>\n",
       "      <th>key</th>\n",
       "      <th>loudness</th>\n",
       "      <th>mode</th>\n",
       "      <th>speechiness</th>\n",
       "      <th>acousticness</th>\n",
       "      <th>instrumentalness</th>\n",
       "      <th>liveness</th>\n",
       "      <th>valence</th>\n",
       "      <th>tempo</th>\n",
       "      <th>duration_ms</th>\n",
       "      <th>time_signature</th>\n",
       "      <th>genre</th>\n",
       "    </tr>\n",
       "  </thead>\n",
       "  <tbody>\n",
       "    <tr>\n",
       "      <th>0</th>\n",
       "      <td>3HWcK5EIfIdOQD1Rsj4yek</td>\n",
       "      <td>0.747</td>\n",
       "      <td>0.422</td>\n",
       "      <td>7</td>\n",
       "      <td>-12.890</td>\n",
       "      <td>0</td>\n",
       "      <td>0.4970</td>\n",
       "      <td>0.00522</td>\n",
       "      <td>0.000831</td>\n",
       "      <td>0.1190</td>\n",
       "      <td>0.125</td>\n",
       "      <td>132.128</td>\n",
       "      <td>176364</td>\n",
       "      <td>4</td>\n",
       "      <td>plugg</td>\n",
       "    </tr>\n",
       "    <tr>\n",
       "      <th>1</th>\n",
       "      <td>2lFeir1XMPIRPcvNGQwCSr</td>\n",
       "      <td>0.845</td>\n",
       "      <td>0.483</td>\n",
       "      <td>2</td>\n",
       "      <td>-7.859</td>\n",
       "      <td>1</td>\n",
       "      <td>0.2770</td>\n",
       "      <td>0.01090</td>\n",
       "      <td>0.000000</td>\n",
       "      <td>0.1360</td>\n",
       "      <td>0.643</td>\n",
       "      <td>129.049</td>\n",
       "      <td>98605</td>\n",
       "      <td>4</td>\n",
       "      <td>pop rap</td>\n",
       "    </tr>\n",
       "    <tr>\n",
       "      <th>2</th>\n",
       "      <td>2F1Z3G7IZKissAgLtZSUup</td>\n",
       "      <td>0.629</td>\n",
       "      <td>0.726</td>\n",
       "      <td>6</td>\n",
       "      <td>-10.098</td>\n",
       "      <td>0</td>\n",
       "      <td>0.3310</td>\n",
       "      <td>0.18600</td>\n",
       "      <td>0.000000</td>\n",
       "      <td>0.2440</td>\n",
       "      <td>0.839</td>\n",
       "      <td>81.148</td>\n",
       "      <td>114000</td>\n",
       "      <td>4</td>\n",
       "      <td>christian trap</td>\n",
       "    </tr>\n",
       "    <tr>\n",
       "      <th>3</th>\n",
       "      <td>4RBiD2UN3aDpkcV7KX0S0N</td>\n",
       "      <td>0.623</td>\n",
       "      <td>0.668</td>\n",
       "      <td>6</td>\n",
       "      <td>-7.282</td>\n",
       "      <td>0</td>\n",
       "      <td>0.0531</td>\n",
       "      <td>0.47500</td>\n",
       "      <td>0.000000</td>\n",
       "      <td>0.0862</td>\n",
       "      <td>0.823</td>\n",
       "      <td>161.948</td>\n",
       "      <td>183067</td>\n",
       "      <td>4</td>\n",
       "      <td>canadian pop</td>\n",
       "    </tr>\n",
       "    <tr>\n",
       "      <th>4</th>\n",
       "      <td>6LiCDjlGCBx8DK4VhOijvp</td>\n",
       "      <td>0.744</td>\n",
       "      <td>0.680</td>\n",
       "      <td>8</td>\n",
       "      <td>-6.866</td>\n",
       "      <td>1</td>\n",
       "      <td>0.2320</td>\n",
       "      <td>0.23800</td>\n",
       "      <td>0.000000</td>\n",
       "      <td>0.1070</td>\n",
       "      <td>0.507</td>\n",
       "      <td>112.873</td>\n",
       "      <td>167030</td>\n",
       "      <td>4</td>\n",
       "      <td>new romantic</td>\n",
       "    </tr>\n",
       "    <tr>\n",
       "      <th>5</th>\n",
       "      <td>3JcKCicqIJ0qYWnHTLQzN9</td>\n",
       "      <td>0.601</td>\n",
       "      <td>0.713</td>\n",
       "      <td>4</td>\n",
       "      <td>-3.758</td>\n",
       "      <td>0</td>\n",
       "      <td>0.0449</td>\n",
       "      <td>0.02820</td>\n",
       "      <td>0.000000</td>\n",
       "      <td>0.1580</td>\n",
       "      <td>0.464</td>\n",
       "      <td>122.872</td>\n",
       "      <td>169756</td>\n",
       "      <td>4</td>\n",
       "      <td>big room</td>\n",
       "    </tr>\n",
       "    <tr>\n",
       "      <th>6</th>\n",
       "      <td>4u2gL1g6AgF2vlAURETOXi</td>\n",
       "      <td>0.429</td>\n",
       "      <td>0.834</td>\n",
       "      <td>0</td>\n",
       "      <td>-6.610</td>\n",
       "      <td>0</td>\n",
       "      <td>0.2610</td>\n",
       "      <td>0.01060</td>\n",
       "      <td>0.000000</td>\n",
       "      <td>0.1630</td>\n",
       "      <td>0.664</td>\n",
       "      <td>179.932</td>\n",
       "      <td>110517</td>\n",
       "      <td>4</td>\n",
       "      <td>glitchcore</td>\n",
       "    </tr>\n",
       "    <tr>\n",
       "      <th>7</th>\n",
       "      <td>6ygf36lTU1bMocl46hZOAG</td>\n",
       "      <td>0.680</td>\n",
       "      <td>0.597</td>\n",
       "      <td>1</td>\n",
       "      <td>-6.627</td>\n",
       "      <td>1</td>\n",
       "      <td>0.0425</td>\n",
       "      <td>0.02980</td>\n",
       "      <td>0.000002</td>\n",
       "      <td>0.0777</td>\n",
       "      <td>0.527</td>\n",
       "      <td>155.980</td>\n",
       "      <td>251429</td>\n",
       "      <td>4</td>\n",
       "      <td>chilean indie</td>\n",
       "    </tr>\n",
       "    <tr>\n",
       "      <th>8</th>\n",
       "      <td>1G9udmctlnLyk5BXgJbifd</td>\n",
       "      <td>0.438</td>\n",
       "      <td>0.178</td>\n",
       "      <td>5</td>\n",
       "      <td>-9.402</td>\n",
       "      <td>1</td>\n",
       "      <td>0.0414</td>\n",
       "      <td>0.95700</td>\n",
       "      <td>0.000001</td>\n",
       "      <td>0.3160</td>\n",
       "      <td>0.344</td>\n",
       "      <td>75.250</td>\n",
       "      <td>170964</td>\n",
       "      <td>1</td>\n",
       "      <td>dance pop</td>\n",
       "    </tr>\n",
       "    <tr>\n",
       "      <th>9</th>\n",
       "      <td>50fqhNXa174Te7j95WRQHT</td>\n",
       "      <td>0.710</td>\n",
       "      <td>0.625</td>\n",
       "      <td>6</td>\n",
       "      <td>-9.008</td>\n",
       "      <td>0</td>\n",
       "      <td>0.0295</td>\n",
       "      <td>0.02900</td>\n",
       "      <td>0.000011</td>\n",
       "      <td>0.1080</td>\n",
       "      <td>0.784</td>\n",
       "      <td>140.994</td>\n",
       "      <td>307014</td>\n",
       "      <td>4</td>\n",
       "      <td>dance pop</td>\n",
       "    </tr>\n",
       "  </tbody>\n",
       "</table>\n",
       "</div>"
      ],
      "text/plain": [
       "                       id  danceability  energy  key  loudness  mode  \\\n",
       "0  3HWcK5EIfIdOQD1Rsj4yek         0.747   0.422    7   -12.890     0   \n",
       "1  2lFeir1XMPIRPcvNGQwCSr         0.845   0.483    2    -7.859     1   \n",
       "2  2F1Z3G7IZKissAgLtZSUup         0.629   0.726    6   -10.098     0   \n",
       "3  4RBiD2UN3aDpkcV7KX0S0N         0.623   0.668    6    -7.282     0   \n",
       "4  6LiCDjlGCBx8DK4VhOijvp         0.744   0.680    8    -6.866     1   \n",
       "5  3JcKCicqIJ0qYWnHTLQzN9         0.601   0.713    4    -3.758     0   \n",
       "6  4u2gL1g6AgF2vlAURETOXi         0.429   0.834    0    -6.610     0   \n",
       "7  6ygf36lTU1bMocl46hZOAG         0.680   0.597    1    -6.627     1   \n",
       "8  1G9udmctlnLyk5BXgJbifd         0.438   0.178    5    -9.402     1   \n",
       "9  50fqhNXa174Te7j95WRQHT         0.710   0.625    6    -9.008     0   \n",
       "\n",
       "   speechiness  acousticness  instrumentalness  liveness  valence    tempo  \\\n",
       "0       0.4970       0.00522          0.000831    0.1190    0.125  132.128   \n",
       "1       0.2770       0.01090          0.000000    0.1360    0.643  129.049   \n",
       "2       0.3310       0.18600          0.000000    0.2440    0.839   81.148   \n",
       "3       0.0531       0.47500          0.000000    0.0862    0.823  161.948   \n",
       "4       0.2320       0.23800          0.000000    0.1070    0.507  112.873   \n",
       "5       0.0449       0.02820          0.000000    0.1580    0.464  122.872   \n",
       "6       0.2610       0.01060          0.000000    0.1630    0.664  179.932   \n",
       "7       0.0425       0.02980          0.000002    0.0777    0.527  155.980   \n",
       "8       0.0414       0.95700          0.000001    0.3160    0.344   75.250   \n",
       "9       0.0295       0.02900          0.000011    0.1080    0.784  140.994   \n",
       "\n",
       "   duration_ms  time_signature           genre  \n",
       "0       176364               4           plugg  \n",
       "1        98605               4         pop rap  \n",
       "2       114000               4  christian trap  \n",
       "3       183067               4    canadian pop  \n",
       "4       167030               4    new romantic  \n",
       "5       169756               4        big room  \n",
       "6       110517               4      glitchcore  \n",
       "7       251429               4   chilean indie  \n",
       "8       170964               1       dance pop  \n",
       "9       307014               4       dance pop  "
      ]
     },
     "execution_count": 226,
     "metadata": {},
     "output_type": "execute_result"
    }
   ],
   "source": [
    "df.head(10)"
   ]
  },
  {
   "cell_type": "code",
   "execution_count": 227,
   "metadata": {},
   "outputs": [],
   "source": [
    "model = df.drop(['id'], axis=1)"
   ]
  },
  {
   "cell_type": "code",
   "execution_count": 228,
   "metadata": {},
   "outputs": [
    {
     "data": {
      "text/plain": [
       "0             plugg\n",
       "1           pop rap\n",
       "2    christian trap\n",
       "3      canadian pop\n",
       "4      new romantic\n",
       "5          big room\n",
       "6        glitchcore\n",
       "7     chilean indie\n",
       "8         dance pop\n",
       "9         dance pop\n",
       "Name: genre, dtype: object"
      ]
     },
     "execution_count": 228,
     "metadata": {},
     "output_type": "execute_result"
    }
   ],
   "source": [
    "label = model.iloc[:, -1]\n",
    "label.head(10)"
   ]
  },
  {
   "cell_type": "code",
   "execution_count": 232,
   "metadata": {},
   "outputs": [
    {
     "data": {
      "text/plain": [
       "array([130, 135,  51,  43, 123,  33,  91,  48,  64,  64, 110, 129, 133,\n",
       "        15, 105, 133,  38,  64,  20,  64,  64,  93,  17, 133,  39,  64,\n",
       "        82,  43, 124,  97,  64,  68,  41,  26,  17,  42,  59,  87,  19,\n",
       "       113,  72,   6, 140,  89, 102,  60,  33,  90,  12,  65,  64,  15,\n",
       "        64, 133, 106,  64,  18,  64,  55, 127,  67,  82,  66,  64,  42,\n",
       "        18,  40, 131, 110,  64,  64, 110, 130, 143, 141,  40,   9, 122,\n",
       "       147,   9,  32,  27,  81,  64, 121, 105,  64, 142,   3,  79,  64,\n",
       "        86, 134,   5, 136,  23,  14,  64, 115,  22,  52,  64,  22,  78,\n",
       "       120, 112,  75,   6,  64,  91,  17,  12,  56, 133,  93,   6, 118,\n",
       "         2,  15,  43,  53,  64,  10,  64,  44,  29,  43,   2, 138, 119,\n",
       "        92,  34,  64,  83,  85,  64,  41,  64,  43, 126,  29,  64, 125,\n",
       "        43,  26,   5,  64,  12,  22,  12,  10,  60, 102,  64, 123, 137,\n",
       "        12,  60,   4,   6,  76,  64,   7,  53,   2, 107,  60, 133,  80,\n",
       "        10,   2, 109,  10,  83,  60,  61, 108,  10,  40,  62,  96,  46,\n",
       "        60,  50,  21,  23,  24,  52,  22,  64,  83, 144,  64,  99,  69,\n",
       "        64,   9,  57,  21,  10, 100, 104,  64,  58,  42, 119,  76,  30,\n",
       "        12,  74, 149,  98,  71,  10,  81,   2, 109,  64,  64,  60, 148,\n",
       "       146,  25, 114, 115,  28,  16,  86,  64,   2, 128,   0,  84,   5,\n",
       "       117,  45,  13,  34,   2,  95,  73,   2,  63,  94,  31,   3,  19,\n",
       "         2,  12,  37,   5,  60, 101,  54,   8,  20,   2,  77,   1,  64,\n",
       "        14,  64,  70,  37,  88,   2, 139,  60, 119, 132, 145, 103, 116,\n",
       "         6,  76,  35,  49,  60,  37,  36,  47, 111, 133, 128,  95,  64,\n",
       "        60,  60, 114,  64,  40,  25, 103,  11])"
      ]
     },
     "execution_count": 232,
     "metadata": {},
     "output_type": "execute_result"
    }
   ],
   "source": [
    "encoder = LabelEncoder()\n",
    "y = encoder.fit_transform(label)\n",
    "y"
   ]
  },
  {
   "cell_type": "code",
   "execution_count": 239,
   "metadata": {},
   "outputs": [
    {
     "data": {
      "text/plain": [
       "(294, 13)"
      ]
     },
     "execution_count": 239,
     "metadata": {},
     "output_type": "execute_result"
    }
   ],
   "source": [
    "scaler = StandardScaler()\n",
    "x = scaler.fit_transform(np.array(model.iloc[:, :-1], dtype = float))\n",
    "x.shape"
   ]
  },
  {
   "cell_type": "code",
   "execution_count": 243,
   "metadata": {},
   "outputs": [],
   "source": [
    "x_train, y_train, x_test, y_test = train_test_split(x, y, test_size=0.3)"
   ]
  }
 ],
 "metadata": {
  "kernelspec": {
   "display_name": "Python 3.10.6 ('min_ds-env')",
   "language": "python",
   "name": "python3"
  },
  "language_info": {
   "codemirror_mode": {
    "name": "ipython",
    "version": 3
   },
   "file_extension": ".py",
   "mimetype": "text/x-python",
   "name": "python",
   "nbconvert_exporter": "python",
   "pygments_lexer": "ipython3",
   "version": "3.10.6"
  },
  "orig_nbformat": 4,
  "vscode": {
   "interpreter": {
    "hash": "3b298dc8b5ec9755d3b5e5b4831b9bf767d0a22ad509bcbd5b6f1f1a5498747c"
   }
  }
 },
 "nbformat": 4,
 "nbformat_minor": 2
}
