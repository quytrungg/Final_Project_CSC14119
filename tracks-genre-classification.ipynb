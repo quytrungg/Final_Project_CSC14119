{
 "cells": [
  {
   "cell_type": "code",
   "execution_count": 4,
   "metadata": {},
   "outputs": [],
   "source": [
    "import ipynb.fs.full.get_artists_info_api as getter"
   ]
  },
  {
   "cell_type": "code",
   "execution_count": 5,
   "metadata": {},
   "outputs": [],
   "source": [
    "tracks_id = []\n",
    "for i in range(len(getter.tracks)):\n",
    "    tracks_id.append(getter.tracks[i]['id'])\n",
    "\n",
    "tracks_id = list(dict.fromkeys(tracks_id))"
   ]
  },
  {
   "cell_type": "code",
   "execution_count": 6,
   "metadata": {},
   "outputs": [],
   "source": [
    "track_features_list = []\n",
    "\n",
    "for i in range(len(tracks_id)):\n",
    "    track_features_list.append(getter.spotify.audio_features(tracks_id[i]))"
   ]
  },
  {
   "cell_type": "code",
   "execution_count": 7,
   "metadata": {},
   "outputs": [],
   "source": [
    "#there are some tracks without their audio features so we need to remove them from the list\n",
    "track_features_list = list(filter(lambda x: x != [None], track_features_list))"
   ]
  },
  {
   "cell_type": "code",
   "execution_count": 8,
   "metadata": {},
   "outputs": [],
   "source": [
    "for i in range(len(track_features_list)):\n",
    "    track_features_list[i] = dict(list(filter(lambda x: x[0] == 'id' or type(x[1]) != str, list(track_features_list[i][0].items()))))"
   ]
  },
  {
   "cell_type": "code",
   "execution_count": 9,
   "metadata": {},
   "outputs": [],
   "source": [
    "artists = list(filter(lambda x: x['genres'] != '' ,getter.artists))"
   ]
  },
  {
   "cell_type": "code",
   "execution_count": 10,
   "metadata": {},
   "outputs": [],
   "source": [
    "genres_list = []\n",
    "\n",
    "for i in range(len(artists)):\n",
    "    keys = ['id', 'genre']\n",
    "    genre = dict.fromkeys(keys)\n",
    "    for j in range(len(getter.tracks)):\n",
    "        if artists[i]['id'] == getter.tracks[j]['artists'][0]['id']:\n",
    "            genre['id'] = getter.tracks[j]['id']\n",
    "            genre['genre'] = artists[i]['genres'].split(', ')\n",
    "            genre['genre'] = genre['genre'][0]\n",
    "            genres_list.append(genre)"
   ]
  },
  {
   "cell_type": "code",
   "execution_count": 11,
   "metadata": {},
   "outputs": [],
   "source": [
    "for i in range(len(track_features_list)):\n",
    "    for j in range(len(genres_list)):\n",
    "        if track_features_list[i]['id'] == genres_list[j]['id']:\n",
    "            track_features_list[i]['genre'] = genres_list[j]['genre']"
   ]
  },
  {
   "cell_type": "code",
   "execution_count": 12,
   "metadata": {},
   "outputs": [],
   "source": [
    "track_features_list = list(filter(lambda x: len(x) == 15, track_features_list))"
   ]
  },
  {
   "cell_type": "markdown",
   "metadata": {},
   "source": [
    "---------------------------------------------------------------------------------------------------------------"
   ]
  },
  {
   "cell_type": "code",
   "execution_count": 68,
   "metadata": {},
   "outputs": [],
   "source": [
    "import numpy as np\n",
    "import pandas as pd\n",
    "\n",
    "from sklearn.preprocessing import LabelEncoder, StandardScaler\n",
    "from sklearn.model_selection import train_test_split"
   ]
  },
  {
   "cell_type": "code",
   "execution_count": 14,
   "metadata": {},
   "outputs": [],
   "source": [
    "df = pd.DataFrame(track_features_list)"
   ]
  },
  {
   "cell_type": "code",
   "execution_count": 15,
   "metadata": {},
   "outputs": [],
   "source": [
    "df.insert(0, 'id', df.pop('id'))"
   ]
  },
  {
   "cell_type": "code",
   "execution_count": 16,
   "metadata": {},
   "outputs": [
    {
     "data": {
      "text/html": [
       "<div>\n",
       "<style scoped>\n",
       "    .dataframe tbody tr th:only-of-type {\n",
       "        vertical-align: middle;\n",
       "    }\n",
       "\n",
       "    .dataframe tbody tr th {\n",
       "        vertical-align: top;\n",
       "    }\n",
       "\n",
       "    .dataframe thead th {\n",
       "        text-align: right;\n",
       "    }\n",
       "</style>\n",
       "<table border=\"1\" class=\"dataframe\">\n",
       "  <thead>\n",
       "    <tr style=\"text-align: right;\">\n",
       "      <th></th>\n",
       "      <th>id</th>\n",
       "      <th>danceability</th>\n",
       "      <th>energy</th>\n",
       "      <th>key</th>\n",
       "      <th>loudness</th>\n",
       "      <th>mode</th>\n",
       "      <th>speechiness</th>\n",
       "      <th>acousticness</th>\n",
       "      <th>instrumentalness</th>\n",
       "      <th>liveness</th>\n",
       "      <th>valence</th>\n",
       "      <th>tempo</th>\n",
       "      <th>duration_ms</th>\n",
       "      <th>time_signature</th>\n",
       "      <th>genre</th>\n",
       "    </tr>\n",
       "  </thead>\n",
       "  <tbody>\n",
       "    <tr>\n",
       "      <th>0</th>\n",
       "      <td>3HWcK5EIfIdOQD1Rsj4yek</td>\n",
       "      <td>0.747</td>\n",
       "      <td>0.422</td>\n",
       "      <td>7</td>\n",
       "      <td>-12.890</td>\n",
       "      <td>0</td>\n",
       "      <td>0.4970</td>\n",
       "      <td>0.005220</td>\n",
       "      <td>0.000831</td>\n",
       "      <td>0.119</td>\n",
       "      <td>0.125</td>\n",
       "      <td>132.128</td>\n",
       "      <td>176364</td>\n",
       "      <td>4</td>\n",
       "      <td>plugg</td>\n",
       "    </tr>\n",
       "    <tr>\n",
       "      <th>1</th>\n",
       "      <td>3gZyjgWdEibTsQFEmGiSSk</td>\n",
       "      <td>0.405</td>\n",
       "      <td>0.756</td>\n",
       "      <td>5</td>\n",
       "      <td>-12.469</td>\n",
       "      <td>0</td>\n",
       "      <td>0.0424</td>\n",
       "      <td>0.000188</td>\n",
       "      <td>0.745000</td>\n",
       "      <td>0.130</td>\n",
       "      <td>0.279</td>\n",
       "      <td>160.012</td>\n",
       "      <td>205500</td>\n",
       "      <td>4</td>\n",
       "      <td>speedrun</td>\n",
       "    </tr>\n",
       "    <tr>\n",
       "      <th>2</th>\n",
       "      <td>2lFeir1XMPIRPcvNGQwCSr</td>\n",
       "      <td>0.845</td>\n",
       "      <td>0.483</td>\n",
       "      <td>2</td>\n",
       "      <td>-7.859</td>\n",
       "      <td>1</td>\n",
       "      <td>0.2770</td>\n",
       "      <td>0.010900</td>\n",
       "      <td>0.000000</td>\n",
       "      <td>0.136</td>\n",
       "      <td>0.643</td>\n",
       "      <td>129.049</td>\n",
       "      <td>98605</td>\n",
       "      <td>4</td>\n",
       "      <td>pop rap</td>\n",
       "    </tr>\n",
       "    <tr>\n",
       "      <th>3</th>\n",
       "      <td>4LRPiXqCikLlN15c3yImP7</td>\n",
       "      <td>0.520</td>\n",
       "      <td>0.731</td>\n",
       "      <td>6</td>\n",
       "      <td>-5.338</td>\n",
       "      <td>0</td>\n",
       "      <td>0.0557</td>\n",
       "      <td>0.342000</td>\n",
       "      <td>0.001010</td>\n",
       "      <td>0.311</td>\n",
       "      <td>0.662</td>\n",
       "      <td>173.930</td>\n",
       "      <td>167303</td>\n",
       "      <td>4</td>\n",
       "      <td>pop</td>\n",
       "    </tr>\n",
       "    <tr>\n",
       "      <th>4</th>\n",
       "      <td>4Qum1kECNQrpREev5fvAQ4</td>\n",
       "      <td>0.492</td>\n",
       "      <td>0.708</td>\n",
       "      <td>10</td>\n",
       "      <td>-4.639</td>\n",
       "      <td>1</td>\n",
       "      <td>0.0334</td>\n",
       "      <td>0.097500</td>\n",
       "      <td>0.000000</td>\n",
       "      <td>0.120</td>\n",
       "      <td>0.697</td>\n",
       "      <td>161.989</td>\n",
       "      <td>203037</td>\n",
       "      <td>4</td>\n",
       "      <td>contemporary country</td>\n",
       "    </tr>\n",
       "    <tr>\n",
       "      <th>5</th>\n",
       "      <td>2F1Z3G7IZKissAgLtZSUup</td>\n",
       "      <td>0.629</td>\n",
       "      <td>0.726</td>\n",
       "      <td>6</td>\n",
       "      <td>-10.098</td>\n",
       "      <td>0</td>\n",
       "      <td>0.3310</td>\n",
       "      <td>0.186000</td>\n",
       "      <td>0.000000</td>\n",
       "      <td>0.244</td>\n",
       "      <td>0.839</td>\n",
       "      <td>81.148</td>\n",
       "      <td>114000</td>\n",
       "      <td>4</td>\n",
       "      <td>christian trap</td>\n",
       "    </tr>\n",
       "    <tr>\n",
       "      <th>6</th>\n",
       "      <td>4C6Uex2ILwJi9sZXRdmqXp</td>\n",
       "      <td>0.950</td>\n",
       "      <td>0.891</td>\n",
       "      <td>2</td>\n",
       "      <td>-2.653</td>\n",
       "      <td>1</td>\n",
       "      <td>0.2410</td>\n",
       "      <td>0.064500</td>\n",
       "      <td>0.000018</td>\n",
       "      <td>0.309</td>\n",
       "      <td>0.912</td>\n",
       "      <td>133.010</td>\n",
       "      <td>170977</td>\n",
       "      <td>4</td>\n",
       "      <td>dance pop</td>\n",
       "    </tr>\n",
       "    <tr>\n",
       "      <th>7</th>\n",
       "      <td>4k6Uh1HXdhtusDW5y8Gbvy</td>\n",
       "      <td>0.686</td>\n",
       "      <td>0.494</td>\n",
       "      <td>1</td>\n",
       "      <td>-7.093</td>\n",
       "      <td>1</td>\n",
       "      <td>0.0355</td>\n",
       "      <td>0.613000</td>\n",
       "      <td>0.000058</td>\n",
       "      <td>0.402</td>\n",
       "      <td>0.700</td>\n",
       "      <td>168.946</td>\n",
       "      <td>232067</td>\n",
       "      <td>4</td>\n",
       "      <td>afrofuturism</td>\n",
       "    </tr>\n",
       "    <tr>\n",
       "      <th>8</th>\n",
       "      <td>4h4QlmocP3IuwYEj2j14p8</td>\n",
       "      <td>0.768</td>\n",
       "      <td>0.714</td>\n",
       "      <td>10</td>\n",
       "      <td>-5.110</td>\n",
       "      <td>1</td>\n",
       "      <td>0.0401</td>\n",
       "      <td>0.352000</td>\n",
       "      <td>0.000000</td>\n",
       "      <td>0.150</td>\n",
       "      <td>0.842</td>\n",
       "      <td>131.443</td>\n",
       "      <td>163026</td>\n",
       "      <td>4</td>\n",
       "      <td>pop</td>\n",
       "    </tr>\n",
       "    <tr>\n",
       "      <th>9</th>\n",
       "      <td>4u2gL1g6AgF2vlAURETOXi</td>\n",
       "      <td>0.429</td>\n",
       "      <td>0.834</td>\n",
       "      <td>0</td>\n",
       "      <td>-6.610</td>\n",
       "      <td>0</td>\n",
       "      <td>0.2610</td>\n",
       "      <td>0.010600</td>\n",
       "      <td>0.000000</td>\n",
       "      <td>0.163</td>\n",
       "      <td>0.664</td>\n",
       "      <td>179.932</td>\n",
       "      <td>110517</td>\n",
       "      <td>4</td>\n",
       "      <td>glitchcore</td>\n",
       "    </tr>\n",
       "  </tbody>\n",
       "</table>\n",
       "</div>"
      ],
      "text/plain": [
       "                       id  danceability  energy  key  loudness  mode  \\\n",
       "0  3HWcK5EIfIdOQD1Rsj4yek         0.747   0.422    7   -12.890     0   \n",
       "1  3gZyjgWdEibTsQFEmGiSSk         0.405   0.756    5   -12.469     0   \n",
       "2  2lFeir1XMPIRPcvNGQwCSr         0.845   0.483    2    -7.859     1   \n",
       "3  4LRPiXqCikLlN15c3yImP7         0.520   0.731    6    -5.338     0   \n",
       "4  4Qum1kECNQrpREev5fvAQ4         0.492   0.708   10    -4.639     1   \n",
       "5  2F1Z3G7IZKissAgLtZSUup         0.629   0.726    6   -10.098     0   \n",
       "6  4C6Uex2ILwJi9sZXRdmqXp         0.950   0.891    2    -2.653     1   \n",
       "7  4k6Uh1HXdhtusDW5y8Gbvy         0.686   0.494    1    -7.093     1   \n",
       "8  4h4QlmocP3IuwYEj2j14p8         0.768   0.714   10    -5.110     1   \n",
       "9  4u2gL1g6AgF2vlAURETOXi         0.429   0.834    0    -6.610     0   \n",
       "\n",
       "   speechiness  acousticness  instrumentalness  liveness  valence    tempo  \\\n",
       "0       0.4970      0.005220          0.000831     0.119    0.125  132.128   \n",
       "1       0.0424      0.000188          0.745000     0.130    0.279  160.012   \n",
       "2       0.2770      0.010900          0.000000     0.136    0.643  129.049   \n",
       "3       0.0557      0.342000          0.001010     0.311    0.662  173.930   \n",
       "4       0.0334      0.097500          0.000000     0.120    0.697  161.989   \n",
       "5       0.3310      0.186000          0.000000     0.244    0.839   81.148   \n",
       "6       0.2410      0.064500          0.000018     0.309    0.912  133.010   \n",
       "7       0.0355      0.613000          0.000058     0.402    0.700  168.946   \n",
       "8       0.0401      0.352000          0.000000     0.150    0.842  131.443   \n",
       "9       0.2610      0.010600          0.000000     0.163    0.664  179.932   \n",
       "\n",
       "   duration_ms  time_signature                 genre  \n",
       "0       176364               4                 plugg  \n",
       "1       205500               4              speedrun  \n",
       "2        98605               4               pop rap  \n",
       "3       167303               4                   pop  \n",
       "4       203037               4  contemporary country  \n",
       "5       114000               4        christian trap  \n",
       "6       170977               4             dance pop  \n",
       "7       232067               4          afrofuturism  \n",
       "8       163026               4                   pop  \n",
       "9       110517               4            glitchcore  "
      ]
     },
     "execution_count": 16,
     "metadata": {},
     "output_type": "execute_result"
    }
   ],
   "source": [
    "df.head(10)"
   ]
  },
  {
   "cell_type": "code",
   "execution_count": 58,
   "metadata": {},
   "outputs": [],
   "source": [
    "data = df.drop(['id'], axis=1)"
   ]
  },
  {
   "cell_type": "code",
   "execution_count": 59,
   "metadata": {},
   "outputs": [
    {
     "data": {
      "text/plain": [
       "0                   plugg\n",
       "1                speedrun\n",
       "2                 pop rap\n",
       "3                     pop\n",
       "4    contemporary country\n",
       "5          christian trap\n",
       "6               dance pop\n",
       "7            afrofuturism\n",
       "8                     pop\n",
       "9              glitchcore\n",
       "Name: genre, dtype: object"
      ]
     },
     "execution_count": 59,
     "metadata": {},
     "output_type": "execute_result"
    }
   ],
   "source": [
    "label = data.iloc[:, -1]\n",
    "label.head(10)"
   ]
  },
  {
   "cell_type": "code",
   "execution_count": 60,
   "metadata": {},
   "outputs": [
    {
     "data": {
      "text/plain": [
       "array([111, 124, 115, 113,  52,  44,  55,   5, 113,  78,  14,  42,  14,\n",
       "        37,  86, 113,  32,  89,  17,  55,  29,  33, 109,  80,  55,  55,\n",
       "        36,  55, 113,  70,  82,  59,  55, 105,  35,  94, 110,  51, 113,\n",
       "        14,  13,  62,  75,  96, 119,  86,  52,   7,  77,  55,  90,  37,\n",
       "        57, 113,  14,  13,  55,  55,  15,  55,  55, 128,  22,  55,  36,\n",
       "        16,  34, 112,  29, 111,  11, 122, 120,  34, 103, 125,  28,  23,\n",
       "        47,  70,  58, 102,  55, 108, 121,  15,  55,  94,  55,  55,  94,\n",
       "        55,   9,   9, 126,  98,  55, 113,  89,  55,   3,  67,  69, 114,\n",
       "        55,   6,  74, 116,  20,  76,  12,  10,  89,  55,  98,  19,  45,\n",
       "        19,  55,  55,  64,   7, 101,  66,  55,  78,  95,  14,  11,  48,\n",
       "       113,  80,  99,   7,   1,  13,  37,  46,  39,   1,  55,  10,  38,\n",
       "        55, 104,  37,  25, 100,   1,  79, 118,  30,  73,  71,  55,  35,\n",
       "        55,  74,  55,  37, 107,  25,   6,  88,  55,  55, 106,  37,  22,\n",
       "         6,  11,  19,  11,  55,  86,  72,  52, 104, 117,  11,  10,  55,\n",
       "         2,  52,   7,  55,   8,  46,  91,   4,  65,   1,  52,   0,   6,\n",
       "        68,  10, 113,   1,  93,  10,  71,  31,  52,  53,  92,  10,  34,\n",
       "        54,   0,  81,  40,  52,  43,  18,  41,  83,  21,  20,  19,  55,\n",
       "        71,  55,  56,  84,  60,  27,  55, 123,  49, 109,  45,  85,  87,\n",
       "        52,  55,  50,  52,  18,  36,  93, 100,  55,  65,   9,  83,  11,\n",
       "        63,  61,  55,  10, 127,  24,  26,  97])"
      ]
     },
     "execution_count": 60,
     "metadata": {},
     "output_type": "execute_result"
    }
   ],
   "source": [
    "encoder = LabelEncoder()\n",
    "y = encoder.fit_transform(label)\n",
    "y"
   ]
  },
  {
   "cell_type": "code",
   "execution_count": 61,
   "metadata": {},
   "outputs": [
    {
     "data": {
      "text/plain": [
       "(255, 13)"
      ]
     },
     "execution_count": 61,
     "metadata": {},
     "output_type": "execute_result"
    }
   ],
   "source": [
    "scaler = StandardScaler()\n",
    "x = scaler.fit_transform(np.array(data.iloc[:, :-1], dtype = float))\n",
    "x.shape"
   ]
  },
  {
   "cell_type": "code",
   "execution_count": 62,
   "metadata": {},
   "outputs": [
    {
     "data": {
      "text/plain": [
       "(178, 13)"
      ]
     },
     "execution_count": 62,
     "metadata": {},
     "output_type": "execute_result"
    }
   ],
   "source": [
    "x_train, x_test, y_train, y_test = train_test_split(x, y, test_size=0.3)\n",
    "x_train.shape"
   ]
  },
  {
   "cell_type": "markdown",
   "metadata": {},
   "source": [
    "-------"
   ]
  },
  {
   "cell_type": "code",
   "execution_count": 63,
   "metadata": {},
   "outputs": [],
   "source": [
    "from sklearn.model_selection import cross_val_score\n",
    "from sklearn.model_selection import RepeatedStratifiedKFold\n",
    "from sklearn.ensemble import BaggingClassifier"
   ]
  },
  {
   "cell_type": "code",
   "execution_count": 71,
   "metadata": {},
   "outputs": [
    {
     "name": "stderr",
     "output_type": "stream",
     "text": [
      "/home/sukivn/anaconda3/envs/min_ds-env/lib/python3.10/site-packages/sklearn/model_selection/_split.py:684: UserWarning: The least populated class in y has only 1 members, which is less than n_splits=10.\n",
      "  warnings.warn(\n",
      "/home/sukivn/anaconda3/envs/min_ds-env/lib/python3.10/site-packages/sklearn/model_selection/_split.py:684: UserWarning: The least populated class in y has only 1 members, which is less than n_splits=10.\n",
      "  warnings.warn(\n",
      "/home/sukivn/anaconda3/envs/min_ds-env/lib/python3.10/site-packages/sklearn/model_selection/_split.py:684: UserWarning: The least populated class in y has only 1 members, which is less than n_splits=10.\n",
      "  warnings.warn(\n"
     ]
    }
   ],
   "source": [
    "model = BaggingClassifier()\n",
    "cv = RepeatedStratifiedKFold(n_splits=10, n_repeats=3, random_state=1)\n",
    "n_scores = cross_val_score(model, x_train, y_train, scoring='accuracy', cv=cv, n_jobs=-1, error_score='raise')"
   ]
  },
  {
   "cell_type": "code",
   "execution_count": 72,
   "metadata": {},
   "outputs": [
    {
     "name": "stdout",
     "output_type": "stream",
     "text": [
      "[0.11111111 0.05555556 0.11111111 0.16666667 0.05555556 0.27777778\n",
      " 0.05555556 0.05555556 0.05882353 0.05882353 0.05555556 0.11111111\n",
      " 0.16666667 0.11111111 0.11111111 0.05555556 0.11111111 0.05555556\n",
      " 0.17647059 0.11764706 0.16666667 0.11111111 0.05555556 0.22222222\n",
      " 0.16666667 0.05555556 0.11111111 0.         0.23529412 0.17647059]\n",
      "0.11263616557734203\n"
     ]
    }
   ],
   "source": [
    "print(n_scores)\n",
    "print(n_scores.mean())"
   ]
  },
  {
   "cell_type": "code",
   "execution_count": 73,
   "metadata": {},
   "outputs": [
    {
     "data": {
      "text/plain": [
       "array([ 46,  55,   2,   9,  55,  10,  55,  78,   9,  86,  52,  10,  55,\n",
       "        34,  55,  13,  55,  55,   1,  55,  14, 113,  55,  86,  55,   2,\n",
       "        55, 121,   1,  37,   8,  55,  55,  10,  55, 113,  31,  66,  71,\n",
       "        10,  55,  55,   1,  34,  14,  55,  34,  42,  16,  55,  55,  55,\n",
       "        10,  55,  55,  14, 126,  94,  55,  55,  34,  55,  37,  14,  14,\n",
       "         6,  55,  42,  55,  55,  55,  55,  55,   0, 113,  55,  10])"
      ]
     },
     "execution_count": 73,
     "metadata": {},
     "output_type": "execute_result"
    }
   ],
   "source": [
    "model.fit(x_train, y_train)\n",
    "pred = model.predict(x_test)\n",
    "pred"
   ]
  },
  {
   "cell_type": "code",
   "execution_count": 74,
   "metadata": {},
   "outputs": [
    {
     "data": {
      "text/plain": [
       "0.07792207792207792"
      ]
     },
     "execution_count": 74,
     "metadata": {},
     "output_type": "execute_result"
    }
   ],
   "source": [
    "from sklearn.metrics import accuracy_score, f1_score, confusion_matrix\n",
    "accuracy_score(y_test, pred)"
   ]
  },
  {
   "cell_type": "code",
   "execution_count": 75,
   "metadata": {},
   "outputs": [
    {
     "data": {
      "text/plain": [
       "0.04503288918873334"
      ]
     },
     "execution_count": 75,
     "metadata": {},
     "output_type": "execute_result"
    }
   ],
   "source": [
    "f1_score(y_test, pred, average='weighted')"
   ]
  }
 ],
 "metadata": {
  "kernelspec": {
   "display_name": "Python 3.10.6 ('min_ds-env')",
   "language": "python",
   "name": "python3"
  },
  "language_info": {
   "codemirror_mode": {
    "name": "ipython",
    "version": 3
   },
   "file_extension": ".py",
   "mimetype": "text/x-python",
   "name": "python",
   "nbconvert_exporter": "python",
   "pygments_lexer": "ipython3",
   "version": "3.10.6"
  },
  "orig_nbformat": 4,
  "vscode": {
   "interpreter": {
    "hash": "3b298dc8b5ec9755d3b5e5b4831b9bf767d0a22ad509bcbd5b6f1f1a5498747c"
   }
  }
 },
 "nbformat": 4,
 "nbformat_minor": 2
}
