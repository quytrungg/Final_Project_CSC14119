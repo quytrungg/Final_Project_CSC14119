{
 "cells": [
  {
   "cell_type": "code",
   "execution_count": 8,
   "metadata": {},
   "outputs": [],
   "source": [
    "import spotipy\n",
    "import csv\n",
    "import os\n",
    "from spotipy.oauth2 import SpotifyClientCredentials, SpotifyOAuth\n",
    "from dotenv import load_dotenv"
   ]
  },
  {
   "cell_type": "code",
   "execution_count": 9,
   "metadata": {},
   "outputs": [],
   "source": [
    "load_dotenv()\n",
    "\n",
    "client_id = os.getenv('SPOTIPY_CLIENT_ID')\n",
    "client_secret = os.getenv('SPOTIPY_CLIENT_SECRET')\n",
    "redirect_uri = os.getenv('SPOTIPY_REDIRECT_URI')\n",
    "\n",
    "client_credentials_manager = SpotifyClientCredentials()\n",
    "spotify = spotipy.Spotify(auth_manager=SpotifyClientCredentials())"
   ]
  },
  {
   "cell_type": "code",
   "execution_count": 96,
   "metadata": {},
   "outputs": [],
   "source": [
    "tracks = []\n",
    "for i in range(2018, 2023):\n",
    "    search_result = spotify.search(q=str(i), limit=50) #the result only consists of tracks\n",
    "\n",
    "    tracks.extend(search_result['tracks']['items'])\n",
    "\n",
    "    for i in range(19):\n",
    "        search_result = spotify.next(search_result['tracks'])\n",
    "        tracks.extend(search_result['tracks']['items'])"
   ]
  },
  {
   "cell_type": "code",
   "execution_count": 97,
   "metadata": {},
   "outputs": [],
   "source": [
    "tracks_id = []\n",
    "for i in range(len(tracks)):\n",
    "    tracks_id.append(tracks[i]['id'])\n",
    "\n",
    "tracks_id = list(dict.fromkeys(tracks_id))"
   ]
  },
  {
   "cell_type": "code",
   "execution_count": 99,
   "metadata": {},
   "outputs": [],
   "source": [
    "track_features_list = []\n",
    "\n",
    "for i in range(len(tracks_id)):\n",
    "    track_features_list.append(spotify.audio_features(tracks_id[i]))"
   ]
  },
  {
   "cell_type": "code",
   "execution_count": 100,
   "metadata": {},
   "outputs": [],
   "source": [
    "#there are some tracks without their audio features so we need to remove them from the list\n",
    "track_features_list = list(filter(lambda x: x != [None], track_features_list))"
   ]
  },
  {
   "cell_type": "code",
   "execution_count": 101,
   "metadata": {},
   "outputs": [],
   "source": [
    "for i in range(len(track_features_list)):\n",
    "    track_features_list[i] = dict(list(filter(lambda x: x[0] == 'id' or type(x[1]) != str, list(track_features_list[i][0].items()))))"
   ]
  },
  {
   "cell_type": "code",
   "execution_count": 103,
   "metadata": {},
   "outputs": [],
   "source": [
    "artists_id = []\n",
    "for i in range(len(tracks)):\n",
    "    for j in range(len(tracks[i]['artists'])):\n",
    "        artists_id.append(tracks[i]['artists'][j]['id'])\n",
    "\n",
    "artists_id = list(dict.fromkeys(artists_id))"
   ]
  },
  {
   "cell_type": "code",
   "execution_count": 104,
   "metadata": {},
   "outputs": [],
   "source": [
    "artists = []\n",
    "for i in range(len(artists_id)):\n",
    "    artist_info = spotify.artist(artist_id=artists_id[i])\n",
    "    cols = ['id', 'genres']\n",
    "    artist = dict.fromkeys(cols)\n",
    "    for key in artist:\n",
    "        artist[key] = artist_info[key]\n",
    "    artists.append(artist)"
   ]
  },
  {
   "cell_type": "code",
   "execution_count": 105,
   "metadata": {},
   "outputs": [],
   "source": [
    "artists = list(filter(lambda x: x['genres'] != [] ,artists))"
   ]
  },
  {
   "cell_type": "code",
   "execution_count": 106,
   "metadata": {},
   "outputs": [],
   "source": [
    "genres_list = []\n",
    "\n",
    "for i in range(len(artists)):\n",
    "    keys = ['id', 'genre']\n",
    "    genre = dict.fromkeys(keys)\n",
    "    for j in range(len(tracks)):\n",
    "        if artists[i]['id'] == tracks[j]['artists'][0]['id']:\n",
    "            genre['id'] = tracks[j]['id']\n",
    "            genre['genre'] = artists[i]['genres'][0]\n",
    "            genres_list.append(genre)"
   ]
  },
  {
   "cell_type": "code",
   "execution_count": 107,
   "metadata": {},
   "outputs": [],
   "source": [
    "for i in range(len(track_features_list)):\n",
    "    for j in range(len(genres_list)):\n",
    "        if track_features_list[i]['id'] == genres_list[j]['id']:\n",
    "            track_features_list[i]['genre'] = genres_list[j]['genre']"
   ]
  },
  {
   "cell_type": "code",
   "execution_count": 108,
   "metadata": {},
   "outputs": [],
   "source": [
    "track_features_list = list(filter(lambda x: len(x) == 15, track_features_list))"
   ]
  },
  {
   "cell_type": "code",
   "execution_count": 148,
   "metadata": {},
   "outputs": [],
   "source": [
    "with open('audio_features.tsv', 'w') as file:\n",
    "    writer = csv.DictWriter(file, fieldnames=track_features_list[0].keys(), delimiter='\\t')\n",
    "    writer.writeheader()\n",
    "    for data in track_features_list:\n",
    "        writer.writerow(data)"
   ]
  },
  {
   "cell_type": "markdown",
   "metadata": {},
   "source": [
    "---------------------------------------------------------------------------------------------------------------"
   ]
  },
  {
   "cell_type": "code",
   "execution_count": 109,
   "metadata": {},
   "outputs": [],
   "source": [
    "import numpy as np\n",
    "import pandas as pd\n",
    "\n",
    "from sklearn.preprocessing import LabelEncoder, StandardScaler\n",
    "from sklearn.model_selection import train_test_split"
   ]
  },
  {
   "cell_type": "code",
   "execution_count": 110,
   "metadata": {},
   "outputs": [],
   "source": [
    "df = pd.DataFrame(track_features_list)"
   ]
  },
  {
   "cell_type": "code",
   "execution_count": 111,
   "metadata": {},
   "outputs": [],
   "source": [
    "df.insert(0, 'id', df.pop('id'))"
   ]
  },
  {
   "cell_type": "code",
   "execution_count": 112,
   "metadata": {},
   "outputs": [
    {
     "data": {
      "text/html": [
       "<div>\n",
       "<style scoped>\n",
       "    .dataframe tbody tr th:only-of-type {\n",
       "        vertical-align: middle;\n",
       "    }\n",
       "\n",
       "    .dataframe tbody tr th {\n",
       "        vertical-align: top;\n",
       "    }\n",
       "\n",
       "    .dataframe thead th {\n",
       "        text-align: right;\n",
       "    }\n",
       "</style>\n",
       "<table border=\"1\" class=\"dataframe\">\n",
       "  <thead>\n",
       "    <tr style=\"text-align: right;\">\n",
       "      <th></th>\n",
       "      <th>id</th>\n",
       "      <th>danceability</th>\n",
       "      <th>energy</th>\n",
       "      <th>key</th>\n",
       "      <th>loudness</th>\n",
       "      <th>mode</th>\n",
       "      <th>speechiness</th>\n",
       "      <th>acousticness</th>\n",
       "      <th>instrumentalness</th>\n",
       "      <th>liveness</th>\n",
       "      <th>valence</th>\n",
       "      <th>tempo</th>\n",
       "      <th>duration_ms</th>\n",
       "      <th>time_signature</th>\n",
       "      <th>genre</th>\n",
       "    </tr>\n",
       "  </thead>\n",
       "  <tbody>\n",
       "    <tr>\n",
       "      <th>0</th>\n",
       "      <td>29d0nY7TzCoi22XBqDQkiP</td>\n",
       "      <td>0.625</td>\n",
       "      <td>0.533</td>\n",
       "      <td>10</td>\n",
       "      <td>-11.903</td>\n",
       "      <td>0</td>\n",
       "      <td>0.0596</td>\n",
       "      <td>0.65900</td>\n",
       "      <td>0.002660</td>\n",
       "      <td>0.0546</td>\n",
       "      <td>0.139</td>\n",
       "      <td>108.296</td>\n",
       "      <td>300840</td>\n",
       "      <td>4</td>\n",
       "      <td>art pop</td>\n",
       "    </tr>\n",
       "    <tr>\n",
       "      <th>1</th>\n",
       "      <td>4DnHUy01jEA4b5ydC3HgsT</td>\n",
       "      <td>0.582</td>\n",
       "      <td>0.944</td>\n",
       "      <td>2</td>\n",
       "      <td>-0.928</td>\n",
       "      <td>0</td>\n",
       "      <td>0.1850</td>\n",
       "      <td>0.00573</td>\n",
       "      <td>0.000001</td>\n",
       "      <td>0.5470</td>\n",
       "      <td>0.800</td>\n",
       "      <td>143.970</td>\n",
       "      <td>207977</td>\n",
       "      <td>4</td>\n",
       "      <td>latin hip hop</td>\n",
       "    </tr>\n",
       "    <tr>\n",
       "      <th>2</th>\n",
       "      <td>1xzBco0xcoJEDXktl7Jxrr</td>\n",
       "      <td>0.729</td>\n",
       "      <td>0.625</td>\n",
       "      <td>4</td>\n",
       "      <td>-5.266</td>\n",
       "      <td>1</td>\n",
       "      <td>0.0315</td>\n",
       "      <td>0.19400</td>\n",
       "      <td>0.009860</td>\n",
       "      <td>0.2480</td>\n",
       "      <td>0.261</td>\n",
       "      <td>146.034</td>\n",
       "      <td>183907</td>\n",
       "      <td>4</td>\n",
       "      <td>rap</td>\n",
       "    </tr>\n",
       "    <tr>\n",
       "      <th>3</th>\n",
       "      <td>09IStsImFySgyp0pIQdqAc</td>\n",
       "      <td>0.753</td>\n",
       "      <td>0.657</td>\n",
       "      <td>7</td>\n",
       "      <td>-3.061</td>\n",
       "      <td>1</td>\n",
       "      <td>0.0449</td>\n",
       "      <td>0.17100</td>\n",
       "      <td>0.000000</td>\n",
       "      <td>0.1120</td>\n",
       "      <td>0.437</td>\n",
       "      <td>107.010</td>\n",
       "      <td>184732</td>\n",
       "      <td>4</td>\n",
       "      <td>complextro</td>\n",
       "    </tr>\n",
       "    <tr>\n",
       "      <th>4</th>\n",
       "      <td>7sO5G9EABYOXQKNPNiE9NR</td>\n",
       "      <td>0.880</td>\n",
       "      <td>0.428</td>\n",
       "      <td>9</td>\n",
       "      <td>-8.280</td>\n",
       "      <td>1</td>\n",
       "      <td>0.2060</td>\n",
       "      <td>0.14900</td>\n",
       "      <td>0.000051</td>\n",
       "      <td>0.1140</td>\n",
       "      <td>0.333</td>\n",
       "      <td>100.007</td>\n",
       "      <td>172800</td>\n",
       "      <td>4</td>\n",
       "      <td>atl hip hop</td>\n",
       "    </tr>\n",
       "    <tr>\n",
       "      <th>5</th>\n",
       "      <td>1M6SuEJZJkZf2S419vIPkB</td>\n",
       "      <td>0.931</td>\n",
       "      <td>0.387</td>\n",
       "      <td>1</td>\n",
       "      <td>-9.127</td>\n",
       "      <td>1</td>\n",
       "      <td>0.4120</td>\n",
       "      <td>0.08800</td>\n",
       "      <td>0.000000</td>\n",
       "      <td>0.1360</td>\n",
       "      <td>0.375</td>\n",
       "      <td>125.978</td>\n",
       "      <td>179405</td>\n",
       "      <td>4</td>\n",
       "      <td>emo rap</td>\n",
       "    </tr>\n",
       "    <tr>\n",
       "      <th>6</th>\n",
       "      <td>2xLMifQCjDGFmkHkpNLD9h</td>\n",
       "      <td>0.834</td>\n",
       "      <td>0.730</td>\n",
       "      <td>8</td>\n",
       "      <td>-3.714</td>\n",
       "      <td>1</td>\n",
       "      <td>0.2220</td>\n",
       "      <td>0.00513</td>\n",
       "      <td>0.000000</td>\n",
       "      <td>0.1240</td>\n",
       "      <td>0.446</td>\n",
       "      <td>155.008</td>\n",
       "      <td>312820</td>\n",
       "      <td>4</td>\n",
       "      <td>rap</td>\n",
       "    </tr>\n",
       "    <tr>\n",
       "      <th>7</th>\n",
       "      <td>5TueD7dEIlQzQIGxH2mjvp</td>\n",
       "      <td>0.708</td>\n",
       "      <td>0.878</td>\n",
       "      <td>8</td>\n",
       "      <td>-5.099</td>\n",
       "      <td>1</td>\n",
       "      <td>0.0468</td>\n",
       "      <td>0.00753</td>\n",
       "      <td>0.646000</td>\n",
       "      <td>0.0536</td>\n",
       "      <td>0.596</td>\n",
       "      <td>150.053</td>\n",
       "      <td>145621</td>\n",
       "      <td>4</td>\n",
       "      <td>hard bass</td>\n",
       "    </tr>\n",
       "    <tr>\n",
       "      <th>8</th>\n",
       "      <td>4qKcDkK6siZ7Jp1Jb4m0aL</td>\n",
       "      <td>0.922</td>\n",
       "      <td>0.581</td>\n",
       "      <td>10</td>\n",
       "      <td>-7.495</td>\n",
       "      <td>1</td>\n",
       "      <td>0.2700</td>\n",
       "      <td>0.00104</td>\n",
       "      <td>0.000059</td>\n",
       "      <td>0.1050</td>\n",
       "      <td>0.595</td>\n",
       "      <td>140.022</td>\n",
       "      <td>181263</td>\n",
       "      <td>4</td>\n",
       "      <td>memphis hip hop</td>\n",
       "    </tr>\n",
       "    <tr>\n",
       "      <th>9</th>\n",
       "      <td>6UrgPc2f78pgDrdodMJA42</td>\n",
       "      <td>0.298</td>\n",
       "      <td>0.831</td>\n",
       "      <td>8</td>\n",
       "      <td>-7.256</td>\n",
       "      <td>1</td>\n",
       "      <td>0.1170</td>\n",
       "      <td>0.00580</td>\n",
       "      <td>0.288000</td>\n",
       "      <td>0.6370</td>\n",
       "      <td>0.724</td>\n",
       "      <td>157.170</td>\n",
       "      <td>267253</td>\n",
       "      <td>3</td>\n",
       "      <td>supergroup</td>\n",
       "    </tr>\n",
       "  </tbody>\n",
       "</table>\n",
       "</div>"
      ],
      "text/plain": [
       "                       id  danceability  energy  key  loudness  mode  \\\n",
       "0  29d0nY7TzCoi22XBqDQkiP         0.625   0.533   10   -11.903     0   \n",
       "1  4DnHUy01jEA4b5ydC3HgsT         0.582   0.944    2    -0.928     0   \n",
       "2  1xzBco0xcoJEDXktl7Jxrr         0.729   0.625    4    -5.266     1   \n",
       "3  09IStsImFySgyp0pIQdqAc         0.753   0.657    7    -3.061     1   \n",
       "4  7sO5G9EABYOXQKNPNiE9NR         0.880   0.428    9    -8.280     1   \n",
       "5  1M6SuEJZJkZf2S419vIPkB         0.931   0.387    1    -9.127     1   \n",
       "6  2xLMifQCjDGFmkHkpNLD9h         0.834   0.730    8    -3.714     1   \n",
       "7  5TueD7dEIlQzQIGxH2mjvp         0.708   0.878    8    -5.099     1   \n",
       "8  4qKcDkK6siZ7Jp1Jb4m0aL         0.922   0.581   10    -7.495     1   \n",
       "9  6UrgPc2f78pgDrdodMJA42         0.298   0.831    8    -7.256     1   \n",
       "\n",
       "   speechiness  acousticness  instrumentalness  liveness  valence    tempo  \\\n",
       "0       0.0596       0.65900          0.002660    0.0546    0.139  108.296   \n",
       "1       0.1850       0.00573          0.000001    0.5470    0.800  143.970   \n",
       "2       0.0315       0.19400          0.009860    0.2480    0.261  146.034   \n",
       "3       0.0449       0.17100          0.000000    0.1120    0.437  107.010   \n",
       "4       0.2060       0.14900          0.000051    0.1140    0.333  100.007   \n",
       "5       0.4120       0.08800          0.000000    0.1360    0.375  125.978   \n",
       "6       0.2220       0.00513          0.000000    0.1240    0.446  155.008   \n",
       "7       0.0468       0.00753          0.646000    0.0536    0.596  150.053   \n",
       "8       0.2700       0.00104          0.000059    0.1050    0.595  140.022   \n",
       "9       0.1170       0.00580          0.288000    0.6370    0.724  157.170   \n",
       "\n",
       "   duration_ms  time_signature            genre  \n",
       "0       300840               4          art pop  \n",
       "1       207977               4    latin hip hop  \n",
       "2       183907               4              rap  \n",
       "3       184732               4       complextro  \n",
       "4       172800               4      atl hip hop  \n",
       "5       179405               4          emo rap  \n",
       "6       312820               4              rap  \n",
       "7       145621               4        hard bass  \n",
       "8       181263               4  memphis hip hop  \n",
       "9       267253               3       supergroup  "
      ]
     },
     "execution_count": 112,
     "metadata": {},
     "output_type": "execute_result"
    }
   ],
   "source": [
    "df.head(10)"
   ]
  },
  {
   "cell_type": "code",
   "execution_count": 113,
   "metadata": {},
   "outputs": [],
   "source": [
    "data = df.drop(['id'], axis=1)"
   ]
  },
  {
   "cell_type": "code",
   "execution_count": 114,
   "metadata": {},
   "outputs": [
    {
     "data": {
      "text/plain": [
       "0            art pop\n",
       "1      latin hip hop\n",
       "2                rap\n",
       "3         complextro\n",
       "4        atl hip hop\n",
       "5            emo rap\n",
       "6                rap\n",
       "7          hard bass\n",
       "8    memphis hip hop\n",
       "9         supergroup\n",
       "Name: genre, dtype: object"
      ]
     },
     "execution_count": 114,
     "metadata": {},
     "output_type": "execute_result"
    }
   ],
   "source": [
    "label = data.iloc[:, -1]\n",
    "label.head(10)"
   ]
  },
  {
   "cell_type": "code",
   "execution_count": 133,
   "metadata": {},
   "outputs": [
    {
     "data": {
      "text/plain": [
       "array([ 41, 385, 489, ...,  71,  68, 418])"
      ]
     },
     "execution_count": 133,
     "metadata": {},
     "output_type": "execute_result"
    }
   ],
   "source": [
    "encoder = LabelEncoder()\n",
    "y = encoder.fit_transform(label)\n",
    "y"
   ]
  },
  {
   "cell_type": "code",
   "execution_count": 134,
   "metadata": {},
   "outputs": [
    {
     "data": {
      "text/plain": [
       "(1307, 13)"
      ]
     },
     "execution_count": 134,
     "metadata": {},
     "output_type": "execute_result"
    }
   ],
   "source": [
    "scaler = StandardScaler()\n",
    "x = scaler.fit_transform(np.array(data.iloc[:, :-1], dtype = float))\n",
    "x.shape"
   ]
  },
  {
   "cell_type": "code",
   "execution_count": 136,
   "metadata": {},
   "outputs": [
    {
     "data": {
      "text/plain": [
       "(1045, 13)"
      ]
     },
     "execution_count": 136,
     "metadata": {},
     "output_type": "execute_result"
    }
   ],
   "source": [
    "x_train, x_test, y_train, y_test = train_test_split(x, y, test_size=0.2)\n",
    "x_train.shape"
   ]
  },
  {
   "cell_type": "markdown",
   "metadata": {},
   "source": [
    "-------"
   ]
  },
  {
   "cell_type": "code",
   "execution_count": 137,
   "metadata": {},
   "outputs": [],
   "source": [
    "from sklearn.model_selection import cross_val_score\n",
    "from sklearn.model_selection import RepeatedStratifiedKFold\n",
    "from sklearn.ensemble import BaggingClassifier"
   ]
  },
  {
   "cell_type": "code",
   "execution_count": 138,
   "metadata": {},
   "outputs": [
    {
     "name": "stderr",
     "output_type": "stream",
     "text": [
      "/home/sukivn/anaconda3/envs/min_ds-env/lib/python3.10/site-packages/sklearn/model_selection/_split.py:684: UserWarning: The least populated class in y has only 1 members, which is less than n_splits=10.\n",
      "  warnings.warn(\n",
      "/home/sukivn/anaconda3/envs/min_ds-env/lib/python3.10/site-packages/sklearn/model_selection/_split.py:684: UserWarning: The least populated class in y has only 1 members, which is less than n_splits=10.\n",
      "  warnings.warn(\n",
      "/home/sukivn/anaconda3/envs/min_ds-env/lib/python3.10/site-packages/sklearn/model_selection/_split.py:684: UserWarning: The least populated class in y has only 1 members, which is less than n_splits=10.\n",
      "  warnings.warn(\n"
     ]
    }
   ],
   "source": [
    "model = BaggingClassifier()\n",
    "cv = RepeatedStratifiedKFold(n_splits=10, n_repeats=3, random_state=1)\n",
    "n_scores = cross_val_score(model, x_train, y_train, scoring='accuracy', cv=cv, n_jobs=-1, error_score='raise')"
   ]
  },
  {
   "cell_type": "code",
   "execution_count": 143,
   "metadata": {},
   "outputs": [
    {
     "name": "stdout",
     "output_type": "stream",
     "text": [
      "[0.08571429 0.08571429 0.08571429 0.0952381  0.08571429 0.05769231\n",
      " 0.08653846 0.10576923 0.06730769 0.07692308 0.03809524 0.05714286\n",
      " 0.04761905 0.11428571 0.08571429 0.13461538 0.06730769 0.08653846\n",
      " 0.09615385 0.09615385 0.0952381  0.04761905 0.11428571 0.07619048\n",
      " 0.05714286 0.06730769 0.05769231 0.07692308 0.04807692 0.08653846]\n",
      "0.07943223443223443\n"
     ]
    }
   ],
   "source": [
    "print(n_scores)\n",
    "print(n_scores.mean())"
   ]
  },
  {
   "cell_type": "code",
   "execution_count": 144,
   "metadata": {},
   "outputs": [
    {
     "data": {
      "text/plain": [
       "array([150, 135,  50, 407, 182, 398,  20, 224, 274,  13,  21, 271, 548,\n",
       "       135, 196,  29,  15,  42, 135,  20,  39, 432, 196, 403, 274,  20,\n",
       "       115, 115,  13, 135,   5, 195,  20, 113, 135, 195,  21,  46, 135,\n",
       "         1, 362,  13,  29, 408, 198,  78,  16,  56,  41, 276, 245,   7,\n",
       "        13, 476, 135,  13, 475,  25, 195, 195,  13,  21, 195,  52, 135,\n",
       "       111,   7, 399, 195, 416,  91, 449,  43, 135,  15, 224, 253,  63,\n",
       "         2,  28,  41,  43,  29,  41,  69, 135, 351, 135, 100, 178,  42,\n",
       "        52,  13,  13, 106,  28,  78, 105, 156, 371,  29, 147, 206, 250,\n",
       "       195,  13, 297, 150, 453, 175,  13, 135, 198, 195, 113, 162,  13,\n",
       "       106,  19, 114, 234,   6, 162, 176, 177, 135,  59,  85, 121, 106,\n",
       "       473,  13, 385, 545,  73, 135, 326, 135,  43,   7, 221,  15,   8,\n",
       "         5, 135, 171, 167, 135,  41, 295, 135, 250, 111, 195, 195,  13,\n",
       "        52, 379, 179,  52,  20, 496, 195,   5,  52,  15, 198, 542,  70,\n",
       "        20,  17,   7, 178, 434,  20,  43, 106,  13, 371, 162,  22,  15,\n",
       "       370,  15, 335, 195, 137, 302, 190, 195, 195,  16, 134, 306, 106,\n",
       "       195, 100,  22, 137, 250,  28, 113, 144,  20,  13, 301,  18, 266,\n",
       "        22,  46,  13,  29, 111,  34, 286, 162,  60,  20, 495, 112, 178,\n",
       "        43,  13, 463,  13,  17,  23,  13, 170,  20, 400,  22, 299, 393,\n",
       "       195, 371, 383, 120,  42,  13, 238, 135, 344,  13,  91, 301,  52,\n",
       "        13,  13, 244, 195,  13,  23, 156, 407,  23,  28, 135,  52,  13,\n",
       "       135, 195])"
      ]
     },
     "execution_count": 144,
     "metadata": {},
     "output_type": "execute_result"
    }
   ],
   "source": [
    "model.fit(x_train, y_train)\n",
    "pred = model.predict(x_test)\n",
    "pred"
   ]
  },
  {
   "cell_type": "code",
   "execution_count": 145,
   "metadata": {},
   "outputs": [
    {
     "data": {
      "text/plain": [
       "0.07633587786259542"
      ]
     },
     "execution_count": 145,
     "metadata": {},
     "output_type": "execute_result"
    }
   ],
   "source": [
    "from sklearn.metrics import accuracy_score, f1_score, confusion_matrix\n",
    "accuracy_score(y_test, pred)"
   ]
  },
  {
   "cell_type": "code",
   "execution_count": 146,
   "metadata": {},
   "outputs": [
    {
     "data": {
      "text/plain": [
       "0.05031490638722805"
      ]
     },
     "execution_count": 146,
     "metadata": {},
     "output_type": "execute_result"
    }
   ],
   "source": [
    "f1_score(y_test, pred, average='weighted')"
   ]
  }
 ],
 "metadata": {
  "kernelspec": {
   "display_name": "Python 3.10.6 ('min_ds-env')",
   "language": "python",
   "name": "python3"
  },
  "language_info": {
   "codemirror_mode": {
    "name": "ipython",
    "version": 3
   },
   "file_extension": ".py",
   "mimetype": "text/x-python",
   "name": "python",
   "nbconvert_exporter": "python",
   "pygments_lexer": "ipython3",
   "version": "3.10.6"
  },
  "orig_nbformat": 4,
  "vscode": {
   "interpreter": {
    "hash": "3b298dc8b5ec9755d3b5e5b4831b9bf767d0a22ad509bcbd5b6f1f1a5498747c"
   }
  }
 },
 "nbformat": 4,
 "nbformat_minor": 2
}
