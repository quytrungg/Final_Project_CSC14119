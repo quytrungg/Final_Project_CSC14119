{
 "cells": [
  {
   "attachments": {},
   "cell_type": "markdown",
   "metadata": {},
   "source": [
    "# Artists Data Crawling"
   ]
  },
  {
   "attachments": {},
   "cell_type": "markdown",
   "metadata": {},
   "source": [
    "### Libraries import"
   ]
  },
  {
   "cell_type": "code",
   "execution_count": 1,
   "metadata": {},
   "outputs": [],
   "source": [
    "import spotipy\n",
    "import csv\n",
    "import os\n",
    "from spotipy.oauth2 import SpotifyClientCredentials, SpotifyOAuth\n",
    "from dotenv import load_dotenv"
   ]
  },
  {
   "attachments": {},
   "cell_type": "markdown",
   "metadata": {},
   "source": [
    "### Authentication to Spotify Developer"
   ]
  },
  {
   "cell_type": "code",
   "execution_count": 2,
   "metadata": {},
   "outputs": [],
   "source": [
    "load_dotenv()\n",
    "\n",
    "client_id = os.getenv('SPOTIPY_CLIENT_ID')\n",
    "client_secret = os.getenv('SPOTIPY_CLIENT_SECRET')\n",
    "redirect_uri = os.getenv('SPOTIPY_REDIRECT_URI')\n",
    "\n",
    "client_credentials_manager = SpotifyClientCredentials()\n",
    "spotify = spotipy.Spotify(auth_manager=SpotifyOAuth(client_id=client_id, client_secret=client_secret, redirect_uri=redirect_uri),\n",
    "                    client_credentials_manager=SpotifyClientCredentials())"
   ]
  },
  {
   "attachments": {},
   "cell_type": "markdown",
   "metadata": {},
   "source": [
    "### Getting 1000 tracks of each year from 2020 to 2022 and saving the received data into a list"
   ]
  },
  {
   "cell_type": "code",
   "execution_count": 3,
   "metadata": {},
   "outputs": [],
   "source": [
    "tracks = []\n",
    "for i in range(2020, 2023):\n",
    "    search_result = spotify.search(q='year:' + str(i), limit=50) #the result only consists of tracks\n",
    "\n",
    "    tracks.extend(search_result['tracks']['items'])\n",
    "\n",
    "    for _ in range(19):\n",
    "        search_result = spotify.next(search_result['tracks'])\n",
    "        tracks.extend(search_result['tracks']['items'])"
   ]
  },
  {
   "attachments": {},
   "cell_type": "markdown",
   "metadata": {},
   "source": [
    "### Getting artists' ID from the list of tracks"
   ]
  },
  {
   "cell_type": "code",
   "execution_count": 4,
   "metadata": {},
   "outputs": [],
   "source": [
    "artists_id = [[tracks[i]['artists'][j]['id'] for j in range(len(tracks[i]['artists']))] for i in range(len(tracks))]\n",
    "\n",
    "# artists_id = list(dict.fromkeys(artists_id))"
   ]
  },
  {
   "attachments": {},
   "cell_type": "markdown",
   "metadata": {},
   "source": [
    "### For each artist id, using API to get corresponding information of the artist and saving all received data into a list"
   ]
  },
  {
   "cell_type": "code",
   "execution_count": 5,
   "metadata": {},
   "outputs": [],
   "source": [
    "artists = []\n",
    "for i in range(len(artists_id)):\n",
    "    artist_info = spotify.artist(artist_id=artists_id[i])\n",
    "    cols = ['id', 'name', 'genres', 'followers', 'popularity']\n",
    "    artist = dict.fromkeys(cols)\n",
    "    for key in artist:\n",
    "        if key != 'followers' and key != 'genres':\n",
    "            artist[key] = artist_info[key]\n",
    "        elif key != 'genres':\n",
    "            artist[key] = artist_info[key]['total']\n",
    "        else:\n",
    "            artist[key] = ', '.join(artist_info[key])\n",
    "    artists.append(artist)"
   ]
  },
  {
   "attachments": {},
   "cell_type": "markdown",
   "metadata": {},
   "source": [
    "### Saving the list of artists' infomation into \"artists.csv\" file"
   ]
  },
  {
   "cell_type": "code",
   "execution_count": 7,
   "metadata": {},
   "outputs": [],
   "source": [
    "with open('../../data/artists_data.csv', 'w') as file:\n",
    "    writer = csv.DictWriter(file, fieldnames=artists[0].keys(), delimiter='\\t')\n",
    "    writer.writeheader()\n",
    "    for data in artists:\n",
    "        writer.writerow(data)"
   ]
  }
 ],
 "metadata": {
  "kernelspec": {
   "display_name": "Python 3",
   "language": "python",
   "name": "python3"
  },
  "language_info": {
   "codemirror_mode": {
    "name": "ipython",
    "version": 3
   },
   "file_extension": ".py",
   "mimetype": "text/x-python",
   "name": "python",
   "nbconvert_exporter": "python",
   "pygments_lexer": "ipython3",
   "version": "3.10.6 (main, Oct 27 2022, 18:07:01) [Clang 13.0.0 (clang-1300.0.27.3)]"
  },
  "orig_nbformat": 4,
  "vscode": {
   "interpreter": {
    "hash": "89e8354a88354ecf7ffb299b56239fb0ecc48c48d372ba43f5b93cc4e944f72d"
   }
  }
 },
 "nbformat": 4,
 "nbformat_minor": 2
}
