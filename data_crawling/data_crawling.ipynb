{
 "cells": [
  {
   "attachments": {},
   "cell_type": "markdown",
   "metadata": {},
   "source": [
    "# <b>Section 1: Data Crawling</b>\n",
    "\n",
    "### <b><u>Step 1</u>: Import library</b>\n",
    "\n",
    "These are the main libraries used for data crawling:\n",
    "- `spotipy`:\n",
    "- `dotenv`:\n",
    "- `os`:"
   ]
  },
  {
   "cell_type": "code",
   "execution_count": null,
   "metadata": {},
   "outputs": [],
   "source": [
    "from spotipy.oauth2 import SpotifyClientCredentials, SpotifyOAuth\n",
    "from dotenv import load_dotenv\n",
    "import spotipy\n",
    "import os"
   ]
  },
  {
   "attachments": {},
   "cell_type": "markdown",
   "metadata": {},
   "source": [
    "### <b><u>Step 2</u>: Request access to Spotify API by using OAuth method"
   ]
  },
  {
   "cell_type": "code",
   "execution_count": null,
   "metadata": {},
   "outputs": [],
   "source": [
    "load_dotenv()\n",
    "\n",
    "client_id = os.getenv('SPOTIPY_CLIENT_ID')\n",
    "client_secret = os.getenv('SPOTIPY_CLIENT_SECRET')\n",
    "redirect_uri = os.getenv('SPOTIPY_REDIRECT_URI')\n",
    "\n",
    "client_credentials_manager = SpotifyClientCredentials()\n",
    "sp = spotipy.Spotify(auth_manager=SpotifyOAuth(client_id=client_id, client_secret=client_secret, redirect_uri=redirect_uri),\n",
    "                    client_credentials_manager=SpotifyClientCredentials())"
   ]
  }
 ],
 "metadata": {
  "kernelspec": {
   "display_name": "Python 3",
   "language": "python",
   "name": "python3"
  },
  "language_info": {
   "name": "python",
   "version": "3.10.6 (main, Oct 27 2022, 18:07:01) [Clang 13.0.0 (clang-1300.0.27.3)]"
  },
  "orig_nbformat": 4,
  "vscode": {
   "interpreter": {
    "hash": "89e8354a88354ecf7ffb299b56239fb0ecc48c48d372ba43f5b93cc4e944f72d"
   }
  }
 },
 "nbformat": 4,
 "nbformat_minor": 2
}
