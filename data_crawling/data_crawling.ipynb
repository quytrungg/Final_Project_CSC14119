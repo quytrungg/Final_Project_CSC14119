{
 "cells": [
  {
   "attachments": {},
   "cell_type": "markdown",
   "metadata": {},
   "source": [
    "# <b>Section 1: Data Crawling</b>\n",
    "\n",
    "### <b><u>Step 1</u>: Import library</b>\n",
    "\n",
    "These are the main libraries used for data crawling:\n",
    "- `spotipy`: Spotipy is a lightweight Python library for the Spotify Web API. With Spotipy you get full access to all of the music data provided by the Spotify platform.\n",
    "- `dotenv`: used to get spotipy's client_id, secret and redirect uri in .env file\n",
    "- `os`: used to get accessed to .env files in system\n",
    "- `csv`: used to support write data to csv files"
   ]
  },
  {
   "cell_type": "code",
   "execution_count": null,
   "metadata": {},
   "outputs": [],
   "source": [
    "from spotipy.oauth2 import SpotifyClientCredentials, SpotifyOAuth\n",
    "from dotenv import load_dotenv\n",
    "import spotipy\n",
    "import csv\n",
    "import os"
   ]
  },
  {
   "attachments": {},
   "cell_type": "markdown",
   "metadata": {},
   "source": [
    "### <b><u>Step 2</u>: Request access to Spotify API by using OAuth method"
   ]
  },
  {
   "attachments": {},
   "cell_type": "markdown",
   "metadata": {},
   "source": [
    "Firstly, we will need to load the .env file to get the spotipy's client_id, secret and redirect uri in order to get accessed to Spotify's API service using OAuth method.\n",
    "\n",
    "After that, we will initialize a `SpotifyClientCredentials` object and pass in as a parameter along with spotipy's client_id, secret and redirect uri to get permission to API service."
   ]
  },
  {
   "cell_type": "code",
   "execution_count": null,
   "metadata": {},
   "outputs": [],
   "source": [
    "load_dotenv()\n",
    "\n",
    "client_id = os.getenv('SPOTIPY_CLIENT_ID')\n",
    "client_secret = os.getenv('SPOTIPY_CLIENT_SECRET')\n",
    "redirect_uri = os.getenv('SPOTIPY_REDIRECT_URI')\n",
    "\n",
    "client_credentials_manager = SpotifyClientCredentials()\n",
    "sp = spotipy.Spotify(auth_manager=SpotifyOAuth(client_id=client_id, client_secret=client_secret, redirect_uri=redirect_uri),\n",
    "                    client_credentials_manager=SpotifyClientCredentials())"
   ]
  },
  {
   "attachments": {},
   "cell_type": "markdown",
   "metadata": {},
   "source": [
    "### <b><u>Step 3</u>: Crawl top 3000 songs from Spotify from 2020-2022"
   ]
  },
  {
   "attachments": {},
   "cell_type": "markdown",
   "metadata": {},
   "source": [
    "day la markdown"
   ]
  },
  {
   "cell_type": "code",
   "execution_count": null,
   "metadata": {},
   "outputs": [],
   "source": [
    "result = sp.search(q='year:2022', limit=50)"
   ]
  },
  {
   "attachments": {},
   "cell_type": "markdown",
   "metadata": {},
   "source": [
    "day la markdown"
   ]
  },
  {
   "cell_type": "code",
   "execution_count": null,
   "metadata": {},
   "outputs": [],
   "source": [
    "songs_data = result['tracks']['items']\n",
    "\n",
    "for _ in range(19):\n",
    "    result = sp.next(result['tracks'])\n",
    "    songs_data.extend(result['tracks']['items'])"
   ]
  },
  {
   "attachments": {},
   "cell_type": "markdown",
   "metadata": {},
   "source": [
    "day la markdown"
   ]
  },
  {
   "cell_type": "code",
   "execution_count": null,
   "metadata": {},
   "outputs": [],
   "source": [
    "for i in range(20):\n",
    "    result = sp.search(q='year:2021', limit=50, offset=i*50)\n",
    "    songs_data.extend(result['tracks']['items'])"
   ]
  },
  {
   "attachments": {},
   "cell_type": "markdown",
   "metadata": {},
   "source": [
    "day la markdown"
   ]
  },
  {
   "cell_type": "code",
   "execution_count": null,
   "metadata": {},
   "outputs": [],
   "source": [
    "for i in range(20):\n",
    "    result = sp.search(q='year:2020', limit=50, offset=i*50)\n",
    "    songs_data.extend(result['tracks']['items'])"
   ]
  },
  {
   "attachments": {},
   "cell_type": "markdown",
   "metadata": {},
   "source": [
    "### <b><u>Step 4</u>: Getting artists' ID from the list of tracks</b>"
   ]
  },
  {
   "cell_type": "code",
   "execution_count": null,
   "metadata": {},
   "outputs": [],
   "source": [
    "artists_id = [[songs_data[i]['artists'][j]['id'] for j in range(len(songs_data[i]['artists']))] for i in range(len(songs_data))]"
   ]
  },
  {
   "attachments": {},
   "cell_type": "markdown",
   "metadata": {},
   "source": [
    "day la markdown"
   ]
  },
  {
   "cell_type": "code",
   "execution_count": null,
   "metadata": {},
   "outputs": [],
   "source": [
    "artists = []\n",
    "for i in range(len(artists_id)):\n",
    "    artist_info = sp.artist(artist_id=artists_id[i])\n",
    "    cols = ['id', 'name', 'genres', 'followers', 'popularity']\n",
    "    artist = dict.fromkeys(cols)\n",
    "    for key in artist:\n",
    "        if key != 'followers' and key != 'genres':\n",
    "            artist[key] = artist_info[key]\n",
    "        elif key != 'genres':\n",
    "            artist[key] = artist_info[key]['total']\n",
    "        else:\n",
    "            artist[key] = ', '.join(artist_info[key])\n",
    "    artists.append(artist)"
   ]
  },
  {
   "attachments": {},
   "cell_type": "markdown",
   "metadata": {},
   "source": [
    "### <b><u>Step 5</u>: Saving the list of artists data into \"artists.csv\" file</b>"
   ]
  },
  {
   "attachments": {},
   "cell_type": "markdown",
   "metadata": {},
   "source": [
    "day la markdown"
   ]
  },
  {
   "cell_type": "code",
   "execution_count": null,
   "metadata": {},
   "outputs": [],
   "source": [
    "with open('../../data/artists_data.csv', 'w') as file:\n",
    "    writer = csv.DictWriter(file, fieldnames=artists[0].keys(), delimiter='\\t')\n",
    "    writer.writeheader()\n",
    "    for data in artists:\n",
    "        writer.writerow(data)"
   ]
  },
  {
   "attachments": {},
   "cell_type": "markdown",
   "metadata": {},
   "source": [
    "### <b><u>Step 6</u>: Getting albums' URI from the list of songs data</b>"
   ]
  },
  {
   "attachments": {},
   "cell_type": "markdown",
   "metadata": {},
   "source": [
    "day la markdown"
   ]
  },
  {
   "cell_type": "code",
   "execution_count": null,
   "metadata": {},
   "outputs": [],
   "source": [
    "album_uri = [songs_data[i]['album']['uri'] for i in range(len(songs_data))]"
   ]
  },
  {
   "attachments": {},
   "cell_type": "markdown",
   "metadata": {},
   "source": [
    "day la markdown"
   ]
  },
  {
   "cell_type": "code",
   "execution_count": null,
   "metadata": {},
   "outputs": [],
   "source": [
    "album_data = [sp.album(uri) for uri in album_uri]"
   ]
  },
  {
   "attachments": {},
   "cell_type": "markdown",
   "metadata": {},
   "source": [
    "### <b><u>Step 7</u>: Store albums data to 'albums_data.tsv' file"
   ]
  },
  {
   "attachments": {},
   "cell_type": "markdown",
   "metadata": {},
   "source": [
    "day la markdown"
   ]
  },
  {
   "cell_type": "code",
   "execution_count": null,
   "metadata": {},
   "outputs": [],
   "source": [
    "album_info = {k: [] for k in album_data[0].keys() if k in {'id', 'name', 'popularity', 'available_markets', 'release_date', 'total_tracks'}}\n",
    "\n",
    "for i in album_data:\n",
    "    album_info['id'].append(i['id'])\n",
    "    album_info['name'].append(i['name'])\n",
    "    album_info['popularity'].append(str(i['popularity']))\n",
    "    album_info['available_markets'].append(str(len(i['available_markets'])))\n",
    "    album_info['release_date'].append(i['release_date'])\n",
    "    album_info['total_tracks'].append(str(i['total_tracks']))"
   ]
  },
  {
   "attachments": {},
   "cell_type": "markdown",
   "metadata": {},
   "source": [
    "day la markdown"
   ]
  },
  {
   "cell_type": "code",
   "execution_count": null,
   "metadata": {},
   "outputs": [],
   "source": [
    "with open('../../data/albums_data.tsv', 'w', encoding = \"utf-8\") as f:\n",
    "    f.write('id\\tname\\tpopularity\\tavailable_markets\\trelease_date\\ttotal_tracks\\n')\n",
    "\n",
    "    for i in range(len(album_info['id'])):\n",
    "        f.write(album_info['id'][i] + '\\t' + album_info['name'][i] + '\\t' + album_info['popularity'][i] + \\\n",
    "                '\\t' + album_info['available_markets'][i] + '\\t' + album_info['release_date'][i] + '\\t' + \\\n",
    "                album_info['total_tracks'][i] + '\\n')"
   ]
  },
  {
   "attachments": {},
   "cell_type": "markdown",
   "metadata": {},
   "source": [
    "### <b><u>Step 8</u>: Store songs data to 'songs_data.tsv' file"
   ]
  },
  {
   "attachments": {},
   "cell_type": "markdown",
   "metadata": {},
   "source": [
    "day la markdown"
   ]
  },
  {
   "cell_type": "code",
   "execution_count": null,
   "metadata": {},
   "outputs": [],
   "source": [
    "with open(\"../../data/songs_data.tsv\", 'w') as f:\n",
    "    f.write(\"id\\tname\\tartist\\tgenres\\tartist_followers\\tartist_popularity\\tmarkets\\talbum\\treleased_date\\talbum_popularity\\tduration\\texplicit\\tpopularity\\n\")\n",
    "    for track in songs_data:\n",
    "        artists_uri = [artist['uri'] for artist in track['artists']]\n",
    "        artists_data = [sp.artist(uri) for uri in artists_uri]\n",
    "        artists_info = {k: [] for k in artists_data[0].keys() if k in {'followers', 'genres', 'name', 'popularity'}}\n",
    "\n",
    "        for i in artists_data:\n",
    "            artists_info['name'].append(i['name'])\n",
    "            artists_info['genres'].extend(i['genres'])\n",
    "            artists_info['followers'].append(str(i['followers']['total']))\n",
    "            artists_info['popularity'].append(str(i['popularity']))\n",
    "\n",
    "        album_popularity = str(sp.album(track['album']['uri'])['popularity'])\n",
    "\n",
    "        f.write(track['id']+'\\t'+track['name']+'\\t'+(','.join(artists_info['name']))+'\\t'+(','.join(set(artists_info['genres']))) \\\n",
    "                +'\\t'+(','.join(artists_info['followers']))+'\\t'+(','.join(artists_info['popularity'])) \\\n",
    "                +'\\t'+ str(len(track['available_markets'])) \\\n",
    "                +'\\t'+track['album']['name']+'\\t'+track['album']['release_date']+'\\t'+album_popularity \\\n",
    "                +'\\t'+str(track['duration_ms'])+'\\t'+str(track['explicit'])+'\\t'+str(track['popularity'])+'\\n')\n"
   ]
  }
 ],
 "metadata": {
  "kernelspec": {
   "display_name": "Python 3",
   "language": "python",
   "name": "python3"
  },
  "language_info": {
   "codemirror_mode": {
    "name": "ipython",
    "version": 3
   },
   "file_extension": ".py",
   "mimetype": "text/x-python",
   "name": "python",
   "nbconvert_exporter": "python",
   "pygments_lexer": "ipython3",
   "version": "3.10.6 (main, Oct 27 2022, 18:07:01) [Clang 13.0.0 (clang-1300.0.27.3)]"
  },
  "orig_nbformat": 4,
  "vscode": {
   "interpreter": {
    "hash": "89e8354a88354ecf7ffb299b56239fb0ecc48c48d372ba43f5b93cc4e944f72d"
   }
  }
 },
 "nbformat": 4,
 "nbformat_minor": 2
}
