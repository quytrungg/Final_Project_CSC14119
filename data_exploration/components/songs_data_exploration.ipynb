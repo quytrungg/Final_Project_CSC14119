{
 "cells": [
  {
   "attachments": {},
   "cell_type": "markdown",
   "metadata": {},
   "source": [
    "# <b>Section 1: Data Exploration</b>\n",
    "\n",
    "### <b><u>Step 1</u>: Import library</b>\n",
    "\n",
    "##### These are the main libraries used for data exploration:\n",
    "- `numpy`: used for mathematical operations on matrices\n",
    "- `pandas`: used to store data from .csv/.tsv files and operate functions on DataFrame\n",
    "- `matplotlib`: used to visualize data"
   ]
  },
  {
   "cell_type": "code",
   "execution_count": 34,
   "metadata": {},
   "outputs": [],
   "source": [
    "import sys  \n",
    "sys.path.insert(0, '../../data')\n",
    "sys.path.insert(0, '../../data/description')"
   ]
  },
  {
   "cell_type": "code",
   "execution_count": 35,
   "metadata": {},
   "outputs": [],
   "source": [
    "import numpy as np\n",
    "import pandas as pd\n",
    "import matplotlib.pyplot as plt\n",
    "pd.options.mode.chained_assignment = None"
   ]
  },
  {
   "attachments": {},
   "cell_type": "markdown",
   "metadata": {},
   "source": [
    "### <b><u>Step 2</u>: Import songs data from 'songs_data.csv' file</b>\n",
    "\n",
    "First, let's read the Spotify's songs data from `songs_data.tsv` file by using pandas."
   ]
  },
  {
   "cell_type": "code",
   "execution_count": 36,
   "metadata": {},
   "outputs": [],
   "source": [
    "songs_df_raw = pd.read_csv('../../data/songs_data.tsv', sep='\\t')"
   ]
  },
  {
   "attachments": {},
   "cell_type": "markdown",
   "metadata": {},
   "source": [
    "### <b><u>Step 3</u>: Remove duplicate rows in the raw data</b>\n",
    "\n",
    "Next, let's check whether the DataFrame has duplicate rows that needs to be removed."
   ]
  },
  {
   "cell_type": "code",
   "execution_count": 37,
   "metadata": {},
   "outputs": [
    {
     "data": {
      "text/plain": [
       "0"
      ]
     },
     "execution_count": 37,
     "metadata": {},
     "output_type": "execute_result"
    }
   ],
   "source": [
    "duplicated_rows = songs_df_raw.duplicated().sum()\n",
    "duplicated_rows"
   ]
  },
  {
   "attachments": {},
   "cell_type": "markdown",
   "metadata": {},
   "source": [
    "So there are 0 rows that are duplicated, which means each row in the DataFrame is unique.\n",
    "\n",
    "But if there are any duplicate rows, we need to drop those 35 rows and see some of the first rows of the dataset."
   ]
  },
  {
   "cell_type": "code",
   "execution_count": 38,
   "metadata": {},
   "outputs": [
    {
     "data": {
      "text/html": [
       "<div>\n",
       "<style scoped>\n",
       "    .dataframe tbody tr th:only-of-type {\n",
       "        vertical-align: middle;\n",
       "    }\n",
       "\n",
       "    .dataframe tbody tr th {\n",
       "        vertical-align: top;\n",
       "    }\n",
       "\n",
       "    .dataframe thead th {\n",
       "        text-align: right;\n",
       "    }\n",
       "</style>\n",
       "<table border=\"1\" class=\"dataframe\">\n",
       "  <thead>\n",
       "    <tr style=\"text-align: right;\">\n",
       "      <th></th>\n",
       "      <th>id</th>\n",
       "      <th>name</th>\n",
       "      <th>artist</th>\n",
       "      <th>genres</th>\n",
       "      <th>artist_followers</th>\n",
       "      <th>artist_popularity</th>\n",
       "      <th>markets</th>\n",
       "      <th>album</th>\n",
       "      <th>released_date</th>\n",
       "      <th>album_popularity</th>\n",
       "      <th>duration</th>\n",
       "      <th>explicit</th>\n",
       "      <th>popularity</th>\n",
       "    </tr>\n",
       "  </thead>\n",
       "  <tbody>\n",
       "    <tr>\n",
       "      <th>0</th>\n",
       "      <td>1RDvyOk4WtPCtoqciJwVn8</td>\n",
       "      <td>Dreamers [Music from the FIFA World Cup Qatar ...</td>\n",
       "      <td>Jung Kook,BTS,FIFA Sound</td>\n",
       "      <td>k-pop boy group,k-pop</td>\n",
       "      <td>5382641,58715441,167875</td>\n",
       "      <td>80,92,77</td>\n",
       "      <td>183</td>\n",
       "      <td>Dreamers [Music from the FIFA World Cup Qatar ...</td>\n",
       "      <td>2022-11-20</td>\n",
       "      <td>81</td>\n",
       "      <td>201391</td>\n",
       "      <td>False</td>\n",
       "      <td>92</td>\n",
       "    </tr>\n",
       "    <tr>\n",
       "      <th>1</th>\n",
       "      <td>6A1IbMKwjvXibcrU1sdqKH</td>\n",
       "      <td>Em Là</td>\n",
       "      <td>MONO,Onionn</td>\n",
       "      <td>NaN</td>\n",
       "      <td>100123,2809</td>\n",
       "      <td>54,55</td>\n",
       "      <td>182</td>\n",
       "      <td>22</td>\n",
       "      <td>2022-08-18</td>\n",
       "      <td>60</td>\n",
       "      <td>197333</td>\n",
       "      <td>False</td>\n",
       "      <td>62</td>\n",
       "    </tr>\n",
       "    <tr>\n",
       "      <th>2</th>\n",
       "      <td>7bFFUPBiF15n8m8RziqS4o</td>\n",
       "      <td>dự báo thời tiết hôm nay mưa</td>\n",
       "      <td>GREY D</td>\n",
       "      <td>v-pop</td>\n",
       "      <td>39690</td>\n",
       "      <td>56</td>\n",
       "      <td>182</td>\n",
       "      <td>dự báo thời tiết hôm nay mưa – Maxi Single</td>\n",
       "      <td>2022-11-22</td>\n",
       "      <td>52</td>\n",
       "      <td>281493</td>\n",
       "      <td>False</td>\n",
       "      <td>62</td>\n",
       "    </tr>\n",
       "    <tr>\n",
       "      <th>3</th>\n",
       "      <td>4QjxvzEFwb63NZ1pp3wvHy</td>\n",
       "      <td>Chết Trong Em</td>\n",
       "      <td>Thịnh Suy</td>\n",
       "      <td>vietnamese singer-songwriter,v-pop</td>\n",
       "      <td>359817</td>\n",
       "      <td>54</td>\n",
       "      <td>183</td>\n",
       "      <td>Chết Trong Em</td>\n",
       "      <td>2022-10-31</td>\n",
       "      <td>50</td>\n",
       "      <td>256663</td>\n",
       "      <td>False</td>\n",
       "      <td>62</td>\n",
       "    </tr>\n",
       "    <tr>\n",
       "      <th>4</th>\n",
       "      <td>5p8ThxM2OhJ0igfxkz0Z1q</td>\n",
       "      <td>Wild Flower (with youjeen)</td>\n",
       "      <td>RM</td>\n",
       "      <td>k-rap</td>\n",
       "      <td>12005881</td>\n",
       "      <td>81</td>\n",
       "      <td>183</td>\n",
       "      <td>Indigo</td>\n",
       "      <td>2022-12-02</td>\n",
       "      <td>85</td>\n",
       "      <td>273499</td>\n",
       "      <td>False</td>\n",
       "      <td>88</td>\n",
       "    </tr>\n",
       "  </tbody>\n",
       "</table>\n",
       "</div>"
      ],
      "text/plain": [
       "                       id                                               name  \\\n",
       "0  1RDvyOk4WtPCtoqciJwVn8  Dreamers [Music from the FIFA World Cup Qatar ...   \n",
       "1  6A1IbMKwjvXibcrU1sdqKH                                              Em Là   \n",
       "2  7bFFUPBiF15n8m8RziqS4o                       dự báo thời tiết hôm nay mưa   \n",
       "3  4QjxvzEFwb63NZ1pp3wvHy                                      Chết Trong Em   \n",
       "4  5p8ThxM2OhJ0igfxkz0Z1q                         Wild Flower (with youjeen)   \n",
       "\n",
       "                     artist                              genres  \\\n",
       "0  Jung Kook,BTS,FIFA Sound               k-pop boy group,k-pop   \n",
       "1               MONO,Onionn                                 NaN   \n",
       "2                    GREY D                               v-pop   \n",
       "3                 Thịnh Suy  vietnamese singer-songwriter,v-pop   \n",
       "4                        RM                               k-rap   \n",
       "\n",
       "          artist_followers artist_popularity  markets  \\\n",
       "0  5382641,58715441,167875          80,92,77      183   \n",
       "1              100123,2809             54,55      182   \n",
       "2                    39690                56      182   \n",
       "3                   359817                54      183   \n",
       "4                 12005881                81      183   \n",
       "\n",
       "                                               album released_date  \\\n",
       "0  Dreamers [Music from the FIFA World Cup Qatar ...    2022-11-20   \n",
       "1                                                 22    2022-08-18   \n",
       "2         dự báo thời tiết hôm nay mưa – Maxi Single    2022-11-22   \n",
       "3                                      Chết Trong Em    2022-10-31   \n",
       "4                                             Indigo    2022-12-02   \n",
       "\n",
       "   album_popularity  duration  explicit  popularity  \n",
       "0                81    201391     False          92  \n",
       "1                60    197333     False          62  \n",
       "2                52    281493     False          62  \n",
       "3                50    256663     False          62  \n",
       "4                85    273499     False          88  "
      ]
     },
     "execution_count": 38,
     "metadata": {},
     "output_type": "execute_result"
    }
   ],
   "source": [
    "songs_df = songs_df_raw.drop_duplicates()\n",
    "songs_df.head()"
   ]
  },
  {
   "attachments": {},
   "cell_type": "markdown",
   "metadata": {},
   "source": [
    "### <b><u>Step 4</u>: Explore the dataset</b>\n",
    "\n",
    "In this next step, we will explore the features of the dataset. First, let's check how many rows and columns in the DataFrame."
   ]
  },
  {
   "cell_type": "code",
   "execution_count": 39,
   "metadata": {},
   "outputs": [
    {
     "data": {
      "text/plain": [
       "(3000, 13)"
      ]
     },
     "execution_count": 39,
     "metadata": {},
     "output_type": "execute_result"
    }
   ],
   "source": [
    "num_rows, num_cols = songs_df.shape\n",
    "num_rows, num_cols"
   ]
  },
  {
   "attachments": {},
   "cell_type": "markdown",
   "metadata": {},
   "source": [
    "There are 2965 rows and 13 columns in total.\n",
    "\n",
    "Next, we need to know what are the columns of the DataFrame and check whether we need to remove any of them."
   ]
  },
  {
   "cell_type": "code",
   "execution_count": 40,
   "metadata": {},
   "outputs": [
    {
     "data": {
      "text/plain": [
       "Index(['id', 'name', 'artist', 'genres', 'artist_followers',\n",
       "       'artist_popularity', 'markets', 'album', 'released_date',\n",
       "       'album_popularity', 'duration', 'explicit', 'popularity'],\n",
       "      dtype='object')"
      ]
     },
     "execution_count": 40,
     "metadata": {},
     "output_type": "execute_result"
    }
   ],
   "source": [
    "columns = songs_df.columns\n",
    "columns"
   ]
  },
  {
   "attachments": {},
   "cell_type": "markdown",
   "metadata": {},
   "source": [
    "To discover the meaning of each column, we can load data from `songs_data_des.csv` file"
   ]
  },
  {
   "cell_type": "code",
   "execution_count": 41,
   "metadata": {},
   "outputs": [
    {
     "data": {
      "text/html": [
       "<div>\n",
       "<style scoped>\n",
       "    .dataframe tbody tr th:only-of-type {\n",
       "        vertical-align: middle;\n",
       "    }\n",
       "\n",
       "    .dataframe tbody tr th {\n",
       "        vertical-align: top;\n",
       "    }\n",
       "\n",
       "    .dataframe thead th {\n",
       "        text-align: right;\n",
       "    }\n",
       "</style>\n",
       "<table border=\"1\" class=\"dataframe\">\n",
       "  <thead>\n",
       "    <tr style=\"text-align: right;\">\n",
       "      <th></th>\n",
       "      <th>column name</th>\n",
       "      <th>data type</th>\n",
       "      <th>meaning</th>\n",
       "      <th>example</th>\n",
       "    </tr>\n",
       "  </thead>\n",
       "  <tbody>\n",
       "    <tr>\n",
       "      <th>0</th>\n",
       "      <td>id</td>\n",
       "      <td>string</td>\n",
       "      <td>The Spotify ID of track</td>\n",
       "      <td>3nqQXoyQOWXiESFLlDF1hG</td>\n",
       "    </tr>\n",
       "    <tr>\n",
       "      <th>1</th>\n",
       "      <td>name</td>\n",
       "      <td>string</td>\n",
       "      <td>The name of the track</td>\n",
       "      <td>Unholy (feat. Kim Petras)</td>\n",
       "    </tr>\n",
       "    <tr>\n",
       "      <th>2</th>\n",
       "      <td>artist</td>\n",
       "      <td>string</td>\n",
       "      <td>The artist(s) of the track</td>\n",
       "      <td>Sam Smith.Kim Petras</td>\n",
       "    </tr>\n",
       "    <tr>\n",
       "      <th>3</th>\n",
       "      <td>genres</td>\n",
       "      <td>string</td>\n",
       "      <td>The genres of that artist(s)</td>\n",
       "      <td>uk pop.transpop.pop.dance pop</td>\n",
       "    </tr>\n",
       "    <tr>\n",
       "      <th>4</th>\n",
       "      <td>artist_followers</td>\n",
       "      <td>string</td>\n",
       "      <td>The number of followers of the artist(s)</td>\n",
       "      <td>20747240.825245</td>\n",
       "    </tr>\n",
       "    <tr>\n",
       "      <th>5</th>\n",
       "      <td>artist_popularity</td>\n",
       "      <td>string</td>\n",
       "      <td>\"The popularity of the artist(s). The value w...</td>\n",
       "      <td>87.82</td>\n",
       "    </tr>\n",
       "    <tr>\n",
       "      <th>6</th>\n",
       "      <td>markets</td>\n",
       "      <td>int</td>\n",
       "      <td>The number of countries which the track is av...</td>\n",
       "      <td>182</td>\n",
       "    </tr>\n",
       "    <tr>\n",
       "      <th>7</th>\n",
       "      <td>album</td>\n",
       "      <td>string</td>\n",
       "      <td>The album of the track</td>\n",
       "      <td>Unholy (feat. Kim Petras)</td>\n",
       "    </tr>\n",
       "    <tr>\n",
       "      <th>8</th>\n",
       "      <td>released_date</td>\n",
       "      <td>string</td>\n",
       "      <td>The released date of the track</td>\n",
       "      <td>2022-09-22</td>\n",
       "    </tr>\n",
       "    <tr>\n",
       "      <th>9</th>\n",
       "      <td>album_popularity</td>\n",
       "      <td>int</td>\n",
       "      <td>\"The popularity of the album.\"</td>\n",
       "      <td>88</td>\n",
       "    </tr>\n",
       "    <tr>\n",
       "      <th>10</th>\n",
       "      <td>duration</td>\n",
       "      <td>int</td>\n",
       "      <td>The duration of the track</td>\n",
       "      <td>156943</td>\n",
       "    </tr>\n",
       "    <tr>\n",
       "      <th>11</th>\n",
       "      <td>explicit</td>\n",
       "      <td>bool</td>\n",
       "      <td>Check wheter the lyrics of the track is explicit</td>\n",
       "      <td>False</td>\n",
       "    </tr>\n",
       "    <tr>\n",
       "      <th>12</th>\n",
       "      <td>popularity</td>\n",
       "      <td>int</td>\n",
       "      <td>The popularity of the track</td>\n",
       "      <td>100</td>\n",
       "    </tr>\n",
       "  </tbody>\n",
       "</table>\n",
       "</div>"
      ],
      "text/plain": [
       "          column name  data type  \\\n",
       "0                  id     string   \n",
       "1                name     string   \n",
       "2              artist     string   \n",
       "3              genres     string   \n",
       "4    artist_followers     string   \n",
       "5   artist_popularity     string   \n",
       "6             markets        int   \n",
       "7               album     string   \n",
       "8       released_date     string   \n",
       "9    album_popularity        int   \n",
       "10           duration        int   \n",
       "11           explicit       bool   \n",
       "12         popularity        int   \n",
       "\n",
       "                                              meaning  \\\n",
       "0                             The Spotify ID of track   \n",
       "1                               The name of the track   \n",
       "2                          The artist(s) of the track   \n",
       "3                        The genres of that artist(s)   \n",
       "4            The number of followers of the artist(s)   \n",
       "5    \"The popularity of the artist(s). The value w...   \n",
       "6    The number of countries which the track is av...   \n",
       "7                              The album of the track   \n",
       "8                      The released date of the track   \n",
       "9                      \"The popularity of the album.\"   \n",
       "10                          The duration of the track   \n",
       "11   Check wheter the lyrics of the track is explicit   \n",
       "12                        The popularity of the track   \n",
       "\n",
       "                           example  \n",
       "0           3nqQXoyQOWXiESFLlDF1hG  \n",
       "1        Unholy (feat. Kim Petras)  \n",
       "2             Sam Smith.Kim Petras  \n",
       "3    uk pop.transpop.pop.dance pop  \n",
       "4                  20747240.825245  \n",
       "5                            87.82  \n",
       "6                              182  \n",
       "7        Unholy (feat. Kim Petras)  \n",
       "8                       2022-09-22  \n",
       "9                               88  \n",
       "10                          156943  \n",
       "11                           False  \n",
       "12                             100  "
      ]
     },
     "execution_count": 41,
     "metadata": {},
     "output_type": "execute_result"
    }
   ],
   "source": [
    "songs_des_df = pd.read_csv('../../data/description/songs_data_des.csv', on_bad_lines='skip')\n",
    "songs_des_df"
   ]
  },
  {
   "attachments": {},
   "cell_type": "markdown",
   "metadata": {},
   "source": [
    "At the moment, we don't really need to use the feature `explicit` for data exploration. So we will decide to drop it for now."
   ]
  },
  {
   "cell_type": "code",
   "execution_count": 42,
   "metadata": {},
   "outputs": [],
   "source": [
    "songs_df.drop('explicit', inplace=True, axis=1, errors='ignore')"
   ]
  },
  {
   "attachments": {},
   "cell_type": "markdown",
   "metadata": {},
   "source": [
    "Next, we need to recheck the data types of each column."
   ]
  },
  {
   "cell_type": "code",
   "execution_count": 43,
   "metadata": {},
   "outputs": [
    {
     "data": {
      "text/plain": [
       "id                   object\n",
       "name                 object\n",
       "artist               object\n",
       "genres               object\n",
       "artist_followers     object\n",
       "artist_popularity    object\n",
       "markets               int64\n",
       "album                object\n",
       "released_date        object\n",
       "album_popularity      int64\n",
       "duration              int64\n",
       "popularity            int64\n",
       "dtype: object"
      ]
     },
     "execution_count": 43,
     "metadata": {},
     "output_type": "execute_result"
    }
   ],
   "source": [
    "dtypes = songs_df.dtypes\n",
    "dtypes"
   ]
  },
  {
   "attachments": {},
   "cell_type": "markdown",
   "metadata": {},
   "source": [
    "As we can see, there are only 4 numeric categories: `markets`, `album_popularity`, `duration` and `popularity`. The rest of the columns are either string or list types but in DataFrame, string and list are categorized as object.\n",
    "\n",
    "Let's get the detailed info and number of non-null values of each column."
   ]
  },
  {
   "cell_type": "code",
   "execution_count": 44,
   "metadata": {},
   "outputs": [
    {
     "name": "stdout",
     "output_type": "stream",
     "text": [
      "<class 'pandas.core.frame.DataFrame'>\n",
      "Int64Index: 3000 entries, 0 to 2999\n",
      "Data columns (total 12 columns):\n",
      " #   Column             Non-Null Count  Dtype \n",
      "---  ------             --------------  ----- \n",
      " 0   id                 3000 non-null   object\n",
      " 1   name               3000 non-null   object\n",
      " 2   artist             3000 non-null   object\n",
      " 3   genres             2811 non-null   object\n",
      " 4   artist_followers   3000 non-null   object\n",
      " 5   artist_popularity  3000 non-null   object\n",
      " 6   markets            3000 non-null   int64 \n",
      " 7   album              3000 non-null   object\n",
      " 8   released_date      3000 non-null   object\n",
      " 9   album_popularity   3000 non-null   int64 \n",
      " 10  duration           3000 non-null   int64 \n",
      " 11  popularity         3000 non-null   int64 \n",
      "dtypes: int64(4), object(8)\n",
      "memory usage: 304.7+ KB\n"
     ]
    }
   ],
   "source": [
    "songs_df.info()"
   ]
  },
  {
   "attachments": {},
   "cell_type": "markdown",
   "metadata": {},
   "source": [
    "We can notice that there are some null values in genres column, therefore, we need to explore how many values are missing in each column of the dataset."
   ]
  },
  {
   "cell_type": "code",
   "execution_count": 45,
   "metadata": {},
   "outputs": [
    {
     "data": {
      "text/plain": [
       "id                     0\n",
       "name                   0\n",
       "artist                 0\n",
       "genres               189\n",
       "artist_followers       0\n",
       "artist_popularity      0\n",
       "markets                0\n",
       "album                  0\n",
       "released_date          0\n",
       "album_popularity       0\n",
       "duration               0\n",
       "popularity             0\n",
       "dtype: int64"
      ]
     },
     "execution_count": 45,
     "metadata": {},
     "output_type": "execute_result"
    }
   ],
   "source": [
    "null_cols = songs_df.isnull().sum()\n",
    "null_cols"
   ]
  },
  {
   "attachments": {},
   "cell_type": "markdown",
   "metadata": {},
   "source": [
    "So there are 189 missing values in the `genres` column, the other columns in the DataFrame does not have any null values. \n",
    "\n",
    "As for now, we will move on to the data preprocessing step to clean and normalize all the data."
   ]
  },
  {
   "attachments": {},
   "cell_type": "markdown",
   "metadata": {},
   "source": [
    "### <b><u>Step 6</u>: Preprocessing the dataset</b>"
   ]
  },
  {
   "attachments": {},
   "cell_type": "markdown",
   "metadata": {},
   "source": [
    "##### Calculate missing ratio, num_diff_vals and diff_vals of numerical and categorical columns\n",
    "\n",
    "In this part, we need to explore values in categorical columns. \n",
    "\n",
    "We build some help functions below to calculate the missing ratio of values in the columns (in percentage), calculate number of different values and the list of different values."
   ]
  },
  {
   "cell_type": "code",
   "execution_count": 46,
   "metadata": {},
   "outputs": [],
   "source": [
    "def missing_ratio(c):\n",
    "    return c.isnull().sum() / c.__len__() * 100\n",
    "\n",
    "def num_diff_vals(c):\n",
    "    if c.all() == songs_df['genres'].all() or c.all() == songs_df['artist'].all():\n",
    "        return c.str.split(',').explode().nunique()\n",
    "    return c.nunique(dropna=True)\n",
    "\n",
    "def diff_vals(c):\n",
    "    if c.all() == songs_df['genres'].all() or c.all() == songs_df['artist'].all():\n",
    "        return c.str.split(',').explode().value_counts().keys().to_list()\n",
    "    return c.dropna().unique()"
   ]
  },
  {
   "attachments": {},
   "cell_type": "markdown",
   "metadata": {},
   "source": [
    "For categorical columns, we need to specify what is the missing ratio, number of unique values and list all of the unique values. There are 3 categorical columns in the dataset: `genres`, `artist` and `album`."
   ]
  },
  {
   "cell_type": "code",
   "execution_count": 47,
   "metadata": {},
   "outputs": [
    {
     "data": {
      "text/html": [
       "<div>\n",
       "<style scoped>\n",
       "    .dataframe tbody tr th:only-of-type {\n",
       "        vertical-align: middle;\n",
       "    }\n",
       "\n",
       "    .dataframe tbody tr th {\n",
       "        vertical-align: top;\n",
       "    }\n",
       "\n",
       "    .dataframe thead th {\n",
       "        text-align: right;\n",
       "    }\n",
       "</style>\n",
       "<table border=\"1\" class=\"dataframe\">\n",
       "  <thead>\n",
       "    <tr style=\"text-align: right;\">\n",
       "      <th></th>\n",
       "      <th>genres</th>\n",
       "      <th>artist</th>\n",
       "      <th>album</th>\n",
       "    </tr>\n",
       "  </thead>\n",
       "  <tbody>\n",
       "    <tr>\n",
       "      <th>missing_ratio</th>\n",
       "      <td>6.3</td>\n",
       "      <td>0.0</td>\n",
       "      <td>0.0</td>\n",
       "    </tr>\n",
       "    <tr>\n",
       "      <th>num_diff_vals</th>\n",
       "      <td>434</td>\n",
       "      <td>1542</td>\n",
       "      <td>2073</td>\n",
       "    </tr>\n",
       "    <tr>\n",
       "      <th>diff_vals</th>\n",
       "      <td>[pop, v-pop, dance pop, vietnamese hip hop, uk...</td>\n",
       "      <td>[Ed Sheeran, Justin Bieber, David Guetta, Tayl...</td>\n",
       "      <td>[Winter Blues 2023, Winter Vibes 2023, Indigo,...</td>\n",
       "    </tr>\n",
       "  </tbody>\n",
       "</table>\n",
       "</div>"
      ],
      "text/plain": [
       "                                                          genres  \\\n",
       "missing_ratio                                                6.3   \n",
       "num_diff_vals                                                434   \n",
       "diff_vals      [pop, v-pop, dance pop, vietnamese hip hop, uk...   \n",
       "\n",
       "                                                          artist  \\\n",
       "missing_ratio                                                0.0   \n",
       "num_diff_vals                                               1542   \n",
       "diff_vals      [Ed Sheeran, Justin Bieber, David Guetta, Tayl...   \n",
       "\n",
       "                                                           album  \n",
       "missing_ratio                                                0.0  \n",
       "num_diff_vals                                               2073  \n",
       "diff_vals      [Winter Blues 2023, Winter Vibes 2023, Indigo,...  "
      ]
     },
     "execution_count": 47,
     "metadata": {},
     "output_type": "execute_result"
    }
   ],
   "source": [
    "categorical_cols_des = songs_df[['genres', 'artist', 'album']].agg([missing_ratio, num_diff_vals, diff_vals])\n",
    "categorical_cols_des"
   ]
  },
  {
   "attachments": {},
   "cell_type": "markdown",
   "metadata": {},
   "source": [
    "From the insights, we could see that genres column has a missing ratio of 6.3% in total. Furthermore, there are 434 unique genres in the whole dataset.\n",
    "\n",
    "Hence, there are 1542 unique artists and 2073 unique albums in total from the DataFrame. These are very important numbers that we can use to analyze."
   ]
  },
  {
   "attachments": {},
   "cell_type": "markdown",
   "metadata": {},
   "source": [
    "##### 1. Genres\n",
    "\n",
    "First we will need to preprocess data in `genres` column since it has null values. Each data in `genres` column is a string of genre(s) seperated by a comma (`,`). \n",
    "\n",
    "Therefore, we need to convert the string data into a list of genres, then fill all of the null values with `None`."
   ]
  },
  {
   "cell_type": "code",
   "execution_count": 48,
   "metadata": {},
   "outputs": [],
   "source": [
    "songs_df['genres'] = songs_df['genres'].str.split(',')\n",
    "songs_df['genres'].fillna('None', inplace=True)"
   ]
  },
  {
   "attachments": {},
   "cell_type": "markdown",
   "metadata": {},
   "source": [
    "Next, we will add another column called `main_genre` to the DataFrame, since we think it might be useful for data modeling.\n",
    "\n",
    "We take the first genre that appeared in the list to be the main genre."
   ]
  },
  {
   "cell_type": "code",
   "execution_count": 49,
   "metadata": {},
   "outputs": [],
   "source": [
    "songs_df['main_genre'] = songs_df['genres'].apply(lambda x: x[0] if type(x) == list else x)"
   ]
  },
  {
   "attachments": {},
   "cell_type": "markdown",
   "metadata": {},
   "source": [
    "##### 2. Artists\n",
    "\n",
    "Let's move on to the `artist` column. Each data in this column is also a string of artist(s) separated by a comma. \n",
    "\n",
    "So we also need to convert string data into a list."
   ]
  },
  {
   "cell_type": "code",
   "execution_count": 50,
   "metadata": {},
   "outputs": [],
   "source": [
    "songs_df['artist'] = songs_df['artist'].str.split(',')"
   ]
  },
  {
   "attachments": {},
   "cell_type": "markdown",
   "metadata": {},
   "source": [
    "We found it also might be interesting that we add another column called `artists_count` into the DataFrame, it can be used to answer some meaningful questions."
   ]
  },
  {
   "cell_type": "code",
   "execution_count": 51,
   "metadata": {},
   "outputs": [],
   "source": [
    "songs_df['artists_count'] = songs_df['artist'].apply(len)"
   ]
  },
  {
   "attachments": {},
   "cell_type": "markdown",
   "metadata": {},
   "source": [
    "##### 3. Released date\n",
    "\n",
    "We have a datetime datatype column in the DataFrame, which is the released date of the track. Therefore, we need to convert string data into datetime by using `to_datetime` function in pandas."
   ]
  },
  {
   "cell_type": "code",
   "execution_count": 52,
   "metadata": {},
   "outputs": [],
   "source": [
    "songs_df['released_date'] = pd.to_datetime(songs_df['released_date'], format='%Y-%m-%d', errors='coerce')"
   ]
  },
  {
   "attachments": {},
   "cell_type": "markdown",
   "metadata": {},
   "source": [
    "##### Calculate missing ratio, min and max values of numerical columns\n",
    "\n",
    "Now we can explore the missing ratio, min and max values in numerical colums.\n",
    "\n",
    "There are 5 numerical columns in total, including: `markets`, `album_popularity`, `duration`, `popularity` and `artists_count`. Let's explore missing ratio, min value and max value of these columns."
   ]
  },
  {
   "cell_type": "code",
   "execution_count": 53,
   "metadata": {},
   "outputs": [
    {
     "data": {
      "text/html": [
       "<div>\n",
       "<style scoped>\n",
       "    .dataframe tbody tr th:only-of-type {\n",
       "        vertical-align: middle;\n",
       "    }\n",
       "\n",
       "    .dataframe tbody tr th {\n",
       "        vertical-align: top;\n",
       "    }\n",
       "\n",
       "    .dataframe thead th {\n",
       "        text-align: right;\n",
       "    }\n",
       "</style>\n",
       "<table border=\"1\" class=\"dataframe\">\n",
       "  <thead>\n",
       "    <tr style=\"text-align: right;\">\n",
       "      <th></th>\n",
       "      <th>markets</th>\n",
       "      <th>album_popularity</th>\n",
       "      <th>duration</th>\n",
       "      <th>popularity</th>\n",
       "      <th>artists_count</th>\n",
       "    </tr>\n",
       "  </thead>\n",
       "  <tbody>\n",
       "    <tr>\n",
       "      <th>missing_ratio</th>\n",
       "      <td>0.0</td>\n",
       "      <td>0.0</td>\n",
       "      <td>0.0</td>\n",
       "      <td>0.0</td>\n",
       "      <td>0.0</td>\n",
       "    </tr>\n",
       "    <tr>\n",
       "      <th>min</th>\n",
       "      <td>1.0</td>\n",
       "      <td>0.0</td>\n",
       "      <td>51913.0</td>\n",
       "      <td>0.0</td>\n",
       "      <td>1.0</td>\n",
       "    </tr>\n",
       "    <tr>\n",
       "      <th>max</th>\n",
       "      <td>184.0</td>\n",
       "      <td>95.0</td>\n",
       "      <td>613026.0</td>\n",
       "      <td>100.0</td>\n",
       "      <td>10.0</td>\n",
       "    </tr>\n",
       "  </tbody>\n",
       "</table>\n",
       "</div>"
      ],
      "text/plain": [
       "               markets  album_popularity  duration  popularity  artists_count\n",
       "missing_ratio      0.0               0.0       0.0         0.0            0.0\n",
       "min                1.0               0.0   51913.0         0.0            1.0\n",
       "max              184.0              95.0  613026.0       100.0           10.0"
      ]
     },
     "execution_count": 53,
     "metadata": {},
     "output_type": "execute_result"
    }
   ],
   "source": [
    "numeric_cols_des = songs_df[songs_df.describe().columns].agg([missing_ratio, min, max])\n",
    "numeric_cols_des"
   ]
  },
  {
   "attachments": {},
   "cell_type": "markdown",
   "metadata": {},
   "source": [
    "There are some noticeable values which is:\n",
    "- 1 is the minimum value of markets that a songs is available.\n",
    "- The shortest song duration is 51913 ms ~ 52 seconds!\n",
    "- 10 is the maximum value of the number of artists involved in a song!\n",
    "- The highest album popularity score is 95, whereas highest song popularity score is 100!"
   ]
  },
  {
   "cell_type": "code",
   "execution_count": 67,
   "metadata": {},
   "outputs": [
    {
     "data": {
      "text/plain": [
       "<BarContainer object of 3 artists>"
      ]
     },
     "execution_count": 67,
     "metadata": {},
     "output_type": "execute_result"
    },
    {
     "data": {
      "text/plain": [
       "<Figure size 1000x2000 with 0 Axes>"
      ]
     },
     "metadata": {},
     "output_type": "display_data"
    },
    {
     "data": {
      "image/png": "[encoded data removed]",
      "text/plain": [
       "<Figure size 640x480 with 6 Axes>"
      ]
     },
     "metadata": {},
     "output_type": "display_data"
    }
   ],
   "source": [
    "plt.figure(figsize=(10, 20))\n",
    "_, ax = plt.subplots(3, 2)\n",
    "ax[0, 0].bar(numeric_cols_des.index, numeric_cols_des['markets'], color = 'purple')\n",
    "ax[0, 1].bar(numeric_cols_des.index, numeric_cols_des['album_popularity'], color = 'g')\n",
    "ax[1, 0].bar(numeric_cols_des.index, numeric_cols_des['duration'], color = 'r')\n",
    "ax[1, 1].bar(numeric_cols_des.index, numeric_cols_des['popularity'], color = 'orange')\n",
    "ax[2, 0].bar(numeric_cols_des.index, numeric_cols_des['artists_count'], color = 'b')"
   ]
  },
  {
   "attachments": {},
   "cell_type": "markdown",
   "metadata": {},
   "source": [
    "For easy visualization, let's plot the description table into bar charts.\n",
    "- `markets`: purple chart\n",
    "- `album_popularity`: green chart\n",
    "- `duration`: red chart\n",
    "- `popularity`: orange chart\n",
    "- `artists_count`: blue chart"
   ]
  },
  {
   "attachments": {},
   "cell_type": "markdown",
   "metadata": {},
   "source": [
    "### <b><u>Step 6</u>: Normalizing columns in the dataset</b>\n",
    "\n",
    "##### 1. Artist followers\n",
    "\n",
    "Each data in `artist_followers` column is a string of followers of respective artist(s) separated by a comma.\n",
    "\n",
    "Therefore, we need to convert string data to a list and convert each number of followers from string to int."
   ]
  },
  {
   "cell_type": "code",
   "execution_count": 55,
   "metadata": {},
   "outputs": [],
   "source": [
    "songs_df['artist_followers'].update(songs_df['artist_followers'].str.split(','))\n",
    "songs_df['artist_followers'].update(songs_df['artist_followers'].apply(lambda x: list(map(int, x))))"
   ]
  },
  {
   "attachments": {},
   "cell_type": "markdown",
   "metadata": {},
   "source": [
    "Next step, since we want to represent the artists' followers as a specific value only, let's normalize the list of followers into 1 number by calculating the vectorized length of the elements in the list."
   ]
  },
  {
   "cell_type": "code",
   "execution_count": 56,
   "metadata": {},
   "outputs": [],
   "source": [
    "songs_df['artist_followers'] = songs_df['artist_followers'].apply(lambda x: np.sqrt(np.sum(list(map(lambda y: y**2, x)))))\n",
    "songs_df['artist_followers'] = songs_df['artist_followers'].astype('int64')"
   ]
  },
  {
   "attachments": {},
   "cell_type": "markdown",
   "metadata": {},
   "source": [
    "##### 2. Artist popularity\n",
    "\n",
    "`artist_popularity` column has the same feature as `artist_followers`. So we also need to convert each data from string to list and then map all the values from string to numbers."
   ]
  },
  {
   "cell_type": "code",
   "execution_count": 57,
   "metadata": {},
   "outputs": [],
   "source": [
    "songs_df['artist_popularity'].update(songs_df['artist_popularity'].str.split(','))\n",
    "songs_df['artist_popularity'].update(songs_df['artist_popularity'].apply(lambda x: list(map(int, x))))"
   ]
  },
  {
   "attachments": {},
   "cell_type": "markdown",
   "metadata": {},
   "source": [
    "Furthermore, we also want to represent the artists' popularity by 1 number only, therefore, let's calculate the vectorized length of each element in the list of each data."
   ]
  },
  {
   "cell_type": "code",
   "execution_count": 58,
   "metadata": {},
   "outputs": [],
   "source": [
    "songs_df['artist_popularity'] = songs_df['artist_popularity'].apply(lambda x: min(100, np.sqrt(np.sum(list(map(lambda y: y**2, x))))))\n",
    "songs_df['artist_popularity'] = songs_df['artist_popularity'].astype('int64')"
   ]
  },
  {
   "attachments": {},
   "cell_type": "markdown",
   "metadata": {},
   "source": [
    "### <b><u> Step 7</u>: Ask some meaningful questions about the data</b>"
   ]
  },
  {
   "attachments": {},
   "cell_type": "markdown",
   "metadata": {},
   "source": [
    "##### Question 1: What are the top 10 most popular genres and visualize the number of songs each genre is involved in."
   ]
  },
  {
   "cell_type": "code",
   "execution_count": 59,
   "metadata": {},
   "outputs": [
    {
     "data": {
      "text/plain": [
       "<AxesSubplot: >"
      ]
     },
     "execution_count": 59,
     "metadata": {},
     "output_type": "execute_result"
    },
    {
     "data": {
      "image/png": "[encoded data removed]",
      "text/plain": [
       "<Figure size 300x300 with 1 Axes>"
      ]
     },
     "metadata": {},
     "output_type": "display_data"
    }
   ],
   "source": [
    "songs_df['genres'].str.join(',').str.split(',').explode().value_counts().drop(['N', 'o', 'n', 'e']) \\\n",
    "                .nlargest(n=10).plot.barh(figsize=(3,3), color='indigo')"
   ]
  },
  {
   "attachments": {},
   "cell_type": "markdown",
   "metadata": {},
   "source": [
    "insights"
   ]
  },
  {
   "attachments": {},
   "cell_type": "markdown",
   "metadata": {},
   "source": [
    "##### Question 2: What are the top 10 most popular artists and visualize the number of songs each artist is involved in."
   ]
  },
  {
   "cell_type": "code",
   "execution_count": 60,
   "metadata": {},
   "outputs": [
    {
     "data": {
      "text/plain": [
       "<AxesSubplot: >"
      ]
     },
     "execution_count": 60,
     "metadata": {},
     "output_type": "execute_result"
    },
    {
     "data": {
      "image/png": "[encoded data removed]",
      "text/plain": [
       "<Figure size 300x300 with 1 Axes>"
      ]
     },
     "metadata": {},
     "output_type": "display_data"
    }
   ],
   "source": [
    "songs_df['artist'].str.join(',').str.split(',').explode().value_counts() \\\n",
    "                .nlargest(n=10).plot.barh(figsize=(3,3), color='pink')"
   ]
  },
  {
   "attachments": {},
   "cell_type": "markdown",
   "metadata": {},
   "source": [
    "insights"
   ]
  },
  {
   "attachments": {},
   "cell_type": "markdown",
   "metadata": {},
   "source": [
    "##### Question 3: What are the top 10 most popular albums and visualize the number of songs mentioned in each album."
   ]
  },
  {
   "cell_type": "code",
   "execution_count": 61,
   "metadata": {},
   "outputs": [
    {
     "data": {
      "text/plain": [
       "<AxesSubplot: >"
      ]
     },
     "execution_count": 61,
     "metadata": {},
     "output_type": "execute_result"
    },
    {
     "data": {
      "image/png": "[encoded data removed]",
      "text/plain": [
       "<Figure size 300x300 with 1 Axes>"
      ]
     },
     "metadata": {},
     "output_type": "display_data"
    }
   ],
   "source": [
    "songs_df['album'].value_counts().nlargest(n=10).plot.barh(figsize=(3,3), color='cyan')"
   ]
  },
  {
   "attachments": {},
   "cell_type": "markdown",
   "metadata": {},
   "source": [
    "insights"
   ]
  },
  {
   "attachments": {},
   "cell_type": "markdown",
   "metadata": {},
   "source": [
    "##### Question 4: For each song popularity value, visualize the number of songs."
   ]
  },
  {
   "cell_type": "code",
   "execution_count": 62,
   "metadata": {},
   "outputs": [
    {
     "data": {
      "text/plain": [
       "<AxesSubplot: >"
      ]
     },
     "execution_count": 62,
     "metadata": {},
     "output_type": "execute_result"
    },
    {
     "data": {
      "image/png": "[encoded data removed]",
      "text/plain": [
       "<Figure size 2000x800 with 1 Axes>"
      ]
     },
     "metadata": {},
     "output_type": "display_data"
    }
   ],
   "source": [
    "songs_df['popularity'].value_counts().sort_index(ascending=True) \\\n",
    "                    .plot.bar(figsize=(20, 8), color='indigo')"
   ]
  },
  {
   "attachments": {},
   "cell_type": "markdown",
   "metadata": {},
   "source": [
    "insights"
   ]
  },
  {
   "attachments": {},
   "cell_type": "markdown",
   "metadata": {},
   "source": [
    "##### Question 5: List all the years the songs are released in the dataset and visualize the number of songs in each year."
   ]
  },
  {
   "cell_type": "code",
   "execution_count": 69,
   "metadata": {},
   "outputs": [
    {
     "data": {
      "text/plain": [
       "<AxesSubplot: >"
      ]
     },
     "execution_count": 69,
     "metadata": {},
     "output_type": "execute_result"
    },
    {
     "data": {
      "image/png": "[encoded data removed]",
      "text/plain": [
       "<Figure size 500x300 with 1 Axes>"
      ]
     },
     "metadata": {},
     "output_type": "display_data"
    }
   ],
   "source": [
    "songs_df['released_date'].dt.year.value_counts().sort_index(ascending=True) \\\n",
    "                        .plot.barh(figsize=(5, 3), color='red')"
   ]
  },
  {
   "attachments": {},
   "cell_type": "markdown",
   "metadata": {},
   "source": [
    "insights"
   ]
  },
  {
   "attachments": {},
   "cell_type": "markdown",
   "metadata": {},
   "source": [
    "##### Question 6: What are the top 5 most popular artists from 2020 to 2022."
   ]
  },
  {
   "cell_type": "code",
   "execution_count": 64,
   "metadata": {},
   "outputs": [
    {
     "data": {
      "text/plain": [
       "['Ed Sheeran',\n",
       " 'Justin Bieber',\n",
       " 'David Guetta',\n",
       " 'Taylor Swift',\n",
       " 'Billie Eilish']"
      ]
     },
     "execution_count": 64,
     "metadata": {},
     "output_type": "execute_result"
    }
   ],
   "source": [
    "songs_df[songs_df['released_date'].dt.year.between(2020, 2022)]['artist'].explode().value_counts().nlargest(n=5).index.to_list()"
   ]
  },
  {
   "attachments": {},
   "cell_type": "markdown",
   "metadata": {},
   "source": [
    "insights"
   ]
  },
  {
   "attachments": {},
   "cell_type": "markdown",
   "metadata": {},
   "source": [
    "### <b><u>Step 7</u>: Generate DataFrame used for model training</b>"
   ]
  },
  {
   "cell_type": "code",
   "execution_count": 65,
   "metadata": {},
   "outputs": [
    {
     "data": {
      "text/html": [
       "<div>\n",
       "<style scoped>\n",
       "    .dataframe tbody tr th:only-of-type {\n",
       "        vertical-align: middle;\n",
       "    }\n",
       "\n",
       "    .dataframe tbody tr th {\n",
       "        vertical-align: top;\n",
       "    }\n",
       "\n",
       "    .dataframe thead th {\n",
       "        text-align: right;\n",
       "    }\n",
       "</style>\n",
       "<table border=\"1\" class=\"dataframe\">\n",
       "  <thead>\n",
       "    <tr style=\"text-align: right;\">\n",
       "      <th></th>\n",
       "      <th>artist_followers</th>\n",
       "      <th>artist_popularity</th>\n",
       "      <th>markets</th>\n",
       "      <th>album_popularity</th>\n",
       "      <th>duration</th>\n",
       "      <th>artists_count</th>\n",
       "      <th>popularity</th>\n",
       "    </tr>\n",
       "  </thead>\n",
       "  <tbody>\n",
       "    <tr>\n",
       "      <th>0</th>\n",
       "      <td>58961886</td>\n",
       "      <td>100</td>\n",
       "      <td>183</td>\n",
       "      <td>81</td>\n",
       "      <td>201391</td>\n",
       "      <td>3</td>\n",
       "      <td>92</td>\n",
       "    </tr>\n",
       "    <tr>\n",
       "      <th>1</th>\n",
       "      <td>100162</td>\n",
       "      <td>77</td>\n",
       "      <td>182</td>\n",
       "      <td>60</td>\n",
       "      <td>197333</td>\n",
       "      <td>2</td>\n",
       "      <td>62</td>\n",
       "    </tr>\n",
       "    <tr>\n",
       "      <th>2</th>\n",
       "      <td>39690</td>\n",
       "      <td>56</td>\n",
       "      <td>182</td>\n",
       "      <td>52</td>\n",
       "      <td>281493</td>\n",
       "      <td>1</td>\n",
       "      <td>62</td>\n",
       "    </tr>\n",
       "    <tr>\n",
       "      <th>3</th>\n",
       "      <td>359817</td>\n",
       "      <td>54</td>\n",
       "      <td>183</td>\n",
       "      <td>50</td>\n",
       "      <td>256663</td>\n",
       "      <td>1</td>\n",
       "      <td>62</td>\n",
       "    </tr>\n",
       "    <tr>\n",
       "      <th>4</th>\n",
       "      <td>12005881</td>\n",
       "      <td>81</td>\n",
       "      <td>183</td>\n",
       "      <td>85</td>\n",
       "      <td>273499</td>\n",
       "      <td>1</td>\n",
       "      <td>88</td>\n",
       "    </tr>\n",
       "    <tr>\n",
       "      <th>...</th>\n",
       "      <td>...</td>\n",
       "      <td>...</td>\n",
       "      <td>...</td>\n",
       "      <td>...</td>\n",
       "      <td>...</td>\n",
       "      <td>...</td>\n",
       "      <td>...</td>\n",
       "    </tr>\n",
       "    <tr>\n",
       "      <th>2995</th>\n",
       "      <td>6534881</td>\n",
       "      <td>70</td>\n",
       "      <td>184</td>\n",
       "      <td>50</td>\n",
       "      <td>166837</td>\n",
       "      <td>1</td>\n",
       "      <td>60</td>\n",
       "    </tr>\n",
       "    <tr>\n",
       "      <th>2996</th>\n",
       "      <td>1902185</td>\n",
       "      <td>68</td>\n",
       "      <td>184</td>\n",
       "      <td>48</td>\n",
       "      <td>212343</td>\n",
       "      <td>1</td>\n",
       "      <td>60</td>\n",
       "    </tr>\n",
       "    <tr>\n",
       "      <th>2997</th>\n",
       "      <td>406126</td>\n",
       "      <td>72</td>\n",
       "      <td>184</td>\n",
       "      <td>61</td>\n",
       "      <td>210142</td>\n",
       "      <td>1</td>\n",
       "      <td>60</td>\n",
       "    </tr>\n",
       "    <tr>\n",
       "      <th>2998</th>\n",
       "      <td>5033038</td>\n",
       "      <td>79</td>\n",
       "      <td>184</td>\n",
       "      <td>48</td>\n",
       "      <td>172600</td>\n",
       "      <td>1</td>\n",
       "      <td>60</td>\n",
       "    </tr>\n",
       "    <tr>\n",
       "      <th>2999</th>\n",
       "      <td>29951055</td>\n",
       "      <td>100</td>\n",
       "      <td>182</td>\n",
       "      <td>64</td>\n",
       "      <td>224341</td>\n",
       "      <td>2</td>\n",
       "      <td>60</td>\n",
       "    </tr>\n",
       "  </tbody>\n",
       "</table>\n",
       "<p>3000 rows × 7 columns</p>\n",
       "</div>"
      ],
      "text/plain": [
       "      artist_followers  artist_popularity  markets  album_popularity  \\\n",
       "0             58961886                100      183                81   \n",
       "1               100162                 77      182                60   \n",
       "2                39690                 56      182                52   \n",
       "3               359817                 54      183                50   \n",
       "4             12005881                 81      183                85   \n",
       "...                ...                ...      ...               ...   \n",
       "2995           6534881                 70      184                50   \n",
       "2996           1902185                 68      184                48   \n",
       "2997            406126                 72      184                61   \n",
       "2998           5033038                 79      184                48   \n",
       "2999          29951055                100      182                64   \n",
       "\n",
       "      duration  artists_count  popularity  \n",
       "0       201391              3          92  \n",
       "1       197333              2          62  \n",
       "2       281493              1          62  \n",
       "3       256663              1          62  \n",
       "4       273499              1          88  \n",
       "...        ...            ...         ...  \n",
       "2995    166837              1          60  \n",
       "2996    212343              1          60  \n",
       "2997    210142              1          60  \n",
       "2998    172600              1          60  \n",
       "2999    224341              2          60  \n",
       "\n",
       "[3000 rows x 7 columns]"
      ]
     },
     "execution_count": 65,
     "metadata": {},
     "output_type": "execute_result"
    }
   ],
   "source": [
    "songs_model_df = songs_df[['artist_followers', 'artist_popularity', 'markets', 'album_popularity', 'duration', 'artists_count', 'popularity']]\n",
    "songs_model_df"
   ]
  },
  {
   "attachments": {},
   "cell_type": "markdown",
   "metadata": {},
   "source": [
    "For the next step, let's calculate the correlation of the model DataFrame and predict which features are affected most to each other."
   ]
  },
  {
   "cell_type": "code",
   "execution_count": 66,
   "metadata": {},
   "outputs": [
    {
     "data": {
      "text/html": [
       "<div>\n",
       "<style scoped>\n",
       "    .dataframe tbody tr th:only-of-type {\n",
       "        vertical-align: middle;\n",
       "    }\n",
       "\n",
       "    .dataframe tbody tr th {\n",
       "        vertical-align: top;\n",
       "    }\n",
       "\n",
       "    .dataframe thead th {\n",
       "        text-align: right;\n",
       "    }\n",
       "</style>\n",
       "<table border=\"1\" class=\"dataframe\">\n",
       "  <thead>\n",
       "    <tr style=\"text-align: right;\">\n",
       "      <th></th>\n",
       "      <th>artist_followers</th>\n",
       "      <th>artist_popularity</th>\n",
       "      <th>markets</th>\n",
       "      <th>album_popularity</th>\n",
       "      <th>duration</th>\n",
       "      <th>artists_count</th>\n",
       "      <th>popularity</th>\n",
       "    </tr>\n",
       "  </thead>\n",
       "  <tbody>\n",
       "    <tr>\n",
       "      <th>artist_followers</th>\n",
       "      <td>1.000000</td>\n",
       "      <td>0.838066</td>\n",
       "      <td>-0.551813</td>\n",
       "      <td>-0.154667</td>\n",
       "      <td>-0.083046</td>\n",
       "      <td>-0.038525</td>\n",
       "      <td>-0.190041</td>\n",
       "    </tr>\n",
       "    <tr>\n",
       "      <th>artist_popularity</th>\n",
       "      <td>0.838066</td>\n",
       "      <td>1.000000</td>\n",
       "      <td>-0.490837</td>\n",
       "      <td>-0.065923</td>\n",
       "      <td>-0.207180</td>\n",
       "      <td>0.303502</td>\n",
       "      <td>-0.077646</td>\n",
       "    </tr>\n",
       "    <tr>\n",
       "      <th>markets</th>\n",
       "      <td>-0.551813</td>\n",
       "      <td>-0.490837</td>\n",
       "      <td>1.000000</td>\n",
       "      <td>0.422590</td>\n",
       "      <td>0.075402</td>\n",
       "      <td>0.079161</td>\n",
       "      <td>0.435947</td>\n",
       "    </tr>\n",
       "    <tr>\n",
       "      <th>album_popularity</th>\n",
       "      <td>-0.154667</td>\n",
       "      <td>-0.065923</td>\n",
       "      <td>0.422590</td>\n",
       "      <td>1.000000</td>\n",
       "      <td>-0.137885</td>\n",
       "      <td>-0.046498</td>\n",
       "      <td>0.974226</td>\n",
       "    </tr>\n",
       "    <tr>\n",
       "      <th>duration</th>\n",
       "      <td>-0.083046</td>\n",
       "      <td>-0.207180</td>\n",
       "      <td>0.075402</td>\n",
       "      <td>-0.137885</td>\n",
       "      <td>1.000000</td>\n",
       "      <td>-0.054042</td>\n",
       "      <td>-0.162949</td>\n",
       "    </tr>\n",
       "    <tr>\n",
       "      <th>artists_count</th>\n",
       "      <td>-0.038525</td>\n",
       "      <td>0.303502</td>\n",
       "      <td>0.079161</td>\n",
       "      <td>-0.046498</td>\n",
       "      <td>-0.054042</td>\n",
       "      <td>1.000000</td>\n",
       "      <td>-0.028571</td>\n",
       "    </tr>\n",
       "    <tr>\n",
       "      <th>popularity</th>\n",
       "      <td>-0.190041</td>\n",
       "      <td>-0.077646</td>\n",
       "      <td>0.435947</td>\n",
       "      <td>0.974226</td>\n",
       "      <td>-0.162949</td>\n",
       "      <td>-0.028571</td>\n",
       "      <td>1.000000</td>\n",
       "    </tr>\n",
       "  </tbody>\n",
       "</table>\n",
       "</div>"
      ],
      "text/plain": [
       "                   artist_followers  artist_popularity   markets  \\\n",
       "artist_followers           1.000000           0.838066 -0.551813   \n",
       "artist_popularity          0.838066           1.000000 -0.490837   \n",
       "markets                   -0.551813          -0.490837  1.000000   \n",
       "album_popularity          -0.154667          -0.065923  0.422590   \n",
       "duration                  -0.083046          -0.207180  0.075402   \n",
       "artists_count             -0.038525           0.303502  0.079161   \n",
       "popularity                -0.190041          -0.077646  0.435947   \n",
       "\n",
       "                   album_popularity  duration  artists_count  popularity  \n",
       "artist_followers          -0.154667 -0.083046      -0.038525   -0.190041  \n",
       "artist_popularity         -0.065923 -0.207180       0.303502   -0.077646  \n",
       "markets                    0.422590  0.075402       0.079161    0.435947  \n",
       "album_popularity           1.000000 -0.137885      -0.046498    0.974226  \n",
       "duration                  -0.137885  1.000000      -0.054042   -0.162949  \n",
       "artists_count             -0.046498 -0.054042       1.000000   -0.028571  \n",
       "popularity                 0.974226 -0.162949      -0.028571    1.000000  "
      ]
     },
     "execution_count": 66,
     "metadata": {},
     "output_type": "execute_result"
    }
   ],
   "source": [
    "songs_model_df.corr(method='spearman')"
   ]
  },
  {
   "cell_type": "markdown",
   "metadata": {},
   "source": [
    "insights"
   ]
  },
  {
   "cell_type": "markdown",
   "metadata": {},
   "source": []
  }
 ],
 "metadata": {
  "kernelspec": {
   "display_name": "Python 3",
   "language": "python",
   "name": "python3"
  },
  "language_info": {
   "codemirror_mode": {
    "name": "ipython",
    "version": 3
   },
   "file_extension": ".py",
   "mimetype": "text/x-python",
   "name": "python",
   "nbconvert_exporter": "python",
   "pygments_lexer": "ipython3",
   "version": "3.10.6"
  },
  "orig_nbformat": 4,
  "vscode": {
   "interpreter": {
    "hash": "89e8354a88354ecf7ffb299b56239fb0ecc48c48d372ba43f5b93cc4e944f72d"
   }
  }
 },
 "nbformat": 4,
 "nbformat_minor": 2
}
