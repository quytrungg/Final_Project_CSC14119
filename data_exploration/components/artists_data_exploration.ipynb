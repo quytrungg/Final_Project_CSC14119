{
 "cells": [
  {
   "cell_type": "code",
   "execution_count": null,
   "metadata": {},
   "outputs": [],
   "source": [
    "import sys  \n",
    "sys.path.insert(0, '../../data')\n",
    "sys.path.insert(0, '../../data/description')"
   ]
  },
  {
   "cell_type": "code",
   "execution_count": 2,
   "metadata": {},
   "outputs": [],
   "source": [
    "import numpy as np\n",
    "import pandas as pd\n",
    "import matplotlib.pyplot as plt"
   ]
  },
  {
   "cell_type": "code",
   "execution_count": 6,
   "metadata": {},
   "outputs": [
    {
     "data": {
      "text/html": [
       "<div>\n",
       "<style scoped>\n",
       "    .dataframe tbody tr th:only-of-type {\n",
       "        vertical-align: middle;\n",
       "    }\n",
       "\n",
       "    .dataframe tbody tr th {\n",
       "        vertical-align: top;\n",
       "    }\n",
       "\n",
       "    .dataframe thead th {\n",
       "        text-align: right;\n",
       "    }\n",
       "</style>\n",
       "<table border=\"1\" class=\"dataframe\">\n",
       "  <thead>\n",
       "    <tr style=\"text-align: right;\">\n",
       "      <th></th>\n",
       "      <th>id</th>\n",
       "      <th>name</th>\n",
       "      <th>genres</th>\n",
       "      <th>followers</th>\n",
       "      <th>popularity</th>\n",
       "    </tr>\n",
       "  </thead>\n",
       "  <tbody>\n",
       "    <tr>\n",
       "      <th>0</th>\n",
       "      <td>1zNqDE7qDGCsyzJwohVaoX</td>\n",
       "      <td>Anne-Marie</td>\n",
       "      <td>dance pop, pop, pop dance, post-teen pop, trop...</td>\n",
       "      <td>10348417</td>\n",
       "      <td>78</td>\n",
       "    </tr>\n",
       "    <tr>\n",
       "      <th>1</th>\n",
       "      <td>74JtukKDc5wZJcARxGgbC3</td>\n",
       "      <td>De La Vega</td>\n",
       "      <td>NaN</td>\n",
       "      <td>176</td>\n",
       "      <td>19</td>\n",
       "    </tr>\n",
       "    <tr>\n",
       "      <th>2</th>\n",
       "      <td>47mIJdHORyRerp4os813jD</td>\n",
       "      <td>League of Legends</td>\n",
       "      <td>speedrun, video game music</td>\n",
       "      <td>1535282</td>\n",
       "      <td>80</td>\n",
       "    </tr>\n",
       "    <tr>\n",
       "      <th>3</th>\n",
       "      <td>518WSacVSStYMaXDTvO0oj</td>\n",
       "      <td>Zandu Max</td>\n",
       "      <td>NaN</td>\n",
       "      <td>14</td>\n",
       "      <td>20</td>\n",
       "    </tr>\n",
       "    <tr>\n",
       "      <th>4</th>\n",
       "      <td>5ehbiyqYPwIDaUY4AxrhVq</td>\n",
       "      <td>Mademoiselle</td>\n",
       "      <td>indie viet, vietnamese singer-songwriter</td>\n",
       "      <td>48470</td>\n",
       "      <td>32</td>\n",
       "    </tr>\n",
       "  </tbody>\n",
       "</table>\n",
       "</div>"
      ],
      "text/plain": [
       "                       id               name  \\\n",
       "0  1zNqDE7qDGCsyzJwohVaoX         Anne-Marie   \n",
       "1  74JtukKDc5wZJcARxGgbC3         De La Vega   \n",
       "2  47mIJdHORyRerp4os813jD  League of Legends   \n",
       "3  518WSacVSStYMaXDTvO0oj          Zandu Max   \n",
       "4  5ehbiyqYPwIDaUY4AxrhVq       Mademoiselle   \n",
       "\n",
       "                                              genres  followers  popularity  \n",
       "0  dance pop, pop, pop dance, post-teen pop, trop...   10348417          78  \n",
       "1                                                NaN        176          19  \n",
       "2                         speedrun, video game music    1535282          80  \n",
       "3                                                NaN         14          20  \n",
       "4           indie viet, vietnamese singer-songwriter      48470          32  "
      ]
     },
     "execution_count": 6,
     "metadata": {},
     "output_type": "execute_result"
    }
   ],
   "source": [
    "raw_data = pd.read_csv(\"../../data/artists_data.csv\", delimiter='\\t')\n",
    "raw_data.head()"
   ]
  },
  {
   "attachments": {},
   "cell_type": "markdown",
   "metadata": {},
   "source": [
    "### I. Dataset Description:"
   ]
  },
  {
   "cell_type": "code",
   "execution_count": 27,
   "metadata": {},
   "outputs": [
    {
     "name": "stdout",
     "output_type": "stream",
     "text": [
      "<class 'pandas.core.frame.DataFrame'>\n",
      "RangeIndex: 4580 entries, 0 to 4579\n",
      "Data columns (total 5 columns):\n",
      " #   Column      Non-Null Count  Dtype \n",
      "---  ------      --------------  ----- \n",
      " 0   id          4580 non-null   object\n",
      " 1   name        4580 non-null   object\n",
      " 2   genres      3663 non-null   object\n",
      " 3   followers   4580 non-null   int64 \n",
      " 4   popularity  4580 non-null   int64 \n",
      "dtypes: int64(2), object(3)\n",
      "memory usage: 179.0+ KB\n"
     ]
    }
   ],
   "source": [
    "raw_data.info()"
   ]
  },
  {
   "attachments": {},
   "cell_type": "markdown",
   "metadata": {},
   "source": [
    "**Column meaning:**"
   ]
  },
  {
   "cell_type": "code",
   "execution_count": 8,
   "metadata": {},
   "outputs": [
    {
     "data": {
      "text/html": [
       "<div>\n",
       "<style scoped>\n",
       "    .dataframe tbody tr th:only-of-type {\n",
       "        vertical-align: middle;\n",
       "    }\n",
       "\n",
       "    .dataframe tbody tr th {\n",
       "        vertical-align: top;\n",
       "    }\n",
       "\n",
       "    .dataframe thead th {\n",
       "        text-align: right;\n",
       "    }\n",
       "</style>\n",
       "<table border=\"1\" class=\"dataframe\">\n",
       "  <thead>\n",
       "    <tr style=\"text-align: right;\">\n",
       "      <th></th>\n",
       "      <th>column name</th>\n",
       "      <th>data type</th>\n",
       "      <th>meaning</th>\n",
       "      <th>example</th>\n",
       "    </tr>\n",
       "  </thead>\n",
       "  <tbody>\n",
       "    <tr>\n",
       "      <th>0</th>\n",
       "      <td>id</td>\n",
       "      <td>string</td>\n",
       "      <td>Id of artist</td>\n",
       "      <td>7EnWkKTmRG5i9rW93o5DZm</td>\n",
       "    </tr>\n",
       "    <tr>\n",
       "      <th>1</th>\n",
       "      <td>name</td>\n",
       "      <td>string</td>\n",
       "      <td>Name of artist</td>\n",
       "      <td>Axxad</td>\n",
       "    </tr>\n",
       "    <tr>\n",
       "      <th>2</th>\n",
       "      <td>genres</td>\n",
       "      <td>string</td>\n",
       "      <td>Artist genres</td>\n",
       "      <td>viral rap</td>\n",
       "    </tr>\n",
       "    <tr>\n",
       "      <th>3</th>\n",
       "      <td>followers</td>\n",
       "      <td>int</td>\n",
       "      <td>Number of followers</td>\n",
       "      <td>6826</td>\n",
       "    </tr>\n",
       "    <tr>\n",
       "      <th>4</th>\n",
       "      <td>popularity</td>\n",
       "      <td>int</td>\n",
       "      <td>Artist popularity</td>\n",
       "      <td>48</td>\n",
       "    </tr>\n",
       "  </tbody>\n",
       "</table>\n",
       "</div>"
      ],
      "text/plain": [
       "  column name data type              meaning                 example\n",
       "0          id    string         Id of artist  7EnWkKTmRG5i9rW93o5DZm\n",
       "1        name    string       Name of artist                   Axxad\n",
       "2      genres    string        Artist genres               viral rap\n",
       "3   followers       int  Number of followers                    6826\n",
       "4  popularity       int    Artist popularity                      48"
      ]
     },
     "execution_count": 8,
     "metadata": {},
     "output_type": "execute_result"
    }
   ],
   "source": [
    "artists_data_des = pd.read_csv('../../data/description/artists_data_des.csv', delimiter='\\t')\n",
    "artists_data_des"
   ]
  },
  {
   "attachments": {},
   "cell_type": "markdown",
   "metadata": {},
   "source": [
    "**Columns description:**"
   ]
  },
  {
   "cell_type": "code",
   "execution_count": 29,
   "metadata": {},
   "outputs": [],
   "source": [
    "def missing_ratio(c):\n",
    "    return c.isnull().sum() / c.__len__() * 100\n",
    "\n",
    "def num_diff_vals(c):\n",
    "    return c.nunique(dropna=True)\n",
    "\n",
    "def diff_vals(c):\n",
    "    return c.dropna().unique()"
   ]
  },
  {
   "attachments": {},
   "cell_type": "markdown",
   "metadata": {},
   "source": [
    "Numeric columns:"
   ]
  },
  {
   "cell_type": "code",
   "execution_count": 34,
   "metadata": {},
   "outputs": [
    {
     "data": {
      "text/html": [
       "<div>\n",
       "<style scoped>\n",
       "    .dataframe tbody tr th:only-of-type {\n",
       "        vertical-align: middle;\n",
       "    }\n",
       "\n",
       "    .dataframe tbody tr th {\n",
       "        vertical-align: top;\n",
       "    }\n",
       "\n",
       "    .dataframe thead th {\n",
       "        text-align: right;\n",
       "    }\n",
       "</style>\n",
       "<table border=\"1\" class=\"dataframe\">\n",
       "  <thead>\n",
       "    <tr style=\"text-align: right;\">\n",
       "      <th></th>\n",
       "      <th>followers</th>\n",
       "      <th>popularity</th>\n",
       "    </tr>\n",
       "  </thead>\n",
       "  <tbody>\n",
       "    <tr>\n",
       "      <th>missing_ratio</th>\n",
       "      <td>0.0</td>\n",
       "      <td>0.0</td>\n",
       "    </tr>\n",
       "    <tr>\n",
       "      <th>min</th>\n",
       "      <td>0.0</td>\n",
       "      <td>0.0</td>\n",
       "    </tr>\n",
       "    <tr>\n",
       "      <th>max</th>\n",
       "      <td>106180432.0</td>\n",
       "      <td>100.0</td>\n",
       "    </tr>\n",
       "  </tbody>\n",
       "</table>\n",
       "</div>"
      ],
      "text/plain": [
       "                 followers  popularity\n",
       "missing_ratio          0.0         0.0\n",
       "min                    0.0         0.0\n",
       "max            106180432.0       100.0"
      ]
     },
     "execution_count": 34,
     "metadata": {},
     "output_type": "execute_result"
    }
   ],
   "source": [
    "numeric_cols_des = raw_data[raw_data.describe().columns].agg([missing_ratio, min, max]).round(1)\n",
    "numeric_cols_des"
   ]
  },
  {
   "cell_type": "code",
   "execution_count": 54,
   "metadata": {},
   "outputs": [
    {
     "data": {
      "text/html": [
       "<div>\n",
       "<style scoped>\n",
       "    .dataframe tbody tr th:only-of-type {\n",
       "        vertical-align: middle;\n",
       "    }\n",
       "\n",
       "    .dataframe tbody tr th {\n",
       "        vertical-align: top;\n",
       "    }\n",
       "\n",
       "    .dataframe thead th {\n",
       "        text-align: right;\n",
       "    }\n",
       "</style>\n",
       "<table border=\"1\" class=\"dataframe\">\n",
       "  <thead>\n",
       "    <tr style=\"text-align: right;\">\n",
       "      <th></th>\n",
       "      <th>followers</th>\n",
       "      <th>popularity</th>\n",
       "    </tr>\n",
       "  </thead>\n",
       "  <tbody>\n",
       "    <tr>\n",
       "      <th>mean</th>\n",
       "      <td>5437306</td>\n",
       "      <td>56</td>\n",
       "    </tr>\n",
       "    <tr>\n",
       "      <th>std</th>\n",
       "      <td>13711625</td>\n",
       "      <td>23</td>\n",
       "    </tr>\n",
       "    <tr>\n",
       "      <th>min</th>\n",
       "      <td>0</td>\n",
       "      <td>0</td>\n",
       "    </tr>\n",
       "    <tr>\n",
       "      <th>25%</th>\n",
       "      <td>7887</td>\n",
       "      <td>38</td>\n",
       "    </tr>\n",
       "    <tr>\n",
       "      <th>50%</th>\n",
       "      <td>225329</td>\n",
       "      <td>59</td>\n",
       "    </tr>\n",
       "    <tr>\n",
       "      <th>75%</th>\n",
       "      <td>3988845</td>\n",
       "      <td>77</td>\n",
       "    </tr>\n",
       "    <tr>\n",
       "      <th>max</th>\n",
       "      <td>106180432</td>\n",
       "      <td>100</td>\n",
       "    </tr>\n",
       "  </tbody>\n",
       "</table>\n",
       "</div>"
      ],
      "text/plain": [
       "      followers  popularity\n",
       "mean    5437306          56\n",
       "std    13711625          23\n",
       "min           0           0\n",
       "25%        7887          38\n",
       "50%      225329          59\n",
       "75%     3988845          77\n",
       "max   106180432         100"
      ]
     },
     "execution_count": 54,
     "metadata": {},
     "output_type": "execute_result"
    }
   ],
   "source": [
    "data_description = raw_data.describe().astype('int').drop('count')\n",
    "data_description"
   ]
  },
  {
   "cell_type": "code",
   "execution_count": 55,
   "metadata": {},
   "outputs": [
    {
     "data": {
      "text/plain": [
       "<AxesSubplot:>"
      ]
     },
     "execution_count": 55,
     "metadata": {},
     "output_type": "execute_result"
    },
    {
     "data": {
      "image/png": "[encoded data removed]",
      "text/plain": [
       "<Figure size 1000x500 with 1 Axes>"
      ]
     },
     "metadata": {},
     "output_type": "display_data"
    }
   ],
   "source": [
    "data_description['followers'].plot.barh(figsize=(10, 5))"
   ]
  },
  {
   "attachments": {},
   "cell_type": "markdown",
   "metadata": {},
   "source": [
    "Categorical column:"
   ]
  },
  {
   "cell_type": "code",
   "execution_count": 35,
   "metadata": {},
   "outputs": [
    {
     "data": {
      "text/html": [
       "<div>\n",
       "<style scoped>\n",
       "    .dataframe tbody tr th:only-of-type {\n",
       "        vertical-align: middle;\n",
       "    }\n",
       "\n",
       "    .dataframe tbody tr th {\n",
       "        vertical-align: top;\n",
       "    }\n",
       "\n",
       "    .dataframe thead th {\n",
       "        text-align: right;\n",
       "    }\n",
       "</style>\n",
       "<table border=\"1\" class=\"dataframe\">\n",
       "  <thead>\n",
       "    <tr style=\"text-align: right;\">\n",
       "      <th></th>\n",
       "      <th>genres</th>\n",
       "    </tr>\n",
       "  </thead>\n",
       "  <tbody>\n",
       "    <tr>\n",
       "      <th>missing_ratio</th>\n",
       "      <td>20.021834</td>\n",
       "    </tr>\n",
       "    <tr>\n",
       "      <th>num_diff_vals</th>\n",
       "      <td>1158</td>\n",
       "    </tr>\n",
       "    <tr>\n",
       "      <th>diff_vals</th>\n",
       "      <td>[dance pop, pop, pop dance, post-teen pop, tro...</td>\n",
       "    </tr>\n",
       "  </tbody>\n",
       "</table>\n",
       "</div>"
      ],
      "text/plain": [
       "                                                          genres\n",
       "missing_ratio                                          20.021834\n",
       "num_diff_vals                                               1158\n",
       "diff_vals      [dance pop, pop, pop dance, post-teen pop, tro..."
      ]
     },
     "execution_count": 35,
     "metadata": {},
     "output_type": "execute_result"
    }
   ],
   "source": [
    "raw_data[['genres']].agg([missing_ratio, num_diff_vals, diff_vals]).round(2)"
   ]
  },
  {
   "attachments": {},
   "cell_type": "markdown",
   "metadata": {},
   "source": [
    "### II. Check duplicated artists and get the number of unique artists"
   ]
  },
  {
   "cell_type": "markdown",
   "metadata": {},
   "source": [
    "Number of dupicated artists:"
   ]
  },
  {
   "cell_type": "code",
   "execution_count": 61,
   "metadata": {},
   "outputs": [
    {
     "data": {
      "text/plain": [
       "2218"
      ]
     },
     "execution_count": 61,
     "metadata": {},
     "output_type": "execute_result"
    }
   ],
   "source": [
    "raw_data.duplicated().sum()"
   ]
  },
  {
   "cell_type": "code",
   "execution_count": 73,
   "metadata": {},
   "outputs": [
    {
     "data": {
      "text/html": [
       "<div>\n",
       "<style scoped>\n",
       "    .dataframe tbody tr th:only-of-type {\n",
       "        vertical-align: middle;\n",
       "    }\n",
       "\n",
       "    .dataframe tbody tr th {\n",
       "        vertical-align: top;\n",
       "    }\n",
       "\n",
       "    .dataframe thead th {\n",
       "        text-align: right;\n",
       "    }\n",
       "</style>\n",
       "<table border=\"1\" class=\"dataframe\">\n",
       "  <thead>\n",
       "    <tr style=\"text-align: right;\">\n",
       "      <th></th>\n",
       "      <th>id</th>\n",
       "      <th>name</th>\n",
       "      <th>genres</th>\n",
       "      <th>followers</th>\n",
       "      <th>popularity</th>\n",
       "    </tr>\n",
       "  </thead>\n",
       "  <tbody>\n",
       "    <tr>\n",
       "      <th>7</th>\n",
       "      <td>0KWdVd7ZYhtlm0CLHIFBya</td>\n",
       "      <td>Bằng Kiều</td>\n",
       "      <td>v-pop, vietnamese pop</td>\n",
       "      <td>441461</td>\n",
       "      <td>45</td>\n",
       "    </tr>\n",
       "    <tr>\n",
       "      <th>8</th>\n",
       "      <td>0KWdVd7ZYhtlm0CLHIFBya</td>\n",
       "      <td>Bằng Kiều</td>\n",
       "      <td>v-pop, vietnamese pop</td>\n",
       "      <td>441461</td>\n",
       "      <td>45</td>\n",
       "    </tr>\n",
       "    <tr>\n",
       "      <th>19</th>\n",
       "      <td>1HY2Jd0NmPuamShAr6KMms</td>\n",
       "      <td>Lady Gaga</td>\n",
       "      <td>art pop, dance pop, pop</td>\n",
       "      <td>24153364</td>\n",
       "      <td>86</td>\n",
       "    </tr>\n",
       "    <tr>\n",
       "      <th>67</th>\n",
       "      <td>66CXWjxzNUsdJxJ2JdwvnR</td>\n",
       "      <td>Ariana Grande</td>\n",
       "      <td>dance pop, pop</td>\n",
       "      <td>85693637</td>\n",
       "      <td>90</td>\n",
       "    </tr>\n",
       "    <tr>\n",
       "      <th>70</th>\n",
       "      <td>66CXWjxzNUsdJxJ2JdwvnR</td>\n",
       "      <td>Ariana Grande</td>\n",
       "      <td>dance pop, pop</td>\n",
       "      <td>85693637</td>\n",
       "      <td>90</td>\n",
       "    </tr>\n",
       "    <tr>\n",
       "      <th>...</th>\n",
       "      <td>...</td>\n",
       "      <td>...</td>\n",
       "      <td>...</td>\n",
       "      <td>...</td>\n",
       "      <td>...</td>\n",
       "    </tr>\n",
       "    <tr>\n",
       "      <th>4573</th>\n",
       "      <td>3qvcCP2J0fWi0m0uQDUf6r</td>\n",
       "      <td>Luan Santana</td>\n",
       "      <td>arrocha, sertanejo, sertanejo pop, sertanejo u...</td>\n",
       "      <td>6668391</td>\n",
       "      <td>75</td>\n",
       "    </tr>\n",
       "    <tr>\n",
       "      <th>4574</th>\n",
       "      <td>3qvcCP2J0fWi0m0uQDUf6r</td>\n",
       "      <td>Luan Santana</td>\n",
       "      <td>arrocha, sertanejo, sertanejo pop, sertanejo u...</td>\n",
       "      <td>6668391</td>\n",
       "      <td>75</td>\n",
       "    </tr>\n",
       "    <tr>\n",
       "      <th>4575</th>\n",
       "      <td>3qvcCP2J0fWi0m0uQDUf6r</td>\n",
       "      <td>Luan Santana</td>\n",
       "      <td>arrocha, sertanejo, sertanejo pop, sertanejo u...</td>\n",
       "      <td>6668391</td>\n",
       "      <td>75</td>\n",
       "    </tr>\n",
       "    <tr>\n",
       "      <th>4576</th>\n",
       "      <td>3qvcCP2J0fWi0m0uQDUf6r</td>\n",
       "      <td>Luan Santana</td>\n",
       "      <td>arrocha, sertanejo, sertanejo pop, sertanejo u...</td>\n",
       "      <td>6668391</td>\n",
       "      <td>75</td>\n",
       "    </tr>\n",
       "    <tr>\n",
       "      <th>4578</th>\n",
       "      <td>3qvcCP2J0fWi0m0uQDUf6r</td>\n",
       "      <td>Luan Santana</td>\n",
       "      <td>arrocha, sertanejo, sertanejo pop, sertanejo u...</td>\n",
       "      <td>6668391</td>\n",
       "      <td>75</td>\n",
       "    </tr>\n",
       "  </tbody>\n",
       "</table>\n",
       "<p>2218 rows × 5 columns</p>\n",
       "</div>"
      ],
      "text/plain": [
       "                          id           name  \\\n",
       "7     0KWdVd7ZYhtlm0CLHIFBya      Bằng Kiều   \n",
       "8     0KWdVd7ZYhtlm0CLHIFBya      Bằng Kiều   \n",
       "19    1HY2Jd0NmPuamShAr6KMms      Lady Gaga   \n",
       "67    66CXWjxzNUsdJxJ2JdwvnR  Ariana Grande   \n",
       "70    66CXWjxzNUsdJxJ2JdwvnR  Ariana Grande   \n",
       "...                      ...            ...   \n",
       "4573  3qvcCP2J0fWi0m0uQDUf6r   Luan Santana   \n",
       "4574  3qvcCP2J0fWi0m0uQDUf6r   Luan Santana   \n",
       "4575  3qvcCP2J0fWi0m0uQDUf6r   Luan Santana   \n",
       "4576  3qvcCP2J0fWi0m0uQDUf6r   Luan Santana   \n",
       "4578  3qvcCP2J0fWi0m0uQDUf6r   Luan Santana   \n",
       "\n",
       "                                                 genres  followers  popularity  \n",
       "7                                 v-pop, vietnamese pop     441461          45  \n",
       "8                                 v-pop, vietnamese pop     441461          45  \n",
       "19                              art pop, dance pop, pop   24153364          86  \n",
       "67                                       dance pop, pop   85693637          90  \n",
       "70                                       dance pop, pop   85693637          90  \n",
       "...                                                 ...        ...         ...  \n",
       "4573  arrocha, sertanejo, sertanejo pop, sertanejo u...    6668391          75  \n",
       "4574  arrocha, sertanejo, sertanejo pop, sertanejo u...    6668391          75  \n",
       "4575  arrocha, sertanejo, sertanejo pop, sertanejo u...    6668391          75  \n",
       "4576  arrocha, sertanejo, sertanejo pop, sertanejo u...    6668391          75  \n",
       "4578  arrocha, sertanejo, sertanejo pop, sertanejo u...    6668391          75  \n",
       "\n",
       "[2218 rows x 5 columns]"
      ]
     },
     "execution_count": 73,
     "metadata": {},
     "output_type": "execute_result"
    }
   ],
   "source": [
    "raw_data[raw_data.duplicated()]"
   ]
  },
  {
   "cell_type": "markdown",
   "metadata": {},
   "source": [
    "Number of unique artists:"
   ]
  },
  {
   "cell_type": "code",
   "execution_count": 74,
   "metadata": {},
   "outputs": [
    {
     "data": {
      "text/plain": [
       "2362"
      ]
     },
     "execution_count": 74,
     "metadata": {},
     "output_type": "execute_result"
    }
   ],
   "source": [
    "raw_data['id'].nunique()"
   ]
  },
  {
   "attachments": {},
   "cell_type": "markdown",
   "metadata": {},
   "source": [
    "### III. Data Preprocessing"
   ]
  },
  {
   "attachments": {},
   "cell_type": "markdown",
   "metadata": {},
   "source": [
    "#### 1. Drop rows with null values in \"genres\" column"
   ]
  },
  {
   "cell_type": "code",
   "execution_count": 75,
   "metadata": {},
   "outputs": [
    {
     "data": {
      "text/plain": [
       "917"
      ]
     },
     "execution_count": 75,
     "metadata": {},
     "output_type": "execute_result"
    }
   ],
   "source": [
    "raw_data['genres'].isnull().sum()"
   ]
  },
  {
   "cell_type": "code",
   "execution_count": 76,
   "metadata": {},
   "outputs": [
    {
     "data": {
      "text/html": [
       "<div>\n",
       "<style scoped>\n",
       "    .dataframe tbody tr th:only-of-type {\n",
       "        vertical-align: middle;\n",
       "    }\n",
       "\n",
       "    .dataframe tbody tr th {\n",
       "        vertical-align: top;\n",
       "    }\n",
       "\n",
       "    .dataframe thead th {\n",
       "        text-align: right;\n",
       "    }\n",
       "</style>\n",
       "<table border=\"1\" class=\"dataframe\">\n",
       "  <thead>\n",
       "    <tr style=\"text-align: right;\">\n",
       "      <th></th>\n",
       "      <th>id</th>\n",
       "      <th>name</th>\n",
       "      <th>genres</th>\n",
       "      <th>followers</th>\n",
       "      <th>popularity</th>\n",
       "    </tr>\n",
       "  </thead>\n",
       "  <tbody>\n",
       "    <tr>\n",
       "      <th>0</th>\n",
       "      <td>1zNqDE7qDGCsyzJwohVaoX</td>\n",
       "      <td>Anne-Marie</td>\n",
       "      <td>dance pop, pop, pop dance, post-teen pop, trop...</td>\n",
       "      <td>10348417</td>\n",
       "      <td>78</td>\n",
       "    </tr>\n",
       "    <tr>\n",
       "      <th>1</th>\n",
       "      <td>47mIJdHORyRerp4os813jD</td>\n",
       "      <td>League of Legends</td>\n",
       "      <td>speedrun, video game music</td>\n",
       "      <td>1535282</td>\n",
       "      <td>80</td>\n",
       "    </tr>\n",
       "    <tr>\n",
       "      <th>2</th>\n",
       "      <td>5ehbiyqYPwIDaUY4AxrhVq</td>\n",
       "      <td>Mademoiselle</td>\n",
       "      <td>indie viet, vietnamese singer-songwriter</td>\n",
       "      <td>48470</td>\n",
       "      <td>32</td>\n",
       "    </tr>\n",
       "    <tr>\n",
       "      <th>3</th>\n",
       "      <td>7uMSsrbX9MJzf161IcY7KU</td>\n",
       "      <td>Logan Paul</td>\n",
       "      <td>social media pop</td>\n",
       "      <td>948423</td>\n",
       "      <td>43</td>\n",
       "    </tr>\n",
       "    <tr>\n",
       "      <th>4</th>\n",
       "      <td>0KWdVd7ZYhtlm0CLHIFBya</td>\n",
       "      <td>Bằng Kiều</td>\n",
       "      <td>v-pop, vietnamese pop</td>\n",
       "      <td>441461</td>\n",
       "      <td>45</td>\n",
       "    </tr>\n",
       "    <tr>\n",
       "      <th>...</th>\n",
       "      <td>...</td>\n",
       "      <td>...</td>\n",
       "      <td>...</td>\n",
       "      <td>...</td>\n",
       "      <td>...</td>\n",
       "    </tr>\n",
       "    <tr>\n",
       "      <th>3658</th>\n",
       "      <td>3qvcCP2J0fWi0m0uQDUf6r</td>\n",
       "      <td>Luan Santana</td>\n",
       "      <td>arrocha, sertanejo, sertanejo pop, sertanejo u...</td>\n",
       "      <td>6668391</td>\n",
       "      <td>75</td>\n",
       "    </tr>\n",
       "    <tr>\n",
       "      <th>3659</th>\n",
       "      <td>3qvcCP2J0fWi0m0uQDUf6r</td>\n",
       "      <td>Luan Santana</td>\n",
       "      <td>arrocha, sertanejo, sertanejo pop, sertanejo u...</td>\n",
       "      <td>6668391</td>\n",
       "      <td>75</td>\n",
       "    </tr>\n",
       "    <tr>\n",
       "      <th>3660</th>\n",
       "      <td>7Lmrb6KcIzfkmgbtokjsAL</td>\n",
       "      <td>Mc Don Juan</td>\n",
       "      <td>arrocha, batidao romantico, funk carioca, funk...</td>\n",
       "      <td>4810092</td>\n",
       "      <td>76</td>\n",
       "    </tr>\n",
       "    <tr>\n",
       "      <th>3661</th>\n",
       "      <td>3qvcCP2J0fWi0m0uQDUf6r</td>\n",
       "      <td>Luan Santana</td>\n",
       "      <td>arrocha, sertanejo, sertanejo pop, sertanejo u...</td>\n",
       "      <td>6668391</td>\n",
       "      <td>75</td>\n",
       "    </tr>\n",
       "    <tr>\n",
       "      <th>3662</th>\n",
       "      <td>4PzYKhC14sTJNEr0dzoo0d</td>\n",
       "      <td>Luísa Sonza</td>\n",
       "      <td>funk carioca, pop nacional</td>\n",
       "      <td>4068422</td>\n",
       "      <td>75</td>\n",
       "    </tr>\n",
       "  </tbody>\n",
       "</table>\n",
       "<p>3663 rows × 5 columns</p>\n",
       "</div>"
      ],
      "text/plain": [
       "                          id               name  \\\n",
       "0     1zNqDE7qDGCsyzJwohVaoX         Anne-Marie   \n",
       "1     47mIJdHORyRerp4os813jD  League of Legends   \n",
       "2     5ehbiyqYPwIDaUY4AxrhVq       Mademoiselle   \n",
       "3     7uMSsrbX9MJzf161IcY7KU         Logan Paul   \n",
       "4     0KWdVd7ZYhtlm0CLHIFBya          Bằng Kiều   \n",
       "...                      ...                ...   \n",
       "3658  3qvcCP2J0fWi0m0uQDUf6r       Luan Santana   \n",
       "3659  3qvcCP2J0fWi0m0uQDUf6r       Luan Santana   \n",
       "3660  7Lmrb6KcIzfkmgbtokjsAL        Mc Don Juan   \n",
       "3661  3qvcCP2J0fWi0m0uQDUf6r       Luan Santana   \n",
       "3662  4PzYKhC14sTJNEr0dzoo0d        Luísa Sonza   \n",
       "\n",
       "                                                 genres  followers  popularity  \n",
       "0     dance pop, pop, pop dance, post-teen pop, trop...   10348417          78  \n",
       "1                            speedrun, video game music    1535282          80  \n",
       "2              indie viet, vietnamese singer-songwriter      48470          32  \n",
       "3                                      social media pop     948423          43  \n",
       "4                                 v-pop, vietnamese pop     441461          45  \n",
       "...                                                 ...        ...         ...  \n",
       "3658  arrocha, sertanejo, sertanejo pop, sertanejo u...    6668391          75  \n",
       "3659  arrocha, sertanejo, sertanejo pop, sertanejo u...    6668391          75  \n",
       "3660  arrocha, batidao romantico, funk carioca, funk...    4810092          76  \n",
       "3661  arrocha, sertanejo, sertanejo pop, sertanejo u...    6668391          75  \n",
       "3662                         funk carioca, pop nacional    4068422          75  \n",
       "\n",
       "[3663 rows x 5 columns]"
      ]
     },
     "execution_count": 76,
     "metadata": {},
     "output_type": "execute_result"
    }
   ],
   "source": [
    "handled_data = raw_data.dropna(how='any',axis=0) \n",
    "handled_data = handled_data.reset_index(drop=True)\n",
    "handled_data"
   ]
  },
  {
   "attachments": {},
   "cell_type": "markdown",
   "metadata": {},
   "source": [
    "#### 2. Drop duplicated rows"
   ]
  },
  {
   "cell_type": "code",
   "execution_count": 77,
   "metadata": {},
   "outputs": [
    {
     "data": {
      "text/html": [
       "<div>\n",
       "<style scoped>\n",
       "    .dataframe tbody tr th:only-of-type {\n",
       "        vertical-align: middle;\n",
       "    }\n",
       "\n",
       "    .dataframe tbody tr th {\n",
       "        vertical-align: top;\n",
       "    }\n",
       "\n",
       "    .dataframe thead th {\n",
       "        text-align: right;\n",
       "    }\n",
       "</style>\n",
       "<table border=\"1\" class=\"dataframe\">\n",
       "  <thead>\n",
       "    <tr style=\"text-align: right;\">\n",
       "      <th></th>\n",
       "      <th>id</th>\n",
       "      <th>name</th>\n",
       "      <th>genres</th>\n",
       "      <th>followers</th>\n",
       "      <th>popularity</th>\n",
       "    </tr>\n",
       "  </thead>\n",
       "  <tbody>\n",
       "    <tr>\n",
       "      <th>0</th>\n",
       "      <td>1zNqDE7qDGCsyzJwohVaoX</td>\n",
       "      <td>Anne-Marie</td>\n",
       "      <td>dance pop, pop, pop dance, post-teen pop, trop...</td>\n",
       "      <td>10348417</td>\n",
       "      <td>78</td>\n",
       "    </tr>\n",
       "    <tr>\n",
       "      <th>1</th>\n",
       "      <td>74JtukKDc5wZJcARxGgbC3</td>\n",
       "      <td>De La Vega</td>\n",
       "      <td>NaN</td>\n",
       "      <td>176</td>\n",
       "      <td>19</td>\n",
       "    </tr>\n",
       "    <tr>\n",
       "      <th>2</th>\n",
       "      <td>47mIJdHORyRerp4os813jD</td>\n",
       "      <td>League of Legends</td>\n",
       "      <td>speedrun, video game music</td>\n",
       "      <td>1535282</td>\n",
       "      <td>80</td>\n",
       "    </tr>\n",
       "    <tr>\n",
       "      <th>3</th>\n",
       "      <td>518WSacVSStYMaXDTvO0oj</td>\n",
       "      <td>Zandu Max</td>\n",
       "      <td>NaN</td>\n",
       "      <td>14</td>\n",
       "      <td>20</td>\n",
       "    </tr>\n",
       "    <tr>\n",
       "      <th>4</th>\n",
       "      <td>5ehbiyqYPwIDaUY4AxrhVq</td>\n",
       "      <td>Mademoiselle</td>\n",
       "      <td>indie viet, vietnamese singer-songwriter</td>\n",
       "      <td>48470</td>\n",
       "      <td>32</td>\n",
       "    </tr>\n",
       "    <tr>\n",
       "      <th>...</th>\n",
       "      <td>...</td>\n",
       "      <td>...</td>\n",
       "      <td>...</td>\n",
       "      <td>...</td>\n",
       "      <td>...</td>\n",
       "    </tr>\n",
       "    <tr>\n",
       "      <th>2357</th>\n",
       "      <td>2iE18Oxc8YSumAU232n4rW</td>\n",
       "      <td>The Jackson 5</td>\n",
       "      <td>adult standards, motown</td>\n",
       "      <td>1315637</td>\n",
       "      <td>74</td>\n",
       "    </tr>\n",
       "    <tr>\n",
       "      <th>2358</th>\n",
       "      <td>4hlUIRQCAtCnIO4mh0jvpq</td>\n",
       "      <td>Xenia</td>\n",
       "      <td>deep talent show</td>\n",
       "      <td>2019</td>\n",
       "      <td>27</td>\n",
       "    </tr>\n",
       "    <tr>\n",
       "      <th>2359</th>\n",
       "      <td>3p7PcrEHaaKLJnPUGOtRlT</td>\n",
       "      <td>Henrique &amp; Juliano</td>\n",
       "      <td>arrocha, sertanejo universitario</td>\n",
       "      <td>17281507</td>\n",
       "      <td>81</td>\n",
       "    </tr>\n",
       "    <tr>\n",
       "      <th>2360</th>\n",
       "      <td>7Lmrb6KcIzfkmgbtokjsAL</td>\n",
       "      <td>Mc Don Juan</td>\n",
       "      <td>arrocha, batidao romantico, funk carioca, funk...</td>\n",
       "      <td>4810092</td>\n",
       "      <td>76</td>\n",
       "    </tr>\n",
       "    <tr>\n",
       "      <th>2361</th>\n",
       "      <td>4PzYKhC14sTJNEr0dzoo0d</td>\n",
       "      <td>Luísa Sonza</td>\n",
       "      <td>funk carioca, pop nacional</td>\n",
       "      <td>4068422</td>\n",
       "      <td>75</td>\n",
       "    </tr>\n",
       "  </tbody>\n",
       "</table>\n",
       "<p>2362 rows × 5 columns</p>\n",
       "</div>"
      ],
      "text/plain": [
       "                          id                name  \\\n",
       "0     1zNqDE7qDGCsyzJwohVaoX          Anne-Marie   \n",
       "1     74JtukKDc5wZJcARxGgbC3          De La Vega   \n",
       "2     47mIJdHORyRerp4os813jD   League of Legends   \n",
       "3     518WSacVSStYMaXDTvO0oj           Zandu Max   \n",
       "4     5ehbiyqYPwIDaUY4AxrhVq        Mademoiselle   \n",
       "...                      ...                 ...   \n",
       "2357  2iE18Oxc8YSumAU232n4rW       The Jackson 5   \n",
       "2358  4hlUIRQCAtCnIO4mh0jvpq               Xenia   \n",
       "2359  3p7PcrEHaaKLJnPUGOtRlT  Henrique & Juliano   \n",
       "2360  7Lmrb6KcIzfkmgbtokjsAL         Mc Don Juan   \n",
       "2361  4PzYKhC14sTJNEr0dzoo0d         Luísa Sonza   \n",
       "\n",
       "                                                 genres  followers  popularity  \n",
       "0     dance pop, pop, pop dance, post-teen pop, trop...   10348417          78  \n",
       "1                                                   NaN        176          19  \n",
       "2                            speedrun, video game music    1535282          80  \n",
       "3                                                   NaN         14          20  \n",
       "4              indie viet, vietnamese singer-songwriter      48470          32  \n",
       "...                                                 ...        ...         ...  \n",
       "2357                            adult standards, motown    1315637          74  \n",
       "2358                                   deep talent show       2019          27  \n",
       "2359                   arrocha, sertanejo universitario   17281507          81  \n",
       "2360  arrocha, batidao romantico, funk carioca, funk...    4810092          76  \n",
       "2361                         funk carioca, pop nacional    4068422          75  \n",
       "\n",
       "[2362 rows x 5 columns]"
      ]
     },
     "execution_count": 77,
     "metadata": {},
     "output_type": "execute_result"
    }
   ],
   "source": [
    "unique_data = raw_data.drop_duplicates(subset=['id'], keep='first')\n",
    "unique_data = unique_data.reset_index(drop=True)\n",
    "unique_data"
   ]
  },
  {
   "attachments": {},
   "cell_type": "markdown",
   "metadata": {},
   "source": [
    "### IV. Tracks participation of artists"
   ]
  },
  {
   "cell_type": "markdown",
   "metadata": {},
   "source": [
    "Counting artists occurences:"
   ]
  },
  {
   "cell_type": "code",
   "execution_count": 78,
   "metadata": {},
   "outputs": [
    {
     "data": {
      "text/html": [
       "<div>\n",
       "<style scoped>\n",
       "    .dataframe tbody tr th:only-of-type {\n",
       "        vertical-align: middle;\n",
       "    }\n",
       "\n",
       "    .dataframe tbody tr th {\n",
       "        vertical-align: top;\n",
       "    }\n",
       "\n",
       "    .dataframe thead th {\n",
       "        text-align: right;\n",
       "    }\n",
       "</style>\n",
       "<table border=\"1\" class=\"dataframe\">\n",
       "  <thead>\n",
       "    <tr style=\"text-align: right;\">\n",
       "      <th></th>\n",
       "      <th>id</th>\n",
       "      <th>name</th>\n",
       "      <th>genres</th>\n",
       "      <th>followers</th>\n",
       "      <th>popularity</th>\n",
       "      <th>size</th>\n",
       "    </tr>\n",
       "  </thead>\n",
       "  <tbody>\n",
       "    <tr>\n",
       "      <th>0</th>\n",
       "      <td>008PpLcKUtVXle6JSwkq3I</td>\n",
       "      <td>Emiway Bantai</td>\n",
       "      <td>desi hip hop, desi pop, desi trap, hindi hip hop</td>\n",
       "      <td>2670105</td>\n",
       "      <td>63</td>\n",
       "      <td>1</td>\n",
       "    </tr>\n",
       "    <tr>\n",
       "      <th>1</th>\n",
       "      <td>00FQb4jTyendYWaN8pK0wa</td>\n",
       "      <td>Lana Del Rey</td>\n",
       "      <td>art pop, pop</td>\n",
       "      <td>19353542</td>\n",
       "      <td>89</td>\n",
       "      <td>2</td>\n",
       "    </tr>\n",
       "    <tr>\n",
       "      <th>2</th>\n",
       "      <td>00J5DWQel4eH9qQnDS6qrn</td>\n",
       "      <td>トライセラトップス</td>\n",
       "      <td>j-rock</td>\n",
       "      <td>34781</td>\n",
       "      <td>31</td>\n",
       "      <td>1</td>\n",
       "    </tr>\n",
       "    <tr>\n",
       "      <th>3</th>\n",
       "      <td>00XhexlJEXQstHimpZN910</td>\n",
       "      <td>Brytiago</td>\n",
       "      <td>latin hip hop, reggaeton, reggaeton flow, trap...</td>\n",
       "      <td>5713502</td>\n",
       "      <td>74</td>\n",
       "      <td>1</td>\n",
       "    </tr>\n",
       "    <tr>\n",
       "      <th>4</th>\n",
       "      <td>00sCATpEvwH48ays7PlQFU</td>\n",
       "      <td>Jonita Gandhi</td>\n",
       "      <td>modern bollywood</td>\n",
       "      <td>809069</td>\n",
       "      <td>72</td>\n",
       "      <td>1</td>\n",
       "    </tr>\n",
       "    <tr>\n",
       "      <th>...</th>\n",
       "      <td>...</td>\n",
       "      <td>...</td>\n",
       "      <td>...</td>\n",
       "      <td>...</td>\n",
       "      <td>...</td>\n",
       "      <td>...</td>\n",
       "    </tr>\n",
       "    <tr>\n",
       "      <th>1612</th>\n",
       "      <td>7yL97o50EXql8p3iFo6MHe</td>\n",
       "      <td>Jake Eaw</td>\n",
       "      <td>anime piano</td>\n",
       "      <td>1713</td>\n",
       "      <td>42</td>\n",
       "      <td>9</td>\n",
       "    </tr>\n",
       "    <tr>\n",
       "      <th>1613</th>\n",
       "      <td>7yMsPDVWbKMiydMoWQvSkH</td>\n",
       "      <td>Sonideros en Vivo</td>\n",
       "      <td>cumbia sonidera</td>\n",
       "      <td>12031</td>\n",
       "      <td>44</td>\n",
       "      <td>1</td>\n",
       "    </tr>\n",
       "    <tr>\n",
       "      <th>1614</th>\n",
       "      <td>7z2avKuuiMAT4XZJFv8Rvh</td>\n",
       "      <td>Tom Walker</td>\n",
       "      <td>indie anthem-folk, pop, uk pop</td>\n",
       "      <td>1005345</td>\n",
       "      <td>68</td>\n",
       "      <td>1</td>\n",
       "    </tr>\n",
       "    <tr>\n",
       "      <th>1615</th>\n",
       "      <td>7z5WFjZAIYejWy0NI5lv4T</td>\n",
       "      <td>Dan + Shay</td>\n",
       "      <td>contemporary country, country, country road, pop</td>\n",
       "      <td>2805227</td>\n",
       "      <td>73</td>\n",
       "      <td>2</td>\n",
       "    </tr>\n",
       "    <tr>\n",
       "      <th>1616</th>\n",
       "      <td>7zFlr6Y537SdALqy0Xfvth</td>\n",
       "      <td>Ranjith Govind</td>\n",
       "      <td>filmi, tamil pop</td>\n",
       "      <td>748204</td>\n",
       "      <td>61</td>\n",
       "      <td>1</td>\n",
       "    </tr>\n",
       "  </tbody>\n",
       "</table>\n",
       "<p>1617 rows × 6 columns</p>\n",
       "</div>"
      ],
      "text/plain": [
       "                          id               name  \\\n",
       "0     008PpLcKUtVXle6JSwkq3I      Emiway Bantai   \n",
       "1     00FQb4jTyendYWaN8pK0wa       Lana Del Rey   \n",
       "2     00J5DWQel4eH9qQnDS6qrn          トライセラトップス   \n",
       "3     00XhexlJEXQstHimpZN910           Brytiago   \n",
       "4     00sCATpEvwH48ays7PlQFU      Jonita Gandhi   \n",
       "...                      ...                ...   \n",
       "1612  7yL97o50EXql8p3iFo6MHe           Jake Eaw   \n",
       "1613  7yMsPDVWbKMiydMoWQvSkH  Sonideros en Vivo   \n",
       "1614  7z2avKuuiMAT4XZJFv8Rvh         Tom Walker   \n",
       "1615  7z5WFjZAIYejWy0NI5lv4T         Dan + Shay   \n",
       "1616  7zFlr6Y537SdALqy0Xfvth     Ranjith Govind   \n",
       "\n",
       "                                                 genres  followers  \\\n",
       "0      desi hip hop, desi pop, desi trap, hindi hip hop    2670105   \n",
       "1                                          art pop, pop   19353542   \n",
       "2                                                j-rock      34781   \n",
       "3     latin hip hop, reggaeton, reggaeton flow, trap...    5713502   \n",
       "4                                      modern bollywood     809069   \n",
       "...                                                 ...        ...   \n",
       "1612                                        anime piano       1713   \n",
       "1613                                    cumbia sonidera      12031   \n",
       "1614                     indie anthem-folk, pop, uk pop    1005345   \n",
       "1615   contemporary country, country, country road, pop    2805227   \n",
       "1616                                   filmi, tamil pop     748204   \n",
       "\n",
       "      popularity  size  \n",
       "0             63     1  \n",
       "1             89     2  \n",
       "2             31     1  \n",
       "3             74     1  \n",
       "4             72     1  \n",
       "...          ...   ...  \n",
       "1612          42     9  \n",
       "1613          44     1  \n",
       "1614          68     1  \n",
       "1615          73     2  \n",
       "1616          61     1  \n",
       "\n",
       "[1617 rows x 6 columns]"
      ]
     },
     "execution_count": 78,
     "metadata": {},
     "output_type": "execute_result"
    }
   ],
   "source": [
    "occurence_count = raw_data.groupby(raw_data.columns.to_list(), as_index=False).size()\n",
    "occurence_count"
   ]
  },
  {
   "cell_type": "markdown",
   "metadata": {},
   "source": [
    "The most frequent artist:"
   ]
  },
  {
   "cell_type": "code",
   "execution_count": 79,
   "metadata": {},
   "outputs": [
    {
     "data": {
      "text/plain": [
       "id            2dIgFjalVxs4ThymZ67YCE\n",
       "name                      Stray Kids\n",
       "genres        k-pop, k-pop boy group\n",
       "followers                    9808521\n",
       "popularity                        82\n",
       "size                              40\n",
       "Name: 521, dtype: object"
      ]
     },
     "execution_count": 79,
     "metadata": {},
     "output_type": "execute_result"
    }
   ],
   "source": [
    "occurence_count.loc[occurence_count['size'].idxmax()]"
   ]
  },
  {
   "attachments": {},
   "cell_type": "markdown",
   "metadata": {},
   "source": [
    "### V. Compute artists correlation"
   ]
  },
  {
   "cell_type": "code",
   "execution_count": 80,
   "metadata": {},
   "outputs": [
    {
     "data": {
      "text/html": [
       "<div>\n",
       "<style scoped>\n",
       "    .dataframe tbody tr th:only-of-type {\n",
       "        vertical-align: middle;\n",
       "    }\n",
       "\n",
       "    .dataframe tbody tr th {\n",
       "        vertical-align: top;\n",
       "    }\n",
       "\n",
       "    .dataframe thead th {\n",
       "        text-align: right;\n",
       "    }\n",
       "</style>\n",
       "<table border=\"1\" class=\"dataframe\">\n",
       "  <thead>\n",
       "    <tr style=\"text-align: right;\">\n",
       "      <th></th>\n",
       "      <th>followers</th>\n",
       "      <th>popularity</th>\n",
       "    </tr>\n",
       "  </thead>\n",
       "  <tbody>\n",
       "    <tr>\n",
       "      <th>followers</th>\n",
       "      <td>1.000000</td>\n",
       "      <td>0.929621</td>\n",
       "    </tr>\n",
       "    <tr>\n",
       "      <th>popularity</th>\n",
       "      <td>0.929621</td>\n",
       "      <td>1.000000</td>\n",
       "    </tr>\n",
       "  </tbody>\n",
       "</table>\n",
       "</div>"
      ],
      "text/plain": [
       "            followers  popularity\n",
       "followers    1.000000    0.929621\n",
       "popularity   0.929621    1.000000"
      ]
     },
     "execution_count": 80,
     "metadata": {},
     "output_type": "execute_result"
    }
   ],
   "source": [
    "raw_data.corr(method=\"spearman\")"
   ]
  },
  {
   "attachments": {},
   "cell_type": "markdown",
   "metadata": {},
   "source": [
    "### VI. Answering meaningful questions"
   ]
  },
  {
   "attachments": {},
   "cell_type": "markdown",
   "metadata": {},
   "source": [
    "#### 1. From 2020 to 2022, which are the hottest genres ?"
   ]
  },
  {
   "cell_type": "code",
   "execution_count": 81,
   "metadata": {},
   "outputs": [
    {
     "data": {
      "text/plain": [
       "<AxesSubplot:>"
      ]
     },
     "execution_count": 81,
     "metadata": {},
     "output_type": "execute_result"
    },
    {
     "data": {
      "image/png": "[encoded data removed]",
      "text/plain": [
       "<Figure size 500x400 with 1 Axes>"
      ]
     },
     "metadata": {},
     "output_type": "display_data"
    }
   ],
   "source": [
    "handled_data['genres'].str.split(', ').explode().value_counts().nlargest(10).plot.barh(figsize=(5,4), color='blue')"
   ]
  },
  {
   "attachments": {},
   "cell_type": "markdown",
   "metadata": {},
   "source": [
    "#### 2. From 2020 to 2022, which are the most frequent artists ?"
   ]
  },
  {
   "cell_type": "code",
   "execution_count": 82,
   "metadata": {},
   "outputs": [
    {
     "data": {
      "text/plain": [
       "<AxesSubplot:>"
      ]
     },
     "execution_count": 82,
     "metadata": {},
     "output_type": "execute_result"
    },
    {
     "data": {
      "image/png": "[encoded data removed]",
      "text/plain": [
       "<Figure size 700x500 with 1 Axes>"
      ]
     },
     "metadata": {},
     "output_type": "display_data"
    }
   ],
   "source": [
    "raw_data['name'].value_counts().nlargest(10).plot.barh(figsize=(7,5), color='navy')"
   ]
  },
  {
   "attachments": {},
   "cell_type": "markdown",
   "metadata": {},
   "source": [
    "#### 3. What is popularity distribution ?"
   ]
  },
  {
   "cell_type": "code",
   "execution_count": 83,
   "metadata": {},
   "outputs": [
    {
     "data": {
      "text/plain": [
       "count    98\n",
       "mean     24\n",
       "std      11\n",
       "min       1\n",
       "25%      15\n",
       "50%      26\n",
       "75%      32\n",
       "max      46\n",
       "Name: popularity, dtype: int64"
      ]
     },
     "execution_count": 83,
     "metadata": {},
     "output_type": "execute_result"
    }
   ],
   "source": [
    "unique_data['popularity'].value_counts().describe().astype(np.int64)"
   ]
  },
  {
   "cell_type": "code",
   "execution_count": 27,
   "metadata": {},
   "outputs": [
    {
     "data": {
      "text/plain": [
       "<AxesSubplot:>"
      ]
     },
     "execution_count": 27,
     "metadata": {},
     "output_type": "execute_result"
    },
    {
     "data": {
      "image/png": "[encoded data removed]",
      "text/plain": [
       "<Figure size 1500x500 with 1 Axes>"
      ]
     },
     "metadata": {},
     "output_type": "display_data"
    }
   ],
   "source": [
    "unique_data['popularity'].hist(figsize=(15,5))"
   ]
  },
  {
   "attachments": {},
   "cell_type": "markdown",
   "metadata": {},
   "source": [
    "#### 4. What is artists followers distribution ?"
   ]
  },
  {
   "cell_type": "code",
   "execution_count": 85,
   "metadata": {},
   "outputs": [
    {
     "data": {
      "text/plain": [
       "<AxesSubplot:xlabel='followers', ylabel='popularity'>"
      ]
     },
     "execution_count": 85,
     "metadata": {},
     "output_type": "execute_result"
    },
    {
     "data": {
      "image/png": "[encoded data removed]",
      "text/plain": [
       "<Figure size 1000x500 with 1 Axes>"
      ]
     },
     "metadata": {},
     "output_type": "display_data"
    }
   ],
   "source": [
    "unique_data.plot.scatter(x = 'followers', y = 'popularity', figsize=(10,5))"
   ]
  }
 ],
 "metadata": {
  "kernelspec": {
   "display_name": "Python 3.10.6 ('min_ds-env')",
   "language": "python",
   "name": "python3"
  },
  "language_info": {
   "codemirror_mode": {
    "name": "ipython",
    "version": 3
   },
   "file_extension": ".py",
   "mimetype": "text/x-python",
   "name": "python",
   "nbconvert_exporter": "python",
   "pygments_lexer": "ipython3",
   "version": "3.10.6"
  },
  "orig_nbformat": 4,
  "vscode": {
   "interpreter": {
    "hash": "3b298dc8b5ec9755d3b5e5b4831b9bf767d0a22ad509bcbd5b6f1f1a5498747c"
   }
  }
 },
 "nbformat": 4,
 "nbformat_minor": 2
}
