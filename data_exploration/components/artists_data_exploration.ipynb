{
 "cells": [
  {
   "cell_type": "code",
   "execution_count": 1,
   "metadata": {},
   "outputs": [],
   "source": [
    "import sys  \n",
    "sys.path.insert(0, '../../data')\n",
    "sys.path.insert(0, '../../data/description')"
   ]
  },
  {
   "cell_type": "code",
   "execution_count": 2,
   "metadata": {},
   "outputs": [],
   "source": [
    "import numpy as np\n",
    "import pandas as pd\n",
    "import matplotlib.pyplot as plt"
   ]
  },
  {
   "cell_type": "code",
   "execution_count": 3,
   "metadata": {},
   "outputs": [
    {
     "data": {
      "text/html": [
       "<div>\n",
       "<style scoped>\n",
       "    .dataframe tbody tr th:only-of-type {\n",
       "        vertical-align: middle;\n",
       "    }\n",
       "\n",
       "    .dataframe tbody tr th {\n",
       "        vertical-align: top;\n",
       "    }\n",
       "\n",
       "    .dataframe thead th {\n",
       "        text-align: right;\n",
       "    }\n",
       "</style>\n",
       "<table border=\"1\" class=\"dataframe\">\n",
       "  <thead>\n",
       "    <tr style=\"text-align: right;\">\n",
       "      <th></th>\n",
       "      <th>id</th>\n",
       "      <th>name</th>\n",
       "      <th>genres</th>\n",
       "      <th>followers</th>\n",
       "      <th>popularity</th>\n",
       "    </tr>\n",
       "  </thead>\n",
       "  <tbody>\n",
       "    <tr>\n",
       "      <th>0</th>\n",
       "      <td>1LEtM3AleYg1xabW6CRkpi</td>\n",
       "      <td>Đen</td>\n",
       "      <td>indie viet, v-pop, vietnamese hip hop, vietnam...</td>\n",
       "      <td>2899329</td>\n",
       "      <td>59</td>\n",
       "    </tr>\n",
       "    <tr>\n",
       "      <th>1</th>\n",
       "      <td>3rjcQ5VIWCN4q7UFetzdeO</td>\n",
       "      <td>JustaTee</td>\n",
       "      <td>v-pop, vietnamese hip hop, vietnamese melodic rap</td>\n",
       "      <td>618216</td>\n",
       "      <td>55</td>\n",
       "    </tr>\n",
       "    <tr>\n",
       "      <th>2</th>\n",
       "      <td>5fa13NJjmn2uQ3dxZDi2Ge</td>\n",
       "      <td>Bich Phuong</td>\n",
       "      <td>v-pop</td>\n",
       "      <td>1182922</td>\n",
       "      <td>46</td>\n",
       "    </tr>\n",
       "    <tr>\n",
       "      <th>3</th>\n",
       "      <td>0qkGQFUrj8ERPAZcdpa79j</td>\n",
       "      <td>Phuc Du</td>\n",
       "      <td>v-pop</td>\n",
       "      <td>16509</td>\n",
       "      <td>46</td>\n",
       "    </tr>\n",
       "    <tr>\n",
       "      <th>4</th>\n",
       "      <td>71Cy7nzbfpuGJAS5FGxm93</td>\n",
       "      <td>Khoi Vu</td>\n",
       "      <td>vietnamese hip hop</td>\n",
       "      <td>25307</td>\n",
       "      <td>43</td>\n",
       "    </tr>\n",
       "  </tbody>\n",
       "</table>\n",
       "</div>"
      ],
      "text/plain": [
       "                       id         name  \\\n",
       "0  1LEtM3AleYg1xabW6CRkpi          Đen   \n",
       "1  3rjcQ5VIWCN4q7UFetzdeO     JustaTee   \n",
       "2  5fa13NJjmn2uQ3dxZDi2Ge  Bich Phuong   \n",
       "3  0qkGQFUrj8ERPAZcdpa79j      Phuc Du   \n",
       "4  71Cy7nzbfpuGJAS5FGxm93      Khoi Vu   \n",
       "\n",
       "                                              genres  followers  popularity  \n",
       "0  indie viet, v-pop, vietnamese hip hop, vietnam...    2899329          59  \n",
       "1  v-pop, vietnamese hip hop, vietnamese melodic rap     618216          55  \n",
       "2                                              v-pop    1182922          46  \n",
       "3                                              v-pop      16509          46  \n",
       "4                                 vietnamese hip hop      25307          43  "
      ]
     },
     "execution_count": 3,
     "metadata": {},
     "output_type": "execute_result"
    }
   ],
   "source": [
    "raw_data = pd.read_csv(\"../../data/artists_data.csv\", delimiter='\\t')\n",
    "raw_data.head()"
   ]
  },
  {
   "attachments": {},
   "cell_type": "markdown",
   "metadata": {},
   "source": [
    "### I. Dataset Description:"
   ]
  },
  {
   "cell_type": "code",
   "execution_count": 4,
   "metadata": {},
   "outputs": [
    {
     "name": "stdout",
     "output_type": "stream",
     "text": [
      "<class 'pandas.core.frame.DataFrame'>\n",
      "RangeIndex: 4504 entries, 0 to 4503\n",
      "Data columns (total 5 columns):\n",
      " #   Column      Non-Null Count  Dtype \n",
      "---  ------      --------------  ----- \n",
      " 0   id          4504 non-null   object\n",
      " 1   name        4504 non-null   object\n",
      " 2   genres      3869 non-null   object\n",
      " 3   followers   4504 non-null   int64 \n",
      " 4   popularity  4504 non-null   int64 \n",
      "dtypes: int64(2), object(3)\n",
      "memory usage: 176.1+ KB\n"
     ]
    }
   ],
   "source": [
    "raw_data.info()"
   ]
  },
  {
   "attachments": {},
   "cell_type": "markdown",
   "metadata": {},
   "source": [
    "**Column meaning:**"
   ]
  },
  {
   "cell_type": "code",
   "execution_count": 5,
   "metadata": {},
   "outputs": [
    {
     "data": {
      "text/html": [
       "<div>\n",
       "<style scoped>\n",
       "    .dataframe tbody tr th:only-of-type {\n",
       "        vertical-align: middle;\n",
       "    }\n",
       "\n",
       "    .dataframe tbody tr th {\n",
       "        vertical-align: top;\n",
       "    }\n",
       "\n",
       "    .dataframe thead th {\n",
       "        text-align: right;\n",
       "    }\n",
       "</style>\n",
       "<table border=\"1\" class=\"dataframe\">\n",
       "  <thead>\n",
       "    <tr style=\"text-align: right;\">\n",
       "      <th></th>\n",
       "      <th>column name</th>\n",
       "      <th>data type</th>\n",
       "      <th>meaning</th>\n",
       "      <th>example</th>\n",
       "    </tr>\n",
       "  </thead>\n",
       "  <tbody>\n",
       "    <tr>\n",
       "      <th>0</th>\n",
       "      <td>id</td>\n",
       "      <td>string</td>\n",
       "      <td>Id of artist</td>\n",
       "      <td>7EnWkKTmRG5i9rW93o5DZm</td>\n",
       "    </tr>\n",
       "    <tr>\n",
       "      <th>1</th>\n",
       "      <td>name</td>\n",
       "      <td>string</td>\n",
       "      <td>Name of artist</td>\n",
       "      <td>Axxad</td>\n",
       "    </tr>\n",
       "    <tr>\n",
       "      <th>2</th>\n",
       "      <td>genres</td>\n",
       "      <td>string</td>\n",
       "      <td>Artist genres</td>\n",
       "      <td>viral rap</td>\n",
       "    </tr>\n",
       "    <tr>\n",
       "      <th>3</th>\n",
       "      <td>followers</td>\n",
       "      <td>int</td>\n",
       "      <td>Number of followers</td>\n",
       "      <td>6826</td>\n",
       "    </tr>\n",
       "    <tr>\n",
       "      <th>4</th>\n",
       "      <td>popularity</td>\n",
       "      <td>int</td>\n",
       "      <td>Artist popularity</td>\n",
       "      <td>48</td>\n",
       "    </tr>\n",
       "  </tbody>\n",
       "</table>\n",
       "</div>"
      ],
      "text/plain": [
       "  column name data type              meaning                 example\n",
       "0          id    string         Id of artist  7EnWkKTmRG5i9rW93o5DZm\n",
       "1        name    string       Name of artist                   Axxad\n",
       "2      genres    string        Artist genres               viral rap\n",
       "3   followers       int  Number of followers                    6826\n",
       "4  popularity       int    Artist popularity                      48"
      ]
     },
     "execution_count": 5,
     "metadata": {},
     "output_type": "execute_result"
    }
   ],
   "source": [
    "artists_data_des = pd.read_csv('../../data/description/artists_data_des.csv', delimiter='\\t')\n",
    "artists_data_des"
   ]
  },
  {
   "attachments": {},
   "cell_type": "markdown",
   "metadata": {},
   "source": [
    "**Columns description:**"
   ]
  },
  {
   "cell_type": "code",
   "execution_count": 6,
   "metadata": {},
   "outputs": [],
   "source": [
    "def missing_ratio(c):\n",
    "    return c.isnull().sum() / c.__len__() * 100\n",
    "\n",
    "def num_diff_vals(c):\n",
    "    return c.nunique(dropna=True)\n",
    "\n",
    "def diff_vals(c):\n",
    "    return c.dropna().unique()"
   ]
  },
  {
   "attachments": {},
   "cell_type": "markdown",
   "metadata": {},
   "source": [
    "Numeric columns:"
   ]
  },
  {
   "cell_type": "code",
   "execution_count": 7,
   "metadata": {},
   "outputs": [
    {
     "data": {
      "text/html": [
       "<div>\n",
       "<style scoped>\n",
       "    .dataframe tbody tr th:only-of-type {\n",
       "        vertical-align: middle;\n",
       "    }\n",
       "\n",
       "    .dataframe tbody tr th {\n",
       "        vertical-align: top;\n",
       "    }\n",
       "\n",
       "    .dataframe thead th {\n",
       "        text-align: right;\n",
       "    }\n",
       "</style>\n",
       "<table border=\"1\" class=\"dataframe\">\n",
       "  <thead>\n",
       "    <tr style=\"text-align: right;\">\n",
       "      <th></th>\n",
       "      <th>followers</th>\n",
       "      <th>popularity</th>\n",
       "    </tr>\n",
       "  </thead>\n",
       "  <tbody>\n",
       "    <tr>\n",
       "      <th>missing_ratio</th>\n",
       "      <td>0.0</td>\n",
       "      <td>0.0</td>\n",
       "    </tr>\n",
       "    <tr>\n",
       "      <th>min</th>\n",
       "      <td>0.0</td>\n",
       "      <td>1.0</td>\n",
       "    </tr>\n",
       "    <tr>\n",
       "      <th>max</th>\n",
       "      <td>106484775.0</td>\n",
       "      <td>100.0</td>\n",
       "    </tr>\n",
       "  </tbody>\n",
       "</table>\n",
       "</div>"
      ],
      "text/plain": [
       "                 followers  popularity\n",
       "missing_ratio          0.0         0.0\n",
       "min                    0.0         1.0\n",
       "max            106484775.0       100.0"
      ]
     },
     "execution_count": 7,
     "metadata": {},
     "output_type": "execute_result"
    }
   ],
   "source": [
    "numeric_cols_des = raw_data[raw_data.describe().columns].agg([missing_ratio, min, max]).round(1)\n",
    "numeric_cols_des"
   ]
  },
  {
   "cell_type": "code",
   "execution_count": 8,
   "metadata": {},
   "outputs": [
    {
     "data": {
      "text/html": [
       "<div>\n",
       "<style scoped>\n",
       "    .dataframe tbody tr th:only-of-type {\n",
       "        vertical-align: middle;\n",
       "    }\n",
       "\n",
       "    .dataframe tbody tr th {\n",
       "        vertical-align: top;\n",
       "    }\n",
       "\n",
       "    .dataframe thead th {\n",
       "        text-align: right;\n",
       "    }\n",
       "</style>\n",
       "<table border=\"1\" class=\"dataframe\">\n",
       "  <thead>\n",
       "    <tr style=\"text-align: right;\">\n",
       "      <th></th>\n",
       "      <th>followers</th>\n",
       "      <th>popularity</th>\n",
       "    </tr>\n",
       "  </thead>\n",
       "  <tbody>\n",
       "    <tr>\n",
       "      <th>mean</th>\n",
       "      <td>13474589</td>\n",
       "      <td>63</td>\n",
       "    </tr>\n",
       "    <tr>\n",
       "      <th>std</th>\n",
       "      <td>24524685</td>\n",
       "      <td>22</td>\n",
       "    </tr>\n",
       "    <tr>\n",
       "      <th>min</th>\n",
       "      <td>0</td>\n",
       "      <td>1</td>\n",
       "    </tr>\n",
       "    <tr>\n",
       "      <th>25%</th>\n",
       "      <td>39478</td>\n",
       "      <td>45</td>\n",
       "    </tr>\n",
       "    <tr>\n",
       "      <th>50%</th>\n",
       "      <td>667659</td>\n",
       "      <td>64</td>\n",
       "    </tr>\n",
       "    <tr>\n",
       "      <th>75%</th>\n",
       "      <td>12445940</td>\n",
       "      <td>86</td>\n",
       "    </tr>\n",
       "    <tr>\n",
       "      <th>max</th>\n",
       "      <td>106484775</td>\n",
       "      <td>100</td>\n",
       "    </tr>\n",
       "  </tbody>\n",
       "</table>\n",
       "</div>"
      ],
      "text/plain": [
       "      followers  popularity\n",
       "mean   13474589          63\n",
       "std    24524685          22\n",
       "min           0           1\n",
       "25%       39478          45\n",
       "50%      667659          64\n",
       "75%    12445940          86\n",
       "max   106484775         100"
      ]
     },
     "execution_count": 8,
     "metadata": {},
     "output_type": "execute_result"
    }
   ],
   "source": [
    "data_description = raw_data.describe().astype('int').drop('count')\n",
    "data_description"
   ]
  },
  {
   "cell_type": "code",
   "execution_count": 9,
   "metadata": {},
   "outputs": [
    {
     "data": {
      "text/plain": [
       "<AxesSubplot:>"
      ]
     },
     "execution_count": 9,
     "metadata": {},
     "output_type": "execute_result"
    },
    {
     "data": {
      "image/png": "[encoded data removed]",
      "text/plain": [
       "<Figure size 1000x500 with 1 Axes>"
      ]
     },
     "metadata": {},
     "output_type": "display_data"
    }
   ],
   "source": [
    "data_description['followers'].plot.barh(figsize=(10, 5))"
   ]
  },
  {
   "attachments": {},
   "cell_type": "markdown",
   "metadata": {},
   "source": [
    "Categorical column:"
   ]
  },
  {
   "cell_type": "code",
   "execution_count": 10,
   "metadata": {},
   "outputs": [
    {
     "data": {
      "text/html": [
       "<div>\n",
       "<style scoped>\n",
       "    .dataframe tbody tr th:only-of-type {\n",
       "        vertical-align: middle;\n",
       "    }\n",
       "\n",
       "    .dataframe tbody tr th {\n",
       "        vertical-align: top;\n",
       "    }\n",
       "\n",
       "    .dataframe thead th {\n",
       "        text-align: right;\n",
       "    }\n",
       "</style>\n",
       "<table border=\"1\" class=\"dataframe\">\n",
       "  <thead>\n",
       "    <tr style=\"text-align: right;\">\n",
       "      <th></th>\n",
       "      <th>genres</th>\n",
       "    </tr>\n",
       "  </thead>\n",
       "  <tbody>\n",
       "    <tr>\n",
       "      <th>missing_ratio</th>\n",
       "      <td>14.098579</td>\n",
       "    </tr>\n",
       "    <tr>\n",
       "      <th>num_diff_vals</th>\n",
       "      <td>569</td>\n",
       "    </tr>\n",
       "    <tr>\n",
       "      <th>diff_vals</th>\n",
       "      <td>[indie viet, v-pop, vietnamese hip hop, vietna...</td>\n",
       "    </tr>\n",
       "  </tbody>\n",
       "</table>\n",
       "</div>"
      ],
      "text/plain": [
       "                                                          genres\n",
       "missing_ratio                                          14.098579\n",
       "num_diff_vals                                                569\n",
       "diff_vals      [indie viet, v-pop, vietnamese hip hop, vietna..."
      ]
     },
     "execution_count": 10,
     "metadata": {},
     "output_type": "execute_result"
    }
   ],
   "source": [
    "raw_data[['genres']].agg([missing_ratio, num_diff_vals, diff_vals]).round(2)"
   ]
  },
  {
   "attachments": {},
   "cell_type": "markdown",
   "metadata": {},
   "source": [
    "### II. Check duplicated artists and get the number of unique artists"
   ]
  },
  {
   "cell_type": "markdown",
   "metadata": {},
   "source": [
    "Number of dupicated artists:"
   ]
  },
  {
   "cell_type": "code",
   "execution_count": 11,
   "metadata": {},
   "outputs": [
    {
     "data": {
      "text/plain": [
       "2948"
      ]
     },
     "execution_count": 11,
     "metadata": {},
     "output_type": "execute_result"
    }
   ],
   "source": [
    "raw_data.duplicated().sum()"
   ]
  },
  {
   "cell_type": "code",
   "execution_count": 12,
   "metadata": {},
   "outputs": [
    {
     "data": {
      "text/html": [
       "<div>\n",
       "<style scoped>\n",
       "    .dataframe tbody tr th:only-of-type {\n",
       "        vertical-align: middle;\n",
       "    }\n",
       "\n",
       "    .dataframe tbody tr th {\n",
       "        vertical-align: top;\n",
       "    }\n",
       "\n",
       "    .dataframe thead th {\n",
       "        text-align: right;\n",
       "    }\n",
       "</style>\n",
       "<table border=\"1\" class=\"dataframe\">\n",
       "  <thead>\n",
       "    <tr style=\"text-align: right;\">\n",
       "      <th></th>\n",
       "      <th>id</th>\n",
       "      <th>name</th>\n",
       "      <th>genres</th>\n",
       "      <th>followers</th>\n",
       "      <th>popularity</th>\n",
       "    </tr>\n",
       "  </thead>\n",
       "  <tbody>\n",
       "    <tr>\n",
       "      <th>7</th>\n",
       "      <td>6TITnFVRcl0AcZ4syE7Toe</td>\n",
       "      <td>Low G</td>\n",
       "      <td>vietnamese hip hop</td>\n",
       "      <td>471258</td>\n",
       "      <td>56</td>\n",
       "    </tr>\n",
       "    <tr>\n",
       "      <th>27</th>\n",
       "      <td>3Tr8fFMbWxysSzBztIqNPP</td>\n",
       "      <td>WHEE!</td>\n",
       "      <td>indie viet, v-pop</td>\n",
       "      <td>3827</td>\n",
       "      <td>43</td>\n",
       "    </tr>\n",
       "    <tr>\n",
       "      <th>31</th>\n",
       "      <td>66CXWjxzNUsdJxJ2JdwvnR</td>\n",
       "      <td>Ariana Grande</td>\n",
       "      <td>dance pop, pop</td>\n",
       "      <td>85939438</td>\n",
       "      <td>91</td>\n",
       "    </tr>\n",
       "    <tr>\n",
       "      <th>32</th>\n",
       "      <td>7Cp2hGcriAaDUAWpXnSEwm</td>\n",
       "      <td>buitruonglinh</td>\n",
       "      <td>indie viet, v-pop</td>\n",
       "      <td>116138</td>\n",
       "      <td>52</td>\n",
       "    </tr>\n",
       "    <tr>\n",
       "      <th>34</th>\n",
       "      <td>66CXWjxzNUsdJxJ2JdwvnR</td>\n",
       "      <td>Ariana Grande</td>\n",
       "      <td>dance pop, pop</td>\n",
       "      <td>85939438</td>\n",
       "      <td>91</td>\n",
       "    </tr>\n",
       "    <tr>\n",
       "      <th>...</th>\n",
       "      <td>...</td>\n",
       "      <td>...</td>\n",
       "      <td>...</td>\n",
       "      <td>...</td>\n",
       "      <td>...</td>\n",
       "    </tr>\n",
       "    <tr>\n",
       "      <th>4499</th>\n",
       "      <td>3uZFBSsMiooimnprFL9jD1</td>\n",
       "      <td>Snow</td>\n",
       "      <td>canadian old school hip hop, reggae fusion</td>\n",
       "      <td>54374</td>\n",
       "      <td>63</td>\n",
       "    </tr>\n",
       "    <tr>\n",
       "      <th>4500</th>\n",
       "      <td>4VMYDCV2IEDYJArk749S6m</td>\n",
       "      <td>Daddy Yankee</td>\n",
       "      <td>latin hip hop, reggaeton, urbano latino</td>\n",
       "      <td>30639677</td>\n",
       "      <td>88</td>\n",
       "    </tr>\n",
       "    <tr>\n",
       "      <th>4501</th>\n",
       "      <td>3uZFBSsMiooimnprFL9jD1</td>\n",
       "      <td>Snow</td>\n",
       "      <td>canadian old school hip hop, reggae fusion</td>\n",
       "      <td>54374</td>\n",
       "      <td>63</td>\n",
       "    </tr>\n",
       "    <tr>\n",
       "      <th>4502</th>\n",
       "      <td>2R21vXR83lH98kGeO99Y66</td>\n",
       "      <td>Anuel AA</td>\n",
       "      <td>reggaeton, reggaeton flow, trap boricua, trap ...</td>\n",
       "      <td>25591124</td>\n",
       "      <td>88</td>\n",
       "    </tr>\n",
       "    <tr>\n",
       "      <th>4503</th>\n",
       "      <td>790FomKkXshlbRYZFtlgla</td>\n",
       "      <td>KAROL G</td>\n",
       "      <td>reggaeton, reggaeton colombiano, urbano latino</td>\n",
       "      <td>30726668</td>\n",
       "      <td>87</td>\n",
       "    </tr>\n",
       "  </tbody>\n",
       "</table>\n",
       "<p>2948 rows × 5 columns</p>\n",
       "</div>"
      ],
      "text/plain": [
       "                          id           name  \\\n",
       "7     6TITnFVRcl0AcZ4syE7Toe          Low G   \n",
       "27    3Tr8fFMbWxysSzBztIqNPP          WHEE!   \n",
       "31    66CXWjxzNUsdJxJ2JdwvnR  Ariana Grande   \n",
       "32    7Cp2hGcriAaDUAWpXnSEwm  buitruonglinh   \n",
       "34    66CXWjxzNUsdJxJ2JdwvnR  Ariana Grande   \n",
       "...                      ...            ...   \n",
       "4499  3uZFBSsMiooimnprFL9jD1           Snow   \n",
       "4500  4VMYDCV2IEDYJArk749S6m   Daddy Yankee   \n",
       "4501  3uZFBSsMiooimnprFL9jD1           Snow   \n",
       "4502  2R21vXR83lH98kGeO99Y66       Anuel AA   \n",
       "4503  790FomKkXshlbRYZFtlgla        KAROL G   \n",
       "\n",
       "                                                 genres  followers  popularity  \n",
       "7                                    vietnamese hip hop     471258          56  \n",
       "27                                    indie viet, v-pop       3827          43  \n",
       "31                                       dance pop, pop   85939438          91  \n",
       "32                                    indie viet, v-pop     116138          52  \n",
       "34                                       dance pop, pop   85939438          91  \n",
       "...                                                 ...        ...         ...  \n",
       "4499         canadian old school hip hop, reggae fusion      54374          63  \n",
       "4500            latin hip hop, reggaeton, urbano latino   30639677          88  \n",
       "4501         canadian old school hip hop, reggae fusion      54374          63  \n",
       "4502  reggaeton, reggaeton flow, trap boricua, trap ...   25591124          88  \n",
       "4503     reggaeton, reggaeton colombiano, urbano latino   30726668          87  \n",
       "\n",
       "[2948 rows x 5 columns]"
      ]
     },
     "execution_count": 12,
     "metadata": {},
     "output_type": "execute_result"
    }
   ],
   "source": [
    "raw_data[raw_data.duplicated()]"
   ]
  },
  {
   "cell_type": "markdown",
   "metadata": {},
   "source": [
    "Number of unique artists:"
   ]
  },
  {
   "cell_type": "code",
   "execution_count": 13,
   "metadata": {},
   "outputs": [
    {
     "data": {
      "text/plain": [
       "1556"
      ]
     },
     "execution_count": 13,
     "metadata": {},
     "output_type": "execute_result"
    }
   ],
   "source": [
    "raw_data['id'].nunique()"
   ]
  },
  {
   "attachments": {},
   "cell_type": "markdown",
   "metadata": {},
   "source": [
    "### III. Data Preprocessing"
   ]
  },
  {
   "attachments": {},
   "cell_type": "markdown",
   "metadata": {},
   "source": [
    "#### 1. Drop rows with null values in \"genres\" column"
   ]
  },
  {
   "cell_type": "code",
   "execution_count": 14,
   "metadata": {},
   "outputs": [
    {
     "data": {
      "text/plain": [
       "635"
      ]
     },
     "execution_count": 14,
     "metadata": {},
     "output_type": "execute_result"
    }
   ],
   "source": [
    "raw_data['genres'].isnull().sum()"
   ]
  },
  {
   "cell_type": "code",
   "execution_count": 15,
   "metadata": {},
   "outputs": [
    {
     "data": {
      "text/html": [
       "<div>\n",
       "<style scoped>\n",
       "    .dataframe tbody tr th:only-of-type {\n",
       "        vertical-align: middle;\n",
       "    }\n",
       "\n",
       "    .dataframe tbody tr th {\n",
       "        vertical-align: top;\n",
       "    }\n",
       "\n",
       "    .dataframe thead th {\n",
       "        text-align: right;\n",
       "    }\n",
       "</style>\n",
       "<table border=\"1\" class=\"dataframe\">\n",
       "  <thead>\n",
       "    <tr style=\"text-align: right;\">\n",
       "      <th></th>\n",
       "      <th>id</th>\n",
       "      <th>name</th>\n",
       "      <th>genres</th>\n",
       "      <th>followers</th>\n",
       "      <th>popularity</th>\n",
       "    </tr>\n",
       "  </thead>\n",
       "  <tbody>\n",
       "    <tr>\n",
       "      <th>0</th>\n",
       "      <td>1LEtM3AleYg1xabW6CRkpi</td>\n",
       "      <td>Đen</td>\n",
       "      <td>indie viet, v-pop, vietnamese hip hop, vietnam...</td>\n",
       "      <td>2899329</td>\n",
       "      <td>59</td>\n",
       "    </tr>\n",
       "    <tr>\n",
       "      <th>1</th>\n",
       "      <td>3rjcQ5VIWCN4q7UFetzdeO</td>\n",
       "      <td>JustaTee</td>\n",
       "      <td>v-pop, vietnamese hip hop, vietnamese melodic rap</td>\n",
       "      <td>618216</td>\n",
       "      <td>55</td>\n",
       "    </tr>\n",
       "    <tr>\n",
       "      <th>2</th>\n",
       "      <td>5fa13NJjmn2uQ3dxZDi2Ge</td>\n",
       "      <td>Bich Phuong</td>\n",
       "      <td>v-pop</td>\n",
       "      <td>1182922</td>\n",
       "      <td>46</td>\n",
       "    </tr>\n",
       "    <tr>\n",
       "      <th>3</th>\n",
       "      <td>0qkGQFUrj8ERPAZcdpa79j</td>\n",
       "      <td>Phuc Du</td>\n",
       "      <td>v-pop</td>\n",
       "      <td>16509</td>\n",
       "      <td>46</td>\n",
       "    </tr>\n",
       "    <tr>\n",
       "      <th>4</th>\n",
       "      <td>71Cy7nzbfpuGJAS5FGxm93</td>\n",
       "      <td>Khoi Vu</td>\n",
       "      <td>vietnamese hip hop</td>\n",
       "      <td>25307</td>\n",
       "      <td>43</td>\n",
       "    </tr>\n",
       "    <tr>\n",
       "      <th>...</th>\n",
       "      <td>...</td>\n",
       "      <td>...</td>\n",
       "      <td>...</td>\n",
       "      <td>...</td>\n",
       "      <td>...</td>\n",
       "    </tr>\n",
       "    <tr>\n",
       "      <th>3864</th>\n",
       "      <td>3uZFBSsMiooimnprFL9jD1</td>\n",
       "      <td>Snow</td>\n",
       "      <td>canadian old school hip hop, reggae fusion</td>\n",
       "      <td>54374</td>\n",
       "      <td>63</td>\n",
       "    </tr>\n",
       "    <tr>\n",
       "      <th>3865</th>\n",
       "      <td>4VMYDCV2IEDYJArk749S6m</td>\n",
       "      <td>Daddy Yankee</td>\n",
       "      <td>latin hip hop, reggaeton, urbano latino</td>\n",
       "      <td>30639677</td>\n",
       "      <td>88</td>\n",
       "    </tr>\n",
       "    <tr>\n",
       "      <th>3866</th>\n",
       "      <td>3uZFBSsMiooimnprFL9jD1</td>\n",
       "      <td>Snow</td>\n",
       "      <td>canadian old school hip hop, reggae fusion</td>\n",
       "      <td>54374</td>\n",
       "      <td>63</td>\n",
       "    </tr>\n",
       "    <tr>\n",
       "      <th>3867</th>\n",
       "      <td>2R21vXR83lH98kGeO99Y66</td>\n",
       "      <td>Anuel AA</td>\n",
       "      <td>reggaeton, reggaeton flow, trap boricua, trap ...</td>\n",
       "      <td>25591124</td>\n",
       "      <td>88</td>\n",
       "    </tr>\n",
       "    <tr>\n",
       "      <th>3868</th>\n",
       "      <td>790FomKkXshlbRYZFtlgla</td>\n",
       "      <td>KAROL G</td>\n",
       "      <td>reggaeton, reggaeton colombiano, urbano latino</td>\n",
       "      <td>30726668</td>\n",
       "      <td>87</td>\n",
       "    </tr>\n",
       "  </tbody>\n",
       "</table>\n",
       "<p>3869 rows × 5 columns</p>\n",
       "</div>"
      ],
      "text/plain": [
       "                          id          name  \\\n",
       "0     1LEtM3AleYg1xabW6CRkpi           Đen   \n",
       "1     3rjcQ5VIWCN4q7UFetzdeO      JustaTee   \n",
       "2     5fa13NJjmn2uQ3dxZDi2Ge   Bich Phuong   \n",
       "3     0qkGQFUrj8ERPAZcdpa79j       Phuc Du   \n",
       "4     71Cy7nzbfpuGJAS5FGxm93       Khoi Vu   \n",
       "...                      ...           ...   \n",
       "3864  3uZFBSsMiooimnprFL9jD1          Snow   \n",
       "3865  4VMYDCV2IEDYJArk749S6m  Daddy Yankee   \n",
       "3866  3uZFBSsMiooimnprFL9jD1          Snow   \n",
       "3867  2R21vXR83lH98kGeO99Y66      Anuel AA   \n",
       "3868  790FomKkXshlbRYZFtlgla       KAROL G   \n",
       "\n",
       "                                                 genres  followers  popularity  \n",
       "0     indie viet, v-pop, vietnamese hip hop, vietnam...    2899329          59  \n",
       "1     v-pop, vietnamese hip hop, vietnamese melodic rap     618216          55  \n",
       "2                                                 v-pop    1182922          46  \n",
       "3                                                 v-pop      16509          46  \n",
       "4                                    vietnamese hip hop      25307          43  \n",
       "...                                                 ...        ...         ...  \n",
       "3864         canadian old school hip hop, reggae fusion      54374          63  \n",
       "3865            latin hip hop, reggaeton, urbano latino   30639677          88  \n",
       "3866         canadian old school hip hop, reggae fusion      54374          63  \n",
       "3867  reggaeton, reggaeton flow, trap boricua, trap ...   25591124          88  \n",
       "3868     reggaeton, reggaeton colombiano, urbano latino   30726668          87  \n",
       "\n",
       "[3869 rows x 5 columns]"
      ]
     },
     "execution_count": 15,
     "metadata": {},
     "output_type": "execute_result"
    }
   ],
   "source": [
    "handled_data = raw_data.dropna(how='any',axis=0) \n",
    "handled_data = handled_data.reset_index(drop=True)\n",
    "handled_data"
   ]
  },
  {
   "attachments": {},
   "cell_type": "markdown",
   "metadata": {},
   "source": [
    "#### 2. Drop duplicated rows"
   ]
  },
  {
   "cell_type": "code",
   "execution_count": 16,
   "metadata": {},
   "outputs": [
    {
     "data": {
      "text/html": [
       "<div>\n",
       "<style scoped>\n",
       "    .dataframe tbody tr th:only-of-type {\n",
       "        vertical-align: middle;\n",
       "    }\n",
       "\n",
       "    .dataframe tbody tr th {\n",
       "        vertical-align: top;\n",
       "    }\n",
       "\n",
       "    .dataframe thead th {\n",
       "        text-align: right;\n",
       "    }\n",
       "</style>\n",
       "<table border=\"1\" class=\"dataframe\">\n",
       "  <thead>\n",
       "    <tr style=\"text-align: right;\">\n",
       "      <th></th>\n",
       "      <th>id</th>\n",
       "      <th>name</th>\n",
       "      <th>genres</th>\n",
       "      <th>followers</th>\n",
       "      <th>popularity</th>\n",
       "    </tr>\n",
       "  </thead>\n",
       "  <tbody>\n",
       "    <tr>\n",
       "      <th>0</th>\n",
       "      <td>1LEtM3AleYg1xabW6CRkpi</td>\n",
       "      <td>Đen</td>\n",
       "      <td>indie viet, v-pop, vietnamese hip hop, vietnam...</td>\n",
       "      <td>2899329</td>\n",
       "      <td>59</td>\n",
       "    </tr>\n",
       "    <tr>\n",
       "      <th>1</th>\n",
       "      <td>3rjcQ5VIWCN4q7UFetzdeO</td>\n",
       "      <td>JustaTee</td>\n",
       "      <td>v-pop, vietnamese hip hop, vietnamese melodic rap</td>\n",
       "      <td>618216</td>\n",
       "      <td>55</td>\n",
       "    </tr>\n",
       "    <tr>\n",
       "      <th>2</th>\n",
       "      <td>5fa13NJjmn2uQ3dxZDi2Ge</td>\n",
       "      <td>Bich Phuong</td>\n",
       "      <td>v-pop</td>\n",
       "      <td>1182922</td>\n",
       "      <td>46</td>\n",
       "    </tr>\n",
       "    <tr>\n",
       "      <th>3</th>\n",
       "      <td>0qkGQFUrj8ERPAZcdpa79j</td>\n",
       "      <td>Phuc Du</td>\n",
       "      <td>v-pop</td>\n",
       "      <td>16509</td>\n",
       "      <td>46</td>\n",
       "    </tr>\n",
       "    <tr>\n",
       "      <th>4</th>\n",
       "      <td>71Cy7nzbfpuGJAS5FGxm93</td>\n",
       "      <td>Khoi Vu</td>\n",
       "      <td>vietnamese hip hop</td>\n",
       "      <td>25307</td>\n",
       "      <td>43</td>\n",
       "    </tr>\n",
       "    <tr>\n",
       "      <th>...</th>\n",
       "      <td>...</td>\n",
       "      <td>...</td>\n",
       "      <td>...</td>\n",
       "      <td>...</td>\n",
       "      <td>...</td>\n",
       "    </tr>\n",
       "    <tr>\n",
       "      <th>1551</th>\n",
       "      <td>5KnoVkIUGmK0PiDKMjz2LM</td>\n",
       "      <td>Feder</td>\n",
       "      <td>new french touch, tropical house</td>\n",
       "      <td>194472</td>\n",
       "      <td>56</td>\n",
       "    </tr>\n",
       "    <tr>\n",
       "      <th>1552</th>\n",
       "      <td>4VMYDCV2IEDYJArk749S6m</td>\n",
       "      <td>Daddy Yankee</td>\n",
       "      <td>latin hip hop, reggaeton, urbano latino</td>\n",
       "      <td>30639677</td>\n",
       "      <td>88</td>\n",
       "    </tr>\n",
       "    <tr>\n",
       "      <th>1553</th>\n",
       "      <td>3uZFBSsMiooimnprFL9jD1</td>\n",
       "      <td>Snow</td>\n",
       "      <td>canadian old school hip hop, reggae fusion</td>\n",
       "      <td>54374</td>\n",
       "      <td>63</td>\n",
       "    </tr>\n",
       "    <tr>\n",
       "      <th>1554</th>\n",
       "      <td>2WBJQGf1bT1kxuoqziH5g4</td>\n",
       "      <td>Purple Disco Machine</td>\n",
       "      <td>deep house, house, tropical house</td>\n",
       "      <td>468053</td>\n",
       "      <td>72</td>\n",
       "    </tr>\n",
       "    <tr>\n",
       "      <th>1555</th>\n",
       "      <td>5he5w2lnU9x7JFhnwcekXX</td>\n",
       "      <td>Skrillex</td>\n",
       "      <td>brostep, complextro, edm, electro</td>\n",
       "      <td>8008421</td>\n",
       "      <td>75</td>\n",
       "    </tr>\n",
       "  </tbody>\n",
       "</table>\n",
       "<p>1556 rows × 5 columns</p>\n",
       "</div>"
      ],
      "text/plain": [
       "                          id                  name  \\\n",
       "0     1LEtM3AleYg1xabW6CRkpi                   Đen   \n",
       "1     3rjcQ5VIWCN4q7UFetzdeO              JustaTee   \n",
       "2     5fa13NJjmn2uQ3dxZDi2Ge           Bich Phuong   \n",
       "3     0qkGQFUrj8ERPAZcdpa79j               Phuc Du   \n",
       "4     71Cy7nzbfpuGJAS5FGxm93               Khoi Vu   \n",
       "...                      ...                   ...   \n",
       "1551  5KnoVkIUGmK0PiDKMjz2LM                 Feder   \n",
       "1552  4VMYDCV2IEDYJArk749S6m          Daddy Yankee   \n",
       "1553  3uZFBSsMiooimnprFL9jD1                  Snow   \n",
       "1554  2WBJQGf1bT1kxuoqziH5g4  Purple Disco Machine   \n",
       "1555  5he5w2lnU9x7JFhnwcekXX              Skrillex   \n",
       "\n",
       "                                                 genres  followers  popularity  \n",
       "0     indie viet, v-pop, vietnamese hip hop, vietnam...    2899329          59  \n",
       "1     v-pop, vietnamese hip hop, vietnamese melodic rap     618216          55  \n",
       "2                                                 v-pop    1182922          46  \n",
       "3                                                 v-pop      16509          46  \n",
       "4                                    vietnamese hip hop      25307          43  \n",
       "...                                                 ...        ...         ...  \n",
       "1551                   new french touch, tropical house     194472          56  \n",
       "1552            latin hip hop, reggaeton, urbano latino   30639677          88  \n",
       "1553         canadian old school hip hop, reggae fusion      54374          63  \n",
       "1554                  deep house, house, tropical house     468053          72  \n",
       "1555                  brostep, complextro, edm, electro    8008421          75  \n",
       "\n",
       "[1556 rows x 5 columns]"
      ]
     },
     "execution_count": 16,
     "metadata": {},
     "output_type": "execute_result"
    }
   ],
   "source": [
    "unique_data = raw_data.drop_duplicates(subset=['id'], keep='first')\n",
    "unique_data = unique_data.reset_index(drop=True)\n",
    "unique_data"
   ]
  },
  {
   "attachments": {},
   "cell_type": "markdown",
   "metadata": {},
   "source": [
    "### IV. Tracks participation of artists"
   ]
  },
  {
   "cell_type": "markdown",
   "metadata": {},
   "source": [
    "Counting artists occurences:"
   ]
  },
  {
   "cell_type": "code",
   "execution_count": 17,
   "metadata": {},
   "outputs": [
    {
     "data": {
      "text/html": [
       "<div>\n",
       "<style scoped>\n",
       "    .dataframe tbody tr th:only-of-type {\n",
       "        vertical-align: middle;\n",
       "    }\n",
       "\n",
       "    .dataframe tbody tr th {\n",
       "        vertical-align: top;\n",
       "    }\n",
       "\n",
       "    .dataframe thead th {\n",
       "        text-align: right;\n",
       "    }\n",
       "</style>\n",
       "<table border=\"1\" class=\"dataframe\">\n",
       "  <thead>\n",
       "    <tr style=\"text-align: right;\">\n",
       "      <th></th>\n",
       "      <th>id</th>\n",
       "      <th>name</th>\n",
       "      <th>genres</th>\n",
       "      <th>followers</th>\n",
       "      <th>popularity</th>\n",
       "      <th>size</th>\n",
       "    </tr>\n",
       "  </thead>\n",
       "  <tbody>\n",
       "    <tr>\n",
       "      <th>0</th>\n",
       "      <td>001OedRF8lGo3og3aHDTy6</td>\n",
       "      <td>Thai Trinh</td>\n",
       "      <td>v-pop, vietnamese singer-songwriter</td>\n",
       "      <td>5298</td>\n",
       "      <td>28</td>\n",
       "      <td>3</td>\n",
       "    </tr>\n",
       "    <tr>\n",
       "      <th>1</th>\n",
       "      <td>00FQb4jTyendYWaN8pK0wa</td>\n",
       "      <td>Lana Del Rey</td>\n",
       "      <td>art pop, pop</td>\n",
       "      <td>19546837</td>\n",
       "      <td>90</td>\n",
       "      <td>28</td>\n",
       "    </tr>\n",
       "    <tr>\n",
       "      <th>2</th>\n",
       "      <td>00OF0nwYaoBSO3AnPVq3vE</td>\n",
       "      <td>Johnny Stimson</td>\n",
       "      <td>chill r&amp;b, pop</td>\n",
       "      <td>196108</td>\n",
       "      <td>57</td>\n",
       "      <td>3</td>\n",
       "    </tr>\n",
       "    <tr>\n",
       "      <th>3</th>\n",
       "      <td>01XYiBYaoMJcNhPokrg0l0</td>\n",
       "      <td>STAYC</td>\n",
       "      <td>k-pop, k-pop girl group</td>\n",
       "      <td>1103059</td>\n",
       "      <td>68</td>\n",
       "      <td>2</td>\n",
       "    </tr>\n",
       "    <tr>\n",
       "      <th>4</th>\n",
       "      <td>01rgao9OzfBm2BOHWJpi1Y</td>\n",
       "      <td>Espinoza Paz</td>\n",
       "      <td>banda, musica mexicana, ranchera</td>\n",
       "      <td>3153963</td>\n",
       "      <td>65</td>\n",
       "      <td>1</td>\n",
       "    </tr>\n",
       "    <tr>\n",
       "      <th>...</th>\n",
       "      <td>...</td>\n",
       "      <td>...</td>\n",
       "      <td>...</td>\n",
       "      <td>...</td>\n",
       "      <td>...</td>\n",
       "      <td>...</td>\n",
       "    </tr>\n",
       "    <tr>\n",
       "      <th>1082</th>\n",
       "      <td>7z5WFjZAIYejWy0NI5lv4T</td>\n",
       "      <td>Dan + Shay</td>\n",
       "      <td>contemporary country, country, country road, pop</td>\n",
       "      <td>2810648</td>\n",
       "      <td>74</td>\n",
       "      <td>2</td>\n",
       "    </tr>\n",
       "    <tr>\n",
       "      <th>1083</th>\n",
       "      <td>7zYj9S9SdIunYCfSm7vzAR</td>\n",
       "      <td>JEON SOMI</td>\n",
       "      <td>k-pop, pop</td>\n",
       "      <td>1736071</td>\n",
       "      <td>62</td>\n",
       "      <td>6</td>\n",
       "    </tr>\n",
       "    <tr>\n",
       "      <th>1084</th>\n",
       "      <td>7zkwepHPyac6tCYl0fL0co</td>\n",
       "      <td>ASTN</td>\n",
       "      <td>bedroom soul, chill r&amp;b, indie r&amp;b, pop</td>\n",
       "      <td>246798</td>\n",
       "      <td>63</td>\n",
       "      <td>1</td>\n",
       "    </tr>\n",
       "    <tr>\n",
       "      <th>1085</th>\n",
       "      <td>7zrkFhYAp6dBxsydmJkouN</td>\n",
       "      <td>lullaboy</td>\n",
       "      <td>chill r&amp;b</td>\n",
       "      <td>50481</td>\n",
       "      <td>57</td>\n",
       "      <td>1</td>\n",
       "    </tr>\n",
       "    <tr>\n",
       "      <th>1086</th>\n",
       "      <td>7zrxCdVQeT3t5LAN3Jpavs</td>\n",
       "      <td>95G</td>\n",
       "      <td>vietnamese hip hop</td>\n",
       "      <td>15405</td>\n",
       "      <td>29</td>\n",
       "      <td>2</td>\n",
       "    </tr>\n",
       "  </tbody>\n",
       "</table>\n",
       "<p>1087 rows × 6 columns</p>\n",
       "</div>"
      ],
      "text/plain": [
       "                          id            name  \\\n",
       "0     001OedRF8lGo3og3aHDTy6      Thai Trinh   \n",
       "1     00FQb4jTyendYWaN8pK0wa    Lana Del Rey   \n",
       "2     00OF0nwYaoBSO3AnPVq3vE  Johnny Stimson   \n",
       "3     01XYiBYaoMJcNhPokrg0l0           STAYC   \n",
       "4     01rgao9OzfBm2BOHWJpi1Y    Espinoza Paz   \n",
       "...                      ...             ...   \n",
       "1082  7z5WFjZAIYejWy0NI5lv4T      Dan + Shay   \n",
       "1083  7zYj9S9SdIunYCfSm7vzAR       JEON SOMI   \n",
       "1084  7zkwepHPyac6tCYl0fL0co            ASTN   \n",
       "1085  7zrkFhYAp6dBxsydmJkouN        lullaboy   \n",
       "1086  7zrxCdVQeT3t5LAN3Jpavs             95G   \n",
       "\n",
       "                                                genres  followers  popularity  \\\n",
       "0                  v-pop, vietnamese singer-songwriter       5298          28   \n",
       "1                                         art pop, pop   19546837          90   \n",
       "2                                       chill r&b, pop     196108          57   \n",
       "3                              k-pop, k-pop girl group    1103059          68   \n",
       "4                     banda, musica mexicana, ranchera    3153963          65   \n",
       "...                                                ...        ...         ...   \n",
       "1082  contemporary country, country, country road, pop    2810648          74   \n",
       "1083                                        k-pop, pop    1736071          62   \n",
       "1084           bedroom soul, chill r&b, indie r&b, pop     246798          63   \n",
       "1085                                         chill r&b      50481          57   \n",
       "1086                                vietnamese hip hop      15405          29   \n",
       "\n",
       "      size  \n",
       "0        3  \n",
       "1       28  \n",
       "2        3  \n",
       "3        2  \n",
       "4        1  \n",
       "...    ...  \n",
       "1082     2  \n",
       "1083     6  \n",
       "1084     1  \n",
       "1085     1  \n",
       "1086     2  \n",
       "\n",
       "[1087 rows x 6 columns]"
      ]
     },
     "execution_count": 17,
     "metadata": {},
     "output_type": "execute_result"
    }
   ],
   "source": [
    "occurence_count = raw_data.groupby(raw_data.columns.to_list(), as_index=False).size()\n",
    "occurence_count"
   ]
  },
  {
   "cell_type": "markdown",
   "metadata": {},
   "source": [
    "The most frequent artist:"
   ]
  },
  {
   "cell_type": "code",
   "execution_count": 18,
   "metadata": {},
   "outputs": [
    {
     "data": {
      "text/plain": [
       "id            1uNFoZAHBGtllmzznpCI3s\n",
       "name                   Justin Bieber\n",
       "genres             canadian pop, pop\n",
       "followers                   68405554\n",
       "popularity                        91\n",
       "size                             104\n",
       "Name: 260, dtype: object"
      ]
     },
     "execution_count": 18,
     "metadata": {},
     "output_type": "execute_result"
    }
   ],
   "source": [
    "occurence_count.loc[occurence_count['size'].idxmax()]"
   ]
  },
  {
   "attachments": {},
   "cell_type": "markdown",
   "metadata": {},
   "source": [
    "### V. Compute artists correlation"
   ]
  },
  {
   "cell_type": "code",
   "execution_count": 19,
   "metadata": {},
   "outputs": [
    {
     "data": {
      "text/html": [
       "<div>\n",
       "<style scoped>\n",
       "    .dataframe tbody tr th:only-of-type {\n",
       "        vertical-align: middle;\n",
       "    }\n",
       "\n",
       "    .dataframe tbody tr th {\n",
       "        vertical-align: top;\n",
       "    }\n",
       "\n",
       "    .dataframe thead th {\n",
       "        text-align: right;\n",
       "    }\n",
       "</style>\n",
       "<table border=\"1\" class=\"dataframe\">\n",
       "  <thead>\n",
       "    <tr style=\"text-align: right;\">\n",
       "      <th></th>\n",
       "      <th>followers</th>\n",
       "      <th>popularity</th>\n",
       "    </tr>\n",
       "  </thead>\n",
       "  <tbody>\n",
       "    <tr>\n",
       "      <th>followers</th>\n",
       "      <td>1.000000</td>\n",
       "      <td>0.922577</td>\n",
       "    </tr>\n",
       "    <tr>\n",
       "      <th>popularity</th>\n",
       "      <td>0.922577</td>\n",
       "      <td>1.000000</td>\n",
       "    </tr>\n",
       "  </tbody>\n",
       "</table>\n",
       "</div>"
      ],
      "text/plain": [
       "            followers  popularity\n",
       "followers    1.000000    0.922577\n",
       "popularity   0.922577    1.000000"
      ]
     },
     "execution_count": 19,
     "metadata": {},
     "output_type": "execute_result"
    }
   ],
   "source": [
    "raw_data.corr(method=\"spearman\")"
   ]
  },
  {
   "attachments": {},
   "cell_type": "markdown",
   "metadata": {},
   "source": [
    "### VI. Answering meaningful questions"
   ]
  },
  {
   "attachments": {},
   "cell_type": "markdown",
   "metadata": {},
   "source": [
    "#### 1. From 2020 to 2022, which are the hottest genres ?"
   ]
  },
  {
   "cell_type": "code",
   "execution_count": 20,
   "metadata": {},
   "outputs": [
    {
     "data": {
      "text/plain": [
       "<AxesSubplot:>"
      ]
     },
     "execution_count": 20,
     "metadata": {},
     "output_type": "execute_result"
    },
    {
     "data": {
      "image/png": "[encoded data removed]",
      "text/plain": [
       "<Figure size 500x400 with 1 Axes>"
      ]
     },
     "metadata": {},
     "output_type": "display_data"
    }
   ],
   "source": [
    "handled_data['genres'].str.split(', ').explode().value_counts().nlargest(10).plot.barh(figsize=(5,4), color='blue')"
   ]
  },
  {
   "attachments": {},
   "cell_type": "markdown",
   "metadata": {},
   "source": [
    "#### 2. From 2020 to 2022, which are the most frequent artists ?"
   ]
  },
  {
   "cell_type": "code",
   "execution_count": 21,
   "metadata": {},
   "outputs": [
    {
     "data": {
      "text/plain": [
       "<AxesSubplot:>"
      ]
     },
     "execution_count": 21,
     "metadata": {},
     "output_type": "execute_result"
    },
    {
     "data": {
      "image/png": "[encoded data removed]",
      "text/plain": [
       "<Figure size 700x500 with 1 Axes>"
      ]
     },
     "metadata": {},
     "output_type": "display_data"
    }
   ],
   "source": [
    "raw_data['name'].value_counts().nlargest(10).plot.barh(figsize=(7,5), color='navy')"
   ]
  },
  {
   "attachments": {},
   "cell_type": "markdown",
   "metadata": {},
   "source": [
    "#### 3. What is popularity distribution ?"
   ]
  },
  {
   "cell_type": "code",
   "execution_count": 22,
   "metadata": {},
   "outputs": [
    {
     "data": {
      "text/plain": [
       "count    86\n",
       "mean     18\n",
       "std       8\n",
       "min       1\n",
       "25%      13\n",
       "50%      20\n",
       "75%      25\n",
       "max      34\n",
       "Name: popularity, dtype: int64"
      ]
     },
     "execution_count": 22,
     "metadata": {},
     "output_type": "execute_result"
    }
   ],
   "source": [
    "unique_data['popularity'].value_counts().describe().astype(np.int64)"
   ]
  },
  {
   "cell_type": "code",
   "execution_count": 31,
   "metadata": {},
   "outputs": [
    {
     "data": {
      "text/plain": [
       "<AxesSubplot:>"
      ]
     },
     "execution_count": 31,
     "metadata": {},
     "output_type": "execute_result"
    },
    {
     "data": {
      "image/png": "[encoded data removed]",
      "text/plain": [
       "<Figure size 2000x500 with 1 Axes>"
      ]
     },
     "metadata": {},
     "output_type": "display_data"
    }
   ],
   "source": [
    "unique_data['popularity'].hist(figsize=(20,5))"
   ]
  },
  {
   "cell_type": "code",
   "execution_count": 26,
   "metadata": {},
   "outputs": [
    {
     "data": {
      "text/plain": [
       "<AxesSubplot:>"
      ]
     },
     "execution_count": 26,
     "metadata": {},
     "output_type": "execute_result"
    },
    {
     "data": {
      "image/png": "[encoded data removed]",
      "text/plain": [
       "<Figure size 2000x500 with 1 Axes>"
      ]
     },
     "metadata": {},
     "output_type": "display_data"
    }
   ],
   "source": [
    "unique_data['popularity'].value_counts().sort_index().plot.bar(figsize=(20,5))"
   ]
  },
  {
   "attachments": {},
   "cell_type": "markdown",
   "metadata": {},
   "source": [
    "#### 4. What is artists followers distribution ?"
   ]
  },
  {
   "cell_type": "code",
   "execution_count": 24,
   "metadata": {},
   "outputs": [
    {
     "data": {
      "text/plain": [
       "<AxesSubplot:xlabel='followers', ylabel='popularity'>"
      ]
     },
     "execution_count": 24,
     "metadata": {},
     "output_type": "execute_result"
    },
    {
     "data": {
      "image/png": "[encoded data removed]",
      "text/plain": [
       "<Figure size 1000x500 with 1 Axes>"
      ]
     },
     "metadata": {},
     "output_type": "display_data"
    }
   ],
   "source": [
    "unique_data.plot.scatter(x = 'followers', y = 'popularity', figsize=(10,5))"
   ]
  }
 ],
 "metadata": {
  "kernelspec": {
   "display_name": "Python 3.10.6 ('min_ds-env')",
   "language": "python",
   "name": "python3"
  },
  "language_info": {
   "codemirror_mode": {
    "name": "ipython",
    "version": 3
   },
   "file_extension": ".py",
   "mimetype": "text/x-python",
   "name": "python",
   "nbconvert_exporter": "python",
   "pygments_lexer": "ipython3",
   "version": "3.10.6 (main, Oct 24 2022, 16:07:47) [GCC 11.2.0]"
  },
  "orig_nbformat": 4,
  "vscode": {
   "interpreter": {
    "hash": "3b298dc8b5ec9755d3b5e5b4831b9bf767d0a22ad509bcbd5b6f1f1a5498747c"
   }
  }
 },
 "nbformat": 4,
 "nbformat_minor": 2
}
