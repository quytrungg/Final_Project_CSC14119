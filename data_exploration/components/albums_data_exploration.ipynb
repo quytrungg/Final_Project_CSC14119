{
 "cells": [
  {
   "attachments": {},
   "cell_type": "markdown",
   "metadata": {},
   "source": [
    "# <b>Section 1: Albums Data Exploration</b>\n",
    "\n",
    "### <b><u>Step 1</u>: Import library</b>\n",
    "\n",
    "##### These are the main libraries used for data exploration:\n",
    "- `pandas`: used to store data from .csv/.tsv files and operate functions on DataFrame\n",
    "- `datetime`: used to format date of data\n",
    "- `matplotlib`: used to visualize data"
   ]
  },
  {
   "cell_type": "code",
   "execution_count": 31,
   "metadata": {},
   "outputs": [],
   "source": [
    "import sys  \n",
    "sys.path.insert(0, '../../data')\n",
    "sys.path.insert(0, '../../data/description')"
   ]
  },
  {
   "cell_type": "code",
   "execution_count": 32,
   "metadata": {},
   "outputs": [],
   "source": [
    "import pandas as pd\n",
    "from pandas import DataFrame\n",
    "from datetime import datetime\n",
    "import matplotlib.pyplot as plt"
   ]
  },
  {
   "attachments": {},
   "cell_type": "markdown",
   "metadata": {},
   "source": [
    "### <b><u>Step 2</u>: Import albums data from 'albums_data.tsv' file</b>"
   ]
  },
  {
   "cell_type": "code",
   "execution_count": 33,
   "metadata": {},
   "outputs": [],
   "source": [
    "pd_album = pd.read_csv('../../data/albums_data.tsv', sep = '\\t')"
   ]
  },
  {
   "cell_type": "markdown",
   "metadata": {},
   "source": [
    "We have a small function to set our dataframe data left alignment. This make our table of data when display is more beautiful."
   ]
  },
  {
   "cell_type": "code",
   "execution_count": 34,
   "metadata": {},
   "outputs": [],
   "source": [
    "def left_align(df: DataFrame):\n",
    "    left_aligned_df = df.style.set_properties(**{'text-align': 'left'})\n",
    "    left_aligned_df = left_aligned_df.set_table_styles([dict(selector = 'th', props = [('text-align', 'center')])])\n",
    "    return left_aligned_df"
   ]
  },
  {
   "attachments": {},
   "cell_type": "markdown",
   "metadata": {},
   "source": [
    "### <b><u>Step 3</u>: Exploratory Data Analysis</b>"
   ]
  },
  {
   "attachments": {},
   "cell_type": "markdown",
   "metadata": {},
   "source": [
    "Let's take a look at first 10 rows and the main characteristics of dataset."
   ]
  },
  {
   "cell_type": "code",
   "execution_count": 35,
   "metadata": {},
   "outputs": [
    {
     "data": {
      "text/html": [
       "<style type=\"text/css\">\n",
       "#T_e9eda th {\n",
       "  text-align: center;\n",
       "}\n",
       "#T_e9eda_row0_col0, #T_e9eda_row0_col1, #T_e9eda_row0_col2, #T_e9eda_row0_col3, #T_e9eda_row0_col4, #T_e9eda_row0_col5, #T_e9eda_row1_col0, #T_e9eda_row1_col1, #T_e9eda_row1_col2, #T_e9eda_row1_col3, #T_e9eda_row1_col4, #T_e9eda_row1_col5, #T_e9eda_row2_col0, #T_e9eda_row2_col1, #T_e9eda_row2_col2, #T_e9eda_row2_col3, #T_e9eda_row2_col4, #T_e9eda_row2_col5, #T_e9eda_row3_col0, #T_e9eda_row3_col1, #T_e9eda_row3_col2, #T_e9eda_row3_col3, #T_e9eda_row3_col4, #T_e9eda_row3_col5, #T_e9eda_row4_col0, #T_e9eda_row4_col1, #T_e9eda_row4_col2, #T_e9eda_row4_col3, #T_e9eda_row4_col4, #T_e9eda_row4_col5, #T_e9eda_row5_col0, #T_e9eda_row5_col1, #T_e9eda_row5_col2, #T_e9eda_row5_col3, #T_e9eda_row5_col4, #T_e9eda_row5_col5, #T_e9eda_row6_col0, #T_e9eda_row6_col1, #T_e9eda_row6_col2, #T_e9eda_row6_col3, #T_e9eda_row6_col4, #T_e9eda_row6_col5, #T_e9eda_row7_col0, #T_e9eda_row7_col1, #T_e9eda_row7_col2, #T_e9eda_row7_col3, #T_e9eda_row7_col4, #T_e9eda_row7_col5, #T_e9eda_row8_col0, #T_e9eda_row8_col1, #T_e9eda_row8_col2, #T_e9eda_row8_col3, #T_e9eda_row8_col4, #T_e9eda_row8_col5, #T_e9eda_row9_col0, #T_e9eda_row9_col1, #T_e9eda_row9_col2, #T_e9eda_row9_col3, #T_e9eda_row9_col4, #T_e9eda_row9_col5 {\n",
       "  text-align: left;\n",
       "}\n",
       "</style>\n",
       "<table id=\"T_e9eda\">\n",
       "  <thead>\n",
       "    <tr>\n",
       "      <th class=\"blank level0\" >&nbsp;</th>\n",
       "      <th id=\"T_e9eda_level0_col0\" class=\"col_heading level0 col0\" >id</th>\n",
       "      <th id=\"T_e9eda_level0_col1\" class=\"col_heading level0 col1\" >name</th>\n",
       "      <th id=\"T_e9eda_level0_col2\" class=\"col_heading level0 col2\" >popularity</th>\n",
       "      <th id=\"T_e9eda_level0_col3\" class=\"col_heading level0 col3\" >available_markets</th>\n",
       "      <th id=\"T_e9eda_level0_col4\" class=\"col_heading level0 col4\" >release_date</th>\n",
       "      <th id=\"T_e9eda_level0_col5\" class=\"col_heading level0 col5\" >total_tracks</th>\n",
       "    </tr>\n",
       "  </thead>\n",
       "  <tbody>\n",
       "    <tr>\n",
       "      <th id=\"T_e9eda_level0_row0\" class=\"row_heading level0 row0\" >0</th>\n",
       "      <td id=\"T_e9eda_row0_col0\" class=\"data row0 col0\" >0gr5OmB74UhoANEXwYT3gE</td>\n",
       "      <td id=\"T_e9eda_row0_col1\" class=\"data row0 col1\" >Dreamers [Music from the FIFA World Cup Qatar 2022 Official Soundtrack]</td>\n",
       "      <td id=\"T_e9eda_row0_col2\" class=\"data row0 col2\" >81</td>\n",
       "      <td id=\"T_e9eda_row0_col3\" class=\"data row0 col3\" >184</td>\n",
       "      <td id=\"T_e9eda_row0_col4\" class=\"data row0 col4\" >2022-11-20</td>\n",
       "      <td id=\"T_e9eda_row0_col5\" class=\"data row0 col5\" >1</td>\n",
       "    </tr>\n",
       "    <tr>\n",
       "      <th id=\"T_e9eda_level0_row1\" class=\"row_heading level0 row1\" >1</th>\n",
       "      <td id=\"T_e9eda_row1_col0\" class=\"data row1 col0\" >3lZ0sW4znNieFHxGdyWXCj</td>\n",
       "      <td id=\"T_e9eda_row1_col1\" class=\"data row1 col1\" >22</td>\n",
       "      <td id=\"T_e9eda_row1_col2\" class=\"data row1 col2\" >60</td>\n",
       "      <td id=\"T_e9eda_row1_col3\" class=\"data row1 col3\" >183</td>\n",
       "      <td id=\"T_e9eda_row1_col4\" class=\"data row1 col4\" >2022-08-18</td>\n",
       "      <td id=\"T_e9eda_row1_col5\" class=\"data row1 col5\" >11</td>\n",
       "    </tr>\n",
       "    <tr>\n",
       "      <th id=\"T_e9eda_level0_row2\" class=\"row_heading level0 row2\" >2</th>\n",
       "      <td id=\"T_e9eda_row2_col0\" class=\"data row2 col0\" >2AZXUAGWs90yNEUC4biubs</td>\n",
       "      <td id=\"T_e9eda_row2_col1\" class=\"data row2 col1\" >Chìm Sâu</td>\n",
       "      <td id=\"T_e9eda_row2_col2\" class=\"data row2 col2\" >52</td>\n",
       "      <td id=\"T_e9eda_row2_col3\" class=\"data row2 col3\" >183</td>\n",
       "      <td id=\"T_e9eda_row2_col4\" class=\"data row2 col4\" >2022-02-24</td>\n",
       "      <td id=\"T_e9eda_row2_col5\" class=\"data row2 col5\" >1</td>\n",
       "    </tr>\n",
       "    <tr>\n",
       "      <th id=\"T_e9eda_level0_row3\" class=\"row_heading level0 row3\" >3</th>\n",
       "      <td id=\"T_e9eda_row3_col0\" class=\"data row3 col0\" >38JFpZ6hGFaQ4BUxT7XcI0</td>\n",
       "      <td id=\"T_e9eda_row3_col1\" class=\"data row3 col1\" >Chết Trong Em</td>\n",
       "      <td id=\"T_e9eda_row3_col2\" class=\"data row3 col2\" >50</td>\n",
       "      <td id=\"T_e9eda_row3_col3\" class=\"data row3 col3\" >184</td>\n",
       "      <td id=\"T_e9eda_row3_col4\" class=\"data row3 col4\" >2022-10-31</td>\n",
       "      <td id=\"T_e9eda_row3_col5\" class=\"data row3 col5\" >1</td>\n",
       "    </tr>\n",
       "    <tr>\n",
       "      <th id=\"T_e9eda_level0_row4\" class=\"row_heading level0 row4\" >4</th>\n",
       "      <td id=\"T_e9eda_row4_col0\" class=\"data row4 col0\" >7q2bB2NNFlNbtqadbn55pL</td>\n",
       "      <td id=\"T_e9eda_row4_col1\" class=\"data row4 col1\" >dự báo thời tiết hôm nay mưa – Maxi Single</td>\n",
       "      <td id=\"T_e9eda_row4_col2\" class=\"data row4 col2\" >52</td>\n",
       "      <td id=\"T_e9eda_row4_col3\" class=\"data row4 col3\" >183</td>\n",
       "      <td id=\"T_e9eda_row4_col4\" class=\"data row4 col4\" >2022-11-22</td>\n",
       "      <td id=\"T_e9eda_row4_col5\" class=\"data row4 col5\" >3</td>\n",
       "    </tr>\n",
       "    <tr>\n",
       "      <th id=\"T_e9eda_level0_row5\" class=\"row_heading level0 row5\" >5</th>\n",
       "      <td id=\"T_e9eda_row5_col0\" class=\"data row5 col0\" >5DZXXrAKNwD0c0Avrs5W9j</td>\n",
       "      <td id=\"T_e9eda_row5_col1\" class=\"data row5 col1\" >Tại Vì Sao</td>\n",
       "      <td id=\"T_e9eda_row5_col2\" class=\"data row5 col2\" >52</td>\n",
       "      <td id=\"T_e9eda_row5_col3\" class=\"data row5 col3\" >183</td>\n",
       "      <td id=\"T_e9eda_row5_col4\" class=\"data row5 col4\" >2022-09-23</td>\n",
       "      <td id=\"T_e9eda_row5_col5\" class=\"data row5 col5\" >1</td>\n",
       "    </tr>\n",
       "    <tr>\n",
       "      <th id=\"T_e9eda_level0_row6\" class=\"row_heading level0 row6\" >6</th>\n",
       "      <td id=\"T_e9eda_row6_col0\" class=\"data row6 col0\" >2vki9hRAipW0SbK0A0c92W</td>\n",
       "      <td id=\"T_e9eda_row6_col1\" class=\"data row6 col1\" >Ngày Đầu Tiên</td>\n",
       "      <td id=\"T_e9eda_row6_col2\" class=\"data row6 col2\" >48</td>\n",
       "      <td id=\"T_e9eda_row6_col3\" class=\"data row6 col3\" >184</td>\n",
       "      <td id=\"T_e9eda_row6_col4\" class=\"data row6 col4\" >2022-02-11</td>\n",
       "      <td id=\"T_e9eda_row6_col5\" class=\"data row6 col5\" >1</td>\n",
       "    </tr>\n",
       "    <tr>\n",
       "      <th id=\"T_e9eda_level0_row7\" class=\"row_heading level0 row7\" >7</th>\n",
       "      <td id=\"T_e9eda_row7_col0\" class=\"data row7 col0\" >4AitP1QgqnYpEpx8KY07IA</td>\n",
       "      <td id=\"T_e9eda_row7_col1\" class=\"data row7 col1\" >ThichThich</td>\n",
       "      <td id=\"T_e9eda_row7_col2\" class=\"data row7 col2\" >50</td>\n",
       "      <td id=\"T_e9eda_row7_col3\" class=\"data row7 col3\" >184</td>\n",
       "      <td id=\"T_e9eda_row7_col4\" class=\"data row7 col4\" >2022-07-24</td>\n",
       "      <td id=\"T_e9eda_row7_col5\" class=\"data row7 col5\" >1</td>\n",
       "    </tr>\n",
       "    <tr>\n",
       "      <th id=\"T_e9eda_level0_row8\" class=\"row_heading level0 row8\" >8</th>\n",
       "      <td id=\"T_e9eda_row8_col0\" class=\"data row8 col0\" >3lZ0sW4znNieFHxGdyWXCj</td>\n",
       "      <td id=\"T_e9eda_row8_col1\" class=\"data row8 col1\" >22</td>\n",
       "      <td id=\"T_e9eda_row8_col2\" class=\"data row8 col2\" >60</td>\n",
       "      <td id=\"T_e9eda_row8_col3\" class=\"data row8 col3\" >182</td>\n",
       "      <td id=\"T_e9eda_row8_col4\" class=\"data row8 col4\" >2022-08-18</td>\n",
       "      <td id=\"T_e9eda_row8_col5\" class=\"data row8 col5\" >11</td>\n",
       "    </tr>\n",
       "    <tr>\n",
       "      <th id=\"T_e9eda_level0_row9\" class=\"row_heading level0 row9\" >9</th>\n",
       "      <td id=\"T_e9eda_row9_col0\" class=\"data row9 col0\" >706NYXSqVRFvEn2L4GFahN</td>\n",
       "      <td id=\"T_e9eda_row9_col1\" class=\"data row9 col1\" >Có Đâu Ai Ngờ</td>\n",
       "      <td id=\"T_e9eda_row9_col2\" class=\"data row9 col2\" >47</td>\n",
       "      <td id=\"T_e9eda_row9_col3\" class=\"data row9 col3\" >183</td>\n",
       "      <td id=\"T_e9eda_row9_col4\" class=\"data row9 col4\" >2022-09-08</td>\n",
       "      <td id=\"T_e9eda_row9_col5\" class=\"data row9 col5\" >1</td>\n",
       "    </tr>\n",
       "  </tbody>\n",
       "</table>\n"
      ],
      "text/plain": [
       "<pandas.io.formats.style.Styler at 0x2581ca1cd60>"
      ]
     },
     "execution_count": 35,
     "metadata": {},
     "output_type": "execute_result"
    }
   ],
   "source": [
    "left_align(pd_album.head(10))"
   ]
  },
  {
   "attachments": {},
   "cell_type": "markdown",
   "metadata": {},
   "source": [
    "Let's read some description of each column to understand more clearly about data. All of these was included in `albums_data_des.csv`."
   ]
  },
  {
   "cell_type": "code",
   "execution_count": 36,
   "metadata": {},
   "outputs": [
    {
     "data": {
      "text/html": [
       "<style type=\"text/css\">\n",
       "#T_806d4 th {\n",
       "  text-align: center;\n",
       "}\n",
       "#T_806d4_row0_col0, #T_806d4_row0_col1, #T_806d4_row0_col2, #T_806d4_row0_col3, #T_806d4_row1_col0, #T_806d4_row1_col1, #T_806d4_row1_col2, #T_806d4_row1_col3, #T_806d4_row2_col0, #T_806d4_row2_col1, #T_806d4_row2_col2, #T_806d4_row2_col3, #T_806d4_row3_col0, #T_806d4_row3_col1, #T_806d4_row3_col2, #T_806d4_row3_col3, #T_806d4_row4_col0, #T_806d4_row4_col1, #T_806d4_row4_col2, #T_806d4_row4_col3, #T_806d4_row5_col0, #T_806d4_row5_col1, #T_806d4_row5_col2, #T_806d4_row5_col3 {\n",
       "  text-align: left;\n",
       "}\n",
       "</style>\n",
       "<table id=\"T_806d4\">\n",
       "  <thead>\n",
       "    <tr>\n",
       "      <th class=\"blank level0\" >&nbsp;</th>\n",
       "      <th id=\"T_806d4_level0_col0\" class=\"col_heading level0 col0\" >column name</th>\n",
       "      <th id=\"T_806d4_level0_col1\" class=\"col_heading level0 col1\" > data type</th>\n",
       "      <th id=\"T_806d4_level0_col2\" class=\"col_heading level0 col2\" > meaning</th>\n",
       "      <th id=\"T_806d4_level0_col3\" class=\"col_heading level0 col3\" > example</th>\n",
       "    </tr>\n",
       "  </thead>\n",
       "  <tbody>\n",
       "    <tr>\n",
       "      <th id=\"T_806d4_level0_row0\" class=\"row_heading level0 row0\" >0</th>\n",
       "      <td id=\"T_806d4_row0_col0\" class=\"data row0 col0\" >id</td>\n",
       "      <td id=\"T_806d4_row0_col1\" class=\"data row0 col1\" > string</td>\n",
       "      <td id=\"T_806d4_row0_col2\" class=\"data row0 col2\" > The Spotify ID of the album</td>\n",
       "      <td id=\"T_806d4_row0_col3\" class=\"data row0 col3\" > 7lPoGKpCGgdKFAxpudhAH5</td>\n",
       "    </tr>\n",
       "    <tr>\n",
       "      <th id=\"T_806d4_level0_row1\" class=\"row_heading level0 row1\" >1</th>\n",
       "      <td id=\"T_806d4_row1_col0\" class=\"data row1 col0\" >name</td>\n",
       "      <td id=\"T_806d4_row1_col1\" class=\"data row1 col1\" > string</td>\n",
       "      <td id=\"T_806d4_row1_col2\" class=\"data row1 col2\" > The name of the album</td>\n",
       "      <td id=\"T_806d4_row1_col3\" class=\"data row1 col3\" > Speak Your Mind (Deluxe)</td>\n",
       "    </tr>\n",
       "    <tr>\n",
       "      <th id=\"T_806d4_level0_row2\" class=\"row_heading level0 row2\" >2</th>\n",
       "      <td id=\"T_806d4_row2_col0\" class=\"data row2 col0\" >popularity</td>\n",
       "      <td id=\"T_806d4_row2_col1\" class=\"data row2 col1\" > int</td>\n",
       "      <td id=\"T_806d4_row2_col2\" class=\"data row2 col2\" > \"The popularity of the album. The value will be between 0 and 100 with 100 being the most popular\"</td>\n",
       "      <td id=\"T_806d4_row2_col3\" class=\"data row2 col3\" > 72</td>\n",
       "    </tr>\n",
       "    <tr>\n",
       "      <th id=\"T_806d4_level0_row3\" class=\"row_heading level0 row3\" >3</th>\n",
       "      <td id=\"T_806d4_row3_col0\" class=\"data row3 col0\" >available_markets</td>\n",
       "      <td id=\"T_806d4_row3_col1\" class=\"data row3 col1\" > int</td>\n",
       "      <td id=\"T_806d4_row3_col2\" class=\"data row3 col2\" > The number of markets (countries) which the album is available</td>\n",
       "      <td id=\"T_806d4_row3_col3\" class=\"data row3 col3\" > 183</td>\n",
       "    </tr>\n",
       "    <tr>\n",
       "      <th id=\"T_806d4_level0_row4\" class=\"row_heading level0 row4\" >4</th>\n",
       "      <td id=\"T_806d4_row4_col0\" class=\"data row4 col0\" >release_date</td>\n",
       "      <td id=\"T_806d4_row4_col1\" class=\"data row4 col1\" > datetime</td>\n",
       "      <td id=\"T_806d4_row4_col2\" class=\"data row4 col2\" > The day when the album was released</td>\n",
       "      <td id=\"T_806d4_row4_col3\" class=\"data row4 col3\" > \"2018-04-27\"</td>\n",
       "    </tr>\n",
       "    <tr>\n",
       "      <th id=\"T_806d4_level0_row5\" class=\"row_heading level0 row5\" >5</th>\n",
       "      <td id=\"T_806d4_row5_col0\" class=\"data row5 col0\" >total_tracks</td>\n",
       "      <td id=\"T_806d4_row5_col1\" class=\"data row5 col1\" > int</td>\n",
       "      <td id=\"T_806d4_row5_col2\" class=\"data row5 col2\" > The number of tracks which the album contain</td>\n",
       "      <td id=\"T_806d4_row5_col3\" class=\"data row5 col3\" > 18</td>\n",
       "    </tr>\n",
       "  </tbody>\n",
       "</table>\n"
      ],
      "text/plain": [
       "<pandas.io.formats.style.Styler at 0x2581caa53a0>"
      ]
     },
     "execution_count": 36,
     "metadata": {},
     "output_type": "execute_result"
    }
   ],
   "source": [
    "albums_data_des = pd.read_csv('../../data/description/albums_data_des.csv')\n",
    "left_align(albums_data_des)"
   ]
  },
  {
   "attachments": {},
   "cell_type": "markdown",
   "metadata": {},
   "source": [
    "Next, let's check how many rows and columns in our DataFrame."
   ]
  },
  {
   "cell_type": "code",
   "execution_count": 37,
   "metadata": {},
   "outputs": [
    {
     "data": {
      "text/plain": [
       "(3000, 6)"
      ]
     },
     "execution_count": 37,
     "metadata": {},
     "output_type": "execute_result"
    }
   ],
   "source": [
    "rows, columns = pd_album.shape\n",
    "rows, columns"
   ]
  },
  {
   "cell_type": "code",
   "execution_count": 38,
   "metadata": {},
   "outputs": [
    {
     "data": {
      "text/html": [
       "<style type=\"text/css\">\n",
       "#T_88e62 th {\n",
       "  text-align: center;\n",
       "}\n",
       "#T_88e62_row0_col0, #T_88e62_row0_col1, #T_88e62_row0_col2, #T_88e62_row1_col0, #T_88e62_row1_col1, #T_88e62_row1_col2, #T_88e62_row2_col0, #T_88e62_row2_col1, #T_88e62_row2_col2, #T_88e62_row3_col0, #T_88e62_row3_col1, #T_88e62_row3_col2, #T_88e62_row4_col0, #T_88e62_row4_col1, #T_88e62_row4_col2, #T_88e62_row5_col0, #T_88e62_row5_col1, #T_88e62_row5_col2, #T_88e62_row6_col0, #T_88e62_row6_col1, #T_88e62_row6_col2, #T_88e62_row7_col0, #T_88e62_row7_col1, #T_88e62_row7_col2 {\n",
       "  text-align: left;\n",
       "}\n",
       "</style>\n",
       "<table id=\"T_88e62\">\n",
       "  <thead>\n",
       "    <tr>\n",
       "      <th class=\"blank level0\" >&nbsp;</th>\n",
       "      <th id=\"T_88e62_level0_col0\" class=\"col_heading level0 col0\" >popularity</th>\n",
       "      <th id=\"T_88e62_level0_col1\" class=\"col_heading level0 col1\" >available_markets</th>\n",
       "      <th id=\"T_88e62_level0_col2\" class=\"col_heading level0 col2\" >total_tracks</th>\n",
       "    </tr>\n",
       "  </thead>\n",
       "  <tbody>\n",
       "    <tr>\n",
       "      <th id=\"T_88e62_level0_row0\" class=\"row_heading level0 row0\" >count</th>\n",
       "      <td id=\"T_88e62_row0_col0\" class=\"data row0 col0\" >3000.000000</td>\n",
       "      <td id=\"T_88e62_row0_col1\" class=\"data row0 col1\" >3000.000000</td>\n",
       "      <td id=\"T_88e62_row0_col2\" class=\"data row0 col2\" >3000.000000</td>\n",
       "    </tr>\n",
       "    <tr>\n",
       "      <th id=\"T_88e62_level0_row1\" class=\"row_heading level0 row1\" >mean</th>\n",
       "      <td id=\"T_88e62_row1_col0\" class=\"data row1 col0\" >40.131000</td>\n",
       "      <td id=\"T_88e62_row1_col1\" class=\"data row1 col1\" >165.323667</td>\n",
       "      <td id=\"T_88e62_row1_col2\" class=\"data row1 col2\" >15.306333</td>\n",
       "    </tr>\n",
       "    <tr>\n",
       "      <th id=\"T_88e62_level0_row2\" class=\"row_heading level0 row2\" >std</th>\n",
       "      <td id=\"T_88e62_row2_col0\" class=\"data row2 col0\" >25.359381</td>\n",
       "      <td id=\"T_88e62_row2_col1\" class=\"data row2 col1\" >35.725346</td>\n",
       "      <td id=\"T_88e62_row2_col2\" class=\"data row2 col2\" >24.414228</td>\n",
       "    </tr>\n",
       "    <tr>\n",
       "      <th id=\"T_88e62_level0_row3\" class=\"row_heading level0 row3\" >min</th>\n",
       "      <td id=\"T_88e62_row3_col0\" class=\"data row3 col0\" >0.000000</td>\n",
       "      <td id=\"T_88e62_row3_col1\" class=\"data row3 col1\" >1.000000</td>\n",
       "      <td id=\"T_88e62_row3_col2\" class=\"data row3 col2\" >1.000000</td>\n",
       "    </tr>\n",
       "    <tr>\n",
       "      <th id=\"T_88e62_level0_row4\" class=\"row_heading level0 row4\" >25%</th>\n",
       "      <td id=\"T_88e62_row4_col0\" class=\"data row4 col0\" >14.750000</td>\n",
       "      <td id=\"T_88e62_row4_col1\" class=\"data row4 col1\" >181.000000</td>\n",
       "      <td id=\"T_88e62_row4_col2\" class=\"data row4 col2\" >1.000000</td>\n",
       "    </tr>\n",
       "    <tr>\n",
       "      <th id=\"T_88e62_level0_row5\" class=\"row_heading level0 row5\" >50%</th>\n",
       "      <td id=\"T_88e62_row5_col0\" class=\"data row5 col0\" >44.000000</td>\n",
       "      <td id=\"T_88e62_row5_col1\" class=\"data row5 col1\" >183.000000</td>\n",
       "      <td id=\"T_88e62_row5_col2\" class=\"data row5 col2\" >2.000000</td>\n",
       "    </tr>\n",
       "    <tr>\n",
       "      <th id=\"T_88e62_level0_row6\" class=\"row_heading level0 row6\" >75%</th>\n",
       "      <td id=\"T_88e62_row6_col0\" class=\"data row6 col0\" >50.000000</td>\n",
       "      <td id=\"T_88e62_row6_col1\" class=\"data row6 col1\" >183.000000</td>\n",
       "      <td id=\"T_88e62_row6_col2\" class=\"data row6 col2\" >16.250000</td>\n",
       "    </tr>\n",
       "    <tr>\n",
       "      <th id=\"T_88e62_level0_row7\" class=\"row_heading level0 row7\" >max</th>\n",
       "      <td id=\"T_88e62_row7_col0\" class=\"data row7 col0\" >95.000000</td>\n",
       "      <td id=\"T_88e62_row7_col1\" class=\"data row7 col1\" >184.000000</td>\n",
       "      <td id=\"T_88e62_row7_col2\" class=\"data row7 col2\" >141.000000</td>\n",
       "    </tr>\n",
       "  </tbody>\n",
       "</table>\n"
      ],
      "text/plain": [
       "<pandas.io.formats.style.Styler at 0x2581c50f970>"
      ]
     },
     "execution_count": 38,
     "metadata": {},
     "output_type": "execute_result"
    }
   ],
   "source": [
    "left_align(pd_album.describe())"
   ]
  },
  {
   "attachments": {},
   "cell_type": "markdown",
   "metadata": {},
   "source": [
    "We are going to show information of the DataFrame."
   ]
  },
  {
   "cell_type": "code",
   "execution_count": 39,
   "metadata": {},
   "outputs": [
    {
     "name": "stdout",
     "output_type": "stream",
     "text": [
      "<class 'pandas.core.frame.DataFrame'>\n",
      "RangeIndex: 3000 entries, 0 to 2999\n",
      "Data columns (total 6 columns):\n",
      " #   Column             Non-Null Count  Dtype \n",
      "---  ------             --------------  ----- \n",
      " 0   id                 3000 non-null   object\n",
      " 1   name               3000 non-null   object\n",
      " 2   popularity         3000 non-null   int64 \n",
      " 3   available_markets  3000 non-null   int64 \n",
      " 4   release_date       3000 non-null   object\n",
      " 5   total_tracks       3000 non-null   int64 \n",
      "dtypes: int64(3), object(3)\n",
      "memory usage: 140.8+ KB\n"
     ]
    }
   ],
   "source": [
    "pd_album.info()"
   ]
  },
  {
   "attachments": {},
   "cell_type": "markdown",
   "metadata": {},
   "source": [
    "Datatype of each columns."
   ]
  },
  {
   "cell_type": "code",
   "execution_count": 40,
   "metadata": {},
   "outputs": [
    {
     "data": {
      "text/plain": [
       "id                   object\n",
       "name                 object\n",
       "popularity            int64\n",
       "available_markets     int64\n",
       "release_date         object\n",
       "total_tracks          int64\n",
       "dtype: object"
      ]
     },
     "execution_count": 40,
     "metadata": {},
     "output_type": "execute_result"
    }
   ],
   "source": [
    "dtypes = pd_album.dtypes\n",
    "dtypes"
   ]
  },
  {
   "attachments": {},
   "cell_type": "markdown",
   "metadata": {},
   "source": [
    "Let's count the number of null and missing data."
   ]
  },
  {
   "cell_type": "code",
   "execution_count": 41,
   "metadata": {},
   "outputs": [
    {
     "data": {
      "text/plain": [
       "id                   0\n",
       "name                 0\n",
       "popularity           0\n",
       "available_markets    0\n",
       "release_date         0\n",
       "total_tracks         0\n",
       "dtype: int64"
      ]
     },
     "execution_count": 41,
     "metadata": {},
     "output_type": "execute_result"
    }
   ],
   "source": [
    "pd_album.isna().sum()"
   ]
  },
  {
   "attachments": {},
   "cell_type": "markdown",
   "metadata": {},
   "source": [
    "Check how many albums are duplicated and need to be removed later."
   ]
  },
  {
   "cell_type": "code",
   "execution_count": 42,
   "metadata": {},
   "outputs": [
    {
     "name": "stdout",
     "output_type": "stream",
     "text": [
      "There are 2335 rows are duplicated.\n"
     ]
    }
   ],
   "source": [
    "print(\"There are\", pd_album.duplicated().sum(), \"rows are duplicated.\") "
   ]
  },
  {
   "attachments": {},
   "cell_type": "markdown",
   "metadata": {},
   "source": [
    "We have recognized that the datatype of column `release_date` do not meet our need. Therefore, we have to convert release_date column from datetime type to Timestamp type."
   ]
  },
  {
   "cell_type": "code",
   "execution_count": 43,
   "metadata": {},
   "outputs": [
    {
     "name": "stdout",
     "output_type": "stream",
     "text": [
      "Ex: 2022-08-18 00:00:00\n"
     ]
    }
   ],
   "source": [
    "pd_album['release_date'] = pd.to_datetime(pd_album['release_date'])\n",
    "print('Ex:', pd_album['release_date'][1])"
   ]
  },
  {
   "attachments": {},
   "cell_type": "markdown",
   "metadata": {},
   "source": [
    "### <b><u>Step 4</u>: Count occurrences of each albums in 3000 rows of raw data</b>\n",
    "\n",
    "- Count duplication of each albums by `pd.groupby()`.\n",
    "- Drop irrelevant columns.\n",
    "- Rename the counted value column from `size` to `occurrences`.\n",
    "- Sort `occurrences` by descending order."
   ]
  },
  {
   "cell_type": "code",
   "execution_count": 61,
   "metadata": {},
   "outputs": [
    {
     "data": {
      "text/html": [
       "<style type=\"text/css\">\n",
       "#T_0bc0d th {\n",
       "  text-align: center;\n",
       "}\n",
       "#T_0bc0d_row0_col0, #T_0bc0d_row0_col1, #T_0bc0d_row0_col2, #T_0bc0d_row1_col0, #T_0bc0d_row1_col1, #T_0bc0d_row1_col2, #T_0bc0d_row2_col0, #T_0bc0d_row2_col1, #T_0bc0d_row2_col2, #T_0bc0d_row3_col0, #T_0bc0d_row3_col1, #T_0bc0d_row3_col2, #T_0bc0d_row4_col0, #T_0bc0d_row4_col1, #T_0bc0d_row4_col2, #T_0bc0d_row5_col0, #T_0bc0d_row5_col1, #T_0bc0d_row5_col2, #T_0bc0d_row6_col0, #T_0bc0d_row6_col1, #T_0bc0d_row6_col2, #T_0bc0d_row7_col0, #T_0bc0d_row7_col1, #T_0bc0d_row7_col2, #T_0bc0d_row8_col0, #T_0bc0d_row8_col1, #T_0bc0d_row8_col2, #T_0bc0d_row9_col0, #T_0bc0d_row9_col1, #T_0bc0d_row9_col2 {\n",
       "  text-align: left;\n",
       "}\n",
       "</style>\n",
       "<table id=\"T_0bc0d\">\n",
       "  <thead>\n",
       "    <tr>\n",
       "      <th class=\"blank level0\" >&nbsp;</th>\n",
       "      <th id=\"T_0bc0d_level0_col0\" class=\"col_heading level0 col0\" >id</th>\n",
       "      <th id=\"T_0bc0d_level0_col1\" class=\"col_heading level0 col1\" >name</th>\n",
       "      <th id=\"T_0bc0d_level0_col2\" class=\"col_heading level0 col2\" >occurrences</th>\n",
       "    </tr>\n",
       "  </thead>\n",
       "  <tbody>\n",
       "    <tr>\n",
       "      <th id=\"T_0bc0d_level0_row0\" class=\"row_heading level0 row0\" >0</th>\n",
       "      <td id=\"T_0bc0d_row0_col0\" class=\"data row0 col0\" >3ULu7EK5sl1zUdx2r7D15E</td>\n",
       "      <td id=\"T_0bc0d_row0_col1\" class=\"data row0 col1\" >Rapitalove</td>\n",
       "      <td id=\"T_0bc0d_row0_col2\" class=\"data row0 col2\" >40</td>\n",
       "    </tr>\n",
       "    <tr>\n",
       "      <th id=\"T_0bc0d_level0_row1\" class=\"row_heading level0 row1\" >1</th>\n",
       "      <td id=\"T_0bc0d_row1_col0\" class=\"data row1 col0\" >6nYfHQnvkvOTNHnOhDT3sr</td>\n",
       "      <td id=\"T_0bc0d_row1_col1\" class=\"data row1 col1\" >BE</td>\n",
       "      <td id=\"T_0bc0d_row1_col2\" class=\"data row1 col2\" >40</td>\n",
       "    </tr>\n",
       "    <tr>\n",
       "      <th id=\"T_0bc0d_level0_row2\" class=\"row_heading level0 row2\" >2</th>\n",
       "      <td id=\"T_0bc0d_row2_col0\" class=\"data row2 col0\" >3euz4vS7ezKGnNSwgyvKcd</td>\n",
       "      <td id=\"T_0bc0d_row2_col1\" class=\"data row2 col1\" >Positions</td>\n",
       "      <td id=\"T_0bc0d_row2_col2\" class=\"data row2 col2\" >40</td>\n",
       "    </tr>\n",
       "    <tr>\n",
       "      <th id=\"T_0bc0d_level0_row3\" class=\"row_heading level0 row3\" >3</th>\n",
       "      <td id=\"T_0bc0d_row3_col0\" class=\"data row3 col0\" >4yP0hdKOZPNshxUOjY0cZj</td>\n",
       "      <td id=\"T_0bc0d_row3_col1\" class=\"data row3 col1\" >After Hours</td>\n",
       "      <td id=\"T_0bc0d_row3_col2\" class=\"data row3 col2\" >40</td>\n",
       "    </tr>\n",
       "    <tr>\n",
       "      <th id=\"T_0bc0d_level0_row4\" class=\"row_heading level0 row4\" >4</th>\n",
       "      <td id=\"T_0bc0d_row4_col0\" class=\"data row4 col0\" >3OUXwE9nsupsKI3JY4Ml73</td>\n",
       "      <td id=\"T_0bc0d_row4_col1\" class=\"data row4 col1\" >Winter Blues 2023</td>\n",
       "      <td id=\"T_0bc0d_row4_col2\" class=\"data row4 col2\" >24</td>\n",
       "    </tr>\n",
       "    <tr>\n",
       "      <th id=\"T_0bc0d_level0_row5\" class=\"row_heading level0 row5\" >5</th>\n",
       "      <td id=\"T_0bc0d_row5_col0\" class=\"data row5 col0\" >4DsRtPCkDwFLmdQnXbTL7f</td>\n",
       "      <td id=\"T_0bc0d_row5_col1\" class=\"data row5 col1\" >Winter Vibes 2023</td>\n",
       "      <td id=\"T_0bc0d_row5_col2\" class=\"data row5 col2\" >23</td>\n",
       "    </tr>\n",
       "    <tr>\n",
       "      <th id=\"T_0bc0d_level0_row6\" class=\"row_heading level0 row6\" >6</th>\n",
       "      <td id=\"T_0bc0d_row6_col0\" class=\"data row6 col0\" >5oOVxWfhlsD4cYzUh1VBCr</td>\n",
       "      <td id=\"T_0bc0d_row6_col1\" class=\"data row6 col1\" >Cho Mình Em</td>\n",
       "      <td id=\"T_0bc0d_row6_col2\" class=\"data row6 col2\" >20</td>\n",
       "    </tr>\n",
       "    <tr>\n",
       "      <th id=\"T_0bc0d_level0_row7\" class=\"row_heading level0 row7\" >7</th>\n",
       "      <td id=\"T_0bc0d_row7_col0\" class=\"data row7 col0\" >1tCQC9HuRvujLuSe2sgf2S</td>\n",
       "      <td id=\"T_0bc0d_row7_col1\" class=\"data row7 col1\" >Past Lives</td>\n",
       "      <td id=\"T_0bc0d_row7_col2\" class=\"data row7 col2\" >20</td>\n",
       "    </tr>\n",
       "    <tr>\n",
       "      <th id=\"T_0bc0d_level0_row8\" class=\"row_heading level0 row8\" >8</th>\n",
       "      <td id=\"T_0bc0d_row8_col0\" class=\"data row8 col0\" >5xduxfrnEQpYdH54ilWMAN</td>\n",
       "      <td id=\"T_0bc0d_row8_col1\" class=\"data row8 col1\" >The Playah</td>\n",
       "      <td id=\"T_0bc0d_row8_col2\" class=\"data row8 col2\" >20</td>\n",
       "    </tr>\n",
       "    <tr>\n",
       "      <th id=\"T_0bc0d_level0_row9\" class=\"row_heading level0 row9\" >9</th>\n",
       "      <td id=\"T_0bc0d_row9_col0\" class=\"data row9 col0\" >26jN76TbwKh8wHd7DY27hf</td>\n",
       "      <td id=\"T_0bc0d_row9_col1\" class=\"data row9 col1\" >Blue Tequila</td>\n",
       "      <td id=\"T_0bc0d_row9_col2\" class=\"data row9 col2\" >20</td>\n",
       "    </tr>\n",
       "  </tbody>\n",
       "</table>\n"
      ],
      "text/plain": [
       "<pandas.io.formats.style.Styler at 0x2581cbcb970>"
      ]
     },
     "execution_count": 61,
     "metadata": {},
     "output_type": "execute_result"
    }
   ],
   "source": [
    "album_occur = pd_album.drop(['available_markets'], axis = 1)\n",
    "album_occur = album_occur.groupby(album_occur.columns.tolist()).size().reset_index()\n",
    "album_occur = album_occur.drop(['popularity', 'release_date', 'total_tracks'], axis = 1)\n",
    "album_occur = album_occur.rename(columns = {0: 'occurrences'})\n",
    "album_occur = album_occur.sort_values(by = 'occurrences', ascending = False, ignore_index = True)\n",
    "left_align(album_occur.head(10))"
   ]
  },
  {
   "attachments": {},
   "cell_type": "markdown",
   "metadata": {},
   "source": [
    "### <b><u>Step 5</u>: Drop duplication to clean the data</b>"
   ]
  },
  {
   "cell_type": "code",
   "execution_count": 47,
   "metadata": {},
   "outputs": [],
   "source": [
    "albums_data = pd_album.drop_duplicates(subset = ['id'], keep = 'first', inplace = False)"
   ]
  },
  {
   "attachments": {},
   "cell_type": "markdown",
   "metadata": {},
   "source": [
    "Okay, it seems like our data are cleaner."
   ]
  },
  {
   "cell_type": "code",
   "execution_count": 48,
   "metadata": {},
   "outputs": [
    {
     "data": {
      "text/html": [
       "<style type=\"text/css\">\n",
       "#T_83d13 th {\n",
       "  text-align: center;\n",
       "}\n",
       "#T_83d13_row0_col0, #T_83d13_row0_col1, #T_83d13_row0_col2, #T_83d13_row0_col3, #T_83d13_row0_col4, #T_83d13_row0_col5, #T_83d13_row1_col0, #T_83d13_row1_col1, #T_83d13_row1_col2, #T_83d13_row1_col3, #T_83d13_row1_col4, #T_83d13_row1_col5, #T_83d13_row2_col0, #T_83d13_row2_col1, #T_83d13_row2_col2, #T_83d13_row2_col3, #T_83d13_row2_col4, #T_83d13_row2_col5, #T_83d13_row3_col0, #T_83d13_row3_col1, #T_83d13_row3_col2, #T_83d13_row3_col3, #T_83d13_row3_col4, #T_83d13_row3_col5, #T_83d13_row4_col0, #T_83d13_row4_col1, #T_83d13_row4_col2, #T_83d13_row4_col3, #T_83d13_row4_col4, #T_83d13_row4_col5, #T_83d13_row5_col0, #T_83d13_row5_col1, #T_83d13_row5_col2, #T_83d13_row5_col3, #T_83d13_row5_col4, #T_83d13_row5_col5, #T_83d13_row6_col0, #T_83d13_row6_col1, #T_83d13_row6_col2, #T_83d13_row6_col3, #T_83d13_row6_col4, #T_83d13_row6_col5, #T_83d13_row7_col0, #T_83d13_row7_col1, #T_83d13_row7_col2, #T_83d13_row7_col3, #T_83d13_row7_col4, #T_83d13_row7_col5, #T_83d13_row8_col0, #T_83d13_row8_col1, #T_83d13_row8_col2, #T_83d13_row8_col3, #T_83d13_row8_col4, #T_83d13_row8_col5, #T_83d13_row9_col0, #T_83d13_row9_col1, #T_83d13_row9_col2, #T_83d13_row9_col3, #T_83d13_row9_col4, #T_83d13_row9_col5 {\n",
       "  text-align: left;\n",
       "}\n",
       "</style>\n",
       "<table id=\"T_83d13\">\n",
       "  <thead>\n",
       "    <tr>\n",
       "      <th class=\"blank level0\" >&nbsp;</th>\n",
       "      <th id=\"T_83d13_level0_col0\" class=\"col_heading level0 col0\" >id</th>\n",
       "      <th id=\"T_83d13_level0_col1\" class=\"col_heading level0 col1\" >name</th>\n",
       "      <th id=\"T_83d13_level0_col2\" class=\"col_heading level0 col2\" >popularity</th>\n",
       "      <th id=\"T_83d13_level0_col3\" class=\"col_heading level0 col3\" >available_markets</th>\n",
       "      <th id=\"T_83d13_level0_col4\" class=\"col_heading level0 col4\" >release_date</th>\n",
       "      <th id=\"T_83d13_level0_col5\" class=\"col_heading level0 col5\" >total_tracks</th>\n",
       "    </tr>\n",
       "  </thead>\n",
       "  <tbody>\n",
       "    <tr>\n",
       "      <th id=\"T_83d13_level0_row0\" class=\"row_heading level0 row0\" >0</th>\n",
       "      <td id=\"T_83d13_row0_col0\" class=\"data row0 col0\" >0gr5OmB74UhoANEXwYT3gE</td>\n",
       "      <td id=\"T_83d13_row0_col1\" class=\"data row0 col1\" >Dreamers [Music from the FIFA World Cup Qatar 2022 Official Soundtrack]</td>\n",
       "      <td id=\"T_83d13_row0_col2\" class=\"data row0 col2\" >81</td>\n",
       "      <td id=\"T_83d13_row0_col3\" class=\"data row0 col3\" >184</td>\n",
       "      <td id=\"T_83d13_row0_col4\" class=\"data row0 col4\" >2022-11-20 00:00:00</td>\n",
       "      <td id=\"T_83d13_row0_col5\" class=\"data row0 col5\" >1</td>\n",
       "    </tr>\n",
       "    <tr>\n",
       "      <th id=\"T_83d13_level0_row1\" class=\"row_heading level0 row1\" >1</th>\n",
       "      <td id=\"T_83d13_row1_col0\" class=\"data row1 col0\" >3lZ0sW4znNieFHxGdyWXCj</td>\n",
       "      <td id=\"T_83d13_row1_col1\" class=\"data row1 col1\" >22</td>\n",
       "      <td id=\"T_83d13_row1_col2\" class=\"data row1 col2\" >60</td>\n",
       "      <td id=\"T_83d13_row1_col3\" class=\"data row1 col3\" >183</td>\n",
       "      <td id=\"T_83d13_row1_col4\" class=\"data row1 col4\" >2022-08-18 00:00:00</td>\n",
       "      <td id=\"T_83d13_row1_col5\" class=\"data row1 col5\" >11</td>\n",
       "    </tr>\n",
       "    <tr>\n",
       "      <th id=\"T_83d13_level0_row2\" class=\"row_heading level0 row2\" >2</th>\n",
       "      <td id=\"T_83d13_row2_col0\" class=\"data row2 col0\" >2AZXUAGWs90yNEUC4biubs</td>\n",
       "      <td id=\"T_83d13_row2_col1\" class=\"data row2 col1\" >Chìm Sâu</td>\n",
       "      <td id=\"T_83d13_row2_col2\" class=\"data row2 col2\" >52</td>\n",
       "      <td id=\"T_83d13_row2_col3\" class=\"data row2 col3\" >183</td>\n",
       "      <td id=\"T_83d13_row2_col4\" class=\"data row2 col4\" >2022-02-24 00:00:00</td>\n",
       "      <td id=\"T_83d13_row2_col5\" class=\"data row2 col5\" >1</td>\n",
       "    </tr>\n",
       "    <tr>\n",
       "      <th id=\"T_83d13_level0_row3\" class=\"row_heading level0 row3\" >3</th>\n",
       "      <td id=\"T_83d13_row3_col0\" class=\"data row3 col0\" >38JFpZ6hGFaQ4BUxT7XcI0</td>\n",
       "      <td id=\"T_83d13_row3_col1\" class=\"data row3 col1\" >Chết Trong Em</td>\n",
       "      <td id=\"T_83d13_row3_col2\" class=\"data row3 col2\" >50</td>\n",
       "      <td id=\"T_83d13_row3_col3\" class=\"data row3 col3\" >184</td>\n",
       "      <td id=\"T_83d13_row3_col4\" class=\"data row3 col4\" >2022-10-31 00:00:00</td>\n",
       "      <td id=\"T_83d13_row3_col5\" class=\"data row3 col5\" >1</td>\n",
       "    </tr>\n",
       "    <tr>\n",
       "      <th id=\"T_83d13_level0_row4\" class=\"row_heading level0 row4\" >4</th>\n",
       "      <td id=\"T_83d13_row4_col0\" class=\"data row4 col0\" >7q2bB2NNFlNbtqadbn55pL</td>\n",
       "      <td id=\"T_83d13_row4_col1\" class=\"data row4 col1\" >dự báo thời tiết hôm nay mưa – Maxi Single</td>\n",
       "      <td id=\"T_83d13_row4_col2\" class=\"data row4 col2\" >52</td>\n",
       "      <td id=\"T_83d13_row4_col3\" class=\"data row4 col3\" >183</td>\n",
       "      <td id=\"T_83d13_row4_col4\" class=\"data row4 col4\" >2022-11-22 00:00:00</td>\n",
       "      <td id=\"T_83d13_row4_col5\" class=\"data row4 col5\" >3</td>\n",
       "    </tr>\n",
       "    <tr>\n",
       "      <th id=\"T_83d13_level0_row5\" class=\"row_heading level0 row5\" >5</th>\n",
       "      <td id=\"T_83d13_row5_col0\" class=\"data row5 col0\" >5DZXXrAKNwD0c0Avrs5W9j</td>\n",
       "      <td id=\"T_83d13_row5_col1\" class=\"data row5 col1\" >Tại Vì Sao</td>\n",
       "      <td id=\"T_83d13_row5_col2\" class=\"data row5 col2\" >52</td>\n",
       "      <td id=\"T_83d13_row5_col3\" class=\"data row5 col3\" >183</td>\n",
       "      <td id=\"T_83d13_row5_col4\" class=\"data row5 col4\" >2022-09-23 00:00:00</td>\n",
       "      <td id=\"T_83d13_row5_col5\" class=\"data row5 col5\" >1</td>\n",
       "    </tr>\n",
       "    <tr>\n",
       "      <th id=\"T_83d13_level0_row6\" class=\"row_heading level0 row6\" >6</th>\n",
       "      <td id=\"T_83d13_row6_col0\" class=\"data row6 col0\" >2vki9hRAipW0SbK0A0c92W</td>\n",
       "      <td id=\"T_83d13_row6_col1\" class=\"data row6 col1\" >Ngày Đầu Tiên</td>\n",
       "      <td id=\"T_83d13_row6_col2\" class=\"data row6 col2\" >48</td>\n",
       "      <td id=\"T_83d13_row6_col3\" class=\"data row6 col3\" >184</td>\n",
       "      <td id=\"T_83d13_row6_col4\" class=\"data row6 col4\" >2022-02-11 00:00:00</td>\n",
       "      <td id=\"T_83d13_row6_col5\" class=\"data row6 col5\" >1</td>\n",
       "    </tr>\n",
       "    <tr>\n",
       "      <th id=\"T_83d13_level0_row7\" class=\"row_heading level0 row7\" >7</th>\n",
       "      <td id=\"T_83d13_row7_col0\" class=\"data row7 col0\" >4AitP1QgqnYpEpx8KY07IA</td>\n",
       "      <td id=\"T_83d13_row7_col1\" class=\"data row7 col1\" >ThichThich</td>\n",
       "      <td id=\"T_83d13_row7_col2\" class=\"data row7 col2\" >50</td>\n",
       "      <td id=\"T_83d13_row7_col3\" class=\"data row7 col3\" >184</td>\n",
       "      <td id=\"T_83d13_row7_col4\" class=\"data row7 col4\" >2022-07-24 00:00:00</td>\n",
       "      <td id=\"T_83d13_row7_col5\" class=\"data row7 col5\" >1</td>\n",
       "    </tr>\n",
       "    <tr>\n",
       "      <th id=\"T_83d13_level0_row8\" class=\"row_heading level0 row8\" >9</th>\n",
       "      <td id=\"T_83d13_row8_col0\" class=\"data row8 col0\" >706NYXSqVRFvEn2L4GFahN</td>\n",
       "      <td id=\"T_83d13_row8_col1\" class=\"data row8 col1\" >Có Đâu Ai Ngờ</td>\n",
       "      <td id=\"T_83d13_row8_col2\" class=\"data row8 col2\" >47</td>\n",
       "      <td id=\"T_83d13_row8_col3\" class=\"data row8 col3\" >183</td>\n",
       "      <td id=\"T_83d13_row8_col4\" class=\"data row8 col4\" >2022-09-08 00:00:00</td>\n",
       "      <td id=\"T_83d13_row8_col5\" class=\"data row8 col5\" >1</td>\n",
       "    </tr>\n",
       "    <tr>\n",
       "      <th id=\"T_83d13_level0_row9\" class=\"row_heading level0 row9\" >10</th>\n",
       "      <td id=\"T_83d13_row9_col0\" class=\"data row9 col0\" >5Af8YESOWf6nK6BcLh3hkA</td>\n",
       "      <td id=\"T_83d13_row9_col1\" class=\"data row9 col1\" >Mặt Mộc</td>\n",
       "      <td id=\"T_83d13_row9_col2\" class=\"data row9 col2\" >48</td>\n",
       "      <td id=\"T_83d13_row9_col3\" class=\"data row9 col3\" >184</td>\n",
       "      <td id=\"T_83d13_row9_col4\" class=\"data row9 col4\" >2022-08-05 00:00:00</td>\n",
       "      <td id=\"T_83d13_row9_col5\" class=\"data row9 col5\" >1</td>\n",
       "    </tr>\n",
       "  </tbody>\n",
       "</table>\n"
      ],
      "text/plain": [
       "<pandas.io.formats.style.Styler at 0x2581b194ac0>"
      ]
     },
     "execution_count": 48,
     "metadata": {},
     "output_type": "execute_result"
    }
   ],
   "source": [
    "left_align(albums_data.head(10))"
   ]
  },
  {
   "attachments": {},
   "cell_type": "markdown",
   "metadata": {},
   "source": [
    "### <b><u>Step 6</u>: Data Visualization</b>"
   ]
  },
  {
   "attachments": {},
   "cell_type": "markdown",
   "metadata": {},
   "source": [
    "#### Visualize top 10 albums' occurrences among 3000 songs."
   ]
  },
  {
   "cell_type": "code",
   "execution_count": 62,
   "metadata": {},
   "outputs": [
    {
     "data": {
      "text/plain": [
       "<AxesSubplot: ylabel='name'>"
      ]
     },
     "execution_count": 62,
     "metadata": {},
     "output_type": "execute_result"
    },
    {
     "data": {
      "image/png": "[encoded data removed]",
      "text/plain": [
       "<Figure size 500x500 with 1 Axes>"
      ]
     },
     "metadata": {},
     "output_type": "display_data"
    }
   ],
   "source": [
    "top10_occurrences = album_occur[['name', 'occurrences']].nlargest(n = 10, columns = ['occurrences'])\n",
    "top10_occurrences.set_index('name').plot.barh(figsize = (5, 5), color = '#EE4000')"
   ]
  },
  {
   "attachments": {},
   "cell_type": "markdown",
   "metadata": {},
   "source": [
    "#### Visualize top 10 albums' total tracks."
   ]
  },
  {
   "cell_type": "code",
   "execution_count": 63,
   "metadata": {},
   "outputs": [
    {
     "data": {
      "text/plain": [
       "<AxesSubplot: ylabel='name'>"
      ]
     },
     "execution_count": 63,
     "metadata": {},
     "output_type": "execute_result"
    },
    {
     "data": {
      "image/png": "[encoded data removed]",
      "text/plain": [
       "<Figure size 500x500 with 1 Axes>"
      ]
     },
     "metadata": {},
     "output_type": "display_data"
    }
   ],
   "source": [
    "top10_notracks = albums_data[['name', 'total_tracks']].nlargest(n = 10, columns = ['total_tracks'])\n",
    "top10_notracks.set_index('name').plot.barh(figsize = (5, 5), color = '#1C86EE')"
   ]
  },
  {
   "attachments": {},
   "cell_type": "markdown",
   "metadata": {},
   "source": [
    "#### List all albums have popularity over 80."
   ]
  },
  {
   "cell_type": "code",
   "execution_count": 64,
   "metadata": {},
   "outputs": [
    {
     "data": {
      "text/html": [
       "<style type=\"text/css\">\n",
       "#T_26837 th {\n",
       "  text-align: center;\n",
       "}\n",
       "#T_26837_row0_col0, #T_26837_row0_col1, #T_26837_row0_col2, #T_26837_row0_col3, #T_26837_row0_col4, #T_26837_row0_col5, #T_26837_row1_col0, #T_26837_row1_col1, #T_26837_row1_col2, #T_26837_row1_col3, #T_26837_row1_col4, #T_26837_row1_col5, #T_26837_row2_col0, #T_26837_row2_col1, #T_26837_row2_col2, #T_26837_row2_col3, #T_26837_row2_col4, #T_26837_row2_col5, #T_26837_row3_col0, #T_26837_row3_col1, #T_26837_row3_col2, #T_26837_row3_col3, #T_26837_row3_col4, #T_26837_row3_col5, #T_26837_row4_col0, #T_26837_row4_col1, #T_26837_row4_col2, #T_26837_row4_col3, #T_26837_row4_col4, #T_26837_row4_col5, #T_26837_row5_col0, #T_26837_row5_col1, #T_26837_row5_col2, #T_26837_row5_col3, #T_26837_row5_col4, #T_26837_row5_col5, #T_26837_row6_col0, #T_26837_row6_col1, #T_26837_row6_col2, #T_26837_row6_col3, #T_26837_row6_col4, #T_26837_row6_col5, #T_26837_row7_col0, #T_26837_row7_col1, #T_26837_row7_col2, #T_26837_row7_col3, #T_26837_row7_col4, #T_26837_row7_col5, #T_26837_row8_col0, #T_26837_row8_col1, #T_26837_row8_col2, #T_26837_row8_col3, #T_26837_row8_col4, #T_26837_row8_col5, #T_26837_row9_col0, #T_26837_row9_col1, #T_26837_row9_col2, #T_26837_row9_col3, #T_26837_row9_col4, #T_26837_row9_col5, #T_26837_row10_col0, #T_26837_row10_col1, #T_26837_row10_col2, #T_26837_row10_col3, #T_26837_row10_col4, #T_26837_row10_col5, #T_26837_row11_col0, #T_26837_row11_col1, #T_26837_row11_col2, #T_26837_row11_col3, #T_26837_row11_col4, #T_26837_row11_col5, #T_26837_row12_col0, #T_26837_row12_col1, #T_26837_row12_col2, #T_26837_row12_col3, #T_26837_row12_col4, #T_26837_row12_col5, #T_26837_row13_col0, #T_26837_row13_col1, #T_26837_row13_col2, #T_26837_row13_col3, #T_26837_row13_col4, #T_26837_row13_col5, #T_26837_row14_col0, #T_26837_row14_col1, #T_26837_row14_col2, #T_26837_row14_col3, #T_26837_row14_col4, #T_26837_row14_col5, #T_26837_row15_col0, #T_26837_row15_col1, #T_26837_row15_col2, #T_26837_row15_col3, #T_26837_row15_col4, #T_26837_row15_col5, #T_26837_row16_col0, #T_26837_row16_col1, #T_26837_row16_col2, #T_26837_row16_col3, #T_26837_row16_col4, #T_26837_row16_col5, #T_26837_row17_col0, #T_26837_row17_col1, #T_26837_row17_col2, #T_26837_row17_col3, #T_26837_row17_col4, #T_26837_row17_col5, #T_26837_row18_col0, #T_26837_row18_col1, #T_26837_row18_col2, #T_26837_row18_col3, #T_26837_row18_col4, #T_26837_row18_col5, #T_26837_row19_col0, #T_26837_row19_col1, #T_26837_row19_col2, #T_26837_row19_col3, #T_26837_row19_col4, #T_26837_row19_col5, #T_26837_row20_col0, #T_26837_row20_col1, #T_26837_row20_col2, #T_26837_row20_col3, #T_26837_row20_col4, #T_26837_row20_col5, #T_26837_row21_col0, #T_26837_row21_col1, #T_26837_row21_col2, #T_26837_row21_col3, #T_26837_row21_col4, #T_26837_row21_col5, #T_26837_row22_col0, #T_26837_row22_col1, #T_26837_row22_col2, #T_26837_row22_col3, #T_26837_row22_col4, #T_26837_row22_col5 {\n",
       "  text-align: left;\n",
       "}\n",
       "</style>\n",
       "<table id=\"T_26837\">\n",
       "  <thead>\n",
       "    <tr>\n",
       "      <th class=\"blank level0\" >&nbsp;</th>\n",
       "      <th id=\"T_26837_level0_col0\" class=\"col_heading level0 col0\" >id</th>\n",
       "      <th id=\"T_26837_level0_col1\" class=\"col_heading level0 col1\" >name</th>\n",
       "      <th id=\"T_26837_level0_col2\" class=\"col_heading level0 col2\" >popularity</th>\n",
       "      <th id=\"T_26837_level0_col3\" class=\"col_heading level0 col3\" >available_markets</th>\n",
       "      <th id=\"T_26837_level0_col4\" class=\"col_heading level0 col4\" >release_date</th>\n",
       "      <th id=\"T_26837_level0_col5\" class=\"col_heading level0 col5\" >total_tracks</th>\n",
       "    </tr>\n",
       "  </thead>\n",
       "  <tbody>\n",
       "    <tr>\n",
       "      <th id=\"T_26837_level0_row0\" class=\"row_heading level0 row0\" >134</th>\n",
       "      <td id=\"T_26837_row0_col0\" class=\"data row0 col0\" >151w1FgRZfnKZA9FEcg9Z3</td>\n",
       "      <td id=\"T_26837_row0_col1\" class=\"data row0 col1\" >Midnights</td>\n",
       "      <td id=\"T_26837_row0_col2\" class=\"data row0 col2\" >95</td>\n",
       "      <td id=\"T_26837_row0_col3\" class=\"data row0 col3\" >183</td>\n",
       "      <td id=\"T_26837_row0_col4\" class=\"data row0 col4\" >2022-10-21 00:00:00</td>\n",
       "      <td id=\"T_26837_row0_col5\" class=\"data row0 col5\" >13</td>\n",
       "    </tr>\n",
       "    <tr>\n",
       "      <th id=\"T_26837_level0_row1\" class=\"row_heading level0 row1\" >400</th>\n",
       "      <td id=\"T_26837_row1_col0\" class=\"data row1 col0\" >07w0rG5TETcyihsEIZR3qG</td>\n",
       "      <td id=\"T_26837_row1_col1\" class=\"data row1 col1\" >SOS</td>\n",
       "      <td id=\"T_26837_row1_col2\" class=\"data row1 col2\" >95</td>\n",
       "      <td id=\"T_26837_row1_col3\" class=\"data row1 col3\" >184</td>\n",
       "      <td id=\"T_26837_row1_col4\" class=\"data row1 col4\" >2022-12-09 00:00:00</td>\n",
       "      <td id=\"T_26837_row1_col5\" class=\"data row1 col5\" >23</td>\n",
       "    </tr>\n",
       "    <tr>\n",
       "      <th id=\"T_26837_level0_row2\" class=\"row_heading level0 row2\" >403</th>\n",
       "      <td id=\"T_26837_row2_col0\" class=\"data row2 col0\" >5r36AJ6VOJtp00oxSkBZ5h</td>\n",
       "      <td id=\"T_26837_row2_col1\" class=\"data row2 col1\" >Harry's House</td>\n",
       "      <td id=\"T_26837_row2_col2\" class=\"data row2 col2\" >91</td>\n",
       "      <td id=\"T_26837_row2_col3\" class=\"data row2 col3\" >183</td>\n",
       "      <td id=\"T_26837_row2_col4\" class=\"data row2 col4\" >2022-05-20 00:00:00</td>\n",
       "      <td id=\"T_26837_row2_col5\" class=\"data row2 col5\" >13</td>\n",
       "    </tr>\n",
       "    <tr>\n",
       "      <th id=\"T_26837_level0_row3\" class=\"row_heading level0 row3\" >276</th>\n",
       "      <td id=\"T_26837_row3_col0\" class=\"data row3 col0\" >7txGsnDSqVMoRl6RQ9XyZP</td>\n",
       "      <td id=\"T_26837_row3_col1\" class=\"data row3 col1\" >HEROES & VILLAINS</td>\n",
       "      <td id=\"T_26837_row3_col2\" class=\"data row3 col2\" >90</td>\n",
       "      <td id=\"T_26837_row3_col3\" class=\"data row3 col3\" >182</td>\n",
       "      <td id=\"T_26837_row3_col4\" class=\"data row3 col4\" >2022-12-02 00:00:00</td>\n",
       "      <td id=\"T_26837_row3_col5\" class=\"data row3 col5\" >15</td>\n",
       "    </tr>\n",
       "    <tr>\n",
       "      <th id=\"T_26837_level0_row4\" class=\"row_heading level0 row4\" >1035</th>\n",
       "      <td id=\"T_26837_row4_col0\" class=\"data row4 col0\" >6s84u2TUpR3wdUv4NgKA2j</td>\n",
       "      <td id=\"T_26837_row4_col1\" class=\"data row4 col1\" >SOUR</td>\n",
       "      <td id=\"T_26837_row4_col2\" class=\"data row4 col2\" >89</td>\n",
       "      <td id=\"T_26837_row4_col3\" class=\"data row4 col3\" >184</td>\n",
       "      <td id=\"T_26837_row4_col4\" class=\"data row4 col4\" >2021-05-21 00:00:00</td>\n",
       "      <td id=\"T_26837_row4_col5\" class=\"data row4 col5\" >11</td>\n",
       "    </tr>\n",
       "    <tr>\n",
       "      <th id=\"T_26837_level0_row5\" class=\"row_heading level0 row5\" >2037</th>\n",
       "      <td id=\"T_26837_row5_col0\" class=\"data row5 col0\" >4yP0hdKOZPNshxUOjY0cZj</td>\n",
       "      <td id=\"T_26837_row5_col1\" class=\"data row5 col1\" >After Hours</td>\n",
       "      <td id=\"T_26837_row5_col2\" class=\"data row5 col2\" >88</td>\n",
       "      <td id=\"T_26837_row5_col3\" class=\"data row5 col3\" >183</td>\n",
       "      <td id=\"T_26837_row5_col4\" class=\"data row5 col4\" >2020-03-20 00:00:00</td>\n",
       "      <td id=\"T_26837_row5_col5\" class=\"data row5 col5\" >14</td>\n",
       "    </tr>\n",
       "    <tr>\n",
       "      <th id=\"T_26837_level0_row6\" class=\"row_heading level0 row6\" >126</th>\n",
       "      <td id=\"T_26837_row6_col0\" class=\"data row6 col0\" >0gX9tkL5njRax8ymWcXARi</td>\n",
       "      <td id=\"T_26837_row6_col1\" class=\"data row6 col1\" >Unholy (feat. Kim Petras)</td>\n",
       "      <td id=\"T_26837_row6_col2\" class=\"data row6 col2\" >88</td>\n",
       "      <td id=\"T_26837_row6_col3\" class=\"data row6 col3\" >183</td>\n",
       "      <td id=\"T_26837_row6_col4\" class=\"data row6 col4\" >2022-09-22 00:00:00</td>\n",
       "      <td id=\"T_26837_row6_col5\" class=\"data row6 col5\" >1</td>\n",
       "    </tr>\n",
       "    <tr>\n",
       "      <th id=\"T_26837_level0_row7\" class=\"row_heading level0 row7\" >310</th>\n",
       "      <td id=\"T_26837_row7_col0\" class=\"data row7 col0\" >7M842DMhYVALrXsw3ty7B3</td>\n",
       "      <td id=\"T_26837_row7_col1\" class=\"data row7 col1\" >I'm Good (Blue)</td>\n",
       "      <td id=\"T_26837_row7_col2\" class=\"data row7 col2\" >86</td>\n",
       "      <td id=\"T_26837_row7_col3\" class=\"data row7 col3\" >182</td>\n",
       "      <td id=\"T_26837_row7_col4\" class=\"data row7 col4\" >2022-08-26 00:00:00</td>\n",
       "      <td id=\"T_26837_row7_col5\" class=\"data row7 col5\" >2</td>\n",
       "    </tr>\n",
       "    <tr>\n",
       "      <th id=\"T_26837_level0_row8\" class=\"row_heading level0 row8\" >113</th>\n",
       "      <td id=\"T_26837_row8_col0\" class=\"data row8 col0\" >2hEnymoejldpuxSdTnkard</td>\n",
       "      <td id=\"T_26837_row8_col1\" class=\"data row8 col1\" >SMITHEREENS</td>\n",
       "      <td id=\"T_26837_row8_col2\" class=\"data row8 col2\" >86</td>\n",
       "      <td id=\"T_26837_row8_col3\" class=\"data row8 col3\" >183</td>\n",
       "      <td id=\"T_26837_row8_col4\" class=\"data row8 col4\" >2022-11-04 00:00:00</td>\n",
       "      <td id=\"T_26837_row8_col5\" class=\"data row8 col5\" >9</td>\n",
       "    </tr>\n",
       "    <tr>\n",
       "      <th id=\"T_26837_level0_row9\" class=\"row_heading level0 row9\" >21</th>\n",
       "      <td id=\"T_26837_row9_col0\" class=\"data row9 col0\" >6al2VdKbb6FIz9d7lU7WRB</td>\n",
       "      <td id=\"T_26837_row9_col1\" class=\"data row9 col1\" >Proof</td>\n",
       "      <td id=\"T_26837_row9_col2\" class=\"data row9 col2\" >85</td>\n",
       "      <td id=\"T_26837_row9_col3\" class=\"data row9 col3\" >183</td>\n",
       "      <td id=\"T_26837_row9_col4\" class=\"data row9 col4\" >2022-06-10 00:00:00</td>\n",
       "      <td id=\"T_26837_row9_col5\" class=\"data row9 col5\" >35</td>\n",
       "    </tr>\n",
       "    <tr>\n",
       "      <th id=\"T_26837_level0_row10\" class=\"row_heading level0 row10\" >11</th>\n",
       "      <td id=\"T_26837_row10_col0\" class=\"data row10 col0\" >08HCdXZVN72S2vpIT9DKhU</td>\n",
       "      <td id=\"T_26837_row10_col1\" class=\"data row10 col1\" >Indigo</td>\n",
       "      <td id=\"T_26837_row10_col2\" class=\"data row10 col2\" >85</td>\n",
       "      <td id=\"T_26837_row10_col3\" class=\"data row10 col3\" >183</td>\n",
       "      <td id=\"T_26837_row10_col4\" class=\"data row10 col4\" >2022-12-02 00:00:00</td>\n",
       "      <td id=\"T_26837_row10_col5\" class=\"data row10 col5\" >10</td>\n",
       "    </tr>\n",
       "    <tr>\n",
       "      <th id=\"T_26837_level0_row11\" class=\"row_heading level0 row11\" >121</th>\n",
       "      <td id=\"T_26837_row11_col0\" class=\"data row11 col0\" >4LVa9bljQRvLYpWr8qyaXs</td>\n",
       "      <td id=\"T_26837_row11_col1\" class=\"data row11 col1\" >Takin' It Back</td>\n",
       "      <td id=\"T_26837_row11_col2\" class=\"data row11 col2\" >84</td>\n",
       "      <td id=\"T_26837_row11_col3\" class=\"data row11 col3\" >183</td>\n",
       "      <td id=\"T_26837_row11_col4\" class=\"data row11 col4\" >2022-10-21 00:00:00</td>\n",
       "      <td id=\"T_26837_row11_col5\" class=\"data row11 col5\" >16</td>\n",
       "    </tr>\n",
       "    <tr>\n",
       "      <th id=\"T_26837_level0_row12\" class=\"row_heading level0 row12\" >603</th>\n",
       "      <td id=\"T_26837_row12_col0\" class=\"data row12 col0\" >2nLOHgzXzwFEpl62zAgCEC</td>\n",
       "      <td id=\"T_26837_row12_col1\" class=\"data row12 col1\" >Dawn FM</td>\n",
       "      <td id=\"T_26837_row12_col2\" class=\"data row12 col2\" >84</td>\n",
       "      <td id=\"T_26837_row12_col3\" class=\"data row12 col3\" >183</td>\n",
       "      <td id=\"T_26837_row12_col4\" class=\"data row12 col4\" >2022-01-06 00:00:00</td>\n",
       "      <td id=\"T_26837_row12_col5\" class=\"data row12 col5\" >16</td>\n",
       "    </tr>\n",
       "    <tr>\n",
       "      <th id=\"T_26837_level0_row13\" class=\"row_heading level0 row13\" >292</th>\n",
       "      <td id=\"T_26837_row13_col0\" class=\"data row13 col0\" >04PEOM6kIEeq9lRp1asNP2</td>\n",
       "      <td id=\"T_26837_row13_col1\" class=\"data row13 col1\" >I Ain’t Worried (Music From The Motion Picture \"Top Gun: Maverick\")</td>\n",
       "      <td id=\"T_26837_row13_col2\" class=\"data row13 col2\" >83</td>\n",
       "      <td id=\"T_26837_row13_col3\" class=\"data row13 col3\" >182</td>\n",
       "      <td id=\"T_26837_row13_col4\" class=\"data row13 col4\" >2022-05-13 00:00:00</td>\n",
       "      <td id=\"T_26837_row13_col5\" class=\"data row13 col5\" >1</td>\n",
       "    </tr>\n",
       "    <tr>\n",
       "      <th id=\"T_26837_level0_row14\" class=\"row_heading level0 row14\" >294</th>\n",
       "      <td id=\"T_26837_row14_col0\" class=\"data row14 col0\" >69AaAkdktFGnk9POmHENkT</td>\n",
       "      <td id=\"T_26837_row14_col1\" class=\"data row14 col1\" >this is what ____ feels like (Vol. 1-4)</td>\n",
       "      <td id=\"T_26837_row14_col2\" class=\"data row14 col2\" >82</td>\n",
       "      <td id=\"T_26837_row14_col3\" class=\"data row14 col3\" >180</td>\n",
       "      <td id=\"T_26837_row14_col4\" class=\"data row14 col4\" >2022-09-23 00:00:00</td>\n",
       "      <td id=\"T_26837_row14_col5\" class=\"data row14 col5\" >12</td>\n",
       "    </tr>\n",
       "    <tr>\n",
       "      <th id=\"T_26837_level0_row15\" class=\"row_heading level0 row15\" >291</th>\n",
       "      <td id=\"T_26837_row15_col0\" class=\"data row15 col0\" >3HHNR44YbP7XogMVwzbodx</td>\n",
       "      <td id=\"T_26837_row15_col1\" class=\"data row15 col1\" >Twelve Carat Toothache</td>\n",
       "      <td id=\"T_26837_row15_col2\" class=\"data row15 col2\" >82</td>\n",
       "      <td id=\"T_26837_row15_col3\" class=\"data row15 col3\" >182</td>\n",
       "      <td id=\"T_26837_row15_col4\" class=\"data row15 col4\" >2022-06-03 00:00:00</td>\n",
       "      <td id=\"T_26837_row15_col5\" class=\"data row15 col5\" >14</td>\n",
       "    </tr>\n",
       "    <tr>\n",
       "      <th id=\"T_26837_level0_row16\" class=\"row_heading level0 row16\" >561</th>\n",
       "      <td id=\"T_26837_row16_col0\" class=\"data row16 col0\" >4B3FsNFguOEJ4TWEsct83B</td>\n",
       "      <td id=\"T_26837_row16_col1\" class=\"data row16 col1\" >Romantic Homicide</td>\n",
       "      <td id=\"T_26837_row16_col2\" class=\"data row16 col2\" >82</td>\n",
       "      <td id=\"T_26837_row16_col3\" class=\"data row16 col3\" >182</td>\n",
       "      <td id=\"T_26837_row16_col4\" class=\"data row16 col4\" >2022-07-20 00:00:00</td>\n",
       "      <td id=\"T_26837_row16_col5\" class=\"data row16 col5\" >1</td>\n",
       "    </tr>\n",
       "    <tr>\n",
       "      <th id=\"T_26837_level0_row17\" class=\"row_heading level0 row17\" >601</th>\n",
       "      <td id=\"T_26837_row17_col0\" class=\"data row17 col0\" >2pqdSWeJVsXAhHFuVLzuA8</td>\n",
       "      <td id=\"T_26837_row17_col1\" class=\"data row17 col1\" >As It Was</td>\n",
       "      <td id=\"T_26837_row17_col2\" class=\"data row17 col2\" >82</td>\n",
       "      <td id=\"T_26837_row17_col3\" class=\"data row17 col3\" >182</td>\n",
       "      <td id=\"T_26837_row17_col4\" class=\"data row17 col4\" >2022-03-31 00:00:00</td>\n",
       "      <td id=\"T_26837_row17_col5\" class=\"data row17 col5\" >1</td>\n",
       "    </tr>\n",
       "    <tr>\n",
       "      <th id=\"T_26837_level0_row18\" class=\"row_heading level0 row18\" >2035</th>\n",
       "      <td id=\"T_26837_row18_col0\" class=\"data row18 col0\" >2CMlkzFI2oDAy5MbyV7OV5</td>\n",
       "      <td id=\"T_26837_row18_col1\" class=\"data row18 col1\" >Kid Krow</td>\n",
       "      <td id=\"T_26837_row18_col2\" class=\"data row18 col2\" >82</td>\n",
       "      <td id=\"T_26837_row18_col3\" class=\"data row18 col3\" >179</td>\n",
       "      <td id=\"T_26837_row18_col4\" class=\"data row18 col4\" >2020-03-20 00:00:00</td>\n",
       "      <td id=\"T_26837_row18_col5\" class=\"data row18 col5\" >12</td>\n",
       "    </tr>\n",
       "    <tr>\n",
       "      <th id=\"T_26837_level0_row19\" class=\"row_heading level0 row19\" >125</th>\n",
       "      <td id=\"T_26837_row19_col0\" class=\"data row19 col0\" >1HMLpmZAnNyl9pxvOnTovV</td>\n",
       "      <td id=\"T_26837_row19_col1\" class=\"data row19 col1\" >NewJeans 1st EP 'New Jeans'</td>\n",
       "      <td id=\"T_26837_row19_col2\" class=\"data row19 col2\" >81</td>\n",
       "      <td id=\"T_26837_row19_col3\" class=\"data row19 col3\" >184</td>\n",
       "      <td id=\"T_26837_row19_col4\" class=\"data row19 col4\" >2022-08-01 00:00:00</td>\n",
       "      <td id=\"T_26837_row19_col5\" class=\"data row19 col5\" >4</td>\n",
       "    </tr>\n",
       "    <tr>\n",
       "      <th id=\"T_26837_level0_row20\" class=\"row_heading level0 row20\" >14</th>\n",
       "      <td id=\"T_26837_row20_col0\" class=\"data row20 col0\" >0S4pP8MBY9p7ngFWIZQAJv</td>\n",
       "      <td id=\"T_26837_row20_col1\" class=\"data row20 col1\" >BORN PINK</td>\n",
       "      <td id=\"T_26837_row20_col2\" class=\"data row20 col2\" >81</td>\n",
       "      <td id=\"T_26837_row20_col3\" class=\"data row20 col3\" >54</td>\n",
       "      <td id=\"T_26837_row20_col4\" class=\"data row20 col4\" >2022-09-16 00:00:00</td>\n",
       "      <td id=\"T_26837_row20_col5\" class=\"data row20 col5\" >8</td>\n",
       "    </tr>\n",
       "    <tr>\n",
       "      <th id=\"T_26837_level0_row21\" class=\"row_heading level0 row21\" >2015</th>\n",
       "      <td id=\"T_26837_row21_col0\" class=\"data row21 col0\" >3euz4vS7ezKGnNSwgyvKcd</td>\n",
       "      <td id=\"T_26837_row21_col1\" class=\"data row21 col1\" >Positions</td>\n",
       "      <td id=\"T_26837_row21_col2\" class=\"data row21 col2\" >81</td>\n",
       "      <td id=\"T_26837_row21_col3\" class=\"data row21 col3\" >184</td>\n",
       "      <td id=\"T_26837_row21_col4\" class=\"data row21 col4\" >2020-10-30 00:00:00</td>\n",
       "      <td id=\"T_26837_row21_col5\" class=\"data row21 col5\" >14</td>\n",
       "    </tr>\n",
       "    <tr>\n",
       "      <th id=\"T_26837_level0_row22\" class=\"row_heading level0 row22\" >0</th>\n",
       "      <td id=\"T_26837_row22_col0\" class=\"data row22 col0\" >0gr5OmB74UhoANEXwYT3gE</td>\n",
       "      <td id=\"T_26837_row22_col1\" class=\"data row22 col1\" >Dreamers [Music from the FIFA World Cup Qatar 2022 Official Soundtrack]</td>\n",
       "      <td id=\"T_26837_row22_col2\" class=\"data row22 col2\" >81</td>\n",
       "      <td id=\"T_26837_row22_col3\" class=\"data row22 col3\" >184</td>\n",
       "      <td id=\"T_26837_row22_col4\" class=\"data row22 col4\" >2022-11-20 00:00:00</td>\n",
       "      <td id=\"T_26837_row22_col5\" class=\"data row22 col5\" >1</td>\n",
       "    </tr>\n",
       "  </tbody>\n",
       "</table>\n"
      ],
      "text/plain": [
       "<pandas.io.formats.style.Styler at 0x2581cdeb2b0>"
      ]
     },
     "execution_count": 64,
     "metadata": {},
     "output_type": "execute_result"
    }
   ],
   "source": [
    "left_align(albums_data[albums_data['popularity'] > 80].sort_values(by = ['popularity'], ascending = False))"
   ]
  },
  {
   "attachments": {},
   "cell_type": "markdown",
   "metadata": {},
   "source": [
    "#### Visualize top 10 albums' popularity."
   ]
  },
  {
   "cell_type": "code",
   "execution_count": 65,
   "metadata": {},
   "outputs": [
    {
     "data": {
      "text/plain": [
       "<AxesSubplot: ylabel='name'>"
      ]
     },
     "execution_count": 65,
     "metadata": {},
     "output_type": "execute_result"
    },
    {
     "data": {
      "image/png": "[encoded data removed]",
      "text/plain": [
       "<Figure size 500x500 with 1 Axes>"
      ]
     },
     "metadata": {},
     "output_type": "display_data"
    }
   ],
   "source": [
    "top10_popularity = albums_data[['name', 'popularity']].nlargest(n = 10, columns = ['popularity'])\n",
    "top10_popularity.set_index('name').plot.barh(figsize = (5, 5), color = '#00CD00')"
   ]
  },
  {
   "attachments": {},
   "cell_type": "markdown",
   "metadata": {},
   "source": [
    "### <b><u>Step 7</u>: Advanced exploration on the dataset</b>"
   ]
  },
  {
   "attachments": {},
   "cell_type": "markdown",
   "metadata": {},
   "source": [
    "#### Show all existing albums' releasing-years."
   ]
  },
  {
   "cell_type": "code",
   "execution_count": 66,
   "metadata": {},
   "outputs": [
    {
     "data": {
      "text/plain": [
       "array([2020, 2021, 2022], dtype=int64)"
      ]
     },
     "execution_count": 66,
     "metadata": {},
     "output_type": "execute_result"
    }
   ],
   "source": [
    "albums_data['release_date'].dt.year.sort_values().unique()"
   ]
  },
  {
   "attachments": {},
   "cell_type": "markdown",
   "metadata": {},
   "source": [
    "Visualize the number of albums released each years from 1960 to 2022."
   ]
  },
  {
   "cell_type": "code",
   "execution_count": 67,
   "metadata": {},
   "outputs": [
    {
     "data": {
      "text/plain": [
       "<AxesSubplot: >"
      ]
     },
     "execution_count": 67,
     "metadata": {},
     "output_type": "execute_result"
    },
    {
     "data": {
      "image/png": "[encoded data removed]",
      "text/plain": [
       "<Figure size 800x800 with 1 Axes>"
      ]
     },
     "metadata": {},
     "output_type": "display_data"
    }
   ],
   "source": [
    "num_albums_each_years = albums_data['release_date'].dt.year.value_counts().sort_index(ascending = True)\n",
    "num_albums_each_years.plot.bar(figsize = (8, 8), color = 'crimson')"
   ]
  },
  {
   "attachments": {},
   "cell_type": "markdown",
   "metadata": {},
   "source": [
    "#### <b>The album with the highest popularity in 2022</b>\n",
    "- Get all albums which released in 2022."
   ]
  },
  {
   "cell_type": "code",
   "execution_count": 68,
   "metadata": {},
   "outputs": [
    {
     "data": {
      "text/html": [
       "<style type=\"text/css\">\n",
       "#T_d37a1 th {\n",
       "  text-align: center;\n",
       "}\n",
       "#T_d37a1_row0_col0, #T_d37a1_row0_col1, #T_d37a1_row0_col2, #T_d37a1_row0_col3, #T_d37a1_row1_col0, #T_d37a1_row1_col1, #T_d37a1_row1_col2, #T_d37a1_row1_col3, #T_d37a1_row2_col0, #T_d37a1_row2_col1, #T_d37a1_row2_col2, #T_d37a1_row2_col3, #T_d37a1_row3_col0, #T_d37a1_row3_col1, #T_d37a1_row3_col2, #T_d37a1_row3_col3, #T_d37a1_row4_col0, #T_d37a1_row4_col1, #T_d37a1_row4_col2, #T_d37a1_row4_col3, #T_d37a1_row5_col0, #T_d37a1_row5_col1, #T_d37a1_row5_col2, #T_d37a1_row5_col3, #T_d37a1_row6_col0, #T_d37a1_row6_col1, #T_d37a1_row6_col2, #T_d37a1_row6_col3, #T_d37a1_row7_col0, #T_d37a1_row7_col1, #T_d37a1_row7_col2, #T_d37a1_row7_col3, #T_d37a1_row8_col0, #T_d37a1_row8_col1, #T_d37a1_row8_col2, #T_d37a1_row8_col3, #T_d37a1_row9_col0, #T_d37a1_row9_col1, #T_d37a1_row9_col2, #T_d37a1_row9_col3 {\n",
       "  text-align: left;\n",
       "}\n",
       "</style>\n",
       "<table id=\"T_d37a1\">\n",
       "  <thead>\n",
       "    <tr>\n",
       "      <th class=\"blank level0\" >&nbsp;</th>\n",
       "      <th id=\"T_d37a1_level0_col0\" class=\"col_heading level0 col0\" >id</th>\n",
       "      <th id=\"T_d37a1_level0_col1\" class=\"col_heading level0 col1\" >name</th>\n",
       "      <th id=\"T_d37a1_level0_col2\" class=\"col_heading level0 col2\" >popularity</th>\n",
       "      <th id=\"T_d37a1_level0_col3\" class=\"col_heading level0 col3\" >release_date</th>\n",
       "    </tr>\n",
       "  </thead>\n",
       "  <tbody>\n",
       "    <tr>\n",
       "      <th id=\"T_d37a1_level0_row0\" class=\"row_heading level0 row0\" >0</th>\n",
       "      <td id=\"T_d37a1_row0_col0\" class=\"data row0 col0\" >07w0rG5TETcyihsEIZR3qG</td>\n",
       "      <td id=\"T_d37a1_row0_col1\" class=\"data row0 col1\" >SOS</td>\n",
       "      <td id=\"T_d37a1_row0_col2\" class=\"data row0 col2\" >95</td>\n",
       "      <td id=\"T_d37a1_row0_col3\" class=\"data row0 col3\" >2022-12-09 00:00:00</td>\n",
       "    </tr>\n",
       "    <tr>\n",
       "      <th id=\"T_d37a1_level0_row1\" class=\"row_heading level0 row1\" >1</th>\n",
       "      <td id=\"T_d37a1_row1_col0\" class=\"data row1 col0\" >151w1FgRZfnKZA9FEcg9Z3</td>\n",
       "      <td id=\"T_d37a1_row1_col1\" class=\"data row1 col1\" >Midnights</td>\n",
       "      <td id=\"T_d37a1_row1_col2\" class=\"data row1 col2\" >95</td>\n",
       "      <td id=\"T_d37a1_row1_col3\" class=\"data row1 col3\" >2022-10-21 00:00:00</td>\n",
       "    </tr>\n",
       "    <tr>\n",
       "      <th id=\"T_d37a1_level0_row2\" class=\"row_heading level0 row2\" >2</th>\n",
       "      <td id=\"T_d37a1_row2_col0\" class=\"data row2 col0\" >5r36AJ6VOJtp00oxSkBZ5h</td>\n",
       "      <td id=\"T_d37a1_row2_col1\" class=\"data row2 col1\" >Harry's House</td>\n",
       "      <td id=\"T_d37a1_row2_col2\" class=\"data row2 col2\" >91</td>\n",
       "      <td id=\"T_d37a1_row2_col3\" class=\"data row2 col3\" >2022-05-20 00:00:00</td>\n",
       "    </tr>\n",
       "    <tr>\n",
       "      <th id=\"T_d37a1_level0_row3\" class=\"row_heading level0 row3\" >3</th>\n",
       "      <td id=\"T_d37a1_row3_col0\" class=\"data row3 col0\" >7txGsnDSqVMoRl6RQ9XyZP</td>\n",
       "      <td id=\"T_d37a1_row3_col1\" class=\"data row3 col1\" >HEROES & VILLAINS</td>\n",
       "      <td id=\"T_d37a1_row3_col2\" class=\"data row3 col2\" >90</td>\n",
       "      <td id=\"T_d37a1_row3_col3\" class=\"data row3 col3\" >2022-12-02 00:00:00</td>\n",
       "    </tr>\n",
       "    <tr>\n",
       "      <th id=\"T_d37a1_level0_row4\" class=\"row_heading level0 row4\" >4</th>\n",
       "      <td id=\"T_d37a1_row4_col0\" class=\"data row4 col0\" >0gX9tkL5njRax8ymWcXARi</td>\n",
       "      <td id=\"T_d37a1_row4_col1\" class=\"data row4 col1\" >Unholy (feat. Kim Petras)</td>\n",
       "      <td id=\"T_d37a1_row4_col2\" class=\"data row4 col2\" >88</td>\n",
       "      <td id=\"T_d37a1_row4_col3\" class=\"data row4 col3\" >2022-09-22 00:00:00</td>\n",
       "    </tr>\n",
       "    <tr>\n",
       "      <th id=\"T_d37a1_level0_row5\" class=\"row_heading level0 row5\" >5</th>\n",
       "      <td id=\"T_d37a1_row5_col0\" class=\"data row5 col0\" >2hEnymoejldpuxSdTnkard</td>\n",
       "      <td id=\"T_d37a1_row5_col1\" class=\"data row5 col1\" >SMITHEREENS</td>\n",
       "      <td id=\"T_d37a1_row5_col2\" class=\"data row5 col2\" >86</td>\n",
       "      <td id=\"T_d37a1_row5_col3\" class=\"data row5 col3\" >2022-11-04 00:00:00</td>\n",
       "    </tr>\n",
       "    <tr>\n",
       "      <th id=\"T_d37a1_level0_row6\" class=\"row_heading level0 row6\" >6</th>\n",
       "      <td id=\"T_d37a1_row6_col0\" class=\"data row6 col0\" >7M842DMhYVALrXsw3ty7B3</td>\n",
       "      <td id=\"T_d37a1_row6_col1\" class=\"data row6 col1\" >I'm Good (Blue)</td>\n",
       "      <td id=\"T_d37a1_row6_col2\" class=\"data row6 col2\" >86</td>\n",
       "      <td id=\"T_d37a1_row6_col3\" class=\"data row6 col3\" >2022-08-26 00:00:00</td>\n",
       "    </tr>\n",
       "    <tr>\n",
       "      <th id=\"T_d37a1_level0_row7\" class=\"row_heading level0 row7\" >7</th>\n",
       "      <td id=\"T_d37a1_row7_col0\" class=\"data row7 col0\" >6al2VdKbb6FIz9d7lU7WRB</td>\n",
       "      <td id=\"T_d37a1_row7_col1\" class=\"data row7 col1\" >Proof</td>\n",
       "      <td id=\"T_d37a1_row7_col2\" class=\"data row7 col2\" >85</td>\n",
       "      <td id=\"T_d37a1_row7_col3\" class=\"data row7 col3\" >2022-06-10 00:00:00</td>\n",
       "    </tr>\n",
       "    <tr>\n",
       "      <th id=\"T_d37a1_level0_row8\" class=\"row_heading level0 row8\" >8</th>\n",
       "      <td id=\"T_d37a1_row8_col0\" class=\"data row8 col0\" >08HCdXZVN72S2vpIT9DKhU</td>\n",
       "      <td id=\"T_d37a1_row8_col1\" class=\"data row8 col1\" >Indigo</td>\n",
       "      <td id=\"T_d37a1_row8_col2\" class=\"data row8 col2\" >85</td>\n",
       "      <td id=\"T_d37a1_row8_col3\" class=\"data row8 col3\" >2022-12-02 00:00:00</td>\n",
       "    </tr>\n",
       "    <tr>\n",
       "      <th id=\"T_d37a1_level0_row9\" class=\"row_heading level0 row9\" >9</th>\n",
       "      <td id=\"T_d37a1_row9_col0\" class=\"data row9 col0\" >4LVa9bljQRvLYpWr8qyaXs</td>\n",
       "      <td id=\"T_d37a1_row9_col1\" class=\"data row9 col1\" >Takin' It Back</td>\n",
       "      <td id=\"T_d37a1_row9_col2\" class=\"data row9 col2\" >84</td>\n",
       "      <td id=\"T_d37a1_row9_col3\" class=\"data row9 col3\" >2022-10-21 00:00:00</td>\n",
       "    </tr>\n",
       "  </tbody>\n",
       "</table>\n"
      ],
      "text/plain": [
       "<pandas.io.formats.style.Styler at 0x2581cbd7e50>"
      ]
     },
     "execution_count": 68,
     "metadata": {},
     "output_type": "execute_result"
    }
   ],
   "source": [
    "albums_2022 = albums_data[['id', 'name', 'popularity', 'release_date']].where(albums_data['release_date'].dt.year == 2022)\n",
    "albums_2022.dropna(inplace = True)\n",
    "albums_2022 = albums_2022.astype({'popularity': 'int32'})\n",
    "left_align(albums_2022.sort_values(by = 'popularity', ascending = False, ignore_index = True).head(10))"
   ]
  },
  {
   "attachments": {},
   "cell_type": "markdown",
   "metadata": {},
   "source": [
    "- Query to get the album with the highest popularity in 2022."
   ]
  },
  {
   "cell_type": "code",
   "execution_count": 69,
   "metadata": {},
   "outputs": [
    {
     "data": {
      "text/html": [
       "<div>\n",
       "<style scoped>\n",
       "    .dataframe tbody tr th:only-of-type {\n",
       "        vertical-align: middle;\n",
       "    }\n",
       "\n",
       "    .dataframe tbody tr th {\n",
       "        vertical-align: top;\n",
       "    }\n",
       "\n",
       "    .dataframe thead th {\n",
       "        text-align: right;\n",
       "    }\n",
       "</style>\n",
       "<table border=\"1\" class=\"dataframe\">\n",
       "  <thead>\n",
       "    <tr style=\"text-align: right;\">\n",
       "      <th></th>\n",
       "      <th>id</th>\n",
       "      <th>name</th>\n",
       "      <th>popularity</th>\n",
       "      <th>release_date</th>\n",
       "    </tr>\n",
       "  </thead>\n",
       "  <tbody>\n",
       "    <tr>\n",
       "      <th>134</th>\n",
       "      <td>151w1FgRZfnKZA9FEcg9Z3</td>\n",
       "      <td>Midnights</td>\n",
       "      <td>95</td>\n",
       "      <td>2022-10-21</td>\n",
       "    </tr>\n",
       "    <tr>\n",
       "      <th>400</th>\n",
       "      <td>07w0rG5TETcyihsEIZR3qG</td>\n",
       "      <td>SOS</td>\n",
       "      <td>95</td>\n",
       "      <td>2022-12-09</td>\n",
       "    </tr>\n",
       "  </tbody>\n",
       "</table>\n",
       "</div>"
      ],
      "text/plain": [
       "                         id       name  popularity release_date\n",
       "134  151w1FgRZfnKZA9FEcg9Z3  Midnights          95   2022-10-21\n",
       "400  07w0rG5TETcyihsEIZR3qG        SOS          95   2022-12-09"
      ]
     },
     "metadata": {},
     "output_type": "display_data"
    }
   ],
   "source": [
    "display(albums_2022.loc[(albums_2022['popularity'] >= albums_2022['popularity'].max()), ['id', 'name', 'popularity', 'release_date']])"
   ]
  },
  {
   "attachments": {},
   "cell_type": "markdown",
   "metadata": {},
   "source": [
    "#### <b>The album with the highest popularity in 2021</b>\n",
    "- Get all albums which released in 2021."
   ]
  },
  {
   "cell_type": "code",
   "execution_count": 70,
   "metadata": {},
   "outputs": [
    {
     "data": {
      "text/html": [
       "<style type=\"text/css\">\n",
       "#T_56448 th {\n",
       "  text-align: center;\n",
       "}\n",
       "#T_56448_row0_col0, #T_56448_row0_col1, #T_56448_row0_col2, #T_56448_row0_col3, #T_56448_row1_col0, #T_56448_row1_col1, #T_56448_row1_col2, #T_56448_row1_col3, #T_56448_row2_col0, #T_56448_row2_col1, #T_56448_row2_col2, #T_56448_row2_col3, #T_56448_row3_col0, #T_56448_row3_col1, #T_56448_row3_col2, #T_56448_row3_col3, #T_56448_row4_col0, #T_56448_row4_col1, #T_56448_row4_col2, #T_56448_row4_col3, #T_56448_row5_col0, #T_56448_row5_col1, #T_56448_row5_col2, #T_56448_row5_col3, #T_56448_row6_col0, #T_56448_row6_col1, #T_56448_row6_col2, #T_56448_row6_col3, #T_56448_row7_col0, #T_56448_row7_col1, #T_56448_row7_col2, #T_56448_row7_col3, #T_56448_row8_col0, #T_56448_row8_col1, #T_56448_row8_col2, #T_56448_row8_col3, #T_56448_row9_col0, #T_56448_row9_col1, #T_56448_row9_col2, #T_56448_row9_col3 {\n",
       "  text-align: left;\n",
       "}\n",
       "</style>\n",
       "<table id=\"T_56448\">\n",
       "  <thead>\n",
       "    <tr>\n",
       "      <th class=\"blank level0\" >&nbsp;</th>\n",
       "      <th id=\"T_56448_level0_col0\" class=\"col_heading level0 col0\" >id</th>\n",
       "      <th id=\"T_56448_level0_col1\" class=\"col_heading level0 col1\" >name</th>\n",
       "      <th id=\"T_56448_level0_col2\" class=\"col_heading level0 col2\" >popularity</th>\n",
       "      <th id=\"T_56448_level0_col3\" class=\"col_heading level0 col3\" >release_date</th>\n",
       "    </tr>\n",
       "  </thead>\n",
       "  <tbody>\n",
       "    <tr>\n",
       "      <th id=\"T_56448_level0_row0\" class=\"row_heading level0 row0\" >0</th>\n",
       "      <td id=\"T_56448_row0_col0\" class=\"data row0 col0\" >6s84u2TUpR3wdUv4NgKA2j</td>\n",
       "      <td id=\"T_56448_row0_col1\" class=\"data row0 col1\" >SOUR</td>\n",
       "      <td id=\"T_56448_row0_col2\" class=\"data row0 col2\" >89</td>\n",
       "      <td id=\"T_56448_row0_col3\" class=\"data row0 col3\" >2021-05-21 00:00:00</td>\n",
       "    </tr>\n",
       "    <tr>\n",
       "      <th id=\"T_56448_level0_row1\" class=\"row_heading level0 row1\" >1</th>\n",
       "      <td id=\"T_56448_row1_col0\" class=\"data row1 col0\" >18CtLoAMTr7F8ngtuM6D8i</td>\n",
       "      <td id=\"T_56448_row1_col1\" class=\"data row1 col1\" >Until I Found You</td>\n",
       "      <td id=\"T_56448_row1_col2\" class=\"data row1 col2\" >77</td>\n",
       "      <td id=\"T_56448_row1_col3\" class=\"data row1 col3\" >2021-09-01 00:00:00</td>\n",
       "    </tr>\n",
       "    <tr>\n",
       "      <th id=\"T_56448_level0_row2\" class=\"row_heading level0 row2\" >2</th>\n",
       "      <td id=\"T_56448_row2_col0\" class=\"data row2 col0\" >0VaHnwzDug4AcDkejYDUl5</td>\n",
       "      <td id=\"T_56448_row2_col1\" class=\"data row2 col1\" >Sunroof</td>\n",
       "      <td id=\"T_56448_row2_col2\" class=\"data row2 col2\" >77</td>\n",
       "      <td id=\"T_56448_row2_col3\" class=\"data row2 col3\" >2021-12-03 00:00:00</td>\n",
       "    </tr>\n",
       "    <tr>\n",
       "      <th id=\"T_56448_level0_row3\" class=\"row_heading level0 row3\" >3</th>\n",
       "      <td id=\"T_56448_row3_col0\" class=\"data row3 col0\" >06mXfvDsRZNfnsGZvX2zpb</td>\n",
       "      <td id=\"T_56448_row3_col1\" class=\"data row3 col1\" >Music Of The Spheres</td>\n",
       "      <td id=\"T_56448_row3_col2\" class=\"data row3 col2\" >76</td>\n",
       "      <td id=\"T_56448_row3_col3\" class=\"data row3 col3\" >2021-10-15 00:00:00</td>\n",
       "    </tr>\n",
       "    <tr>\n",
       "      <th id=\"T_56448_level0_row4\" class=\"row_heading level0 row4\" >4</th>\n",
       "      <td id=\"T_56448_row4_col0\" class=\"data row4 col0\" >1OnzqJTL9bwe4kvaLxRYxt</td>\n",
       "      <td id=\"T_56448_row4_col1\" class=\"data row4 col1\" >Kiss Me More (feat. SZA)</td>\n",
       "      <td id=\"T_56448_row4_col2\" class=\"data row4 col2\" >69</td>\n",
       "      <td id=\"T_56448_row4_col3\" class=\"data row4 col3\" >2021-04-09 00:00:00</td>\n",
       "    </tr>\n",
       "    <tr>\n",
       "      <th id=\"T_56448_level0_row5\" class=\"row_heading level0 row5\" >5</th>\n",
       "      <td id=\"T_56448_row5_col0\" class=\"data row5 col0\" >4210mSQ3r10AsJMZEYAH5l</td>\n",
       "      <td id=\"T_56448_row5_col1\" class=\"data row5 col1\" >Our Beloved Summer (Original Television Soundtrack), Pt. 5</td>\n",
       "      <td id=\"T_56448_row5_col2\" class=\"data row5 col2\" >69</td>\n",
       "      <td id=\"T_56448_row5_col3\" class=\"data row5 col3\" >2021-12-24 00:00:00</td>\n",
       "    </tr>\n",
       "    <tr>\n",
       "      <th id=\"T_56448_level0_row6\" class=\"row_heading level0 row6\" >6</th>\n",
       "      <td id=\"T_56448_row6_col0\" class=\"data row6 col0\" >44CdsgXhU5R2esprq0tf43</td>\n",
       "      <td id=\"T_56448_row6_col1\" class=\"data row6 col1\" >Angel Baby</td>\n",
       "      <td id=\"T_56448_row6_col2\" class=\"data row6 col2\" >69</td>\n",
       "      <td id=\"T_56448_row6_col3\" class=\"data row6 col3\" >2021-09-09 00:00:00</td>\n",
       "    </tr>\n",
       "    <tr>\n",
       "      <th id=\"T_56448_level0_row7\" class=\"row_heading level0 row7\" >7</th>\n",
       "      <td id=\"T_56448_row7_col0\" class=\"data row7 col0\" >1HJ34zQqSqNvZeO2W6dE01</td>\n",
       "      <td id=\"T_56448_row7_col1\" class=\"data row7 col1\" >Pano</td>\n",
       "      <td id=\"T_56448_row7_col2\" class=\"data row7 col2\" >68</td>\n",
       "      <td id=\"T_56448_row7_col3\" class=\"data row7 col3\" >2021-12-06 00:00:00</td>\n",
       "    </tr>\n",
       "    <tr>\n",
       "      <th id=\"T_56448_level0_row8\" class=\"row_heading level0 row8\" >8</th>\n",
       "      <td id=\"T_56448_row8_col0\" class=\"data row8 col0\" >5lVImnUah94yoxXy2H1qo7</td>\n",
       "      <td id=\"T_56448_row8_col1\" class=\"data row8 col1\" >Reckless</td>\n",
       "      <td id=\"T_56448_row8_col2\" class=\"data row8 col2\" >68</td>\n",
       "      <td id=\"T_56448_row8_col3\" class=\"data row8 col3\" >2021-06-04 00:00:00</td>\n",
       "    </tr>\n",
       "    <tr>\n",
       "      <th id=\"T_56448_level0_row9\" class=\"row_heading level0 row9\" >9</th>\n",
       "      <td id=\"T_56448_row9_col0\" class=\"data row9 col0\" >1DKgZeAYrjslAPZVMe6EFt</td>\n",
       "      <td id=\"T_56448_row9_col1\" class=\"data row9 col1\" >4 ONLY</td>\n",
       "      <td id=\"T_56448_row9_col2\" class=\"data row9 col2\" >67</td>\n",
       "      <td id=\"T_56448_row9_col3\" class=\"data row9 col3\" >2021-09-09 00:00:00</td>\n",
       "    </tr>\n",
       "  </tbody>\n",
       "</table>\n"
      ],
      "text/plain": [
       "<pandas.io.formats.style.Styler at 0x2581f01dca0>"
      ]
     },
     "execution_count": 70,
     "metadata": {},
     "output_type": "execute_result"
    }
   ],
   "source": [
    "albums_2021 = albums_data[['id', 'name', 'popularity', 'release_date']].where(albums_data['release_date'].dt.year == 2021)\n",
    "albums_2021.dropna(inplace = True)\n",
    "albums_2021 = albums_2021.astype({'popularity': 'int32'})\n",
    "left_align(albums_2021.sort_values(by = 'popularity', ascending = False, ignore_index = True).head(10))"
   ]
  },
  {
   "attachments": {},
   "cell_type": "markdown",
   "metadata": {},
   "source": [
    "- Query to get the album with the highest popularity in 2021."
   ]
  },
  {
   "cell_type": "code",
   "execution_count": 71,
   "metadata": {},
   "outputs": [
    {
     "data": {
      "text/html": [
       "<div>\n",
       "<style scoped>\n",
       "    .dataframe tbody tr th:only-of-type {\n",
       "        vertical-align: middle;\n",
       "    }\n",
       "\n",
       "    .dataframe tbody tr th {\n",
       "        vertical-align: top;\n",
       "    }\n",
       "\n",
       "    .dataframe thead th {\n",
       "        text-align: right;\n",
       "    }\n",
       "</style>\n",
       "<table border=\"1\" class=\"dataframe\">\n",
       "  <thead>\n",
       "    <tr style=\"text-align: right;\">\n",
       "      <th></th>\n",
       "      <th>id</th>\n",
       "      <th>name</th>\n",
       "      <th>popularity</th>\n",
       "      <th>release_date</th>\n",
       "    </tr>\n",
       "  </thead>\n",
       "  <tbody>\n",
       "    <tr>\n",
       "      <th>1035</th>\n",
       "      <td>6s84u2TUpR3wdUv4NgKA2j</td>\n",
       "      <td>SOUR</td>\n",
       "      <td>89</td>\n",
       "      <td>2021-05-21</td>\n",
       "    </tr>\n",
       "  </tbody>\n",
       "</table>\n",
       "</div>"
      ],
      "text/plain": [
       "                          id  name  popularity release_date\n",
       "1035  6s84u2TUpR3wdUv4NgKA2j  SOUR          89   2021-05-21"
      ]
     },
     "metadata": {},
     "output_type": "display_data"
    }
   ],
   "source": [
    "display(albums_2021.loc[(albums_2021['popularity'] >= albums_2021['popularity'].max()), ['id', 'name', 'popularity', 'release_date']])"
   ]
  },
  {
   "attachments": {},
   "cell_type": "markdown",
   "metadata": {},
   "source": [
    "#### <b>The album with the highest popularity in 2020</b>\n",
    "- Get all albums which released in 2020."
   ]
  },
  {
   "cell_type": "code",
   "execution_count": 72,
   "metadata": {},
   "outputs": [
    {
     "data": {
      "text/html": [
       "<style type=\"text/css\">\n",
       "#T_5c7fd th {\n",
       "  text-align: center;\n",
       "}\n",
       "#T_5c7fd_row0_col0, #T_5c7fd_row0_col1, #T_5c7fd_row0_col2, #T_5c7fd_row0_col3, #T_5c7fd_row1_col0, #T_5c7fd_row1_col1, #T_5c7fd_row1_col2, #T_5c7fd_row1_col3, #T_5c7fd_row2_col0, #T_5c7fd_row2_col1, #T_5c7fd_row2_col2, #T_5c7fd_row2_col3, #T_5c7fd_row3_col0, #T_5c7fd_row3_col1, #T_5c7fd_row3_col2, #T_5c7fd_row3_col3, #T_5c7fd_row4_col0, #T_5c7fd_row4_col1, #T_5c7fd_row4_col2, #T_5c7fd_row4_col3, #T_5c7fd_row5_col0, #T_5c7fd_row5_col1, #T_5c7fd_row5_col2, #T_5c7fd_row5_col3, #T_5c7fd_row6_col0, #T_5c7fd_row6_col1, #T_5c7fd_row6_col2, #T_5c7fd_row6_col3, #T_5c7fd_row7_col0, #T_5c7fd_row7_col1, #T_5c7fd_row7_col2, #T_5c7fd_row7_col3, #T_5c7fd_row8_col0, #T_5c7fd_row8_col1, #T_5c7fd_row8_col2, #T_5c7fd_row8_col3, #T_5c7fd_row9_col0, #T_5c7fd_row9_col1, #T_5c7fd_row9_col2, #T_5c7fd_row9_col3 {\n",
       "  text-align: left;\n",
       "}\n",
       "</style>\n",
       "<table id=\"T_5c7fd\">\n",
       "  <thead>\n",
       "    <tr>\n",
       "      <th class=\"blank level0\" >&nbsp;</th>\n",
       "      <th id=\"T_5c7fd_level0_col0\" class=\"col_heading level0 col0\" >id</th>\n",
       "      <th id=\"T_5c7fd_level0_col1\" class=\"col_heading level0 col1\" >name</th>\n",
       "      <th id=\"T_5c7fd_level0_col2\" class=\"col_heading level0 col2\" >popularity</th>\n",
       "      <th id=\"T_5c7fd_level0_col3\" class=\"col_heading level0 col3\" >release_date</th>\n",
       "    </tr>\n",
       "  </thead>\n",
       "  <tbody>\n",
       "    <tr>\n",
       "      <th id=\"T_5c7fd_level0_row0\" class=\"row_heading level0 row0\" >0</th>\n",
       "      <td id=\"T_5c7fd_row0_col0\" class=\"data row0 col0\" >4yP0hdKOZPNshxUOjY0cZj</td>\n",
       "      <td id=\"T_5c7fd_row0_col1\" class=\"data row0 col1\" >After Hours</td>\n",
       "      <td id=\"T_5c7fd_row0_col2\" class=\"data row0 col2\" >88</td>\n",
       "      <td id=\"T_5c7fd_row0_col3\" class=\"data row0 col3\" >2020-03-20 00:00:00</td>\n",
       "    </tr>\n",
       "    <tr>\n",
       "      <th id=\"T_5c7fd_level0_row1\" class=\"row_heading level0 row1\" >1</th>\n",
       "      <td id=\"T_5c7fd_row1_col0\" class=\"data row1 col0\" >2CMlkzFI2oDAy5MbyV7OV5</td>\n",
       "      <td id=\"T_5c7fd_row1_col1\" class=\"data row1 col1\" >Kid Krow</td>\n",
       "      <td id=\"T_5c7fd_row1_col2\" class=\"data row1 col2\" >82</td>\n",
       "      <td id=\"T_5c7fd_row1_col3\" class=\"data row1 col3\" >2020-03-20 00:00:00</td>\n",
       "    </tr>\n",
       "    <tr>\n",
       "      <th id=\"T_5c7fd_level0_row2\" class=\"row_heading level0 row2\" >2</th>\n",
       "      <td id=\"T_5c7fd_row2_col0\" class=\"data row2 col0\" >3euz4vS7ezKGnNSwgyvKcd</td>\n",
       "      <td id=\"T_5c7fd_row2_col1\" class=\"data row2 col1\" >Positions</td>\n",
       "      <td id=\"T_5c7fd_row2_col2\" class=\"data row2 col2\" >81</td>\n",
       "      <td id=\"T_5c7fd_row2_col3\" class=\"data row2 col3\" >2020-10-30 00:00:00</td>\n",
       "    </tr>\n",
       "    <tr>\n",
       "      <th id=\"T_5c7fd_level0_row3\" class=\"row_heading level0 row3\" >3</th>\n",
       "      <td id=\"T_5c7fd_row3_col0\" class=\"data row3 col0\" >1OojCidx0eoPKch2M0Kz31</td>\n",
       "      <td id=\"T_5c7fd_row3_col1\" class=\"data row3 col1\" >HELP EVER HURT NEVER</td>\n",
       "      <td id=\"T_5c7fd_row3_col2\" class=\"data row3 col2\" >78</td>\n",
       "      <td id=\"T_5c7fd_row3_col3\" class=\"data row3 col3\" >2020-05-20 00:00:00</td>\n",
       "    </tr>\n",
       "    <tr>\n",
       "      <th id=\"T_5c7fd_level0_row4\" class=\"row_heading level0 row4\" >4</th>\n",
       "      <td id=\"T_5c7fd_row4_col0\" class=\"data row4 col0\" >6nYfHQnvkvOTNHnOhDT3sr</td>\n",
       "      <td id=\"T_5c7fd_row4_col1\" class=\"data row4 col1\" >BE</td>\n",
       "      <td id=\"T_5c7fd_row4_col2\" class=\"data row4 col2\" >78</td>\n",
       "      <td id=\"T_5c7fd_row4_col3\" class=\"data row4 col3\" >2020-11-20 00:00:00</td>\n",
       "    </tr>\n",
       "    <tr>\n",
       "      <th id=\"T_5c7fd_level0_row5\" class=\"row_heading level0 row5\" >5</th>\n",
       "      <td id=\"T_5c7fd_row5_col0\" class=\"data row5 col0\" >5mUdh6YWnUvf0MfklEk1oi</td>\n",
       "      <td id=\"T_5c7fd_row5_col1\" class=\"data row5 col1\" >Stuck with U</td>\n",
       "      <td id=\"T_5c7fd_row5_col2\" class=\"data row5 col2\" >71</td>\n",
       "      <td id=\"T_5c7fd_row5_col3\" class=\"data row5 col3\" >2020-05-08 00:00:00</td>\n",
       "    </tr>\n",
       "    <tr>\n",
       "      <th id=\"T_5c7fd_level0_row6\" class=\"row_heading level0 row6\" >6</th>\n",
       "      <td id=\"T_5c7fd_row6_col0\" class=\"data row6 col0\" >3Qj2vsFzmaB8jcH6Q60WIG</td>\n",
       "      <td id=\"T_5c7fd_row6_col1\" class=\"data row6 col1\" >The Prelude</td>\n",
       "      <td id=\"T_5c7fd_row6_col2\" class=\"data row6 col2\" >63</td>\n",
       "      <td id=\"T_5c7fd_row6_col3\" class=\"data row6 col3\" >2020-07-17 00:00:00</td>\n",
       "    </tr>\n",
       "    <tr>\n",
       "      <th id=\"T_5c7fd_level0_row7\" class=\"row_heading level0 row7\" >7</th>\n",
       "      <td id=\"T_5c7fd_row7_col0\" class=\"data row7 col0\" >0vyG4FyBIHURVJjQT0RDvG</td>\n",
       "      <td id=\"T_5c7fd_row7_col1\" class=\"data row7 col1\" >Abyss</td>\n",
       "      <td id=\"T_5c7fd_row7_col2\" class=\"data row7 col2\" >62</td>\n",
       "      <td id=\"T_5c7fd_row7_col3\" class=\"data row7 col3\" >2020-12-03 00:00:00</td>\n",
       "    </tr>\n",
       "    <tr>\n",
       "      <th id=\"T_5c7fd_level0_row8\" class=\"row_heading level0 row8\" >8</th>\n",
       "      <td id=\"T_5c7fd_row8_col0\" class=\"data row8 col0\" >1tCQC9HuRvujLuSe2sgf2S</td>\n",
       "      <td id=\"T_5c7fd_row8_col1\" class=\"data row8 col1\" >Past Lives</td>\n",
       "      <td id=\"T_5c7fd_row8_col2\" class=\"data row8 col2\" >60</td>\n",
       "      <td id=\"T_5c7fd_row8_col3\" class=\"data row8 col3\" >2020-09-21 00:00:00</td>\n",
       "    </tr>\n",
       "    <tr>\n",
       "      <th id=\"T_5c7fd_level0_row9\" class=\"row_heading level0 row9\" >9</th>\n",
       "      <td id=\"T_5c7fd_row9_col0\" class=\"data row9 col0\" >5O0csa2fMgpO8DwEhwThRV</td>\n",
       "      <td id=\"T_5c7fd_row9_col1\" class=\"data row9 col1\" >bao tiền một mớ bình yên?</td>\n",
       "      <td id=\"T_5c7fd_row9_col2\" class=\"data row9 col2\" >52</td>\n",
       "      <td id=\"T_5c7fd_row9_col3\" class=\"data row9 col3\" >2020-01-01 00:00:00</td>\n",
       "    </tr>\n",
       "  </tbody>\n",
       "</table>\n"
      ],
      "text/plain": [
       "<pandas.io.formats.style.Styler at 0x2581cdfef10>"
      ]
     },
     "execution_count": 72,
     "metadata": {},
     "output_type": "execute_result"
    }
   ],
   "source": [
    "albums_2020 = albums_data[['id', 'name', 'popularity', 'release_date']].where(albums_data['release_date'].dt.year == 2020)\n",
    "albums_2020.dropna(inplace = True)\n",
    "albums_2020 = albums_2020.astype({'popularity': 'int32'})\n",
    "left_align(albums_2020.sort_values(by = 'popularity', ascending = False, ignore_index = True).head(10))"
   ]
  },
  {
   "attachments": {},
   "cell_type": "markdown",
   "metadata": {},
   "source": [
    "- Query to get the album with the highest popularity in 2020."
   ]
  },
  {
   "cell_type": "code",
   "execution_count": 73,
   "metadata": {},
   "outputs": [
    {
     "data": {
      "text/html": [
       "<div>\n",
       "<style scoped>\n",
       "    .dataframe tbody tr th:only-of-type {\n",
       "        vertical-align: middle;\n",
       "    }\n",
       "\n",
       "    .dataframe tbody tr th {\n",
       "        vertical-align: top;\n",
       "    }\n",
       "\n",
       "    .dataframe thead th {\n",
       "        text-align: right;\n",
       "    }\n",
       "</style>\n",
       "<table border=\"1\" class=\"dataframe\">\n",
       "  <thead>\n",
       "    <tr style=\"text-align: right;\">\n",
       "      <th></th>\n",
       "      <th>id</th>\n",
       "      <th>name</th>\n",
       "      <th>popularity</th>\n",
       "      <th>release_date</th>\n",
       "    </tr>\n",
       "  </thead>\n",
       "  <tbody>\n",
       "    <tr>\n",
       "      <th>2037</th>\n",
       "      <td>4yP0hdKOZPNshxUOjY0cZj</td>\n",
       "      <td>After Hours</td>\n",
       "      <td>88</td>\n",
       "      <td>2020-03-20</td>\n",
       "    </tr>\n",
       "  </tbody>\n",
       "</table>\n",
       "</div>"
      ],
      "text/plain": [
       "                          id         name  popularity release_date\n",
       "2037  4yP0hdKOZPNshxUOjY0cZj  After Hours          88   2020-03-20"
      ]
     },
     "metadata": {},
     "output_type": "display_data"
    }
   ],
   "source": [
    "display(albums_2020.loc[(albums_2020['popularity'] >= albums_2020['popularity'].max()), ['id', 'name', 'popularity', 'release_date']])"
   ]
  },
  {
   "attachments": {},
   "cell_type": "markdown",
   "metadata": {},
   "source": [
    "#### Visualize the number of albums based on popularity."
   ]
  },
  {
   "cell_type": "code",
   "execution_count": 74,
   "metadata": {},
   "outputs": [
    {
     "data": {
      "text/plain": [
       "<AxesSubplot: >"
      ]
     },
     "execution_count": 74,
     "metadata": {},
     "output_type": "execute_result"
    },
    {
     "data": {
      "image/png": "[encoded data removed]",
      "text/plain": [
       "<Figure size 2000x800 with 1 Axes>"
      ]
     },
     "metadata": {},
     "output_type": "display_data"
    }
   ],
   "source": [
    "num_albums_each_popularity = albums_data['popularity'].value_counts().sort_index(ascending = True)\n",
    "num_albums_each_popularity.plot.bar(figsize = (20, 8), color = 'indigo')"
   ]
  }
 ],
 "metadata": {
  "kernelspec": {
   "display_name": "Python 3",
   "language": "python",
   "name": "python3"
  },
  "language_info": {
   "codemirror_mode": {
    "name": "ipython",
    "version": 3
   },
   "file_extension": ".py",
   "mimetype": "text/x-python",
   "name": "python",
   "nbconvert_exporter": "python",
   "pygments_lexer": "ipython3",
   "version": "3.9.6"
  },
  "orig_nbformat": 4,
  "vscode": {
   "interpreter": {
    "hash": "996f2b6e98019c29df53ccff772a8e3fe7cdecb0ba4b3f6ddb9be804d297dd3d"
   }
  }
 },
 "nbformat": 4,
 "nbformat_minor": 2
}
