{
 "cells": [
  {
   "cell_type": "code",
   "execution_count": 30,
   "metadata": {},
   "outputs": [],
   "source": [
    "from spotipy.oauth2 import SpotifyClientCredentials, SpotifyOAuth\n",
    "from dotenv import load_dotenv\n",
    "import spotipy\n",
    "import os\n",
    "\n",
    "load_dotenv()\n",
    "\n",
    "client_id = os.getenv('SPOTIPY_CLIENT_ID')\n",
    "client_secret = os.getenv('SPOTIPY_CLIENT_SECRET')\n",
    "redirect_uri = os.getenv('SPOTIPY_REDIRECT_URI')\n",
    "\n",
    "client_credentials_manager = SpotifyClientCredentials()\n",
    "sp = spotipy.Spotify(auth_manager=SpotifyOAuth(client_id=client_id, client_secret=client_secret, redirect_uri=redirect_uri),\n",
    "                    client_credentials_manager=SpotifyClientCredentials())"
   ]
  },
  {
   "cell_type": "code",
   "execution_count": 31,
   "metadata": {},
   "outputs": [
    {
     "data": {
      "text/plain": [
       "dict_keys(['href', 'items', 'limit', 'next', 'offset', 'previous', 'total'])"
      ]
     },
     "execution_count": 31,
     "metadata": {},
     "output_type": "execute_result"
    }
   ],
   "source": [
    "result = sp.search(q='2022', limit=50)\n",
    "result['tracks'].keys()"
   ]
  },
  {
   "cell_type": "code",
   "execution_count": 32,
   "metadata": {},
   "outputs": [],
   "source": [
    "songs_data = result['tracks']['items']\n",
    "\n",
    "for _ in range(19):\n",
    "    result = sp.next(result['tracks'])\n",
    "    songs_data.extend(result['tracks']['items'])"
   ]
  },
  {
   "cell_type": "code",
   "execution_count": 33,
   "metadata": {},
   "outputs": [
    {
     "data": {
      "text/plain": [
       "1000"
      ]
     },
     "execution_count": 33,
     "metadata": {},
     "output_type": "execute_result"
    }
   ],
   "source": [
    "len(songs_data)"
   ]
  },
  {
   "cell_type": "code",
   "execution_count": 59,
   "metadata": {},
   "outputs": [
    {
     "data": {
      "text/plain": [
       "(['Taylor Swift'], [61488932], [100])"
      ]
     },
     "execution_count": 59,
     "metadata": {},
     "output_type": "execute_result"
    }
   ],
   "source": [
    "artists_uri = [artist['uri'] for artist in songs_data[0]['artists']]\n",
    "artists_data = []\n",
    "for uri in artists_uri:\n",
    "    artists_data.append(sp.artist(uri))\n",
    "\n",
    "artists_name = []\n",
    "artists_follower = []\n",
    "artists_popularity = []\n",
    "\n",
    "for i in artists_data:\n",
    "    artists_name.append(i['name'])\n",
    "    artists_follower.append(i['followers']['total'])\n",
    "    artists_popularity.append(i['popularity'])\n",
    "\n",
    "artists_name, artists_follower, artists_popularity"
   ]
  },
  {
   "cell_type": "code",
   "execution_count": 53,
   "metadata": {},
   "outputs": [
    {
     "data": {
      "text/plain": [
       "dict_keys(['album', 'artists', 'available_markets', 'disc_number', 'duration_ms', 'explicit', 'external_ids', 'external_urls', 'href', 'id', 'is_local', 'name', 'popularity', 'preview_url', 'track_number', 'type', 'uri'])"
      ]
     },
     "execution_count": 53,
     "metadata": {},
     "output_type": "execute_result"
    }
   ],
   "source": [
    "songs_data[0].keys()"
   ]
  },
  {
   "cell_type": "code",
   "execution_count": null,
   "metadata": {},
   "outputs": [],
   "source": [
    "with open(\"songs_data.csv\", 'w') as f:\n",
    "    f.write(\"id,name,artist,followers,artist popularity,available markets,album,release date,duration,explicit,local,popularity\\n\")\n",
    "    for track in songs_data:\n",
    "        artists_uri = [artist['uri'] for artist in track['artists']]\n",
    "        artists_data = [sp.artist(uri) for uri in artists_uri]\n",
    "\n",
    "        artists_name = []\n",
    "        artists_follower = []\n",
    "        artists_popularity = []\n",
    "\n",
    "        for i in artists_data:\n",
    "            artists_name.append(i['name'])\n",
    "            artists_follower.append(i['followers']['total'])\n",
    "            artists_popularity.append(i['popularity'])\n",
    "\n",
    "        print(1)\n",
    "\n",
    "        f.write(track['id']+','+track['name']+','+str(artists_name)+','+str(artists_follower)+','+str(artists_popularity)+','+ \\\n",
    "                str(len(track['available_markets']))+','+track['album']['name']+','+track['album']['release_date']+','+ \\\n",
    "                str(track['duration_ms'])+','+str(track['explicit'])+','+str(track['is_local'])+','+str(track['popularity'])+'\\n')\n"
   ]
  },
  {
   "cell_type": "code",
   "execution_count": null,
   "metadata": {},
   "outputs": [],
   "source": []
  }
 ],
 "metadata": {
  "kernelspec": {
   "display_name": "Python 3.10.6 64-bit ('3.10.6': pyenv)",
   "language": "python",
   "name": "python3"
  },
  "language_info": {
   "codemirror_mode": {
    "name": "ipython",
    "version": 3
   },
   "file_extension": ".py",
   "mimetype": "text/x-python",
   "name": "python",
   "nbconvert_exporter": "python",
   "pygments_lexer": "ipython3",
   "version": "3.10.6"
  },
  "orig_nbformat": 4,
  "vscode": {
   "interpreter": {
    "hash": "89e8354a88354ecf7ffb299b56239fb0ecc48c48d372ba43f5b93cc4e944f72d"
   }
  }
 },
 "nbformat": 4,
 "nbformat_minor": 2
}
