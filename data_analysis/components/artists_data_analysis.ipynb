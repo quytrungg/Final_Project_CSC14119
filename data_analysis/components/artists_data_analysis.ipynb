{
 "cells": [
  {
   "cell_type": "code",
   "execution_count": 1,
   "metadata": {},
   "outputs": [],
   "source": [
    "import pandas as pd\n",
    "import numpy as np\n",
    "import matplotlib.pyplot as plt\n",
    "import seaborn as sns"
   ]
  },
  {
   "cell_type": "code",
   "execution_count": 2,
   "metadata": {},
   "outputs": [
    {
     "data": {
      "text/html": [
       "<div>\n",
       "<style scoped>\n",
       "    .dataframe tbody tr th:only-of-type {\n",
       "        vertical-align: middle;\n",
       "    }\n",
       "\n",
       "    .dataframe tbody tr th {\n",
       "        vertical-align: top;\n",
       "    }\n",
       "\n",
       "    .dataframe thead th {\n",
       "        text-align: right;\n",
       "    }\n",
       "</style>\n",
       "<table border=\"1\" class=\"dataframe\">\n",
       "  <thead>\n",
       "    <tr style=\"text-align: right;\">\n",
       "      <th></th>\n",
       "      <th>id</th>\n",
       "      <th>name</th>\n",
       "      <th>genres</th>\n",
       "      <th>followers</th>\n",
       "      <th>popularity</th>\n",
       "    </tr>\n",
       "  </thead>\n",
       "  <tbody>\n",
       "    <tr>\n",
       "      <th>0</th>\n",
       "      <td>1LEtM3AleYg1xabW6CRkpi</td>\n",
       "      <td>Đen</td>\n",
       "      <td>indie viet, v-pop, vietnamese hip hop, vietnam...</td>\n",
       "      <td>2899329</td>\n",
       "      <td>59</td>\n",
       "    </tr>\n",
       "    <tr>\n",
       "      <th>1</th>\n",
       "      <td>3rjcQ5VIWCN4q7UFetzdeO</td>\n",
       "      <td>JustaTee</td>\n",
       "      <td>v-pop, vietnamese hip hop, vietnamese melodic rap</td>\n",
       "      <td>618216</td>\n",
       "      <td>55</td>\n",
       "    </tr>\n",
       "    <tr>\n",
       "      <th>2</th>\n",
       "      <td>5fa13NJjmn2uQ3dxZDi2Ge</td>\n",
       "      <td>Bich Phuong</td>\n",
       "      <td>v-pop</td>\n",
       "      <td>1182922</td>\n",
       "      <td>46</td>\n",
       "    </tr>\n",
       "    <tr>\n",
       "      <th>3</th>\n",
       "      <td>0qkGQFUrj8ERPAZcdpa79j</td>\n",
       "      <td>Phuc Du</td>\n",
       "      <td>v-pop</td>\n",
       "      <td>16509</td>\n",
       "      <td>46</td>\n",
       "    </tr>\n",
       "    <tr>\n",
       "      <th>4</th>\n",
       "      <td>71Cy7nzbfpuGJAS5FGxm93</td>\n",
       "      <td>Khoi Vu</td>\n",
       "      <td>vietnamese hip hop</td>\n",
       "      <td>25307</td>\n",
       "      <td>43</td>\n",
       "    </tr>\n",
       "  </tbody>\n",
       "</table>\n",
       "</div>"
      ],
      "text/plain": [
       "                       id         name  \\\n",
       "0  1LEtM3AleYg1xabW6CRkpi          Đen   \n",
       "1  3rjcQ5VIWCN4q7UFetzdeO     JustaTee   \n",
       "2  5fa13NJjmn2uQ3dxZDi2Ge  Bich Phuong   \n",
       "3  0qkGQFUrj8ERPAZcdpa79j      Phuc Du   \n",
       "4  71Cy7nzbfpuGJAS5FGxm93      Khoi Vu   \n",
       "\n",
       "                                              genres  followers  popularity  \n",
       "0  indie viet, v-pop, vietnamese hip hop, vietnam...    2899329          59  \n",
       "1  v-pop, vietnamese hip hop, vietnamese melodic rap     618216          55  \n",
       "2                                              v-pop    1182922          46  \n",
       "3                                              v-pop      16509          46  \n",
       "4                                 vietnamese hip hop      25307          43  "
      ]
     },
     "execution_count": 2,
     "metadata": {},
     "output_type": "execute_result"
    }
   ],
   "source": [
    "df = pd.read_csv('../../data/artists_data.csv', sep='\\t')\n",
    "df.head()"
   ]
  },
  {
   "cell_type": "code",
   "execution_count": null,
   "metadata": {},
   "outputs": [],
   "source": []
  }
 ],
 "metadata": {
  "kernelspec": {
   "display_name": "min_ds-env",
   "language": "python",
   "name": "python3"
  },
  "language_info": {
   "codemirror_mode": {
    "name": "ipython",
    "version": 3
   },
   "file_extension": ".py",
   "mimetype": "text/x-python",
   "name": "python",
   "nbconvert_exporter": "python",
   "pygments_lexer": "ipython3",
   "version": "3.10.6"
  },
  "orig_nbformat": 4,
  "vscode": {
   "interpreter": {
    "hash": "3b298dc8b5ec9755d3b5e5b4831b9bf767d0a22ad509bcbd5b6f1f1a5498747c"
   }
  }
 },
 "nbformat": 4,
 "nbformat_minor": 2
}
