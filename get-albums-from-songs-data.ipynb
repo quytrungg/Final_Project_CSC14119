{
 "cells": [
  {
   "cell_type": "code",
   "execution_count": 1,
   "metadata": {},
   "outputs": [],
   "source": [
    "import spotipy\n",
    "import os\n",
    "import csv\n",
    "from spotipy.oauth2 import SpotifyClientCredentials, SpotifyOAuth\n",
    "from dotenv import load_dotenv"
   ]
  },
  {
   "cell_type": "code",
   "execution_count": 2,
   "metadata": {},
   "outputs": [],
   "source": [
    "SPOTIPY_CLIENT_ID = 'f0f688047045486b962b85537f723922'\n",
    "SPOTIPY_CLIENT_SECRET = 'fad3f3a693f744aa88e10b16ef9825f1'\n",
    "SPOTIPY_REDIRECT_URI = 'https://localhost:3000/callback'\n",
    "\n",
    "load_dotenv()\n",
    "\n",
    "client_id = os.getenv('SPOTIPY_CLIENT_ID')\n",
    "client_secret = os.getenv('SPOTIPY_CLIENT_SECRET')\n",
    "redirect_uri = os.getenv('SPOTIPY_REDIRECT_URI')"
   ]
  },
  {
   "cell_type": "code",
   "execution_count": 3,
   "metadata": {},
   "outputs": [],
   "source": [
    "#Authentication - without user\n",
    "client_credentials_manager = SpotifyClientCredentials(client_id=SPOTIPY_CLIENT_ID, client_secret=SPOTIPY_CLIENT_SECRET)\n",
    "sp = spotipy.Spotify(client_credentials_manager = client_credentials_manager)"
   ]
  },
  {
   "cell_type": "code",
   "execution_count": 80,
   "metadata": {},
   "outputs": [],
   "source": [
    "result = sp.search(q='2022', limit=50)\n",
    "tracks = result['tracks']['items']\n",
    "\n",
    "for _ in range(19):\n",
    "    result = sp.next(result['tracks'])\n",
    "    tracks.extend(result['tracks']['items'])"
   ]
  },
  {
   "cell_type": "code",
   "execution_count": 40,
   "metadata": {},
   "outputs": [
    {
     "name": "stdout",
     "output_type": "stream",
     "text": [
      "dict_keys(['album_type', 'artists', 'available_markets', 'external_urls', 'href', 'id', 'images', 'name', 'release_date', 'release_date_precision', 'total_tracks', 'type', 'uri'])\n",
      "1WRiN6skJPCcnoP99a0oIQ\n"
     ]
    }
   ],
   "source": [
    "print(tracks[0]['album'].keys())\n",
    "print(tracks[0]['album']['id'])"
   ]
  },
  {
   "cell_type": "code",
   "execution_count": null,
   "metadata": {},
   "outputs": [],
   "source": [
    "tracks[0]"
   ]
  },
  {
   "cell_type": "code",
   "execution_count": null,
   "metadata": {},
   "outputs": [],
   "source": [
    "album_uri = []\n",
    "album_data = []\n",
    "\n",
    "for i in range(len(tracks)):\n",
    "    album_uri.append(tracks[i]['album'])\n",
    "\n",
    "album_info = {k: [] for k in album_uri[0].keys() if k in {'id', 'name', 'release_date', 'total_tracks'}}\n",
    "\n",
    "for i in album_uri:\n",
    "    album_info['id'].append(i['id'])\n",
    "    album_info['name'].append(i['name'])\n",
    "    album_info['release_date'].append(i['release_date'])\n",
    "    album_info['total_tracks'].append(str(i['total_tracks']))\n",
    "\n",
    "','.join(album_info['id']), ','.join(set(album_info['name'])), ','.join(album_info['release_date']), ','.join(album_info['total_tracks'])"
   ]
  },
  {
   "cell_type": "code",
   "execution_count": null,
   "metadata": {},
   "outputs": [],
   "source": [
    "for i in range(len(album_info['id'])):\n",
    "    print(album_info['id'][i])"
   ]
  },
  {
   "cell_type": "code",
   "execution_count": null,
   "metadata": {},
   "outputs": [],
   "source": [
    "with open('album_data.tsv', 'w') as f:\n",
    "    f.write('id\\tname\\trelease_date\\ttotal_tracks')\n",
    "\n",
    "    for i in range(len(album_info['id'])):\n",
    "        f.write(album_info['id'] + '\\t' + album_info['name'] + '\\t' + album_info['release_date'] + '\\t' + album_info['total_tracks'] + '\\n') "
   ]
  }
 ],
 "metadata": {
  "kernelspec": {
   "display_name": "Python 3.9.6 64-bit",
   "language": "python",
   "name": "python3"
  },
  "language_info": {
   "codemirror_mode": {
    "name": "ipython",
    "version": 3
   },
   "file_extension": ".py",
   "mimetype": "text/x-python",
   "name": "python",
   "nbconvert_exporter": "python",
   "pygments_lexer": "ipython3",
   "version": "3.9.6"
  },
  "orig_nbformat": 4,
  "vscode": {
   "interpreter": {
    "hash": "81794d4967e6c3204c66dcd87b604927b115b27c00565d3d43f05ba2f3a2cb0d"
   }
  }
 },
 "nbformat": 4,
 "nbformat_minor": 2
}
