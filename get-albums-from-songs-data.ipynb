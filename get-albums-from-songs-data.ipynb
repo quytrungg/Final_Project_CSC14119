{
 "cells": [
  {
   "cell_type": "code",
   "execution_count": 111,
   "metadata": {},
   "outputs": [],
   "source": [
    "import spotipy\n",
    "import os\n",
    "import csv\n",
    "from spotipy.oauth2 import SpotifyClientCredentials, SpotifyOAuth\n",
    "from dotenv import load_dotenv"
   ]
  },
  {
   "cell_type": "code",
   "execution_count": 112,
   "metadata": {},
   "outputs": [],
   "source": [
    "SPOTIPY_CLIENT_ID = 'f0f688047045486b962b85537f723922'\n",
    "SPOTIPY_CLIENT_SECRET = 'fad3f3a693f744aa88e10b16ef9825f1'\n",
    "SPOTIPY_REDIRECT_URI = 'https://localhost:3000/callback'\n",
    "\n",
    "load_dotenv()\n",
    "\n",
    "client_id = os.getenv('SPOTIPY_CLIENT_ID')\n",
    "client_secret = os.getenv('SPOTIPY_CLIENT_SECRET')\n",
    "redirect_uri = os.getenv('SPOTIPY_REDIRECT_URI')"
   ]
  },
  {
   "cell_type": "code",
   "execution_count": 113,
   "metadata": {},
   "outputs": [],
   "source": [
    "#Authentication - without user\n",
    "client_credentials_manager = SpotifyClientCredentials(client_id=SPOTIPY_CLIENT_ID, client_secret=SPOTIPY_CLIENT_SECRET)\n",
    "sp = spotipy.Spotify(client_credentials_manager = client_credentials_manager)"
   ]
  },
  {
   "cell_type": "code",
   "execution_count": 125,
   "metadata": {},
   "outputs": [
    {
     "data": {
      "text/plain": [
       "1000"
      ]
     },
     "execution_count": 125,
     "metadata": {},
     "output_type": "execute_result"
    }
   ],
   "source": [
    "result = sp.search(q='2022', limit=50)\n",
    "\n",
    "tracks = result['tracks']['items']\n",
    "\n",
    "for _ in range(19):\n",
    "    result = sp.next(result['tracks'])\n",
    "    tracks.extend(result['tracks']['items'])\n",
    "\n",
    "len(tracks)"
   ]
  },
  {
   "cell_type": "code",
   "execution_count": 131,
   "metadata": {},
   "outputs": [
    {
     "data": {
      "text/plain": [
       "dict_keys(['album_type', 'artists', 'available_markets', 'external_urls', 'href', 'id', 'images', 'name', 'release_date', 'release_date_precision', 'total_tracks', 'type', 'uri'])"
      ]
     },
     "execution_count": 131,
     "metadata": {},
     "output_type": "execute_result"
    }
   ],
   "source": [
    "tracks[0]['album'].keys()"
   ]
  },
  {
   "cell_type": "code",
   "execution_count": 135,
   "metadata": {},
   "outputs": [],
   "source": [
    "album_id = []\n",
    "\n",
    "for i in range(len(tracks)):\n",
    "    album_id.append(tracks[i]['album']['id'])\n",
    "\n",
    "album_id = list(dict.fromkeys(album_id))"
   ]
  },
  {
   "cell_type": "code",
   "execution_count": null,
   "metadata": {},
   "outputs": [],
   "source": [
    "artists_uri = [artist['uri'] for artist in tracks[0]['artists']]\n",
    "print(artists_uri)\n",
    "artists_data = []\n",
    "for uri in artists_uri:\n",
    "    artists_data.append(sp.artist(uri))\n",
    "\n",
    "artists_info = {k: [] for k in artists_data[0].keys() if k in {'followers', 'genres', 'name', 'popularity'}}\n",
    "\n",
    "for i in artists_data:\n",
    "    artists_info['name'].append(i['name'])\n",
    "    artists_info['genres'].extend(i['genres'])\n",
    "    artists_info['followers'].append(str(i['followers']['total']))\n",
    "    artists_info['popularity'].append(str(i['popularity']))\n",
    "\n",
    "','.join(artists_info['name']), ','.join(set(artists_info['genres'])), ','.join(artists_info['followers']), ','.join(artists_info['popularity']), sp.album(tracks[0]['album']['uri'])['popularity']"
   ]
  },
  {
   "cell_type": "code",
   "execution_count": 155,
   "metadata": {},
   "outputs": [
    {
     "data": {
      "text/plain": [
       "'spotify:album:1WRiN6skJPCcnoP99a0oIQ'"
      ]
     },
     "execution_count": 155,
     "metadata": {},
     "output_type": "execute_result"
    }
   ],
   "source": [
    "tracks[0]['album']['uri']"
   ]
  },
  {
   "cell_type": "code",
   "execution_count": null,
   "metadata": {},
   "outputs": [],
   "source": [
    "album_uri = [album['uri'] for album in tracks[0]['album']]\n",
    "print(album_uri)\n",
    "album_data = []\n",
    "for uri in album_uri:\n",
    "    album_data.append(sp.album(uri))\n",
    "\n",
    "album_info = {k: [] for k in album_data[0].keys() if k in {'id', 'name', 'release_date', 'total_tracks'}}\n",
    "\n",
    "for i in album_data:\n",
    "    album_info['id'].append(i['id'])\n",
    "    album_info['name'].extend(i['name'])\n",
    "    album_info['release_date'].append(str(i['release_date']))\n",
    "    album_info['total_tracks'].append(str(i['total_tracks']))\n",
    "\n",
    "','.join(album_info['id']), ','.join(set(album_info['name'])), ','.join(album_info['release_date']), ','.join(album_info['total_tracks']), sp.album(tracks[0]['album']['uri'])['id']"
   ]
  }
 ],
 "metadata": {
  "kernelspec": {
   "display_name": "Python 3.9.6 64-bit",
   "language": "python",
   "name": "python3"
  },
  "language_info": {
   "codemirror_mode": {
    "name": "ipython",
    "version": 3
   },
   "file_extension": ".py",
   "mimetype": "text/x-python",
   "name": "python",
   "nbconvert_exporter": "python",
   "pygments_lexer": "ipython3",
   "version": "3.9.6"
  },
  "orig_nbformat": 4,
  "vscode": {
   "interpreter": {
    "hash": "81794d4967e6c3204c66dcd87b604927b115b27c00565d3d43f05ba2f3a2cb0d"
   }
  }
 },
 "nbformat": 4,
 "nbformat_minor": 2
}
