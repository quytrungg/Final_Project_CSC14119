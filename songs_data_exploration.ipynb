{
 "cells": [
  {
   "attachments": {},
   "cell_type": "markdown",
   "metadata": {},
   "source": [
    "# <b>Section 1: Data Exploration</b>\n",
    "\n",
    "### <b><u>Step 1</u>: Import library</b>\n",
    "\n",
    "##### These are the main libraries used for data exploration:\n",
    "- `numpy`: used for mathematical operations on matrices\n",
    "- `pandas`: used to store data from .csv/.tsv files and operate functions on DataFrame\n",
    "- `matplotlib`: used to visualize data"
   ]
  },
  {
   "cell_type": "code",
   "execution_count": 895,
   "metadata": {},
   "outputs": [],
   "source": [
    "import numpy as np\n",
    "import pandas as pd\n",
    "import matplotlib.pyplot as plt\n",
    "pd.options.mode.chained_assignment = None"
   ]
  },
  {
   "attachments": {},
   "cell_type": "markdown",
   "metadata": {},
   "source": [
    "### <b><u>Step 2</u>: Import songs data from 'songs_data.csv' file</b>\n",
    "\n",
    "First, let's read the Spotify's songs data from `songs_data.tsv` file by using pandas."
   ]
  },
  {
   "cell_type": "code",
   "execution_count": 912,
   "metadata": {},
   "outputs": [],
   "source": [
    "songs_df_raw = pd.read_csv('songs_data.tsv', sep='\\t')"
   ]
  },
  {
   "attachments": {},
   "cell_type": "markdown",
   "metadata": {},
   "source": [
    "### <b><u>Step 3</u>: Remove duplicate rows in the raw data</b>\n",
    "\n",
    "Next, let's check whether the DataFrame has duplicate rows that needs to be removed."
   ]
  },
  {
   "cell_type": "code",
   "execution_count": 913,
   "metadata": {},
   "outputs": [
    {
     "data": {
      "text/plain": [
       "35"
      ]
     },
     "execution_count": 913,
     "metadata": {},
     "output_type": "execute_result"
    }
   ],
   "source": [
    "duplicated_rows = songs_df_raw.duplicated().sum()\n",
    "duplicated_rows"
   ]
  },
  {
   "attachments": {},
   "cell_type": "markdown",
   "metadata": {},
   "source": [
    "So there are 35 rows that are duplicated, these are the rows that we don't need in the DataFrame.\n",
    "\n",
    "Therefore, we need to drop those 35 rows and see some of the first rows of the dataset."
   ]
  },
  {
   "cell_type": "code",
   "execution_count": 914,
   "metadata": {},
   "outputs": [
    {
     "data": {
      "text/html": [
       "<div>\n",
       "<style scoped>\n",
       "    .dataframe tbody tr th:only-of-type {\n",
       "        vertical-align: middle;\n",
       "    }\n",
       "\n",
       "    .dataframe tbody tr th {\n",
       "        vertical-align: top;\n",
       "    }\n",
       "\n",
       "    .dataframe thead th {\n",
       "        text-align: right;\n",
       "    }\n",
       "</style>\n",
       "<table border=\"1\" class=\"dataframe\">\n",
       "  <thead>\n",
       "    <tr style=\"text-align: right;\">\n",
       "      <th></th>\n",
       "      <th>id</th>\n",
       "      <th>name</th>\n",
       "      <th>artist</th>\n",
       "      <th>genres</th>\n",
       "      <th>artist_followers</th>\n",
       "      <th>artist_popularity</th>\n",
       "      <th>markets</th>\n",
       "      <th>album</th>\n",
       "      <th>released_date</th>\n",
       "      <th>album_popularity</th>\n",
       "      <th>duration</th>\n",
       "      <th>explicit</th>\n",
       "      <th>popularity</th>\n",
       "    </tr>\n",
       "  </thead>\n",
       "  <tbody>\n",
       "    <tr>\n",
       "      <th>0</th>\n",
       "      <td>2BgEsaKNfHUdlh97KmvFyo</td>\n",
       "      <td>2002</td>\n",
       "      <td>Anne-Marie</td>\n",
       "      <td>tropical house,pop,dance pop,pop dance,post-te...</td>\n",
       "      <td>10228985</td>\n",
       "      <td>76</td>\n",
       "      <td>183</td>\n",
       "      <td>Speak Your Mind (Deluxe)</td>\n",
       "      <td>2018-04-27</td>\n",
       "      <td>72</td>\n",
       "      <td>186986</td>\n",
       "      <td>False</td>\n",
       "      <td>81</td>\n",
       "    </tr>\n",
       "    <tr>\n",
       "      <th>1</th>\n",
       "      <td>3nqQXoyQOWXiESFLlDF1hG</td>\n",
       "      <td>Unholy (feat. Kim Petras)</td>\n",
       "      <td>Sam Smith,Kim Petras</td>\n",
       "      <td>uk pop,transpop,pop,dance pop</td>\n",
       "      <td>20747240,825245</td>\n",
       "      <td>87,82</td>\n",
       "      <td>182</td>\n",
       "      <td>Unholy (feat. Kim Petras)</td>\n",
       "      <td>2022-09-22</td>\n",
       "      <td>88</td>\n",
       "      <td>156943</td>\n",
       "      <td>False</td>\n",
       "      <td>100</td>\n",
       "    </tr>\n",
       "    <tr>\n",
       "      <th>2</th>\n",
       "      <td>4Pbg79cTBu4vgSphoyNq3j</td>\n",
       "      <td>2002</td>\n",
       "      <td>Anne-Marie</td>\n",
       "      <td>tropical house,pop,dance pop,pop dance,post-te...</td>\n",
       "      <td>10228985</td>\n",
       "      <td>76</td>\n",
       "      <td>183</td>\n",
       "      <td>2002</td>\n",
       "      <td>2018-04-19</td>\n",
       "      <td>52</td>\n",
       "      <td>186986</td>\n",
       "      <td>False</td>\n",
       "      <td>63</td>\n",
       "    </tr>\n",
       "    <tr>\n",
       "      <th>3</th>\n",
       "      <td>2Zc3DlVHtwqAVE4KcdajnN</td>\n",
       "      <td>2022</td>\n",
       "      <td>Baby Storme,Alex Cain</td>\n",
       "      <td>NaN</td>\n",
       "      <td>43572,43</td>\n",
       "      <td>34,18</td>\n",
       "      <td>183</td>\n",
       "      <td>2022</td>\n",
       "      <td>2022-04-08</td>\n",
       "      <td>25</td>\n",
       "      <td>192000</td>\n",
       "      <td>False</td>\n",
       "      <td>36</td>\n",
       "    </tr>\n",
       "    <tr>\n",
       "      <th>4</th>\n",
       "      <td>65fpYBrI8o2cfrwf2US4gq</td>\n",
       "      <td>Rewrite The Stars</td>\n",
       "      <td>Zac Efron,Zendaya</td>\n",
       "      <td>pop,dance pop,hollywood,show tunes,post-teen pop</td>\n",
       "      <td>757199,3556331</td>\n",
       "      <td>67,69</td>\n",
       "      <td>183</td>\n",
       "      <td>The Greatest Showman (Original Motion Picture ...</td>\n",
       "      <td>2017-12-08</td>\n",
       "      <td>77</td>\n",
       "      <td>217440</td>\n",
       "      <td>False</td>\n",
       "      <td>72</td>\n",
       "    </tr>\n",
       "  </tbody>\n",
       "</table>\n",
       "</div>"
      ],
      "text/plain": [
       "                       id                       name                 artist  \\\n",
       "0  2BgEsaKNfHUdlh97KmvFyo                       2002             Anne-Marie   \n",
       "1  3nqQXoyQOWXiESFLlDF1hG  Unholy (feat. Kim Petras)   Sam Smith,Kim Petras   \n",
       "2  4Pbg79cTBu4vgSphoyNq3j                       2002             Anne-Marie   \n",
       "3  2Zc3DlVHtwqAVE4KcdajnN                       2022  Baby Storme,Alex Cain   \n",
       "4  65fpYBrI8o2cfrwf2US4gq          Rewrite The Stars      Zac Efron,Zendaya   \n",
       "\n",
       "                                              genres artist_followers  \\\n",
       "0  tropical house,pop,dance pop,pop dance,post-te...         10228985   \n",
       "1                      uk pop,transpop,pop,dance pop  20747240,825245   \n",
       "2  tropical house,pop,dance pop,pop dance,post-te...         10228985   \n",
       "3                                                NaN         43572,43   \n",
       "4   pop,dance pop,hollywood,show tunes,post-teen pop   757199,3556331   \n",
       "\n",
       "  artist_popularity  markets  \\\n",
       "0                76      183   \n",
       "1             87,82      182   \n",
       "2                76      183   \n",
       "3             34,18      183   \n",
       "4             67,69      183   \n",
       "\n",
       "                                               album released_date  \\\n",
       "0                           Speak Your Mind (Deluxe)    2018-04-27   \n",
       "1                          Unholy (feat. Kim Petras)    2022-09-22   \n",
       "2                                               2002    2018-04-19   \n",
       "3                                               2022    2022-04-08   \n",
       "4  The Greatest Showman (Original Motion Picture ...    2017-12-08   \n",
       "\n",
       "   album_popularity  duration  explicit  popularity  \n",
       "0                72    186986     False          81  \n",
       "1                88    156943     False         100  \n",
       "2                52    186986     False          63  \n",
       "3                25    192000     False          36  \n",
       "4                77    217440     False          72  "
      ]
     },
     "execution_count": 914,
     "metadata": {},
     "output_type": "execute_result"
    }
   ],
   "source": [
    "songs_df = songs_df_raw.drop_duplicates()\n",
    "songs_df.head()"
   ]
  },
  {
   "attachments": {},
   "cell_type": "markdown",
   "metadata": {},
   "source": [
    "### <b><u>Step 4</u>: Explore the dataset</b>\n",
    "\n",
    "In this next step, we will explore the features of the dataset. First, let's check how many rows and columns in the DataFrame."
   ]
  },
  {
   "cell_type": "code",
   "execution_count": 915,
   "metadata": {},
   "outputs": [
    {
     "data": {
      "text/plain": [
       "(2965, 13)"
      ]
     },
     "execution_count": 915,
     "metadata": {},
     "output_type": "execute_result"
    }
   ],
   "source": [
    "num_rows, num_cols = songs_df.shape\n",
    "num_rows, num_cols"
   ]
  },
  {
   "attachments": {},
   "cell_type": "markdown",
   "metadata": {},
   "source": [
    "There are 2965 rows and 13 columns in total.\n",
    "\n",
    "Next, we need to know what are the columns of the DataFrame and check whether we need to remove any of them."
   ]
  },
  {
   "cell_type": "code",
   "execution_count": 916,
   "metadata": {},
   "outputs": [
    {
     "data": {
      "text/plain": [
       "Index(['id', 'name', 'artist', 'genres', 'artist_followers',\n",
       "       'artist_popularity', 'markets', 'album', 'released_date',\n",
       "       'album_popularity', 'duration', 'explicit', 'popularity'],\n",
       "      dtype='object')"
      ]
     },
     "execution_count": 916,
     "metadata": {},
     "output_type": "execute_result"
    }
   ],
   "source": [
    "columns = songs_df.columns\n",
    "columns"
   ]
  },
  {
   "attachments": {},
   "cell_type": "markdown",
   "metadata": {},
   "source": [
    "To discover the meaning of each column, we can load data from `songs_data_des.csv` file"
   ]
  },
  {
   "cell_type": "code",
   "execution_count": 917,
   "metadata": {},
   "outputs": [
    {
     "data": {
      "text/html": [
       "<div>\n",
       "<style scoped>\n",
       "    .dataframe tbody tr th:only-of-type {\n",
       "        vertical-align: middle;\n",
       "    }\n",
       "\n",
       "    .dataframe tbody tr th {\n",
       "        vertical-align: top;\n",
       "    }\n",
       "\n",
       "    .dataframe thead th {\n",
       "        text-align: right;\n",
       "    }\n",
       "</style>\n",
       "<table border=\"1\" class=\"dataframe\">\n",
       "  <thead>\n",
       "    <tr style=\"text-align: right;\">\n",
       "      <th></th>\n",
       "      <th>column name</th>\n",
       "      <th>data type</th>\n",
       "      <th>meaning</th>\n",
       "      <th>example</th>\n",
       "    </tr>\n",
       "  </thead>\n",
       "  <tbody>\n",
       "    <tr>\n",
       "      <th>0</th>\n",
       "      <td>id</td>\n",
       "      <td>string</td>\n",
       "      <td>The Spotify ID of track</td>\n",
       "      <td>3nqQXoyQOWXiESFLlDF1hG</td>\n",
       "    </tr>\n",
       "    <tr>\n",
       "      <th>1</th>\n",
       "      <td>name</td>\n",
       "      <td>string</td>\n",
       "      <td>The name of the track</td>\n",
       "      <td>Unholy (feat. Kim Petras)</td>\n",
       "    </tr>\n",
       "    <tr>\n",
       "      <th>2</th>\n",
       "      <td>artist</td>\n",
       "      <td>string</td>\n",
       "      <td>The artist(s) of the track</td>\n",
       "      <td>Sam Smith.Kim Petras</td>\n",
       "    </tr>\n",
       "    <tr>\n",
       "      <th>3</th>\n",
       "      <td>genres</td>\n",
       "      <td>string</td>\n",
       "      <td>The genres of that artist(s)</td>\n",
       "      <td>uk pop.transpop.pop.dance pop</td>\n",
       "    </tr>\n",
       "    <tr>\n",
       "      <th>4</th>\n",
       "      <td>artist_followers</td>\n",
       "      <td>string</td>\n",
       "      <td>The number of followers of the artist(s)</td>\n",
       "      <td>20747240.825245</td>\n",
       "    </tr>\n",
       "    <tr>\n",
       "      <th>5</th>\n",
       "      <td>artist_popularity</td>\n",
       "      <td>string</td>\n",
       "      <td>\"The popularity of the artist(s). The value w...</td>\n",
       "      <td>87.82</td>\n",
       "    </tr>\n",
       "    <tr>\n",
       "      <th>6</th>\n",
       "      <td>markets</td>\n",
       "      <td>int</td>\n",
       "      <td>The number of countries which the track is av...</td>\n",
       "      <td>182</td>\n",
       "    </tr>\n",
       "    <tr>\n",
       "      <th>7</th>\n",
       "      <td>album</td>\n",
       "      <td>string</td>\n",
       "      <td>The album of the track</td>\n",
       "      <td>Unholy (feat. Kim Petras)</td>\n",
       "    </tr>\n",
       "    <tr>\n",
       "      <th>8</th>\n",
       "      <td>released_date</td>\n",
       "      <td>string</td>\n",
       "      <td>The released date of the track</td>\n",
       "      <td>2022-09-22</td>\n",
       "    </tr>\n",
       "    <tr>\n",
       "      <th>9</th>\n",
       "      <td>album_popularity</td>\n",
       "      <td>int</td>\n",
       "      <td>\"The popularity of the album.\"</td>\n",
       "      <td>88</td>\n",
       "    </tr>\n",
       "    <tr>\n",
       "      <th>10</th>\n",
       "      <td>duration</td>\n",
       "      <td>int</td>\n",
       "      <td>The duration of the track</td>\n",
       "      <td>156943</td>\n",
       "    </tr>\n",
       "    <tr>\n",
       "      <th>11</th>\n",
       "      <td>explicit</td>\n",
       "      <td>bool</td>\n",
       "      <td>Check wheter the lyrics of the track is explicit</td>\n",
       "      <td>False</td>\n",
       "    </tr>\n",
       "    <tr>\n",
       "      <th>12</th>\n",
       "      <td>popularity</td>\n",
       "      <td>int</td>\n",
       "      <td>The popularity of the track</td>\n",
       "      <td>100</td>\n",
       "    </tr>\n",
       "  </tbody>\n",
       "</table>\n",
       "</div>"
      ],
      "text/plain": [
       "          column name  data type  \\\n",
       "0                  id     string   \n",
       "1                name     string   \n",
       "2              artist     string   \n",
       "3              genres     string   \n",
       "4    artist_followers     string   \n",
       "5   artist_popularity     string   \n",
       "6             markets        int   \n",
       "7               album     string   \n",
       "8       released_date     string   \n",
       "9    album_popularity        int   \n",
       "10           duration        int   \n",
       "11           explicit       bool   \n",
       "12         popularity        int   \n",
       "\n",
       "                                              meaning  \\\n",
       "0                             The Spotify ID of track   \n",
       "1                               The name of the track   \n",
       "2                          The artist(s) of the track   \n",
       "3                        The genres of that artist(s)   \n",
       "4            The number of followers of the artist(s)   \n",
       "5    \"The popularity of the artist(s). The value w...   \n",
       "6    The number of countries which the track is av...   \n",
       "7                              The album of the track   \n",
       "8                      The released date of the track   \n",
       "9                      \"The popularity of the album.\"   \n",
       "10                          The duration of the track   \n",
       "11   Check wheter the lyrics of the track is explicit   \n",
       "12                        The popularity of the track   \n",
       "\n",
       "                           example  \n",
       "0           3nqQXoyQOWXiESFLlDF1hG  \n",
       "1        Unholy (feat. Kim Petras)  \n",
       "2             Sam Smith.Kim Petras  \n",
       "3    uk pop.transpop.pop.dance pop  \n",
       "4                  20747240.825245  \n",
       "5                            87.82  \n",
       "6                              182  \n",
       "7        Unholy (feat. Kim Petras)  \n",
       "8                       2022-09-22  \n",
       "9                               88  \n",
       "10                          156943  \n",
       "11                           False  \n",
       "12                             100  "
      ]
     },
     "execution_count": 917,
     "metadata": {},
     "output_type": "execute_result"
    }
   ],
   "source": [
    "songs_des_df = pd.read_csv('songs_data_des.csv', on_bad_lines='skip')\n",
    "songs_des_df"
   ]
  },
  {
   "attachments": {},
   "cell_type": "markdown",
   "metadata": {},
   "source": [
    "At the moment, we don't really need to use the feature `explicit` for data exploration. So we will decide to drop it for now."
   ]
  },
  {
   "cell_type": "code",
   "execution_count": 918,
   "metadata": {},
   "outputs": [],
   "source": [
    "songs_df.drop('explicit', inplace=True, axis=1, errors='ignore')"
   ]
  },
  {
   "attachments": {},
   "cell_type": "markdown",
   "metadata": {},
   "source": [
    "Next, we need to recheck the data types of each column."
   ]
  },
  {
   "cell_type": "code",
   "execution_count": 919,
   "metadata": {},
   "outputs": [
    {
     "data": {
      "text/plain": [
       "id                   object\n",
       "name                 object\n",
       "artist               object\n",
       "genres               object\n",
       "artist_followers     object\n",
       "artist_popularity    object\n",
       "markets               int64\n",
       "album                object\n",
       "released_date        object\n",
       "album_popularity      int64\n",
       "duration              int64\n",
       "popularity            int64\n",
       "dtype: object"
      ]
     },
     "execution_count": 919,
     "metadata": {},
     "output_type": "execute_result"
    }
   ],
   "source": [
    "dtypes = songs_df.dtypes\n",
    "dtypes"
   ]
  },
  {
   "attachments": {},
   "cell_type": "markdown",
   "metadata": {},
   "source": [
    "As we can see, there are only 4 numeric categories: `markets`, `album_popularity`, `duration` and `popularity`. The rest of the columns are either string or list types but in DataFrame, string and list are categorized as object.\n",
    "\n",
    "Let's get the detailed info and number of non-null values of each column."
   ]
  },
  {
   "cell_type": "code",
   "execution_count": 920,
   "metadata": {},
   "outputs": [
    {
     "name": "stdout",
     "output_type": "stream",
     "text": [
      "<class 'pandas.core.frame.DataFrame'>\n",
      "Int64Index: 2965 entries, 0 to 2999\n",
      "Data columns (total 12 columns):\n",
      " #   Column             Non-Null Count  Dtype \n",
      "---  ------             --------------  ----- \n",
      " 0   id                 2965 non-null   object\n",
      " 1   name               2965 non-null   object\n",
      " 2   artist             2965 non-null   object\n",
      " 3   genres             2520 non-null   object\n",
      " 4   artist_followers   2965 non-null   object\n",
      " 5   artist_popularity  2965 non-null   object\n",
      " 6   markets            2965 non-null   int64 \n",
      " 7   album              2965 non-null   object\n",
      " 8   released_date      2965 non-null   object\n",
      " 9   album_popularity   2965 non-null   int64 \n",
      " 10  duration           2965 non-null   int64 \n",
      " 11  popularity         2965 non-null   int64 \n",
      "dtypes: int64(4), object(8)\n",
      "memory usage: 301.1+ KB\n"
     ]
    }
   ],
   "source": [
    "songs_df.info()"
   ]
  },
  {
   "attachments": {},
   "cell_type": "markdown",
   "metadata": {},
   "source": [
    "We can notice that there are some null values in genres column, therefore, we need to explore how many values are missing in the dataset"
   ]
  },
  {
   "cell_type": "code",
   "execution_count": 921,
   "metadata": {},
   "outputs": [
    {
     "data": {
      "text/plain": [
       "id                     0\n",
       "name                   0\n",
       "artist                 0\n",
       "genres               445\n",
       "artist_followers       0\n",
       "artist_popularity      0\n",
       "markets                0\n",
       "album                  0\n",
       "released_date          0\n",
       "album_popularity       0\n",
       "duration               0\n",
       "popularity             0\n",
       "dtype: int64"
      ]
     },
     "execution_count": 921,
     "metadata": {},
     "output_type": "execute_result"
    }
   ],
   "source": [
    "null_cols = songs_df.isnull().sum()\n",
    "null_cols"
   ]
  },
  {
   "attachments": {},
   "cell_type": "markdown",
   "metadata": {},
   "source": [
    "day la markdown"
   ]
  },
  {
   "cell_type": "code",
   "execution_count": 864,
   "metadata": {},
   "outputs": [],
   "source": [
    "def missing_ratio(c):\n",
    "    return c.isnull().sum() / c.__len__() * 100\n",
    "\n",
    "def num_diff_vals(c):\n",
    "    return c.nunique(dropna=True)\n",
    "\n",
    "def diff_vals(c):\n",
    "    return c.dropna().unique()"
   ]
  },
  {
   "attachments": {},
   "cell_type": "markdown",
   "metadata": {},
   "source": [
    "numeric columns"
   ]
  },
  {
   "cell_type": "code",
   "execution_count": 865,
   "metadata": {},
   "outputs": [
    {
     "data": {
      "text/html": [
       "<div>\n",
       "<style scoped>\n",
       "    .dataframe tbody tr th:only-of-type {\n",
       "        vertical-align: middle;\n",
       "    }\n",
       "\n",
       "    .dataframe tbody tr th {\n",
       "        vertical-align: top;\n",
       "    }\n",
       "\n",
       "    .dataframe thead th {\n",
       "        text-align: right;\n",
       "    }\n",
       "</style>\n",
       "<table border=\"1\" class=\"dataframe\">\n",
       "  <thead>\n",
       "    <tr style=\"text-align: right;\">\n",
       "      <th></th>\n",
       "      <th>markets</th>\n",
       "      <th>album_popularity</th>\n",
       "      <th>duration</th>\n",
       "      <th>popularity</th>\n",
       "    </tr>\n",
       "  </thead>\n",
       "  <tbody>\n",
       "    <tr>\n",
       "      <th>missing_ratio</th>\n",
       "      <td>0.0</td>\n",
       "      <td>0.0</td>\n",
       "      <td>0.0</td>\n",
       "      <td>0.0</td>\n",
       "    </tr>\n",
       "    <tr>\n",
       "      <th>min</th>\n",
       "      <td>1.0</td>\n",
       "      <td>0.0</td>\n",
       "      <td>24013.0</td>\n",
       "      <td>0.0</td>\n",
       "    </tr>\n",
       "    <tr>\n",
       "      <th>max</th>\n",
       "      <td>183.0</td>\n",
       "      <td>97.0</td>\n",
       "      <td>7994537.0</td>\n",
       "      <td>100.0</td>\n",
       "    </tr>\n",
       "  </tbody>\n",
       "</table>\n",
       "</div>"
      ],
      "text/plain": [
       "               markets  album_popularity   duration  popularity\n",
       "missing_ratio      0.0               0.0        0.0         0.0\n",
       "min                1.0               0.0    24013.0         0.0\n",
       "max              183.0              97.0  7994537.0       100.0"
      ]
     },
     "execution_count": 865,
     "metadata": {},
     "output_type": "execute_result"
    }
   ],
   "source": [
    "numeric_cols_des = songs_df[songs_df.describe().columns].agg([missing_ratio, min, max]).round(1)\n",
    "numeric_cols_des"
   ]
  },
  {
   "attachments": {},
   "cell_type": "markdown",
   "metadata": {},
   "source": [
    "day la markdown"
   ]
  },
  {
   "cell_type": "code",
   "execution_count": 867,
   "metadata": {},
   "outputs": [
    {
     "data": {
      "text/plain": [
       "<BarContainer object of 3 artists>"
      ]
     },
     "execution_count": 867,
     "metadata": {},
     "output_type": "execute_result"
    },
    {
     "data": {
      "text/plain": [
       "<Figure size 1000x2000 with 0 Axes>"
      ]
     },
     "metadata": {},
     "output_type": "display_data"
    },
    {
     "data": {
      "image/png": "[encoded data removed]",
      "text/plain": [
       "<Figure size 640x480 with 4 Axes>"
      ]
     },
     "metadata": {},
     "output_type": "display_data"
    }
   ],
   "source": [
    "plt.figure(figsize=(10, 20))\n",
    "_, ax = plt.subplots(2, 2)\n",
    "ax[0, 0].bar(numeric_cols_des.index, numeric_cols_des['markets'], color = 'purple')\n",
    "ax[0, 1].bar(numeric_cols_des.index, numeric_cols_des['duration'], color = 'r')\n",
    "ax[1, 0].bar(numeric_cols_des.index, numeric_cols_des['album_popularity'], color = 'g')\n",
    "ax[1, 1].bar(numeric_cols_des.index, numeric_cols_des['popularity'], color = 'orange')"
   ]
  },
  {
   "attachments": {},
   "cell_type": "markdown",
   "metadata": {},
   "source": [
    "categorical columns"
   ]
  },
  {
   "cell_type": "code",
   "execution_count": 868,
   "metadata": {},
   "outputs": [
    {
     "data": {
      "text/html": [
       "<div>\n",
       "<style scoped>\n",
       "    .dataframe tbody tr th:only-of-type {\n",
       "        vertical-align: middle;\n",
       "    }\n",
       "\n",
       "    .dataframe tbody tr th {\n",
       "        vertical-align: top;\n",
       "    }\n",
       "\n",
       "    .dataframe thead th {\n",
       "        text-align: right;\n",
       "    }\n",
       "</style>\n",
       "<table border=\"1\" class=\"dataframe\">\n",
       "  <thead>\n",
       "    <tr style=\"text-align: right;\">\n",
       "      <th></th>\n",
       "      <th>genres</th>\n",
       "    </tr>\n",
       "  </thead>\n",
       "  <tbody>\n",
       "    <tr>\n",
       "      <th>missing_ratio</th>\n",
       "      <td>15.008432</td>\n",
       "    </tr>\n",
       "    <tr>\n",
       "      <th>num_diff_vals</th>\n",
       "      <td>956</td>\n",
       "    </tr>\n",
       "    <tr>\n",
       "      <th>diff_vals</th>\n",
       "      <td>[tropical house,pop,dance pop,pop dance,post-t...</td>\n",
       "    </tr>\n",
       "  </tbody>\n",
       "</table>\n",
       "</div>"
      ],
      "text/plain": [
       "                                                          genres\n",
       "missing_ratio                                          15.008432\n",
       "num_diff_vals                                                956\n",
       "diff_vals      [tropical house,pop,dance pop,pop dance,post-t..."
      ]
     },
     "execution_count": 868,
     "metadata": {},
     "output_type": "execute_result"
    }
   ],
   "source": [
    "songs_df[['genres']].agg([missing_ratio, num_diff_vals, diff_vals]).round(2)"
   ]
  },
  {
   "attachments": {},
   "cell_type": "markdown",
   "metadata": {},
   "source": [
    "1. Genres\n",
    "\n",
    "day la markdown"
   ]
  },
  {
   "cell_type": "code",
   "execution_count": 869,
   "metadata": {},
   "outputs": [
    {
     "data": {
      "text/plain": [
       "1064"
      ]
     },
     "execution_count": 869,
     "metadata": {},
     "output_type": "execute_result"
    }
   ],
   "source": [
    "num_genres = songs_df['genres'].str.split(',').explode().nunique()\n",
    "num_genres"
   ]
  },
  {
   "attachments": {},
   "cell_type": "markdown",
   "metadata": {},
   "source": [
    "bar chart"
   ]
  },
  {
   "cell_type": "code",
   "execution_count": 870,
   "metadata": {},
   "outputs": [
    {
     "data": {
      "text/plain": [
       "<AxesSubplot: >"
      ]
     },
     "execution_count": 870,
     "metadata": {},
     "output_type": "execute_result"
    },
    {
     "data": {
      "image/png": "[encoded data removed]",
      "text/plain": [
       "<Figure size 300x300 with 1 Axes>"
      ]
     },
     "metadata": {},
     "output_type": "display_data"
    }
   ],
   "source": [
    "songs_df['genres'].str.split(',').explode().value_counts().nlargest(n=10).plot.barh(figsize=(3,3), color='indigo')"
   ]
  },
  {
   "attachments": {},
   "cell_type": "markdown",
   "metadata": {},
   "source": [
    "2. Artists\n",
    "\n",
    "day la markdown"
   ]
  },
  {
   "cell_type": "code",
   "execution_count": 871,
   "metadata": {},
   "outputs": [
    {
     "data": {
      "text/plain": [
       "2293"
      ]
     },
     "execution_count": 871,
     "metadata": {},
     "output_type": "execute_result"
    }
   ],
   "source": [
    "num_artists = songs_df['artist'].str.split(',').explode().nunique()\n",
    "num_artists"
   ]
  },
  {
   "cell_type": "code",
   "execution_count": 872,
   "metadata": {},
   "outputs": [
    {
     "data": {
      "text/plain": [
       "<AxesSubplot: >"
      ]
     },
     "execution_count": 872,
     "metadata": {},
     "output_type": "execute_result"
    },
    {
     "data": {
      "image/png": "[encoded data removed]",
      "text/plain": [
       "<Figure size 300x300 with 1 Axes>"
      ]
     },
     "metadata": {},
     "output_type": "display_data"
    }
   ],
   "source": [
    "songs_df['artist'].str.split(',').explode().value_counts().nlargest(n=10).plot.barh(figsize=(3,3), color='pink')"
   ]
  },
  {
   "attachments": {},
   "cell_type": "markdown",
   "metadata": {},
   "source": [
    "3. Albums"
   ]
  },
  {
   "cell_type": "code",
   "execution_count": 873,
   "metadata": {},
   "outputs": [
    {
     "data": {
      "text/plain": [
       "1343"
      ]
     },
     "execution_count": 873,
     "metadata": {},
     "output_type": "execute_result"
    }
   ],
   "source": [
    "num_albums = songs_df['album'].nunique()\n",
    "num_albums"
   ]
  },
  {
   "cell_type": "code",
   "execution_count": 874,
   "metadata": {},
   "outputs": [
    {
     "data": {
      "text/plain": [
       "<AxesSubplot: >"
      ]
     },
     "execution_count": 874,
     "metadata": {},
     "output_type": "execute_result"
    },
    {
     "data": {
      "image/png": "[encoded data removed]",
      "text/plain": [
       "<Figure size 300x300 with 1 Axes>"
      ]
     },
     "metadata": {},
     "output_type": "display_data"
    }
   ],
   "source": [
    "songs_df['album'].value_counts().nlargest(n=10).plot.barh(figsize=(3,3), color='cyan')"
   ]
  },
  {
   "attachments": {},
   "cell_type": "markdown",
   "metadata": {},
   "source": [
    "### <b><u>Step 6</u>: Preprocessing dataset</b>"
   ]
  },
  {
   "attachments": {},
   "cell_type": "markdown",
   "metadata": {},
   "source": [
    "1. Genres\n",
    "\n",
    "handle genres"
   ]
  },
  {
   "cell_type": "code",
   "execution_count": 875,
   "metadata": {},
   "outputs": [],
   "source": [
    "songs_df['genres'] = songs_df['genres'].str.split(',')\n",
    "songs_df['genres'].fillna('None', inplace=True)"
   ]
  },
  {
   "attachments": {},
   "cell_type": "markdown",
   "metadata": {},
   "source": [
    "add main genre to dataset"
   ]
  },
  {
   "cell_type": "code",
   "execution_count": 876,
   "metadata": {},
   "outputs": [],
   "source": [
    "songs_df['main_genre'] = songs_df['genres'].apply(lambda x: x[0] if type(x) == list else x)"
   ]
  },
  {
   "attachments": {},
   "cell_type": "markdown",
   "metadata": {},
   "source": [
    "2. Artists\n",
    "\n",
    "handle artists"
   ]
  },
  {
   "cell_type": "code",
   "execution_count": 877,
   "metadata": {},
   "outputs": [],
   "source": [
    "songs_df['artist'] = songs_df['artist'].str.split(',')"
   ]
  },
  {
   "attachments": {},
   "cell_type": "markdown",
   "metadata": {},
   "source": [
    "add artists count to dataset"
   ]
  },
  {
   "cell_type": "code",
   "execution_count": 878,
   "metadata": {},
   "outputs": [],
   "source": [
    "songs_df['artists_count'] = songs_df['artist'].apply(len)"
   ]
  },
  {
   "attachments": {},
   "cell_type": "markdown",
   "metadata": {},
   "source": [
    "explore min max artist_count"
   ]
  },
  {
   "cell_type": "code",
   "execution_count": 879,
   "metadata": {},
   "outputs": [
    {
     "data": {
      "text/html": [
       "<div>\n",
       "<style scoped>\n",
       "    .dataframe tbody tr th:only-of-type {\n",
       "        vertical-align: middle;\n",
       "    }\n",
       "\n",
       "    .dataframe tbody tr th {\n",
       "        vertical-align: top;\n",
       "    }\n",
       "\n",
       "    .dataframe thead th {\n",
       "        text-align: right;\n",
       "    }\n",
       "</style>\n",
       "<table border=\"1\" class=\"dataframe\">\n",
       "  <thead>\n",
       "    <tr style=\"text-align: right;\">\n",
       "      <th></th>\n",
       "      <th>artists_count</th>\n",
       "    </tr>\n",
       "  </thead>\n",
       "  <tbody>\n",
       "    <tr>\n",
       "      <th>min</th>\n",
       "      <td>1</td>\n",
       "    </tr>\n",
       "    <tr>\n",
       "      <th>max</th>\n",
       "      <td>39</td>\n",
       "    </tr>\n",
       "  </tbody>\n",
       "</table>\n",
       "</div>"
      ],
      "text/plain": [
       "     artists_count\n",
       "min              1\n",
       "max             39"
      ]
     },
     "execution_count": 879,
     "metadata": {},
     "output_type": "execute_result"
    }
   ],
   "source": [
    "songs_df[['artists_count']].agg([min, max])"
   ]
  },
  {
   "attachments": {},
   "cell_type": "markdown",
   "metadata": {},
   "source": [
    "3. Artist followers\n",
    "\n",
    "handle artist followers"
   ]
  },
  {
   "cell_type": "code",
   "execution_count": 880,
   "metadata": {},
   "outputs": [],
   "source": [
    "songs_df['artist_followers'].update(songs_df['artist_followers'].str.split(','))\n",
    "songs_df['artist_followers'].update(songs_df['artist_followers'].apply(lambda x: list(map(int, x))))"
   ]
  },
  {
   "attachments": {},
   "cell_type": "markdown",
   "metadata": {},
   "source": [
    "normalizing artist followers"
   ]
  },
  {
   "cell_type": "code",
   "execution_count": 881,
   "metadata": {},
   "outputs": [],
   "source": [
    "songs_df['artist_followers'] = songs_df['artist_followers'].apply(lambda x: np.sqrt(np.sum(list(map(lambda y: y**2, x)))))\n",
    "songs_df['artist_followers'] = songs_df['artist_followers'].astype('int64')"
   ]
  },
  {
   "attachments": {},
   "cell_type": "markdown",
   "metadata": {},
   "source": [
    "4. Artist popularity\n",
    "\n",
    "handle artist popularity"
   ]
  },
  {
   "cell_type": "code",
   "execution_count": 882,
   "metadata": {},
   "outputs": [],
   "source": [
    "songs_df['artist_popularity'].update(songs_df['artist_popularity'].str.split(','))\n",
    "songs_df['artist_popularity'].update(songs_df['artist_popularity'].apply(lambda x: list(map(int, x))))"
   ]
  },
  {
   "attachments": {},
   "cell_type": "markdown",
   "metadata": {},
   "source": [
    "normalizing artist popularity"
   ]
  },
  {
   "cell_type": "code",
   "execution_count": 883,
   "metadata": {},
   "outputs": [],
   "source": [
    "songs_df['artist_popularity'] = songs_df['artist_popularity'].apply(lambda x: min(100, np.sqrt(np.sum(list(map(lambda y: y**2, x))))))\n",
    "songs_df['artist_popularity'] = songs_df['artist_popularity'].astype('int64')"
   ]
  },
  {
   "attachments": {},
   "cell_type": "markdown",
   "metadata": {},
   "source": [
    "5. Released data\n",
    "\n",
    "handle released date"
   ]
  },
  {
   "cell_type": "code",
   "execution_count": 884,
   "metadata": {},
   "outputs": [],
   "source": [
    "songs_df['released_date'] = pd.to_datetime(songs_df['released_date'], format='%Y-%m-%d', errors='coerce')"
   ]
  },
  {
   "attachments": {},
   "cell_type": "markdown",
   "metadata": {},
   "source": [
    "day la markdown"
   ]
  },
  {
   "cell_type": "code",
   "execution_count": 885,
   "metadata": {},
   "outputs": [
    {
     "data": {
      "text/html": [
       "<div>\n",
       "<style scoped>\n",
       "    .dataframe tbody tr th:only-of-type {\n",
       "        vertical-align: middle;\n",
       "    }\n",
       "\n",
       "    .dataframe tbody tr th {\n",
       "        vertical-align: top;\n",
       "    }\n",
       "\n",
       "    .dataframe thead th {\n",
       "        text-align: right;\n",
       "    }\n",
       "</style>\n",
       "<table border=\"1\" class=\"dataframe\">\n",
       "  <thead>\n",
       "    <tr style=\"text-align: right;\">\n",
       "      <th></th>\n",
       "      <th>artist_followers</th>\n",
       "      <th>artist_popularity</th>\n",
       "      <th>markets</th>\n",
       "      <th>album_popularity</th>\n",
       "      <th>duration</th>\n",
       "      <th>popularity</th>\n",
       "    </tr>\n",
       "  </thead>\n",
       "  <tbody>\n",
       "    <tr>\n",
       "      <th>0</th>\n",
       "      <td>10228985</td>\n",
       "      <td>76</td>\n",
       "      <td>183</td>\n",
       "      <td>72</td>\n",
       "      <td>186986</td>\n",
       "      <td>81</td>\n",
       "    </tr>\n",
       "    <tr>\n",
       "      <th>1</th>\n",
       "      <td>20763646</td>\n",
       "      <td>100</td>\n",
       "      <td>182</td>\n",
       "      <td>88</td>\n",
       "      <td>156943</td>\n",
       "      <td>100</td>\n",
       "    </tr>\n",
       "    <tr>\n",
       "      <th>2</th>\n",
       "      <td>10228985</td>\n",
       "      <td>76</td>\n",
       "      <td>183</td>\n",
       "      <td>52</td>\n",
       "      <td>186986</td>\n",
       "      <td>63</td>\n",
       "    </tr>\n",
       "    <tr>\n",
       "      <th>3</th>\n",
       "      <td>43572</td>\n",
       "      <td>38</td>\n",
       "      <td>183</td>\n",
       "      <td>25</td>\n",
       "      <td>192000</td>\n",
       "      <td>36</td>\n",
       "    </tr>\n",
       "    <tr>\n",
       "      <th>4</th>\n",
       "      <td>3636047</td>\n",
       "      <td>96</td>\n",
       "      <td>183</td>\n",
       "      <td>77</td>\n",
       "      <td>217440</td>\n",
       "      <td>72</td>\n",
       "    </tr>\n",
       "    <tr>\n",
       "      <th>...</th>\n",
       "      <td>...</td>\n",
       "      <td>...</td>\n",
       "      <td>...</td>\n",
       "      <td>...</td>\n",
       "      <td>...</td>\n",
       "      <td>...</td>\n",
       "    </tr>\n",
       "    <tr>\n",
       "      <th>2995</th>\n",
       "      <td>6535001</td>\n",
       "      <td>85</td>\n",
       "      <td>183</td>\n",
       "      <td>49</td>\n",
       "      <td>146719</td>\n",
       "      <td>33</td>\n",
       "    </tr>\n",
       "    <tr>\n",
       "      <th>2996</th>\n",
       "      <td>161325</td>\n",
       "      <td>48</td>\n",
       "      <td>183</td>\n",
       "      <td>36</td>\n",
       "      <td>242705</td>\n",
       "      <td>33</td>\n",
       "    </tr>\n",
       "    <tr>\n",
       "      <th>2997</th>\n",
       "      <td>1286591</td>\n",
       "      <td>64</td>\n",
       "      <td>183</td>\n",
       "      <td>43</td>\n",
       "      <td>179774</td>\n",
       "      <td>33</td>\n",
       "    </tr>\n",
       "    <tr>\n",
       "      <th>2998</th>\n",
       "      <td>1286591</td>\n",
       "      <td>64</td>\n",
       "      <td>183</td>\n",
       "      <td>43</td>\n",
       "      <td>141008</td>\n",
       "      <td>33</td>\n",
       "    </tr>\n",
       "    <tr>\n",
       "      <th>2999</th>\n",
       "      <td>56799</td>\n",
       "      <td>54</td>\n",
       "      <td>183</td>\n",
       "      <td>34</td>\n",
       "      <td>210000</td>\n",
       "      <td>33</td>\n",
       "    </tr>\n",
       "  </tbody>\n",
       "</table>\n",
       "<p>2965 rows × 6 columns</p>\n",
       "</div>"
      ],
      "text/plain": [
       "      artist_followers  artist_popularity  markets  album_popularity  \\\n",
       "0             10228985                 76      183                72   \n",
       "1             20763646                100      182                88   \n",
       "2             10228985                 76      183                52   \n",
       "3                43572                 38      183                25   \n",
       "4              3636047                 96      183                77   \n",
       "...                ...                ...      ...               ...   \n",
       "2995           6535001                 85      183                49   \n",
       "2996            161325                 48      183                36   \n",
       "2997           1286591                 64      183                43   \n",
       "2998           1286591                 64      183                43   \n",
       "2999             56799                 54      183                34   \n",
       "\n",
       "      duration  popularity  \n",
       "0       186986          81  \n",
       "1       156943         100  \n",
       "2       186986          63  \n",
       "3       192000          36  \n",
       "4       217440          72  \n",
       "...        ...         ...  \n",
       "2995    146719          33  \n",
       "2996    242705          33  \n",
       "2997    179774          33  \n",
       "2998    141008          33  \n",
       "2999    210000          33  \n",
       "\n",
       "[2965 rows x 6 columns]"
      ]
     },
     "execution_count": 885,
     "metadata": {},
     "output_type": "execute_result"
    }
   ],
   "source": [
    "songs_model_df = songs_df[['artist_followers', 'artist_popularity', 'markets', 'album_popularity', 'duration', 'popularity']]\n",
    "songs_model_df"
   ]
  },
  {
   "attachments": {},
   "cell_type": "markdown",
   "metadata": {},
   "source": [
    "day la markdown"
   ]
  },
  {
   "cell_type": "code",
   "execution_count": 886,
   "metadata": {},
   "outputs": [
    {
     "data": {
      "text/html": [
       "<div>\n",
       "<style scoped>\n",
       "    .dataframe tbody tr th:only-of-type {\n",
       "        vertical-align: middle;\n",
       "    }\n",
       "\n",
       "    .dataframe tbody tr th {\n",
       "        vertical-align: top;\n",
       "    }\n",
       "\n",
       "    .dataframe thead th {\n",
       "        text-align: right;\n",
       "    }\n",
       "</style>\n",
       "<table border=\"1\" class=\"dataframe\">\n",
       "  <thead>\n",
       "    <tr style=\"text-align: right;\">\n",
       "      <th></th>\n",
       "      <th>artist_followers</th>\n",
       "      <th>artist_popularity</th>\n",
       "      <th>markets</th>\n",
       "      <th>album_popularity</th>\n",
       "      <th>duration</th>\n",
       "      <th>popularity</th>\n",
       "    </tr>\n",
       "  </thead>\n",
       "  <tbody>\n",
       "    <tr>\n",
       "      <th>artist_followers</th>\n",
       "      <td>1.000000</td>\n",
       "      <td>0.862982</td>\n",
       "      <td>-0.625777</td>\n",
       "      <td>-0.024550</td>\n",
       "      <td>0.045350</td>\n",
       "      <td>-0.170199</td>\n",
       "    </tr>\n",
       "    <tr>\n",
       "      <th>artist_popularity</th>\n",
       "      <td>0.862982</td>\n",
       "      <td>1.000000</td>\n",
       "      <td>-0.555605</td>\n",
       "      <td>0.023361</td>\n",
       "      <td>-0.047730</td>\n",
       "      <td>-0.102210</td>\n",
       "    </tr>\n",
       "    <tr>\n",
       "      <th>markets</th>\n",
       "      <td>-0.625777</td>\n",
       "      <td>-0.555605</td>\n",
       "      <td>1.000000</td>\n",
       "      <td>0.475937</td>\n",
       "      <td>0.148894</td>\n",
       "      <td>0.564505</td>\n",
       "    </tr>\n",
       "    <tr>\n",
       "      <th>album_popularity</th>\n",
       "      <td>-0.024550</td>\n",
       "      <td>0.023361</td>\n",
       "      <td>0.475937</td>\n",
       "      <td>1.000000</td>\n",
       "      <td>0.095183</td>\n",
       "      <td>0.901314</td>\n",
       "    </tr>\n",
       "    <tr>\n",
       "      <th>duration</th>\n",
       "      <td>0.045350</td>\n",
       "      <td>-0.047730</td>\n",
       "      <td>0.148894</td>\n",
       "      <td>0.095183</td>\n",
       "      <td>1.000000</td>\n",
       "      <td>0.108222</td>\n",
       "    </tr>\n",
       "    <tr>\n",
       "      <th>popularity</th>\n",
       "      <td>-0.170199</td>\n",
       "      <td>-0.102210</td>\n",
       "      <td>0.564505</td>\n",
       "      <td>0.901314</td>\n",
       "      <td>0.108222</td>\n",
       "      <td>1.000000</td>\n",
       "    </tr>\n",
       "  </tbody>\n",
       "</table>\n",
       "</div>"
      ],
      "text/plain": [
       "                   artist_followers  artist_popularity   markets  \\\n",
       "artist_followers           1.000000           0.862982 -0.625777   \n",
       "artist_popularity          0.862982           1.000000 -0.555605   \n",
       "markets                   -0.625777          -0.555605  1.000000   \n",
       "album_popularity          -0.024550           0.023361  0.475937   \n",
       "duration                   0.045350          -0.047730  0.148894   \n",
       "popularity                -0.170199          -0.102210  0.564505   \n",
       "\n",
       "                   album_popularity  duration  popularity  \n",
       "artist_followers          -0.024550  0.045350   -0.170199  \n",
       "artist_popularity          0.023361 -0.047730   -0.102210  \n",
       "markets                    0.475937  0.148894    0.564505  \n",
       "album_popularity           1.000000  0.095183    0.901314  \n",
       "duration                   0.095183  1.000000    0.108222  \n",
       "popularity                 0.901314  0.108222    1.000000  "
      ]
     },
     "execution_count": 886,
     "metadata": {},
     "output_type": "execute_result"
    }
   ],
   "source": [
    "songs_model_df.corr(method='spearman')"
   ]
  },
  {
   "attachments": {},
   "cell_type": "markdown",
   "metadata": {},
   "source": [
    "### Step 7: Advanced exploration on the dataset\n",
    "\n",
    "day la markdown"
   ]
  },
  {
   "cell_type": "code",
   "execution_count": 893,
   "metadata": {},
   "outputs": [
    {
     "data": {
      "text/plain": [
       "<AxesSubplot: >"
      ]
     },
     "execution_count": 893,
     "metadata": {},
     "output_type": "execute_result"
    },
    {
     "data": {
      "image/png": "[encoded data removed]",
      "text/plain": [
       "<Figure size 2000x800 with 1 Axes>"
      ]
     },
     "metadata": {},
     "output_type": "display_data"
    }
   ],
   "source": [
    "songs_df['popularity'].value_counts().sort_index(ascending=True) \\\n",
    "                    .plot.bar(figsize=(20, 8), color='indigo')"
   ]
  },
  {
   "attachments": {},
   "cell_type": "markdown",
   "metadata": {},
   "source": [
    "day la markdown"
   ]
  },
  {
   "cell_type": "code",
   "execution_count": 894,
   "metadata": {},
   "outputs": [
    {
     "data": {
      "text/plain": [
       "<AxesSubplot: >"
      ]
     },
     "execution_count": 894,
     "metadata": {},
     "output_type": "execute_result"
    },
    {
     "data": {
      "image/png": "[encoded data removed]",
      "text/plain": [
       "<Figure size 2000x800 with 1 Axes>"
      ]
     },
     "metadata": {},
     "output_type": "display_data"
    }
   ],
   "source": [
    "songs_df['released_date'].dt.year.value_counts().sort_index(ascending=True) \\\n",
    "                        .plot.bar(figsize=(20, 8), color='red')"
   ]
  },
  {
   "attachments": {},
   "cell_type": "markdown",
   "metadata": {},
   "source": [
    "day la markdown"
   ]
  },
  {
   "cell_type": "code",
   "execution_count": 889,
   "metadata": {},
   "outputs": [
    {
     "data": {
      "text/plain": [
       "['Nat King Cole',\n",
       " 'Dean Martin',\n",
       " 'Frank Sinatra',\n",
       " 'Stray Kids',\n",
       " 'Justin Bieber']"
      ]
     },
     "execution_count": 889,
     "metadata": {},
     "output_type": "execute_result"
    }
   ],
   "source": [
    "songs_df[songs_df['released_date'].dt.year.between(2020, 2022)]['artist'].explode().value_counts().nlargest(n=5).index.to_list()"
   ]
  },
  {
   "cell_type": "code",
   "execution_count": null,
   "metadata": {},
   "outputs": [],
   "source": []
  }
 ],
 "metadata": {
  "kernelspec": {
   "display_name": "Python 3.10.6 64-bit ('3.10.6': pyenv)",
   "language": "python",
   "name": "python3"
  },
  "language_info": {
   "codemirror_mode": {
    "name": "ipython",
    "version": 3
   },
   "file_extension": ".py",
   "mimetype": "text/x-python",
   "name": "python",
   "nbconvert_exporter": "python",
   "pygments_lexer": "ipython3",
   "version": "3.10.6 (main, Oct 27 2022, 18:07:01) [Clang 13.0.0 (clang-1300.0.27.3)]"
  },
  "orig_nbformat": 4,
  "vscode": {
   "interpreter": {
    "hash": "89e8354a88354ecf7ffb299b56239fb0ecc48c48d372ba43f5b93cc4e944f72d"
   }
  }
 },
 "nbformat": 4,
 "nbformat_minor": 2
}
