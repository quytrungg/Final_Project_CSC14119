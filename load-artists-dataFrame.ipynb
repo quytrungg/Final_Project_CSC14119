{
 "cells": [
  {
   "cell_type": "code",
   "execution_count": 2,
   "metadata": {},
   "outputs": [],
   "source": [
    "import numpy as np\n",
    "import matplotlib.pyplot as plt  # To visualize\n",
    "import pandas as pd  # To read data\n",
    "\n",
    "from sklearn.linear_model import LinearRegression\n",
    "from datetime import datetime"
   ]
  },
  {
   "cell_type": "code",
   "execution_count": 5,
   "metadata": {},
   "outputs": [],
   "source": [
    "artists_df = pd.read_csv('artists.tsv', sep='\\t')"
   ]
  },
  {
   "cell_type": "code",
   "execution_count": 6,
   "metadata": {},
   "outputs": [
    {
     "data": {
      "text/html": [
       "<div>\n",
       "<style scoped>\n",
       "    .dataframe tbody tr th:only-of-type {\n",
       "        vertical-align: middle;\n",
       "    }\n",
       "\n",
       "    .dataframe tbody tr th {\n",
       "        vertical-align: top;\n",
       "    }\n",
       "\n",
       "    .dataframe thead th {\n",
       "        text-align: right;\n",
       "    }\n",
       "</style>\n",
       "<table border=\"1\" class=\"dataframe\">\n",
       "  <thead>\n",
       "    <tr style=\"text-align: right;\">\n",
       "      <th></th>\n",
       "      <th>id</th>\n",
       "      <th>name</th>\n",
       "      <th>genres</th>\n",
       "      <th>followers</th>\n",
       "      <th>popularity</th>\n",
       "    </tr>\n",
       "  </thead>\n",
       "  <tbody>\n",
       "    <tr>\n",
       "      <th>0</th>\n",
       "      <td>6FqXAd1hQl7vVdIQ3hhtgc</td>\n",
       "      <td>D. Savage</td>\n",
       "      <td>plugg, pluggnb, rap, underground hip hop, vapo...</td>\n",
       "      <td>401672</td>\n",
       "      <td>59</td>\n",
       "    </tr>\n",
       "    <tr>\n",
       "      <th>1</th>\n",
       "      <td>06HL4z0CvFAxyc27GXpf02</td>\n",
       "      <td>Taylor Swift</td>\n",
       "      <td>pop</td>\n",
       "      <td>61597049</td>\n",
       "      <td>100</td>\n",
       "    </tr>\n",
       "    <tr>\n",
       "      <th>2</th>\n",
       "      <td>2uRjuSX3CCVJO0KBA518XG</td>\n",
       "      <td>L.S. Dunes</td>\n",
       "      <td>NaN</td>\n",
       "      <td>32211</td>\n",
       "      <td>42</td>\n",
       "    </tr>\n",
       "    <tr>\n",
       "      <th>3</th>\n",
       "      <td>64tNsm6TnZe2zpcMVMOoHL</td>\n",
       "      <td>Alice In Chains</td>\n",
       "      <td>alternative metal, alternative rock, grunge, h...</td>\n",
       "      <td>4193537</td>\n",
       "      <td>70</td>\n",
       "    </tr>\n",
       "    <tr>\n",
       "      <th>4</th>\n",
       "      <td>1zNqDE7qDGCsyzJwohVaoX</td>\n",
       "      <td>Anne-Marie</td>\n",
       "      <td>dance pop, pop, pop dance, post-teen pop, trop...</td>\n",
       "      <td>10179165</td>\n",
       "      <td>76</td>\n",
       "    </tr>\n",
       "  </tbody>\n",
       "</table>\n",
       "</div>"
      ],
      "text/plain": [
       "                       id             name  \\\n",
       "0  6FqXAd1hQl7vVdIQ3hhtgc        D. Savage   \n",
       "1  06HL4z0CvFAxyc27GXpf02     Taylor Swift   \n",
       "2  2uRjuSX3CCVJO0KBA518XG       L.S. Dunes   \n",
       "3  64tNsm6TnZe2zpcMVMOoHL  Alice In Chains   \n",
       "4  1zNqDE7qDGCsyzJwohVaoX       Anne-Marie   \n",
       "\n",
       "                                              genres  followers  popularity  \n",
       "0  plugg, pluggnb, rap, underground hip hop, vapo...     401672          59  \n",
       "1                                                pop   61597049         100  \n",
       "2                                                NaN      32211          42  \n",
       "3  alternative metal, alternative rock, grunge, h...    4193537          70  \n",
       "4  dance pop, pop, pop dance, post-teen pop, trop...   10179165          76  "
      ]
     },
     "execution_count": 6,
     "metadata": {},
     "output_type": "execute_result"
    }
   ],
   "source": [
    "artists_df.head()"
   ]
  }
 ],
 "metadata": {
  "kernelspec": {
   "display_name": "Python 3.10.6 ('min_ds-env')",
   "language": "python",
   "name": "python3"
  },
  "language_info": {
   "codemirror_mode": {
    "name": "ipython",
    "version": 3
   },
   "file_extension": ".py",
   "mimetype": "text/x-python",
   "name": "python",
   "nbconvert_exporter": "python",
   "pygments_lexer": "ipython3",
   "version": "3.10.6"
  },
  "orig_nbformat": 4,
  "vscode": {
   "interpreter": {
    "hash": "3b298dc8b5ec9755d3b5e5b4831b9bf767d0a22ad509bcbd5b6f1f1a5498747c"
   }
  }
 },
 "nbformat": 4,
 "nbformat_minor": 2
}
