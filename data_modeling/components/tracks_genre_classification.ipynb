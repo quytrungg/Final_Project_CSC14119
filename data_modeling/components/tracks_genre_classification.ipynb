{
 "cells": [
  {
   "cell_type": "code",
   "execution_count": 115,
   "metadata": {},
   "outputs": [],
   "source": [
    "import numpy as np\n",
    "import pandas as pd\n",
    "import matplotlib.pyplot as plt\n",
    "\n",
    "from sklearn.preprocessing import LabelEncoder, StandardScaler, MinMaxScaler\n",
    "from sklearn.model_selection import train_test_split"
   ]
  },
  {
   "cell_type": "code",
   "execution_count": 116,
   "metadata": {},
   "outputs": [
    {
     "data": {
      "text/plain": [
       "(4998, 15)"
      ]
     },
     "execution_count": 116,
     "metadata": {},
     "output_type": "execute_result"
    }
   ],
   "source": [
    "df = pd.read_csv('../../data/5_genres_audio_features.tsv', delimiter='\\t')\n",
    "df.shape"
   ]
  },
  {
   "cell_type": "code",
   "execution_count": 117,
   "metadata": {},
   "outputs": [
    {
     "data": {
      "text/html": [
       "<div>\n",
       "<style scoped>\n",
       "    .dataframe tbody tr th:only-of-type {\n",
       "        vertical-align: middle;\n",
       "    }\n",
       "\n",
       "    .dataframe tbody tr th {\n",
       "        vertical-align: top;\n",
       "    }\n",
       "\n",
       "    .dataframe thead th {\n",
       "        text-align: right;\n",
       "    }\n",
       "</style>\n",
       "<table border=\"1\" class=\"dataframe\">\n",
       "  <thead>\n",
       "    <tr style=\"text-align: right;\">\n",
       "      <th></th>\n",
       "      <th>id</th>\n",
       "      <th>danceability</th>\n",
       "      <th>energy</th>\n",
       "      <th>key</th>\n",
       "      <th>loudness</th>\n",
       "      <th>mode</th>\n",
       "      <th>speechiness</th>\n",
       "      <th>acousticness</th>\n",
       "      <th>instrumentalness</th>\n",
       "      <th>liveness</th>\n",
       "      <th>valence</th>\n",
       "      <th>tempo</th>\n",
       "      <th>duration_ms</th>\n",
       "      <th>time_signature</th>\n",
       "      <th>genre</th>\n",
       "    </tr>\n",
       "  </thead>\n",
       "  <tbody>\n",
       "    <tr>\n",
       "      <th>0</th>\n",
       "      <td>1mWdTewIgB3gtBM3TOSFhB</td>\n",
       "      <td>0.759</td>\n",
       "      <td>0.459</td>\n",
       "      <td>8</td>\n",
       "      <td>-5.187</td>\n",
       "      <td>1</td>\n",
       "      <td>0.0948</td>\n",
       "      <td>0.00323</td>\n",
       "      <td>0.000000</td>\n",
       "      <td>0.0906</td>\n",
       "      <td>0.695</td>\n",
       "      <td>109.997</td>\n",
       "      <td>164442</td>\n",
       "      <td>4</td>\n",
       "      <td>pop</td>\n",
       "    </tr>\n",
       "    <tr>\n",
       "      <th>1</th>\n",
       "      <td>6A1IbMKwjvXibcrU1sdqKH</td>\n",
       "      <td>0.638</td>\n",
       "      <td>0.703</td>\n",
       "      <td>5</td>\n",
       "      <td>-6.413</td>\n",
       "      <td>0</td>\n",
       "      <td>0.1080</td>\n",
       "      <td>0.21300</td>\n",
       "      <td>0.000985</td>\n",
       "      <td>0.0927</td>\n",
       "      <td>0.289</td>\n",
       "      <td>180.008</td>\n",
       "      <td>197333</td>\n",
       "      <td>4</td>\n",
       "      <td>pop</td>\n",
       "    </tr>\n",
       "    <tr>\n",
       "      <th>2</th>\n",
       "      <td>5iZHnufFUgATzrpGgH1K0W</td>\n",
       "      <td>0.662</td>\n",
       "      <td>0.205</td>\n",
       "      <td>5</td>\n",
       "      <td>-14.005</td>\n",
       "      <td>0</td>\n",
       "      <td>0.0349</td>\n",
       "      <td>0.87600</td>\n",
       "      <td>0.003540</td>\n",
       "      <td>0.1090</td>\n",
       "      <td>0.268</td>\n",
       "      <td>139.911</td>\n",
       "      <td>260571</td>\n",
       "      <td>4</td>\n",
       "      <td>pop</td>\n",
       "    </tr>\n",
       "    <tr>\n",
       "      <th>3</th>\n",
       "      <td>4CUvVaAYuXtvYURLFz7EIL</td>\n",
       "      <td>0.517</td>\n",
       "      <td>0.467</td>\n",
       "      <td>0</td>\n",
       "      <td>-7.222</td>\n",
       "      <td>1</td>\n",
       "      <td>0.0442</td>\n",
       "      <td>0.72400</td>\n",
       "      <td>0.000000</td>\n",
       "      <td>0.0908</td>\n",
       "      <td>0.453</td>\n",
       "      <td>199.815</td>\n",
       "      <td>208049</td>\n",
       "      <td>3</td>\n",
       "      <td>pop</td>\n",
       "    </tr>\n",
       "    <tr>\n",
       "      <th>4</th>\n",
       "      <td>2EZtTS76x5M6hK96CLclPd</td>\n",
       "      <td>0.658</td>\n",
       "      <td>0.451</td>\n",
       "      <td>6</td>\n",
       "      <td>-7.721</td>\n",
       "      <td>1</td>\n",
       "      <td>0.0410</td>\n",
       "      <td>0.53100</td>\n",
       "      <td>0.000034</td>\n",
       "      <td>0.1220</td>\n",
       "      <td>0.472</td>\n",
       "      <td>179.862</td>\n",
       "      <td>258668</td>\n",
       "      <td>4</td>\n",
       "      <td>pop</td>\n",
       "    </tr>\n",
       "  </tbody>\n",
       "</table>\n",
       "</div>"
      ],
      "text/plain": [
       "                       id  danceability  energy  key  loudness  mode  \\\n",
       "0  1mWdTewIgB3gtBM3TOSFhB         0.759   0.459    8    -5.187     1   \n",
       "1  6A1IbMKwjvXibcrU1sdqKH         0.638   0.703    5    -6.413     0   \n",
       "2  5iZHnufFUgATzrpGgH1K0W         0.662   0.205    5   -14.005     0   \n",
       "3  4CUvVaAYuXtvYURLFz7EIL         0.517   0.467    0    -7.222     1   \n",
       "4  2EZtTS76x5M6hK96CLclPd         0.658   0.451    6    -7.721     1   \n",
       "\n",
       "   speechiness  acousticness  instrumentalness  liveness  valence    tempo  \\\n",
       "0       0.0948       0.00323          0.000000    0.0906    0.695  109.997   \n",
       "1       0.1080       0.21300          0.000985    0.0927    0.289  180.008   \n",
       "2       0.0349       0.87600          0.003540    0.1090    0.268  139.911   \n",
       "3       0.0442       0.72400          0.000000    0.0908    0.453  199.815   \n",
       "4       0.0410       0.53100          0.000034    0.1220    0.472  179.862   \n",
       "\n",
       "   duration_ms  time_signature genre  \n",
       "0       164442               4   pop  \n",
       "1       197333               4   pop  \n",
       "2       260571               4   pop  \n",
       "3       208049               3   pop  \n",
       "4       258668               4   pop  "
      ]
     },
     "execution_count": 117,
     "metadata": {},
     "output_type": "execute_result"
    }
   ],
   "source": [
    "df.head(5)"
   ]
  },
  {
   "cell_type": "code",
   "execution_count": 118,
   "metadata": {},
   "outputs": [
    {
     "data": {
      "text/html": [
       "<div>\n",
       "<style scoped>\n",
       "    .dataframe tbody tr th:only-of-type {\n",
       "        vertical-align: middle;\n",
       "    }\n",
       "\n",
       "    .dataframe tbody tr th {\n",
       "        vertical-align: top;\n",
       "    }\n",
       "\n",
       "    .dataframe thead th {\n",
       "        text-align: right;\n",
       "    }\n",
       "</style>\n",
       "<table border=\"1\" class=\"dataframe\">\n",
       "  <thead>\n",
       "    <tr style=\"text-align: right;\">\n",
       "      <th></th>\n",
       "      <th>danceability</th>\n",
       "      <th>energy</th>\n",
       "      <th>key</th>\n",
       "      <th>loudness</th>\n",
       "      <th>mode</th>\n",
       "      <th>speechiness</th>\n",
       "      <th>acousticness</th>\n",
       "      <th>instrumentalness</th>\n",
       "      <th>liveness</th>\n",
       "      <th>valence</th>\n",
       "      <th>tempo</th>\n",
       "      <th>duration_ms</th>\n",
       "      <th>time_signature</th>\n",
       "      <th>genre</th>\n",
       "    </tr>\n",
       "  </thead>\n",
       "  <tbody>\n",
       "    <tr>\n",
       "      <th>0</th>\n",
       "      <td>0.759</td>\n",
       "      <td>0.459</td>\n",
       "      <td>8</td>\n",
       "      <td>-5.187</td>\n",
       "      <td>1</td>\n",
       "      <td>0.0948</td>\n",
       "      <td>0.00323</td>\n",
       "      <td>0.000000</td>\n",
       "      <td>0.0906</td>\n",
       "      <td>0.695</td>\n",
       "      <td>109.997</td>\n",
       "      <td>164442</td>\n",
       "      <td>4</td>\n",
       "      <td>pop</td>\n",
       "    </tr>\n",
       "    <tr>\n",
       "      <th>1</th>\n",
       "      <td>0.638</td>\n",
       "      <td>0.703</td>\n",
       "      <td>5</td>\n",
       "      <td>-6.413</td>\n",
       "      <td>0</td>\n",
       "      <td>0.1080</td>\n",
       "      <td>0.21300</td>\n",
       "      <td>0.000985</td>\n",
       "      <td>0.0927</td>\n",
       "      <td>0.289</td>\n",
       "      <td>180.008</td>\n",
       "      <td>197333</td>\n",
       "      <td>4</td>\n",
       "      <td>pop</td>\n",
       "    </tr>\n",
       "    <tr>\n",
       "      <th>2</th>\n",
       "      <td>0.662</td>\n",
       "      <td>0.205</td>\n",
       "      <td>5</td>\n",
       "      <td>-14.005</td>\n",
       "      <td>0</td>\n",
       "      <td>0.0349</td>\n",
       "      <td>0.87600</td>\n",
       "      <td>0.003540</td>\n",
       "      <td>0.1090</td>\n",
       "      <td>0.268</td>\n",
       "      <td>139.911</td>\n",
       "      <td>260571</td>\n",
       "      <td>4</td>\n",
       "      <td>pop</td>\n",
       "    </tr>\n",
       "    <tr>\n",
       "      <th>3</th>\n",
       "      <td>0.517</td>\n",
       "      <td>0.467</td>\n",
       "      <td>0</td>\n",
       "      <td>-7.222</td>\n",
       "      <td>1</td>\n",
       "      <td>0.0442</td>\n",
       "      <td>0.72400</td>\n",
       "      <td>0.000000</td>\n",
       "      <td>0.0908</td>\n",
       "      <td>0.453</td>\n",
       "      <td>199.815</td>\n",
       "      <td>208049</td>\n",
       "      <td>3</td>\n",
       "      <td>pop</td>\n",
       "    </tr>\n",
       "    <tr>\n",
       "      <th>4</th>\n",
       "      <td>0.658</td>\n",
       "      <td>0.451</td>\n",
       "      <td>6</td>\n",
       "      <td>-7.721</td>\n",
       "      <td>1</td>\n",
       "      <td>0.0410</td>\n",
       "      <td>0.53100</td>\n",
       "      <td>0.000034</td>\n",
       "      <td>0.1220</td>\n",
       "      <td>0.472</td>\n",
       "      <td>179.862</td>\n",
       "      <td>258668</td>\n",
       "      <td>4</td>\n",
       "      <td>pop</td>\n",
       "    </tr>\n",
       "  </tbody>\n",
       "</table>\n",
       "</div>"
      ],
      "text/plain": [
       "   danceability  energy  key  loudness  mode  speechiness  acousticness  \\\n",
       "0         0.759   0.459    8    -5.187     1       0.0948       0.00323   \n",
       "1         0.638   0.703    5    -6.413     0       0.1080       0.21300   \n",
       "2         0.662   0.205    5   -14.005     0       0.0349       0.87600   \n",
       "3         0.517   0.467    0    -7.222     1       0.0442       0.72400   \n",
       "4         0.658   0.451    6    -7.721     1       0.0410       0.53100   \n",
       "\n",
       "   instrumentalness  liveness  valence    tempo  duration_ms  time_signature  \\\n",
       "0          0.000000    0.0906    0.695  109.997       164442               4   \n",
       "1          0.000985    0.0927    0.289  180.008       197333               4   \n",
       "2          0.003540    0.1090    0.268  139.911       260571               4   \n",
       "3          0.000000    0.0908    0.453  199.815       208049               3   \n",
       "4          0.000034    0.1220    0.472  179.862       258668               4   \n",
       "\n",
       "  genre  \n",
       "0   pop  \n",
       "1   pop  \n",
       "2   pop  \n",
       "3   pop  \n",
       "4   pop  "
      ]
     },
     "execution_count": 118,
     "metadata": {},
     "output_type": "execute_result"
    }
   ],
   "source": [
    "raw_data = df.drop(['id'], axis=1)\n",
    "data = raw_data.drop_duplicates().reset_index(drop=True)\n",
    "data.head(5)"
   ]
  },
  {
   "cell_type": "code",
   "execution_count": 119,
   "metadata": {},
   "outputs": [
    {
     "data": {
      "image/png": "[encoded data removed]",
      "text/plain": [
       "<Figure size 2000x1000 with 15 Axes>"
      ]
     },
     "metadata": {},
     "output_type": "display_data"
    }
   ],
   "source": [
    "data.hist(layout=(3, 5), figsize=(20, 10))\n",
    "plt.show()"
   ]
  },
  {
   "cell_type": "code",
   "execution_count": 120,
   "metadata": {},
   "outputs": [],
   "source": [
    "data = data.sort_values(by=['genre'])"
   ]
  },
  {
   "cell_type": "code",
   "execution_count": 121,
   "metadata": {},
   "outputs": [
    {
     "data": {
      "text/plain": [
       "chillhop    997\n",
       "hip hop     952\n",
       "rock        768\n",
       "pop         729\n",
       "rap         643\n",
       "Name: genre, dtype: int64"
      ]
     },
     "execution_count": 121,
     "metadata": {},
     "output_type": "execute_result"
    }
   ],
   "source": [
    "label = data['genre']\n",
    "label.value_counts()"
   ]
  },
  {
   "cell_type": "code",
   "execution_count": 122,
   "metadata": {},
   "outputs": [
    {
     "data": {
      "text/plain": [
       "4089"
      ]
     },
     "execution_count": 122,
     "metadata": {},
     "output_type": "execute_result"
    }
   ],
   "source": [
    "encoder = LabelEncoder()\n",
    "y = encoder.fit_transform(label)\n",
    "len(y)"
   ]
  },
  {
   "cell_type": "code",
   "execution_count": 123,
   "metadata": {},
   "outputs": [
    {
     "data": {
      "text/plain": [
       "(4089, 13)"
      ]
     },
     "execution_count": 123,
     "metadata": {},
     "output_type": "execute_result"
    }
   ],
   "source": [
    "scaler = MinMaxScaler()\n",
    "x = scaler.fit_transform(np.array(data.iloc[:, :-1], dtype = float))\n",
    "x.shape"
   ]
  },
  {
   "cell_type": "code",
   "execution_count": 124,
   "metadata": {},
   "outputs": [
    {
     "data": {
      "text/plain": [
       "((3271, 13), (818, 13))"
      ]
     },
     "execution_count": 124,
     "metadata": {},
     "output_type": "execute_result"
    }
   ],
   "source": [
    "x_train, x_test, y_train, y_test = train_test_split(x, y, test_size=0.2, shuffle=True, random_state=20)\n",
    "\n",
    "x_train.shape, x_test.shape"
   ]
  },
  {
   "cell_type": "code",
   "execution_count": 125,
   "metadata": {},
   "outputs": [
    {
     "data": {
      "text/html": [
       "<div>\n",
       "<style scoped>\n",
       "    .dataframe tbody tr th:only-of-type {\n",
       "        vertical-align: middle;\n",
       "    }\n",
       "\n",
       "    .dataframe tbody tr th {\n",
       "        vertical-align: top;\n",
       "    }\n",
       "\n",
       "    .dataframe thead th {\n",
       "        text-align: right;\n",
       "    }\n",
       "</style>\n",
       "<table border=\"1\" class=\"dataframe\">\n",
       "  <thead>\n",
       "    <tr style=\"text-align: right;\">\n",
       "      <th></th>\n",
       "      <th>danceability</th>\n",
       "      <th>energy</th>\n",
       "      <th>key</th>\n",
       "      <th>loudness</th>\n",
       "      <th>mode</th>\n",
       "      <th>speechiness</th>\n",
       "      <th>acousticness</th>\n",
       "      <th>instrumentalness</th>\n",
       "      <th>liveness</th>\n",
       "      <th>valence</th>\n",
       "      <th>tempo</th>\n",
       "      <th>id</th>\n",
       "      <th>duration_ms</th>\n",
       "      <th>time_signature</th>\n",
       "      <th>genre</th>\n",
       "    </tr>\n",
       "  </thead>\n",
       "  <tbody>\n",
       "    <tr>\n",
       "      <th>0</th>\n",
       "      <td>0.674</td>\n",
       "      <td>0.428</td>\n",
       "      <td>7</td>\n",
       "      <td>-9.504</td>\n",
       "      <td>1</td>\n",
       "      <td>0.1220</td>\n",
       "      <td>0.12100</td>\n",
       "      <td>0.000000</td>\n",
       "      <td>0.1320</td>\n",
       "      <td>0.337</td>\n",
       "      <td>84.878</td>\n",
       "      <td>2dLLR6qlu5UJ5gk0dKz0h3</td>\n",
       "      <td>190185</td>\n",
       "      <td>4</td>\n",
       "      <td>art pop</td>\n",
       "    </tr>\n",
       "    <tr>\n",
       "      <th>1</th>\n",
       "      <td>0.861</td>\n",
       "      <td>0.504</td>\n",
       "      <td>7</td>\n",
       "      <td>-7.707</td>\n",
       "      <td>1</td>\n",
       "      <td>0.0489</td>\n",
       "      <td>0.00412</td>\n",
       "      <td>0.000018</td>\n",
       "      <td>0.0783</td>\n",
       "      <td>0.881</td>\n",
       "      <td>120.000</td>\n",
       "      <td>5PUvinSo4MNqW7vmomGRS7</td>\n",
       "      <td>263053</td>\n",
       "      <td>4</td>\n",
       "      <td>contemporary r&amp;b</td>\n",
       "    </tr>\n",
       "    <tr>\n",
       "      <th>2</th>\n",
       "      <td>0.781</td>\n",
       "      <td>0.526</td>\n",
       "      <td>6</td>\n",
       "      <td>-6.986</td>\n",
       "      <td>0</td>\n",
       "      <td>0.2930</td>\n",
       "      <td>0.06330</td>\n",
       "      <td>0.000000</td>\n",
       "      <td>0.0457</td>\n",
       "      <td>0.665</td>\n",
       "      <td>94.993</td>\n",
       "      <td>6CjtS2JZH9RkDz5UVInsa9</td>\n",
       "      <td>235613</td>\n",
       "      <td>4</td>\n",
       "      <td>dance pop</td>\n",
       "    </tr>\n",
       "    <tr>\n",
       "      <th>3</th>\n",
       "      <td>0.794</td>\n",
       "      <td>0.811</td>\n",
       "      <td>6</td>\n",
       "      <td>-8.966</td>\n",
       "      <td>0</td>\n",
       "      <td>0.0380</td>\n",
       "      <td>0.04260</td>\n",
       "      <td>0.000001</td>\n",
       "      <td>0.1010</td>\n",
       "      <td>0.862</td>\n",
       "      <td>116.047</td>\n",
       "      <td>2Foc5Q5nqNiosCNqttzHof</td>\n",
       "      <td>248413</td>\n",
       "      <td>4</td>\n",
       "      <td>electro</td>\n",
       "    </tr>\n",
       "    <tr>\n",
       "      <th>4</th>\n",
       "      <td>0.537</td>\n",
       "      <td>0.569</td>\n",
       "      <td>5</td>\n",
       "      <td>-8.046</td>\n",
       "      <td>1</td>\n",
       "      <td>0.3000</td>\n",
       "      <td>0.85500</td>\n",
       "      <td>0.000000</td>\n",
       "      <td>0.0909</td>\n",
       "      <td>0.524</td>\n",
       "      <td>78.907</td>\n",
       "      <td>2bYZxKw8wv9lGQjcskPRl3</td>\n",
       "      <td>135385</td>\n",
       "      <td>4</td>\n",
       "      <td>sad rap</td>\n",
       "    </tr>\n",
       "  </tbody>\n",
       "</table>\n",
       "</div>"
      ],
      "text/plain": [
       "   danceability  energy  key  loudness  mode  speechiness  acousticness  \\\n",
       "0         0.674   0.428    7    -9.504     1       0.1220       0.12100   \n",
       "1         0.861   0.504    7    -7.707     1       0.0489       0.00412   \n",
       "2         0.781   0.526    6    -6.986     0       0.2930       0.06330   \n",
       "3         0.794   0.811    6    -8.966     0       0.0380       0.04260   \n",
       "4         0.537   0.569    5    -8.046     1       0.3000       0.85500   \n",
       "\n",
       "   instrumentalness  liveness  valence    tempo                      id  \\\n",
       "0          0.000000    0.1320    0.337   84.878  2dLLR6qlu5UJ5gk0dKz0h3   \n",
       "1          0.000018    0.0783    0.881  120.000  5PUvinSo4MNqW7vmomGRS7   \n",
       "2          0.000000    0.0457    0.665   94.993  6CjtS2JZH9RkDz5UVInsa9   \n",
       "3          0.000001    0.1010    0.862  116.047  2Foc5Q5nqNiosCNqttzHof   \n",
       "4          0.000000    0.0909    0.524   78.907  2bYZxKw8wv9lGQjcskPRl3   \n",
       "\n",
       "   duration_ms  time_signature             genre  \n",
       "0       190185               4           art pop  \n",
       "1       263053               4  contemporary r&b  \n",
       "2       235613               4         dance pop  \n",
       "3       248413               4           electro  \n",
       "4       135385               4           sad rap  "
      ]
     },
     "execution_count": 125,
     "metadata": {},
     "output_type": "execute_result"
    }
   ],
   "source": [
    "raw_test_data = pd.read_csv(\"../../data/audio_features_data.tsv\", delimiter='\\t')\n",
    "raw_test_data.head()"
   ]
  },
  {
   "cell_type": "code",
   "execution_count": 126,
   "metadata": {},
   "outputs": [
    {
     "data": {
      "text/plain": [
       "['pop', 'rock', 'hip hop', 'rap', 'chillhop']"
      ]
     },
     "execution_count": 126,
     "metadata": {},
     "output_type": "execute_result"
    }
   ],
   "source": [
    "test_data = raw_test_data.drop(['id'], axis=1)\n",
    "test_data['genre'] = test_data['genre'].apply(lambda x: x.split(' ')[-1])\n",
    "test_data.loc[test_data['genre'] == 'hop', 'genre'] = 'hip hop'\n",
    "top5 = test_data['genre'].value_counts().nlargest(5).index.tolist()\n",
    "top5"
   ]
  },
  {
   "cell_type": "code",
   "execution_count": 127,
   "metadata": {},
   "outputs": [
    {
     "data": {
      "text/plain": [
       "pop         335\n",
       "rock        206\n",
       "hip hop     148\n",
       "rap         104\n",
       "chillhop     95\n",
       "Name: genre, dtype: int64"
      ]
     },
     "execution_count": 127,
     "metadata": {},
     "output_type": "execute_result"
    }
   ],
   "source": [
    "test_data = test_data[test_data['genre'].isin(top5)]\n",
    "test_data['genre'].value_counts()"
   ]
  },
  {
   "cell_type": "code",
   "execution_count": 128,
   "metadata": {},
   "outputs": [],
   "source": [
    "test_data = test_data.sort_values(by=['genre'])"
   ]
  },
  {
   "cell_type": "code",
   "execution_count": 129,
   "metadata": {},
   "outputs": [
    {
     "data": {
      "image/png": "[encoded data removed]",
      "text/plain": [
       "<Figure size 2000x1000 with 15 Axes>"
      ]
     },
     "metadata": {},
     "output_type": "display_data"
    }
   ],
   "source": [
    "test_data.hist(layout=(3, 5), figsize=(20, 10))\n",
    "plt.show()"
   ]
  },
  {
   "cell_type": "code",
   "execution_count": 130,
   "metadata": {},
   "outputs": [
    {
     "data": {
      "text/plain": [
       "(888, 13)"
      ]
     },
     "execution_count": 130,
     "metadata": {},
     "output_type": "execute_result"
    }
   ],
   "source": [
    "x_test_2 = scaler.fit_transform(np.array(test_data.iloc[:, :-1], dtype = float))\n",
    "x_test_2.shape"
   ]
  },
  {
   "cell_type": "code",
   "execution_count": 131,
   "metadata": {},
   "outputs": [
    {
     "data": {
      "text/plain": [
       "888"
      ]
     },
     "execution_count": 131,
     "metadata": {},
     "output_type": "execute_result"
    }
   ],
   "source": [
    "y_test_2 = encoder.fit_transform(test_data['genre'])\n",
    "len(y_test_2)"
   ]
  },
  {
   "cell_type": "markdown",
   "metadata": {},
   "source": [
    "-------"
   ]
  },
  {
   "cell_type": "code",
   "execution_count": 132,
   "metadata": {},
   "outputs": [],
   "source": [
    "from sklearn.neighbors import KNeighborsClassifier\n",
    "from sklearn.tree import DecisionTreeClassifier\n",
    "from sklearn.neural_network import MLPClassifier\n",
    "from sklearn.ensemble import BaggingClassifier\n",
    "from sklearn.naive_bayes import GaussianNB\n",
    "\n",
    "from sklearn.metrics import classification_report\n",
    "\n",
    "import plotly.express as px"
   ]
  },
  {
   "cell_type": "code",
   "execution_count": 133,
   "metadata": {},
   "outputs": [],
   "source": [
    "knn_model = KNeighborsClassifier()\n",
    "dec_model = DecisionTreeClassifier()\n",
    "mlp_model = MLPClassifier()\n",
    "bayes_model = GaussianNB()\n",
    "bagging_model = BaggingClassifier()"
   ]
  },
  {
   "cell_type": "code",
   "execution_count": 134,
   "metadata": {},
   "outputs": [
    {
     "name": "stderr",
     "output_type": "stream",
     "text": [
      "/home/sukivn/anaconda3/envs/min_ds-env/lib/python3.10/site-packages/sklearn/neural_network/_multilayer_perceptron.py:702: ConvergenceWarning:\n",
      "\n",
      "Stochastic Optimizer: Maximum iterations (200) reached and the optimization hasn't converged yet.\n",
      "\n"
     ]
    },
    {
     "data": {
      "text/html": [
       "<style>#sk-container-id-3 {color: black;background-color: white;}#sk-container-id-3 pre{padding: 0;}#sk-container-id-3 div.sk-toggleable {background-color: white;}#sk-container-id-3 label.sk-toggleable__label {cursor: pointer;display: block;width: 100%;margin-bottom: 0;padding: 0.3em;box-sizing: border-box;text-align: center;}#sk-container-id-3 label.sk-toggleable__label-arrow:before {content: \"▸\";float: left;margin-right: 0.25em;color: #696969;}#sk-container-id-3 label.sk-toggleable__label-arrow:hover:before {color: black;}#sk-container-id-3 div.sk-estimator:hover label.sk-toggleable__label-arrow:before {color: black;}#sk-container-id-3 div.sk-toggleable__content {max-height: 0;max-width: 0;overflow: hidden;text-align: left;background-color: #f0f8ff;}#sk-container-id-3 div.sk-toggleable__content pre {margin: 0.2em;color: black;border-radius: 0.25em;background-color: #f0f8ff;}#sk-container-id-3 input.sk-toggleable__control:checked~div.sk-toggleable__content {max-height: 200px;max-width: 100%;overflow: auto;}#sk-container-id-3 input.sk-toggleable__control:checked~label.sk-toggleable__label-arrow:before {content: \"▾\";}#sk-container-id-3 div.sk-estimator input.sk-toggleable__control:checked~label.sk-toggleable__label {background-color: #d4ebff;}#sk-container-id-3 div.sk-label input.sk-toggleable__control:checked~label.sk-toggleable__label {background-color: #d4ebff;}#sk-container-id-3 input.sk-hidden--visually {border: 0;clip: rect(1px 1px 1px 1px);clip: rect(1px, 1px, 1px, 1px);height: 1px;margin: -1px;overflow: hidden;padding: 0;position: absolute;width: 1px;}#sk-container-id-3 div.sk-estimator {font-family: monospace;background-color: #f0f8ff;border: 1px dotted black;border-radius: 0.25em;box-sizing: border-box;margin-bottom: 0.5em;}#sk-container-id-3 div.sk-estimator:hover {background-color: #d4ebff;}#sk-container-id-3 div.sk-parallel-item::after {content: \"\";width: 100%;border-bottom: 1px solid gray;flex-grow: 1;}#sk-container-id-3 div.sk-label:hover label.sk-toggleable__label {background-color: #d4ebff;}#sk-container-id-3 div.sk-serial::before {content: \"\";position: absolute;border-left: 1px solid gray;box-sizing: border-box;top: 0;bottom: 0;left: 50%;z-index: 0;}#sk-container-id-3 div.sk-serial {display: flex;flex-direction: column;align-items: center;background-color: white;padding-right: 0.2em;padding-left: 0.2em;position: relative;}#sk-container-id-3 div.sk-item {position: relative;z-index: 1;}#sk-container-id-3 div.sk-parallel {display: flex;align-items: stretch;justify-content: center;background-color: white;position: relative;}#sk-container-id-3 div.sk-item::before, #sk-container-id-3 div.sk-parallel-item::before {content: \"\";position: absolute;border-left: 1px solid gray;box-sizing: border-box;top: 0;bottom: 0;left: 50%;z-index: -1;}#sk-container-id-3 div.sk-parallel-item {display: flex;flex-direction: column;z-index: 1;position: relative;background-color: white;}#sk-container-id-3 div.sk-parallel-item:first-child::after {align-self: flex-end;width: 50%;}#sk-container-id-3 div.sk-parallel-item:last-child::after {align-self: flex-start;width: 50%;}#sk-container-id-3 div.sk-parallel-item:only-child::after {width: 0;}#sk-container-id-3 div.sk-dashed-wrapped {border: 1px dashed gray;margin: 0 0.4em 0.5em 0.4em;box-sizing: border-box;padding-bottom: 0.4em;background-color: white;}#sk-container-id-3 div.sk-label label {font-family: monospace;font-weight: bold;display: inline-block;line-height: 1.2em;}#sk-container-id-3 div.sk-label-container {text-align: center;}#sk-container-id-3 div.sk-container {/* jupyter's `normalize.less` sets `[hidden] { display: none; }` but bootstrap.min.css set `[hidden] { display: none !important; }` so we also need the `!important` here to be able to override the default hidden behavior on the sphinx rendered scikit-learn.org. See: https://github.com/scikit-learn/scikit-learn/issues/21755 */display: inline-block !important;position: relative;}#sk-container-id-3 div.sk-text-repr-fallback {display: none;}</style><div id=\"sk-container-id-3\" class=\"sk-top-container\"><div class=\"sk-text-repr-fallback\"><pre>BaggingClassifier()</pre><b>In a Jupyter environment, please rerun this cell to show the HTML representation or trust the notebook. <br />On GitHub, the HTML representation is unable to render, please try loading this page with nbviewer.org.</b></div><div class=\"sk-container\" hidden><div class=\"sk-item\"><div class=\"sk-estimator sk-toggleable\"><input class=\"sk-toggleable__control sk-hidden--visually\" id=\"sk-estimator-id-3\" type=\"checkbox\" checked><label for=\"sk-estimator-id-3\" class=\"sk-toggleable__label sk-toggleable__label-arrow\">BaggingClassifier</label><div class=\"sk-toggleable__content\"><pre>BaggingClassifier()</pre></div></div></div></div></div>"
      ],
      "text/plain": [
       "BaggingClassifier()"
      ]
     },
     "execution_count": 134,
     "metadata": {},
     "output_type": "execute_result"
    }
   ],
   "source": [
    "knn_model.fit(x_train, y_train)\n",
    "dec_model.fit(x_train, y_train)\n",
    "mlp_model.fit(x_train, y_train)\n",
    "bayes_model.fit(x_train, y_train)\n",
    "bagging_model.fit(x_train, y_train)"
   ]
  },
  {
   "cell_type": "code",
   "execution_count": 135,
   "metadata": {},
   "outputs": [],
   "source": [
    "knn_pred = knn_model.predict(x_test)\n",
    "dec_pred = dec_model.predict(x_test)\n",
    "mlp_pred = mlp_model.predict(x_test)\n",
    "bayes_pred = bayes_model.predict(x_test)\n",
    "bagging_pred = bagging_model.predict(x_test)"
   ]
  },
  {
   "cell_type": "code",
   "execution_count": 136,
   "metadata": {},
   "outputs": [
    {
     "name": "stdout",
     "output_type": "stream",
     "text": [
      "K-Nearest-Neighbors Evaluation Metrics:\n",
      "                precision    recall  f1-score   support\n",
      "\n",
      "           0       0.94      0.88      0.91       213\n",
      "           1       0.60      0.61      0.61       191\n",
      "           2       0.38      0.51      0.44       148\n",
      "           3       0.28      0.30      0.29       103\n",
      "           4       0.58      0.40      0.48       163\n",
      "\n",
      "    accuracy                           0.58       818\n",
      "   macro avg       0.56      0.54      0.54       818\n",
      "weighted avg       0.60      0.58      0.59       818\n",
      "\n"
     ]
    }
   ],
   "source": [
    "print(\"K-Nearest-Neighbors Evaluation Metrics:\\n \", classification_report(y_test, knn_pred, labels=list(set(y_test))))"
   ]
  },
  {
   "cell_type": "code",
   "execution_count": 137,
   "metadata": {},
   "outputs": [
    {
     "name": "stdout",
     "output_type": "stream",
     "text": [
      "Decision Tree Evaluation Metrics:\n",
      "                precision    recall  f1-score   support\n",
      "\n",
      "           0       0.88      0.89      0.88       213\n",
      "           1       0.63      0.53      0.58       191\n",
      "           2       0.42      0.39      0.40       148\n",
      "           3       0.22      0.33      0.27       103\n",
      "           4       0.59      0.55      0.57       163\n",
      "\n",
      "    accuracy                           0.58       818\n",
      "   macro avg       0.55      0.54      0.54       818\n",
      "weighted avg       0.60      0.58      0.58       818\n",
      "\n"
     ]
    }
   ],
   "source": [
    "print(\"Decision Tree Evaluation Metrics:\\n \", classification_report(y_test, dec_pred, labels=list(set(y_test))))"
   ]
  },
  {
   "cell_type": "code",
   "execution_count": 138,
   "metadata": {},
   "outputs": [
    {
     "name": "stdout",
     "output_type": "stream",
     "text": [
      "Neural Network Evaluation Metrics:\n",
      "                precision    recall  f1-score   support\n",
      "\n",
      "           0       0.95      0.90      0.92       213\n",
      "           1       0.67      0.73      0.70       191\n",
      "           2       0.52      0.51      0.52       148\n",
      "           3       0.30      0.26      0.28       103\n",
      "           4       0.68      0.72      0.70       163\n",
      "\n",
      "    accuracy                           0.67       818\n",
      "   macro avg       0.62      0.62      0.62       818\n",
      "weighted avg       0.67      0.67      0.67       818\n",
      "\n"
     ]
    }
   ],
   "source": [
    "print(\"Neural Network Evaluation Metrics:\\n \", classification_report(y_test, mlp_pred, labels=list(set(y_test))))\n"
   ]
  },
  {
   "cell_type": "code",
   "execution_count": 139,
   "metadata": {},
   "outputs": [
    {
     "name": "stdout",
     "output_type": "stream",
     "text": [
      "Bagging Algorithms Evaluation Metrics:\n",
      "                precision    recall  f1-score   support\n",
      "\n",
      "           0       0.92      0.90      0.91       213\n",
      "           1       0.69      0.73      0.71       191\n",
      "           2       0.45      0.64      0.53       148\n",
      "           3       0.31      0.27      0.29       103\n",
      "           4       0.67      0.45      0.54       163\n",
      "\n",
      "    accuracy                           0.64       818\n",
      "   macro avg       0.61      0.60      0.59       818\n",
      "weighted avg       0.66      0.64      0.64       818\n",
      "\n"
     ]
    }
   ],
   "source": [
    "print(\"Bagging Algorithms Evaluation Metrics:\\n \", classification_report(y_test, bayes_pred, labels=list(set(y_test))))"
   ]
  },
  {
   "cell_type": "code",
   "execution_count": 140,
   "metadata": {},
   "outputs": [
    {
     "name": "stdout",
     "output_type": "stream",
     "text": [
      "Support Vector Machine Evaluation Metrics:\n",
      "                precision    recall  f1-score   support\n",
      "\n",
      "           0       0.92      0.92      0.92       213\n",
      "           1       0.66      0.67      0.67       191\n",
      "           2       0.48      0.47      0.47       148\n",
      "           3       0.35      0.38      0.37       103\n",
      "           4       0.72      0.69      0.71       163\n",
      "\n",
      "    accuracy                           0.67       818\n",
      "   macro avg       0.63      0.63      0.63       818\n",
      "weighted avg       0.67      0.67      0.67       818\n",
      "\n"
     ]
    }
   ],
   "source": [
    "print(\"Support Vector Machine Evaluation Metrics:\\n \", classification_report(y_test, bagging_pred, labels=list(set(y_test))))"
   ]
  },
  {
   "cell_type": "code",
   "execution_count": 141,
   "metadata": {},
   "outputs": [
    {
     "name": "stdout",
     "output_type": "stream",
     "text": [
      "K-Nearest-Neighbors Accuracy: 0.5831295843520783\n",
      "Decision Tree Accuracy: 0.5770171149144254\n",
      "Neural Network Accuracy: 0.6723716381418093\n",
      "Bagging Algorithms Accuracy: 0.6674816625916871\n",
      "Support Vector Machine Accuracy: 0.6430317848410758\n"
     ]
    }
   ],
   "source": [
    "knn_acc = knn_model.score(x_test, y_test)\n",
    "dec_acc = dec_model.score(x_test, y_test)\n",
    "mlp_acc = mlp_model.score(x_test, y_test)\n",
    "bayes_acc = bayes_model.score(x_test, y_test)\n",
    "bagging_acc = bagging_model.score(x_test, y_test)\n",
    "\n",
    "print(\"K-Nearest-Neighbors Accuracy:\", knn_acc)\n",
    "print(\"Decision Tree Accuracy:\", dec_acc)\n",
    "print(\"Neural Network Accuracy:\", mlp_acc)\n",
    "print(\"Bagging Algorithms Accuracy:\", bagging_acc)\n",
    "print(\"Support Vector Machine Accuracy:\", bayes_acc)"
   ]
  },
  {
   "cell_type": "code",
   "execution_count": 142,
   "metadata": {},
   "outputs": [
    {
     "data": {
      "application/vnd.plotly.v1+json": {
       "config": {
        "plotlyServerURL": "https://plot.ly"
       },
       "data": [
        {
         "alignmentgroup": "True",
         "hovertemplate": "color=K-Nearest-Neighbors<br>Model=%{x}<br>Accuracy=%{y}<extra></extra>",
         "legendgroup": "K-Nearest-Neighbors",
         "marker": {
          "color": "#636efa",
          "pattern": {
           "shape": ""
          }
         },
         "name": "K-Nearest-Neighbors",
         "offsetgroup": "K-Nearest-Neighbors",
         "orientation": "v",
         "showlegend": true,
         "textposition": "auto",
         "type": "bar",
         "x": [
          "K-Nearest-Neighbors"
         ],
         "xaxis": "x",
         "y": [
          0.5831295843520783
         ],
         "yaxis": "y"
        },
        {
         "alignmentgroup": "True",
         "hovertemplate": "color=Decision Tree<br>Model=%{x}<br>Accuracy=%{y}<extra></extra>",
         "legendgroup": "Decision Tree",
         "marker": {
          "color": "#EF553B",
          "pattern": {
           "shape": ""
          }
         },
         "name": "Decision Tree",
         "offsetgroup": "Decision Tree",
         "orientation": "v",
         "showlegend": true,
         "textposition": "auto",
         "type": "bar",
         "x": [
          "Decision Tree"
         ],
         "xaxis": "x",
         "y": [
          0.5770171149144254
         ],
         "yaxis": "y"
        },
        {
         "alignmentgroup": "True",
         "hovertemplate": "color=Neural Network<br>Model=%{x}<br>Accuracy=%{y}<extra></extra>",
         "legendgroup": "Neural Network",
         "marker": {
          "color": "#00cc96",
          "pattern": {
           "shape": ""
          }
         },
         "name": "Neural Network",
         "offsetgroup": "Neural Network",
         "orientation": "v",
         "showlegend": true,
         "textposition": "auto",
         "type": "bar",
         "x": [
          "Neural Network"
         ],
         "xaxis": "x",
         "y": [
          0.6723716381418093
         ],
         "yaxis": "y"
        },
        {
         "alignmentgroup": "True",
         "hovertemplate": "color=Bagging Algorithms<br>Model=%{x}<br>Accuracy=%{y}<extra></extra>",
         "legendgroup": "Bagging Algorithms",
         "marker": {
          "color": "#ab63fa",
          "pattern": {
           "shape": ""
          }
         },
         "name": "Bagging Algorithms",
         "offsetgroup": "Bagging Algorithms",
         "orientation": "v",
         "showlegend": true,
         "textposition": "auto",
         "type": "bar",
         "x": [
          "Bagging Algorithms"
         ],
         "xaxis": "x",
         "y": [
          0.6674816625916871
         ],
         "yaxis": "y"
        },
        {
         "alignmentgroup": "True",
         "hovertemplate": "color=Gaussian Naive Bayes<br>Model=%{x}<br>Accuracy=%{y}<extra></extra>",
         "legendgroup": "Gaussian Naive Bayes",
         "marker": {
          "color": "#FFA15A",
          "pattern": {
           "shape": ""
          }
         },
         "name": "Gaussian Naive Bayes",
         "offsetgroup": "Gaussian Naive Bayes",
         "orientation": "v",
         "showlegend": true,
         "textposition": "auto",
         "type": "bar",
         "x": [
          "Gaussian Naive Bayes"
         ],
         "xaxis": "x",
         "y": [
          0.6430317848410758
         ],
         "yaxis": "y"
        }
       ],
       "layout": {
        "barmode": "relative",
        "legend": {
         "title": {
          "text": "color"
         },
         "tracegroupgap": 0
        },
        "template": {
         "data": {
          "bar": [
           {
            "error_x": {
             "color": "#2a3f5f"
            },
            "error_y": {
             "color": "#2a3f5f"
            },
            "marker": {
             "line": {
              "color": "#E5ECF6",
              "width": 0.5
             },
             "pattern": {
              "fillmode": "overlay",
              "size": 10,
              "solidity": 0.2
             }
            },
            "type": "bar"
           }
          ],
          "barpolar": [
           {
            "marker": {
             "line": {
              "color": "#E5ECF6",
              "width": 0.5
             },
             "pattern": {
              "fillmode": "overlay",
              "size": 10,
              "solidity": 0.2
             }
            },
            "type": "barpolar"
           }
          ],
          "carpet": [
           {
            "aaxis": {
             "endlinecolor": "#2a3f5f",
             "gridcolor": "white",
             "linecolor": "white",
             "minorgridcolor": "white",
             "startlinecolor": "#2a3f5f"
            },
            "baxis": {
             "endlinecolor": "#2a3f5f",
             "gridcolor": "white",
             "linecolor": "white",
             "minorgridcolor": "white",
             "startlinecolor": "#2a3f5f"
            },
            "type": "carpet"
           }
          ],
          "choropleth": [
           {
            "colorbar": {
             "outlinewidth": 0,
             "ticks": ""
            },
            "type": "choropleth"
           }
          ],
          "contour": [
           {
            "colorbar": {
             "outlinewidth": 0,
             "ticks": ""
            },
            "colorscale": [
             [
              0,
              "#0d0887"
             ],
             [
              0.1111111111111111,
              "#46039f"
             ],
             [
              0.2222222222222222,
              "#7201a8"
             ],
             [
              0.3333333333333333,
              "#9c179e"
             ],
             [
              0.4444444444444444,
              "#bd3786"
             ],
             [
              0.5555555555555556,
              "#d8576b"
             ],
             [
              0.6666666666666666,
              "#ed7953"
             ],
             [
              0.7777777777777778,
              "#fb9f3a"
             ],
             [
              0.8888888888888888,
              "#fdca26"
             ],
             [
              1,
              "#f0f921"
             ]
            ],
            "type": "contour"
           }
          ],
          "contourcarpet": [
           {
            "colorbar": {
             "outlinewidth": 0,
             "ticks": ""
            },
            "type": "contourcarpet"
           }
          ],
          "heatmap": [
           {
            "colorbar": {
             "outlinewidth": 0,
             "ticks": ""
            },
            "colorscale": [
             [
              0,
              "#0d0887"
             ],
             [
              0.1111111111111111,
              "#46039f"
             ],
             [
              0.2222222222222222,
              "#7201a8"
             ],
             [
              0.3333333333333333,
              "#9c179e"
             ],
             [
              0.4444444444444444,
              "#bd3786"
             ],
             [
              0.5555555555555556,
              "#d8576b"
             ],
             [
              0.6666666666666666,
              "#ed7953"
             ],
             [
              0.7777777777777778,
              "#fb9f3a"
             ],
             [
              0.8888888888888888,
              "#fdca26"
             ],
             [
              1,
              "#f0f921"
             ]
            ],
            "type": "heatmap"
           }
          ],
          "heatmapgl": [
           {
            "colorbar": {
             "outlinewidth": 0,
             "ticks": ""
            },
            "colorscale": [
             [
              0,
              "#0d0887"
             ],
             [
              0.1111111111111111,
              "#46039f"
             ],
             [
              0.2222222222222222,
              "#7201a8"
             ],
             [
              0.3333333333333333,
              "#9c179e"
             ],
             [
              0.4444444444444444,
              "#bd3786"
             ],
             [
              0.5555555555555556,
              "#d8576b"
             ],
             [
              0.6666666666666666,
              "#ed7953"
             ],
             [
              0.7777777777777778,
              "#fb9f3a"
             ],
             [
              0.8888888888888888,
              "#fdca26"
             ],
             [
              1,
              "#f0f921"
             ]
            ],
            "type": "heatmapgl"
           }
          ],
          "histogram": [
           {
            "marker": {
             "pattern": {
              "fillmode": "overlay",
              "size": 10,
              "solidity": 0.2
             }
            },
            "type": "histogram"
           }
          ],
          "histogram2d": [
           {
            "colorbar": {
             "outlinewidth": 0,
             "ticks": ""
            },
            "colorscale": [
             [
              0,
              "#0d0887"
             ],
             [
              0.1111111111111111,
              "#46039f"
             ],
             [
              0.2222222222222222,
              "#7201a8"
             ],
             [
              0.3333333333333333,
              "#9c179e"
             ],
             [
              0.4444444444444444,
              "#bd3786"
             ],
             [
              0.5555555555555556,
              "#d8576b"
             ],
             [
              0.6666666666666666,
              "#ed7953"
             ],
             [
              0.7777777777777778,
              "#fb9f3a"
             ],
             [
              0.8888888888888888,
              "#fdca26"
             ],
             [
              1,
              "#f0f921"
             ]
            ],
            "type": "histogram2d"
           }
          ],
          "histogram2dcontour": [
           {
            "colorbar": {
             "outlinewidth": 0,
             "ticks": ""
            },
            "colorscale": [
             [
              0,
              "#0d0887"
             ],
             [
              0.1111111111111111,
              "#46039f"
             ],
             [
              0.2222222222222222,
              "#7201a8"
             ],
             [
              0.3333333333333333,
              "#9c179e"
             ],
             [
              0.4444444444444444,
              "#bd3786"
             ],
             [
              0.5555555555555556,
              "#d8576b"
             ],
             [
              0.6666666666666666,
              "#ed7953"
             ],
             [
              0.7777777777777778,
              "#fb9f3a"
             ],
             [
              0.8888888888888888,
              "#fdca26"
             ],
             [
              1,
              "#f0f921"
             ]
            ],
            "type": "histogram2dcontour"
           }
          ],
          "mesh3d": [
           {
            "colorbar": {
             "outlinewidth": 0,
             "ticks": ""
            },
            "type": "mesh3d"
           }
          ],
          "parcoords": [
           {
            "line": {
             "colorbar": {
              "outlinewidth": 0,
              "ticks": ""
             }
            },
            "type": "parcoords"
           }
          ],
          "pie": [
           {
            "automargin": true,
            "type": "pie"
           }
          ],
          "scatter": [
           {
            "fillpattern": {
             "fillmode": "overlay",
             "size": 10,
             "solidity": 0.2
            },
            "type": "scatter"
           }
          ],
          "scatter3d": [
           {
            "line": {
             "colorbar": {
              "outlinewidth": 0,
              "ticks": ""
             }
            },
            "marker": {
             "colorbar": {
              "outlinewidth": 0,
              "ticks": ""
             }
            },
            "type": "scatter3d"
           }
          ],
          "scattercarpet": [
           {
            "marker": {
             "colorbar": {
              "outlinewidth": 0,
              "ticks": ""
             }
            },
            "type": "scattercarpet"
           }
          ],
          "scattergeo": [
           {
            "marker": {
             "colorbar": {
              "outlinewidth": 0,
              "ticks": ""
             }
            },
            "type": "scattergeo"
           }
          ],
          "scattergl": [
           {
            "marker": {
             "colorbar": {
              "outlinewidth": 0,
              "ticks": ""
             }
            },
            "type": "scattergl"
           }
          ],
          "scattermapbox": [
           {
            "marker": {
             "colorbar": {
              "outlinewidth": 0,
              "ticks": ""
             }
            },
            "type": "scattermapbox"
           }
          ],
          "scatterpolar": [
           {
            "marker": {
             "colorbar": {
              "outlinewidth": 0,
              "ticks": ""
             }
            },
            "type": "scatterpolar"
           }
          ],
          "scatterpolargl": [
           {
            "marker": {
             "colorbar": {
              "outlinewidth": 0,
              "ticks": ""
             }
            },
            "type": "scatterpolargl"
           }
          ],
          "scatterternary": [
           {
            "marker": {
             "colorbar": {
              "outlinewidth": 0,
              "ticks": ""
             }
            },
            "type": "scatterternary"
           }
          ],
          "surface": [
           {
            "colorbar": {
             "outlinewidth": 0,
             "ticks": ""
            },
            "colorscale": [
             [
              0,
              "#0d0887"
             ],
             [
              0.1111111111111111,
              "#46039f"
             ],
             [
              0.2222222222222222,
              "#7201a8"
             ],
             [
              0.3333333333333333,
              "#9c179e"
             ],
             [
              0.4444444444444444,
              "#bd3786"
             ],
             [
              0.5555555555555556,
              "#d8576b"
             ],
             [
              0.6666666666666666,
              "#ed7953"
             ],
             [
              0.7777777777777778,
              "#fb9f3a"
             ],
             [
              0.8888888888888888,
              "#fdca26"
             ],
             [
              1,
              "#f0f921"
             ]
            ],
            "type": "surface"
           }
          ],
          "table": [
           {
            "cells": {
             "fill": {
              "color": "#EBF0F8"
             },
             "line": {
              "color": "white"
             }
            },
            "header": {
             "fill": {
              "color": "#C8D4E3"
             },
             "line": {
              "color": "white"
             }
            },
            "type": "table"
           }
          ]
         },
         "layout": {
          "annotationdefaults": {
           "arrowcolor": "#2a3f5f",
           "arrowhead": 0,
           "arrowwidth": 1
          },
          "autotypenumbers": "strict",
          "coloraxis": {
           "colorbar": {
            "outlinewidth": 0,
            "ticks": ""
           }
          },
          "colorscale": {
           "diverging": [
            [
             0,
             "#8e0152"
            ],
            [
             0.1,
             "#c51b7d"
            ],
            [
             0.2,
             "#de77ae"
            ],
            [
             0.3,
             "#f1b6da"
            ],
            [
             0.4,
             "#fde0ef"
            ],
            [
             0.5,
             "#f7f7f7"
            ],
            [
             0.6,
             "#e6f5d0"
            ],
            [
             0.7,
             "#b8e186"
            ],
            [
             0.8,
             "#7fbc41"
            ],
            [
             0.9,
             "#4d9221"
            ],
            [
             1,
             "#276419"
            ]
           ],
           "sequential": [
            [
             0,
             "#0d0887"
            ],
            [
             0.1111111111111111,
             "#46039f"
            ],
            [
             0.2222222222222222,
             "#7201a8"
            ],
            [
             0.3333333333333333,
             "#9c179e"
            ],
            [
             0.4444444444444444,
             "#bd3786"
            ],
            [
             0.5555555555555556,
             "#d8576b"
            ],
            [
             0.6666666666666666,
             "#ed7953"
            ],
            [
             0.7777777777777778,
             "#fb9f3a"
            ],
            [
             0.8888888888888888,
             "#fdca26"
            ],
            [
             1,
             "#f0f921"
            ]
           ],
           "sequentialminus": [
            [
             0,
             "#0d0887"
            ],
            [
             0.1111111111111111,
             "#46039f"
            ],
            [
             0.2222222222222222,
             "#7201a8"
            ],
            [
             0.3333333333333333,
             "#9c179e"
            ],
            [
             0.4444444444444444,
             "#bd3786"
            ],
            [
             0.5555555555555556,
             "#d8576b"
            ],
            [
             0.6666666666666666,
             "#ed7953"
            ],
            [
             0.7777777777777778,
             "#fb9f3a"
            ],
            [
             0.8888888888888888,
             "#fdca26"
            ],
            [
             1,
             "#f0f921"
            ]
           ]
          },
          "colorway": [
           "#636efa",
           "#EF553B",
           "#00cc96",
           "#ab63fa",
           "#FFA15A",
           "#19d3f3",
           "#FF6692",
           "#B6E880",
           "#FF97FF",
           "#FECB52"
          ],
          "font": {
           "color": "#2a3f5f"
          },
          "geo": {
           "bgcolor": "white",
           "lakecolor": "white",
           "landcolor": "#E5ECF6",
           "showlakes": true,
           "showland": true,
           "subunitcolor": "white"
          },
          "hoverlabel": {
           "align": "left"
          },
          "hovermode": "closest",
          "mapbox": {
           "style": "light"
          },
          "paper_bgcolor": "white",
          "plot_bgcolor": "#E5ECF6",
          "polar": {
           "angularaxis": {
            "gridcolor": "white",
            "linecolor": "white",
            "ticks": ""
           },
           "bgcolor": "#E5ECF6",
           "radialaxis": {
            "gridcolor": "white",
            "linecolor": "white",
            "ticks": ""
           }
          },
          "scene": {
           "xaxis": {
            "backgroundcolor": "#E5ECF6",
            "gridcolor": "white",
            "gridwidth": 2,
            "linecolor": "white",
            "showbackground": true,
            "ticks": "",
            "zerolinecolor": "white"
           },
           "yaxis": {
            "backgroundcolor": "#E5ECF6",
            "gridcolor": "white",
            "gridwidth": 2,
            "linecolor": "white",
            "showbackground": true,
            "ticks": "",
            "zerolinecolor": "white"
           },
           "zaxis": {
            "backgroundcolor": "#E5ECF6",
            "gridcolor": "white",
            "gridwidth": 2,
            "linecolor": "white",
            "showbackground": true,
            "ticks": "",
            "zerolinecolor": "white"
           }
          },
          "shapedefaults": {
           "line": {
            "color": "#2a3f5f"
           }
          },
          "ternary": {
           "aaxis": {
            "gridcolor": "white",
            "linecolor": "white",
            "ticks": ""
           },
           "baxis": {
            "gridcolor": "white",
            "linecolor": "white",
            "ticks": ""
           },
           "bgcolor": "#E5ECF6",
           "caxis": {
            "gridcolor": "white",
            "linecolor": "white",
            "ticks": ""
           }
          },
          "title": {
           "x": 0.05
          },
          "xaxis": {
           "automargin": true,
           "gridcolor": "white",
           "linecolor": "white",
           "ticks": "",
           "title": {
            "standoff": 15
           },
           "zerolinecolor": "white",
           "zerolinewidth": 2
          },
          "yaxis": {
           "automargin": true,
           "gridcolor": "white",
           "linecolor": "white",
           "ticks": "",
           "title": {
            "standoff": 15
           },
           "zerolinecolor": "white",
           "zerolinewidth": 2
          }
         }
        },
        "title": {
         "text": "Model Accuracy Comparison with Test data initialized from splitting"
        },
        "xaxis": {
         "anchor": "y",
         "domain": [
          0,
          1
         ],
         "title": {
          "text": "Model"
         }
        },
        "yaxis": {
         "anchor": "x",
         "domain": [
          0,
          1
         ],
         "title": {
          "text": "Accuracy"
         }
        }
       }
      }
     },
     "metadata": {},
     "output_type": "display_data"
    }
   ],
   "source": [
    "fig = px.bar(\n",
    "    x=[\"K-Nearest-Neighbors\", \"Decision Tree\", \"Neural Network\", \"Bagging Algorithms\", \"Gaussian Naive Bayes\"],\n",
    "    y=[knn_acc, dec_acc, mlp_acc, bagging_acc, bayes_acc],\n",
    "    color=[\"K-Nearest-Neighbors\", \"Decision Tree\", \"Neural Network\", \"Bagging Algorithms\", \"Gaussian Naive Bayes\"],\n",
    "    labels={'x': \"Model\", 'y': \"Accuracy\"},\n",
    "    title=\"Model Accuracy Comparison with Test data initialized from splitting\"\n",
    ")\n",
    "\n",
    "fig.show()"
   ]
  },
  {
   "cell_type": "code",
   "execution_count": 143,
   "metadata": {},
   "outputs": [],
   "source": [
    "knn_pred2 = knn_model.predict(x_test_2)\n",
    "dec_pred2 = dec_model.predict(x_test_2)\n",
    "mlp_pred2 = mlp_model.predict(x_test_2)\n",
    "bayes_pred2 = bayes_model.predict(x_test_2)\n",
    "bagging_pred2 = bagging_model.predict(x_test_2)"
   ]
  },
  {
   "cell_type": "code",
   "execution_count": 144,
   "metadata": {},
   "outputs": [
    {
     "name": "stdout",
     "output_type": "stream",
     "text": [
      "K-Nearest-Neighbors Evaluation Metrics:\n",
      "                precision    recall  f1-score   support\n",
      "\n",
      "           0       0.56      0.87      0.68        95\n",
      "           1       0.29      0.49      0.37       148\n",
      "           2       0.54      0.27      0.36       335\n",
      "           3       0.20      0.15      0.17       104\n",
      "           4       0.46      0.54      0.50       206\n",
      "\n",
      "    accuracy                           0.42       888\n",
      "   macro avg       0.41      0.47      0.42       888\n",
      "weighted avg       0.44      0.42      0.40       888\n",
      "\n"
     ]
    }
   ],
   "source": [
    "print(\"K-Nearest-Neighbors Evaluation Metrics:\\n \", classification_report(y_test_2, knn_pred2, labels=list(set(y_test))))"
   ]
  },
  {
   "cell_type": "code",
   "execution_count": 145,
   "metadata": {},
   "outputs": [
    {
     "name": "stdout",
     "output_type": "stream",
     "text": [
      "Decision Tree Evaluation Metrics:\n",
      "                precision    recall  f1-score   support\n",
      "\n",
      "           0       0.55      0.43      0.49        95\n",
      "           1       0.32      0.49      0.39       148\n",
      "           2       0.57      0.24      0.34       335\n",
      "           3       0.20      0.18      0.19       104\n",
      "           4       0.39      0.67      0.49       206\n",
      "\n",
      "    accuracy                           0.40       888\n",
      "   macro avg       0.41      0.40      0.38       888\n",
      "weighted avg       0.44      0.40      0.38       888\n",
      "\n"
     ]
    }
   ],
   "source": [
    "print(\"Decision Tree Evaluation Metrics:\\n \", classification_report(y_test_2, dec_pred2, labels=list(set(y_test))))"
   ]
  },
  {
   "cell_type": "code",
   "execution_count": 146,
   "metadata": {},
   "outputs": [
    {
     "name": "stdout",
     "output_type": "stream",
     "text": [
      "Neural Network Evaluation Metrics:\n",
      "                precision    recall  f1-score   support\n",
      "\n",
      "           0       0.79      0.79      0.79        95\n",
      "           1       0.37      0.74      0.49       148\n",
      "           2       0.65      0.06      0.11       335\n",
      "           3       0.55      0.06      0.10       104\n",
      "           4       0.40      0.89      0.56       206\n",
      "\n",
      "    accuracy                           0.44       888\n",
      "   macro avg       0.55      0.51      0.41       888\n",
      "weighted avg       0.55      0.44      0.35       888\n",
      "\n"
     ]
    }
   ],
   "source": [
    "print(\"Neural Network Evaluation Metrics:\\n \", classification_report(y_test_2, mlp_pred2, labels=list(set(y_test))))\n"
   ]
  },
  {
   "cell_type": "code",
   "execution_count": 147,
   "metadata": {},
   "outputs": [
    {
     "name": "stdout",
     "output_type": "stream",
     "text": [
      "Bagging Algorithms Evaluation Metrics:\n",
      "                precision    recall  f1-score   support\n",
      "\n",
      "           0       0.65      0.85      0.74        95\n",
      "           1       0.25      0.75      0.37       148\n",
      "           2       0.43      0.06      0.10       335\n",
      "           3       0.45      0.05      0.09       104\n",
      "           4       0.42      0.51      0.46       206\n",
      "\n",
      "    accuracy                           0.36       888\n",
      "   macro avg       0.44      0.44      0.35       888\n",
      "weighted avg       0.42      0.36      0.30       888\n",
      "\n"
     ]
    }
   ],
   "source": [
    "print(\"Bagging Algorithms Evaluation Metrics:\\n \", classification_report(y_test_2, bayes_pred2, labels=list(set(y_test))))"
   ]
  },
  {
   "cell_type": "code",
   "execution_count": 148,
   "metadata": {},
   "outputs": [
    {
     "name": "stdout",
     "output_type": "stream",
     "text": [
      "Support Vector Machine Evaluation Metrics:\n",
      "                precision    recall  f1-score   support\n",
      "\n",
      "           0       0.71      0.60      0.65        95\n",
      "           1       0.36      0.64      0.46       148\n",
      "           2       0.57      0.16      0.25       335\n",
      "           3       0.19      0.08      0.11       104\n",
      "           4       0.41      0.82      0.55       206\n",
      "\n",
      "    accuracy                           0.43       888\n",
      "   macro avg       0.45      0.46      0.40       888\n",
      "weighted avg       0.47      0.43      0.38       888\n",
      "\n"
     ]
    }
   ],
   "source": [
    "print(\"Support Vector Machine Evaluation Metrics:\\n \", classification_report(y_test_2, bagging_pred2, labels=list(set(y_test))))"
   ]
  },
  {
   "cell_type": "code",
   "execution_count": 149,
   "metadata": {},
   "outputs": [
    {
     "name": "stdout",
     "output_type": "stream",
     "text": [
      "K-Nearest-Neighbors Accuracy: 0.42004504504504503\n",
      "Decision Tree Accuracy: 0.3952702702702703\n",
      "Neural Network Accuracy: 0.4436936936936937\n",
      "Bagging Algorithms Accuracy: 0.43018018018018017\n",
      "Support Vector Machine Accuracy: 0.36373873873873874\n"
     ]
    }
   ],
   "source": [
    "knn_acc_2 = knn_model.score(x_test_2, y_test_2)\n",
    "dec_acc_2 = dec_model.score(x_test_2, y_test_2)\n",
    "mlp_acc_2 = mlp_model.score(x_test_2, y_test_2)\n",
    "bayes_acc_2 = bayes_model.score(x_test_2, y_test_2)\n",
    "bagging_acc_2 = bagging_model.score(x_test_2, y_test_2)\n",
    "\n",
    "print(\"K-Nearest-Neighbors Accuracy:\", knn_acc_2)\n",
    "print(\"Decision Tree Accuracy:\", dec_acc_2)\n",
    "print(\"Neural Network Accuracy:\", mlp_acc_2)\n",
    "print(\"Bagging Algorithms Accuracy:\", bagging_acc_2)\n",
    "print(\"Support Vector Machine Accuracy:\", bayes_acc_2)"
   ]
  },
  {
   "cell_type": "code",
   "execution_count": 150,
   "metadata": {},
   "outputs": [
    {
     "data": {
      "application/vnd.plotly.v1+json": {
       "config": {
        "plotlyServerURL": "https://plot.ly"
       },
       "data": [
        {
         "alignmentgroup": "True",
         "hovertemplate": "color=K-Nearest-Neighbors<br>Model=%{x}<br>Accuracy=%{y}<extra></extra>",
         "legendgroup": "K-Nearest-Neighbors",
         "marker": {
          "color": "#636efa",
          "pattern": {
           "shape": ""
          }
         },
         "name": "K-Nearest-Neighbors",
         "offsetgroup": "K-Nearest-Neighbors",
         "orientation": "v",
         "showlegend": true,
         "textposition": "auto",
         "type": "bar",
         "x": [
          "K-Nearest-Neighbors"
         ],
         "xaxis": "x",
         "y": [
          0.42004504504504503
         ],
         "yaxis": "y"
        },
        {
         "alignmentgroup": "True",
         "hovertemplate": "color=Decision Tree<br>Model=%{x}<br>Accuracy=%{y}<extra></extra>",
         "legendgroup": "Decision Tree",
         "marker": {
          "color": "#EF553B",
          "pattern": {
           "shape": ""
          }
         },
         "name": "Decision Tree",
         "offsetgroup": "Decision Tree",
         "orientation": "v",
         "showlegend": true,
         "textposition": "auto",
         "type": "bar",
         "x": [
          "Decision Tree"
         ],
         "xaxis": "x",
         "y": [
          0.3952702702702703
         ],
         "yaxis": "y"
        },
        {
         "alignmentgroup": "True",
         "hovertemplate": "color=Neural Network<br>Model=%{x}<br>Accuracy=%{y}<extra></extra>",
         "legendgroup": "Neural Network",
         "marker": {
          "color": "#00cc96",
          "pattern": {
           "shape": ""
          }
         },
         "name": "Neural Network",
         "offsetgroup": "Neural Network",
         "orientation": "v",
         "showlegend": true,
         "textposition": "auto",
         "type": "bar",
         "x": [
          "Neural Network"
         ],
         "xaxis": "x",
         "y": [
          0.4436936936936937
         ],
         "yaxis": "y"
        },
        {
         "alignmentgroup": "True",
         "hovertemplate": "color=Bagging Algorithms<br>Model=%{x}<br>Accuracy=%{y}<extra></extra>",
         "legendgroup": "Bagging Algorithms",
         "marker": {
          "color": "#ab63fa",
          "pattern": {
           "shape": ""
          }
         },
         "name": "Bagging Algorithms",
         "offsetgroup": "Bagging Algorithms",
         "orientation": "v",
         "showlegend": true,
         "textposition": "auto",
         "type": "bar",
         "x": [
          "Bagging Algorithms"
         ],
         "xaxis": "x",
         "y": [
          0.43018018018018017
         ],
         "yaxis": "y"
        },
        {
         "alignmentgroup": "True",
         "hovertemplate": "color=Gaussian Naive Bayes<br>Model=%{x}<br>Accuracy=%{y}<extra></extra>",
         "legendgroup": "Gaussian Naive Bayes",
         "marker": {
          "color": "#FFA15A",
          "pattern": {
           "shape": ""
          }
         },
         "name": "Gaussian Naive Bayes",
         "offsetgroup": "Gaussian Naive Bayes",
         "orientation": "v",
         "showlegend": true,
         "textposition": "auto",
         "type": "bar",
         "x": [
          "Gaussian Naive Bayes"
         ],
         "xaxis": "x",
         "y": [
          0.36373873873873874
         ],
         "yaxis": "y"
        }
       ],
       "layout": {
        "barmode": "relative",
        "legend": {
         "title": {
          "text": "color"
         },
         "tracegroupgap": 0
        },
        "template": {
         "data": {
          "bar": [
           {
            "error_x": {
             "color": "#2a3f5f"
            },
            "error_y": {
             "color": "#2a3f5f"
            },
            "marker": {
             "line": {
              "color": "#E5ECF6",
              "width": 0.5
             },
             "pattern": {
              "fillmode": "overlay",
              "size": 10,
              "solidity": 0.2
             }
            },
            "type": "bar"
           }
          ],
          "barpolar": [
           {
            "marker": {
             "line": {
              "color": "#E5ECF6",
              "width": 0.5
             },
             "pattern": {
              "fillmode": "overlay",
              "size": 10,
              "solidity": 0.2
             }
            },
            "type": "barpolar"
           }
          ],
          "carpet": [
           {
            "aaxis": {
             "endlinecolor": "#2a3f5f",
             "gridcolor": "white",
             "linecolor": "white",
             "minorgridcolor": "white",
             "startlinecolor": "#2a3f5f"
            },
            "baxis": {
             "endlinecolor": "#2a3f5f",
             "gridcolor": "white",
             "linecolor": "white",
             "minorgridcolor": "white",
             "startlinecolor": "#2a3f5f"
            },
            "type": "carpet"
           }
          ],
          "choropleth": [
           {
            "colorbar": {
             "outlinewidth": 0,
             "ticks": ""
            },
            "type": "choropleth"
           }
          ],
          "contour": [
           {
            "colorbar": {
             "outlinewidth": 0,
             "ticks": ""
            },
            "colorscale": [
             [
              0,
              "#0d0887"
             ],
             [
              0.1111111111111111,
              "#46039f"
             ],
             [
              0.2222222222222222,
              "#7201a8"
             ],
             [
              0.3333333333333333,
              "#9c179e"
             ],
             [
              0.4444444444444444,
              "#bd3786"
             ],
             [
              0.5555555555555556,
              "#d8576b"
             ],
             [
              0.6666666666666666,
              "#ed7953"
             ],
             [
              0.7777777777777778,
              "#fb9f3a"
             ],
             [
              0.8888888888888888,
              "#fdca26"
             ],
             [
              1,
              "#f0f921"
             ]
            ],
            "type": "contour"
           }
          ],
          "contourcarpet": [
           {
            "colorbar": {
             "outlinewidth": 0,
             "ticks": ""
            },
            "type": "contourcarpet"
           }
          ],
          "heatmap": [
           {
            "colorbar": {
             "outlinewidth": 0,
             "ticks": ""
            },
            "colorscale": [
             [
              0,
              "#0d0887"
             ],
             [
              0.1111111111111111,
              "#46039f"
             ],
             [
              0.2222222222222222,
              "#7201a8"
             ],
             [
              0.3333333333333333,
              "#9c179e"
             ],
             [
              0.4444444444444444,
              "#bd3786"
             ],
             [
              0.5555555555555556,
              "#d8576b"
             ],
             [
              0.6666666666666666,
              "#ed7953"
             ],
             [
              0.7777777777777778,
              "#fb9f3a"
             ],
             [
              0.8888888888888888,
              "#fdca26"
             ],
             [
              1,
              "#f0f921"
             ]
            ],
            "type": "heatmap"
           }
          ],
          "heatmapgl": [
           {
            "colorbar": {
             "outlinewidth": 0,
             "ticks": ""
            },
            "colorscale": [
             [
              0,
              "#0d0887"
             ],
             [
              0.1111111111111111,
              "#46039f"
             ],
             [
              0.2222222222222222,
              "#7201a8"
             ],
             [
              0.3333333333333333,
              "#9c179e"
             ],
             [
              0.4444444444444444,
              "#bd3786"
             ],
             [
              0.5555555555555556,
              "#d8576b"
             ],
             [
              0.6666666666666666,
              "#ed7953"
             ],
             [
              0.7777777777777778,
              "#fb9f3a"
             ],
             [
              0.8888888888888888,
              "#fdca26"
             ],
             [
              1,
              "#f0f921"
             ]
            ],
            "type": "heatmapgl"
           }
          ],
          "histogram": [
           {
            "marker": {
             "pattern": {
              "fillmode": "overlay",
              "size": 10,
              "solidity": 0.2
             }
            },
            "type": "histogram"
           }
          ],
          "histogram2d": [
           {
            "colorbar": {
             "outlinewidth": 0,
             "ticks": ""
            },
            "colorscale": [
             [
              0,
              "#0d0887"
             ],
             [
              0.1111111111111111,
              "#46039f"
             ],
             [
              0.2222222222222222,
              "#7201a8"
             ],
             [
              0.3333333333333333,
              "#9c179e"
             ],
             [
              0.4444444444444444,
              "#bd3786"
             ],
             [
              0.5555555555555556,
              "#d8576b"
             ],
             [
              0.6666666666666666,
              "#ed7953"
             ],
             [
              0.7777777777777778,
              "#fb9f3a"
             ],
             [
              0.8888888888888888,
              "#fdca26"
             ],
             [
              1,
              "#f0f921"
             ]
            ],
            "type": "histogram2d"
           }
          ],
          "histogram2dcontour": [
           {
            "colorbar": {
             "outlinewidth": 0,
             "ticks": ""
            },
            "colorscale": [
             [
              0,
              "#0d0887"
             ],
             [
              0.1111111111111111,
              "#46039f"
             ],
             [
              0.2222222222222222,
              "#7201a8"
             ],
             [
              0.3333333333333333,
              "#9c179e"
             ],
             [
              0.4444444444444444,
              "#bd3786"
             ],
             [
              0.5555555555555556,
              "#d8576b"
             ],
             [
              0.6666666666666666,
              "#ed7953"
             ],
             [
              0.7777777777777778,
              "#fb9f3a"
             ],
             [
              0.8888888888888888,
              "#fdca26"
             ],
             [
              1,
              "#f0f921"
             ]
            ],
            "type": "histogram2dcontour"
           }
          ],
          "mesh3d": [
           {
            "colorbar": {
             "outlinewidth": 0,
             "ticks": ""
            },
            "type": "mesh3d"
           }
          ],
          "parcoords": [
           {
            "line": {
             "colorbar": {
              "outlinewidth": 0,
              "ticks": ""
             }
            },
            "type": "parcoords"
           }
          ],
          "pie": [
           {
            "automargin": true,
            "type": "pie"
           }
          ],
          "scatter": [
           {
            "fillpattern": {
             "fillmode": "overlay",
             "size": 10,
             "solidity": 0.2
            },
            "type": "scatter"
           }
          ],
          "scatter3d": [
           {
            "line": {
             "colorbar": {
              "outlinewidth": 0,
              "ticks": ""
             }
            },
            "marker": {
             "colorbar": {
              "outlinewidth": 0,
              "ticks": ""
             }
            },
            "type": "scatter3d"
           }
          ],
          "scattercarpet": [
           {
            "marker": {
             "colorbar": {
              "outlinewidth": 0,
              "ticks": ""
             }
            },
            "type": "scattercarpet"
           }
          ],
          "scattergeo": [
           {
            "marker": {
             "colorbar": {
              "outlinewidth": 0,
              "ticks": ""
             }
            },
            "type": "scattergeo"
           }
          ],
          "scattergl": [
           {
            "marker": {
             "colorbar": {
              "outlinewidth": 0,
              "ticks": ""
             }
            },
            "type": "scattergl"
           }
          ],
          "scattermapbox": [
           {
            "marker": {
             "colorbar": {
              "outlinewidth": 0,
              "ticks": ""
             }
            },
            "type": "scattermapbox"
           }
          ],
          "scatterpolar": [
           {
            "marker": {
             "colorbar": {
              "outlinewidth": 0,
              "ticks": ""
             }
            },
            "type": "scatterpolar"
           }
          ],
          "scatterpolargl": [
           {
            "marker": {
             "colorbar": {
              "outlinewidth": 0,
              "ticks": ""
             }
            },
            "type": "scatterpolargl"
           }
          ],
          "scatterternary": [
           {
            "marker": {
             "colorbar": {
              "outlinewidth": 0,
              "ticks": ""
             }
            },
            "type": "scatterternary"
           }
          ],
          "surface": [
           {
            "colorbar": {
             "outlinewidth": 0,
             "ticks": ""
            },
            "colorscale": [
             [
              0,
              "#0d0887"
             ],
             [
              0.1111111111111111,
              "#46039f"
             ],
             [
              0.2222222222222222,
              "#7201a8"
             ],
             [
              0.3333333333333333,
              "#9c179e"
             ],
             [
              0.4444444444444444,
              "#bd3786"
             ],
             [
              0.5555555555555556,
              "#d8576b"
             ],
             [
              0.6666666666666666,
              "#ed7953"
             ],
             [
              0.7777777777777778,
              "#fb9f3a"
             ],
             [
              0.8888888888888888,
              "#fdca26"
             ],
             [
              1,
              "#f0f921"
             ]
            ],
            "type": "surface"
           }
          ],
          "table": [
           {
            "cells": {
             "fill": {
              "color": "#EBF0F8"
             },
             "line": {
              "color": "white"
             }
            },
            "header": {
             "fill": {
              "color": "#C8D4E3"
             },
             "line": {
              "color": "white"
             }
            },
            "type": "table"
           }
          ]
         },
         "layout": {
          "annotationdefaults": {
           "arrowcolor": "#2a3f5f",
           "arrowhead": 0,
           "arrowwidth": 1
          },
          "autotypenumbers": "strict",
          "coloraxis": {
           "colorbar": {
            "outlinewidth": 0,
            "ticks": ""
           }
          },
          "colorscale": {
           "diverging": [
            [
             0,
             "#8e0152"
            ],
            [
             0.1,
             "#c51b7d"
            ],
            [
             0.2,
             "#de77ae"
            ],
            [
             0.3,
             "#f1b6da"
            ],
            [
             0.4,
             "#fde0ef"
            ],
            [
             0.5,
             "#f7f7f7"
            ],
            [
             0.6,
             "#e6f5d0"
            ],
            [
             0.7,
             "#b8e186"
            ],
            [
             0.8,
             "#7fbc41"
            ],
            [
             0.9,
             "#4d9221"
            ],
            [
             1,
             "#276419"
            ]
           ],
           "sequential": [
            [
             0,
             "#0d0887"
            ],
            [
             0.1111111111111111,
             "#46039f"
            ],
            [
             0.2222222222222222,
             "#7201a8"
            ],
            [
             0.3333333333333333,
             "#9c179e"
            ],
            [
             0.4444444444444444,
             "#bd3786"
            ],
            [
             0.5555555555555556,
             "#d8576b"
            ],
            [
             0.6666666666666666,
             "#ed7953"
            ],
            [
             0.7777777777777778,
             "#fb9f3a"
            ],
            [
             0.8888888888888888,
             "#fdca26"
            ],
            [
             1,
             "#f0f921"
            ]
           ],
           "sequentialminus": [
            [
             0,
             "#0d0887"
            ],
            [
             0.1111111111111111,
             "#46039f"
            ],
            [
             0.2222222222222222,
             "#7201a8"
            ],
            [
             0.3333333333333333,
             "#9c179e"
            ],
            [
             0.4444444444444444,
             "#bd3786"
            ],
            [
             0.5555555555555556,
             "#d8576b"
            ],
            [
             0.6666666666666666,
             "#ed7953"
            ],
            [
             0.7777777777777778,
             "#fb9f3a"
            ],
            [
             0.8888888888888888,
             "#fdca26"
            ],
            [
             1,
             "#f0f921"
            ]
           ]
          },
          "colorway": [
           "#636efa",
           "#EF553B",
           "#00cc96",
           "#ab63fa",
           "#FFA15A",
           "#19d3f3",
           "#FF6692",
           "#B6E880",
           "#FF97FF",
           "#FECB52"
          ],
          "font": {
           "color": "#2a3f5f"
          },
          "geo": {
           "bgcolor": "white",
           "lakecolor": "white",
           "landcolor": "#E5ECF6",
           "showlakes": true,
           "showland": true,
           "subunitcolor": "white"
          },
          "hoverlabel": {
           "align": "left"
          },
          "hovermode": "closest",
          "mapbox": {
           "style": "light"
          },
          "paper_bgcolor": "white",
          "plot_bgcolor": "#E5ECF6",
          "polar": {
           "angularaxis": {
            "gridcolor": "white",
            "linecolor": "white",
            "ticks": ""
           },
           "bgcolor": "#E5ECF6",
           "radialaxis": {
            "gridcolor": "white",
            "linecolor": "white",
            "ticks": ""
           }
          },
          "scene": {
           "xaxis": {
            "backgroundcolor": "#E5ECF6",
            "gridcolor": "white",
            "gridwidth": 2,
            "linecolor": "white",
            "showbackground": true,
            "ticks": "",
            "zerolinecolor": "white"
           },
           "yaxis": {
            "backgroundcolor": "#E5ECF6",
            "gridcolor": "white",
            "gridwidth": 2,
            "linecolor": "white",
            "showbackground": true,
            "ticks": "",
            "zerolinecolor": "white"
           },
           "zaxis": {
            "backgroundcolor": "#E5ECF6",
            "gridcolor": "white",
            "gridwidth": 2,
            "linecolor": "white",
            "showbackground": true,
            "ticks": "",
            "zerolinecolor": "white"
           }
          },
          "shapedefaults": {
           "line": {
            "color": "#2a3f5f"
           }
          },
          "ternary": {
           "aaxis": {
            "gridcolor": "white",
            "linecolor": "white",
            "ticks": ""
           },
           "baxis": {
            "gridcolor": "white",
            "linecolor": "white",
            "ticks": ""
           },
           "bgcolor": "#E5ECF6",
           "caxis": {
            "gridcolor": "white",
            "linecolor": "white",
            "ticks": ""
           }
          },
          "title": {
           "x": 0.05
          },
          "xaxis": {
           "automargin": true,
           "gridcolor": "white",
           "linecolor": "white",
           "ticks": "",
           "title": {
            "standoff": 15
           },
           "zerolinecolor": "white",
           "zerolinewidth": 2
          },
          "yaxis": {
           "automargin": true,
           "gridcolor": "white",
           "linecolor": "white",
           "ticks": "",
           "title": {
            "standoff": 15
           },
           "zerolinecolor": "white",
           "zerolinewidth": 2
          }
         }
        },
        "title": {
         "text": "Model Accuracy Comparison with New test data initialized"
        },
        "xaxis": {
         "anchor": "y",
         "domain": [
          0,
          1
         ],
         "title": {
          "text": "Model"
         }
        },
        "yaxis": {
         "anchor": "x",
         "domain": [
          0,
          1
         ],
         "title": {
          "text": "Accuracy"
         }
        }
       }
      }
     },
     "metadata": {},
     "output_type": "display_data"
    }
   ],
   "source": [
    "fig = px.bar(\n",
    "    x=[\"K-Nearest-Neighbors\", \"Decision Tree\", \"Neural Network\", \"Bagging Algorithms\", \"Gaussian Naive Bayes\"],\n",
    "    y=[knn_acc_2, dec_acc_2, mlp_acc_2, bagging_acc_2, bayes_acc_2],\n",
    "    color=[\"K-Nearest-Neighbors\", \"Decision Tree\", \"Neural Network\", \"Bagging Algorithms\", \"Gaussian Naive Bayes\"],\n",
    "    labels={'x': \"Model\", 'y': \"Accuracy\"},\n",
    "    title=\"Model Accuracy Comparison with New test data initialized\"\n",
    ")\n",
    "\n",
    "fig.show()"
   ]
  }
 ],
 "metadata": {
  "kernelspec": {
   "display_name": "Python 3.10.6 ('min_ds-env')",
   "language": "python",
   "name": "python3"
  },
  "language_info": {
   "codemirror_mode": {
    "name": "ipython",
    "version": 3
   },
   "file_extension": ".py",
   "mimetype": "text/x-python",
   "name": "python",
   "nbconvert_exporter": "python",
   "pygments_lexer": "ipython3",
   "version": "3.10.6"
  },
  "orig_nbformat": 4,
  "vscode": {
   "interpreter": {
    "hash": "3b298dc8b5ec9755d3b5e5b4831b9bf767d0a22ad509bcbd5b6f1f1a5498747c"
   }
  }
 },
 "nbformat": 4,
 "nbformat_minor": 2
}
