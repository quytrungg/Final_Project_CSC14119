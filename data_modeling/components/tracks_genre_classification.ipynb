{
 "cells": [
  {
   "cell_type": "code",
   "execution_count": 2,
   "metadata": {},
   "outputs": [],
   "source": [
    "import numpy as np\n",
    "import pandas as pd\n",
    "import matplotlib.pyplot as plt\n",
    "\n",
    "from sklearn.preprocessing import LabelEncoder, StandardScaler\n",
    "from sklearn.model_selection import train_test_split"
   ]
  },
  {
   "cell_type": "code",
   "execution_count": 3,
   "metadata": {},
   "outputs": [
    {
     "data": {
      "text/plain": [
       "(9999, 15)"
      ]
     },
     "execution_count": 3,
     "metadata": {},
     "output_type": "execute_result"
    }
   ],
   "source": [
    "df = pd.read_csv('../../data/10_genres_audio_features.tsv', delimiter='\\t')\n",
    "df.shape"
   ]
  },
  {
   "cell_type": "code",
   "execution_count": 4,
   "metadata": {},
   "outputs": [
    {
     "data": {
      "text/html": [
       "<div>\n",
       "<style scoped>\n",
       "    .dataframe tbody tr th:only-of-type {\n",
       "        vertical-align: middle;\n",
       "    }\n",
       "\n",
       "    .dataframe tbody tr th {\n",
       "        vertical-align: top;\n",
       "    }\n",
       "\n",
       "    .dataframe thead th {\n",
       "        text-align: right;\n",
       "    }\n",
       "</style>\n",
       "<table border=\"1\" class=\"dataframe\">\n",
       "  <thead>\n",
       "    <tr style=\"text-align: right;\">\n",
       "      <th></th>\n",
       "      <th>id</th>\n",
       "      <th>danceability</th>\n",
       "      <th>energy</th>\n",
       "      <th>key</th>\n",
       "      <th>loudness</th>\n",
       "      <th>mode</th>\n",
       "      <th>speechiness</th>\n",
       "      <th>acousticness</th>\n",
       "      <th>instrumentalness</th>\n",
       "      <th>liveness</th>\n",
       "      <th>valence</th>\n",
       "      <th>tempo</th>\n",
       "      <th>duration_ms</th>\n",
       "      <th>time_signature</th>\n",
       "      <th>genre</th>\n",
       "    </tr>\n",
       "  </thead>\n",
       "  <tbody>\n",
       "    <tr>\n",
       "      <th>0</th>\n",
       "      <td>3lOMJTQTd6J34faYwASc33</td>\n",
       "      <td>0.795</td>\n",
       "      <td>0.859</td>\n",
       "      <td>2</td>\n",
       "      <td>-2.994</td>\n",
       "      <td>1</td>\n",
       "      <td>0.0542</td>\n",
       "      <td>0.0361</td>\n",
       "      <td>0.000000</td>\n",
       "      <td>0.0321</td>\n",
       "      <td>0.356</td>\n",
       "      <td>96.986</td>\n",
       "      <td>168107</td>\n",
       "      <td>4</td>\n",
       "      <td>pop</td>\n",
       "    </tr>\n",
       "    <tr>\n",
       "      <th>1</th>\n",
       "      <td>0So2sgVa8aJiARPl2P29u2</td>\n",
       "      <td>0.725</td>\n",
       "      <td>0.446</td>\n",
       "      <td>4</td>\n",
       "      <td>-8.958</td>\n",
       "      <td>0</td>\n",
       "      <td>0.0287</td>\n",
       "      <td>0.8500</td>\n",
       "      <td>0.243000</td>\n",
       "      <td>0.1070</td>\n",
       "      <td>0.311</td>\n",
       "      <td>90.024</td>\n",
       "      <td>187333</td>\n",
       "      <td>4</td>\n",
       "      <td>pop</td>\n",
       "    </tr>\n",
       "    <tr>\n",
       "      <th>2</th>\n",
       "      <td>5sbooPcNgIE22DwO0VNGUJ</td>\n",
       "      <td>0.566</td>\n",
       "      <td>0.769</td>\n",
       "      <td>7</td>\n",
       "      <td>-4.342</td>\n",
       "      <td>1</td>\n",
       "      <td>0.0872</td>\n",
       "      <td>0.0183</td>\n",
       "      <td>0.000000</td>\n",
       "      <td>0.1080</td>\n",
       "      <td>0.385</td>\n",
       "      <td>170.036</td>\n",
       "      <td>191100</td>\n",
       "      <td>4</td>\n",
       "      <td>pop</td>\n",
       "    </tr>\n",
       "    <tr>\n",
       "      <th>3</th>\n",
       "      <td>5rZlwNFl01HqLWBQGryKSm</td>\n",
       "      <td>0.480</td>\n",
       "      <td>0.602</td>\n",
       "      <td>10</td>\n",
       "      <td>-6.335</td>\n",
       "      <td>0</td>\n",
       "      <td>0.3680</td>\n",
       "      <td>0.4870</td>\n",
       "      <td>0.000000</td>\n",
       "      <td>0.0848</td>\n",
       "      <td>0.269</td>\n",
       "      <td>179.798</td>\n",
       "      <td>213333</td>\n",
       "      <td>4</td>\n",
       "      <td>pop</td>\n",
       "    </tr>\n",
       "    <tr>\n",
       "      <th>4</th>\n",
       "      <td>0PvFJmanyNQMseIFrU708S</td>\n",
       "      <td>0.823</td>\n",
       "      <td>0.586</td>\n",
       "      <td>6</td>\n",
       "      <td>-6.606</td>\n",
       "      <td>0</td>\n",
       "      <td>0.2000</td>\n",
       "      <td>0.1140</td>\n",
       "      <td>0.000000</td>\n",
       "      <td>0.1930</td>\n",
       "      <td>0.347</td>\n",
       "      <td>125.971</td>\n",
       "      <td>190476</td>\n",
       "      <td>4</td>\n",
       "      <td>pop</td>\n",
       "    </tr>\n",
       "    <tr>\n",
       "      <th>5</th>\n",
       "      <td>1mcgxXkPeUN9wXwEex3poW</td>\n",
       "      <td>0.625</td>\n",
       "      <td>0.488</td>\n",
       "      <td>2</td>\n",
       "      <td>-8.624</td>\n",
       "      <td>0</td>\n",
       "      <td>0.0461</td>\n",
       "      <td>0.1180</td>\n",
       "      <td>0.000028</td>\n",
       "      <td>0.1150</td>\n",
       "      <td>0.381</td>\n",
       "      <td>159.991</td>\n",
       "      <td>160500</td>\n",
       "      <td>4</td>\n",
       "      <td>pop</td>\n",
       "    </tr>\n",
       "    <tr>\n",
       "      <th>6</th>\n",
       "      <td>6EDO9iiTtwNv6waLwa1UUq</td>\n",
       "      <td>0.800</td>\n",
       "      <td>0.560</td>\n",
       "      <td>5</td>\n",
       "      <td>-4.818</td>\n",
       "      <td>0</td>\n",
       "      <td>0.2610</td>\n",
       "      <td>0.0570</td>\n",
       "      <td>0.000000</td>\n",
       "      <td>0.1340</td>\n",
       "      <td>0.450</td>\n",
       "      <td>163.071</td>\n",
       "      <td>200221</td>\n",
       "      <td>4</td>\n",
       "      <td>pop</td>\n",
       "    </tr>\n",
       "    <tr>\n",
       "      <th>7</th>\n",
       "      <td>1tkg4EHVoqnhR6iFEXb60y</td>\n",
       "      <td>0.709</td>\n",
       "      <td>0.548</td>\n",
       "      <td>10</td>\n",
       "      <td>-8.493</td>\n",
       "      <td>1</td>\n",
       "      <td>0.3530</td>\n",
       "      <td>0.6500</td>\n",
       "      <td>0.000002</td>\n",
       "      <td>0.1330</td>\n",
       "      <td>0.543</td>\n",
       "      <td>83.995</td>\n",
       "      <td>160000</td>\n",
       "      <td>4</td>\n",
       "      <td>pop</td>\n",
       "    </tr>\n",
       "    <tr>\n",
       "      <th>8</th>\n",
       "      <td>79s5XnCN4TJKTVMSmOx8Ep</td>\n",
       "      <td>0.548</td>\n",
       "      <td>0.805</td>\n",
       "      <td>7</td>\n",
       "      <td>-5.732</td>\n",
       "      <td>1</td>\n",
       "      <td>0.3510</td>\n",
       "      <td>0.2120</td>\n",
       "      <td>0.000389</td>\n",
       "      <td>0.4080</td>\n",
       "      <td>0.648</td>\n",
       "      <td>142.094</td>\n",
       "      <td>216387</td>\n",
       "      <td>4</td>\n",
       "      <td>pop</td>\n",
       "    </tr>\n",
       "    <tr>\n",
       "      <th>9</th>\n",
       "      <td>5C9JlYhuv96JQXyXuxYsB2</td>\n",
       "      <td>0.392</td>\n",
       "      <td>0.579</td>\n",
       "      <td>7</td>\n",
       "      <td>-9.195</td>\n",
       "      <td>1</td>\n",
       "      <td>0.1640</td>\n",
       "      <td>0.8350</td>\n",
       "      <td>0.001790</td>\n",
       "      <td>0.1450</td>\n",
       "      <td>0.549</td>\n",
       "      <td>80.961</td>\n",
       "      <td>214707</td>\n",
       "      <td>4</td>\n",
       "      <td>pop</td>\n",
       "    </tr>\n",
       "  </tbody>\n",
       "</table>\n",
       "</div>"
      ],
      "text/plain": [
       "                       id  danceability  energy  key  loudness  mode  \\\n",
       "0  3lOMJTQTd6J34faYwASc33         0.795   0.859    2    -2.994     1   \n",
       "1  0So2sgVa8aJiARPl2P29u2         0.725   0.446    4    -8.958     0   \n",
       "2  5sbooPcNgIE22DwO0VNGUJ         0.566   0.769    7    -4.342     1   \n",
       "3  5rZlwNFl01HqLWBQGryKSm         0.480   0.602   10    -6.335     0   \n",
       "4  0PvFJmanyNQMseIFrU708S         0.823   0.586    6    -6.606     0   \n",
       "5  1mcgxXkPeUN9wXwEex3poW         0.625   0.488    2    -8.624     0   \n",
       "6  6EDO9iiTtwNv6waLwa1UUq         0.800   0.560    5    -4.818     0   \n",
       "7  1tkg4EHVoqnhR6iFEXb60y         0.709   0.548   10    -8.493     1   \n",
       "8  79s5XnCN4TJKTVMSmOx8Ep         0.548   0.805    7    -5.732     1   \n",
       "9  5C9JlYhuv96JQXyXuxYsB2         0.392   0.579    7    -9.195     1   \n",
       "\n",
       "   speechiness  acousticness  instrumentalness  liveness  valence    tempo  \\\n",
       "0       0.0542        0.0361          0.000000    0.0321    0.356   96.986   \n",
       "1       0.0287        0.8500          0.243000    0.1070    0.311   90.024   \n",
       "2       0.0872        0.0183          0.000000    0.1080    0.385  170.036   \n",
       "3       0.3680        0.4870          0.000000    0.0848    0.269  179.798   \n",
       "4       0.2000        0.1140          0.000000    0.1930    0.347  125.971   \n",
       "5       0.0461        0.1180          0.000028    0.1150    0.381  159.991   \n",
       "6       0.2610        0.0570          0.000000    0.1340    0.450  163.071   \n",
       "7       0.3530        0.6500          0.000002    0.1330    0.543   83.995   \n",
       "8       0.3510        0.2120          0.000389    0.4080    0.648  142.094   \n",
       "9       0.1640        0.8350          0.001790    0.1450    0.549   80.961   \n",
       "\n",
       "   duration_ms  time_signature genre  \n",
       "0       168107               4   pop  \n",
       "1       187333               4   pop  \n",
       "2       191100               4   pop  \n",
       "3       213333               4   pop  \n",
       "4       190476               4   pop  \n",
       "5       160500               4   pop  \n",
       "6       200221               4   pop  \n",
       "7       160000               4   pop  \n",
       "8       216387               4   pop  \n",
       "9       214707               4   pop  "
      ]
     },
     "execution_count": 4,
     "metadata": {},
     "output_type": "execute_result"
    }
   ],
   "source": [
    "df.head(10)"
   ]
  },
  {
   "cell_type": "code",
   "execution_count": 5,
   "metadata": {},
   "outputs": [
    {
     "data": {
      "text/html": [
       "<div>\n",
       "<style scoped>\n",
       "    .dataframe tbody tr th:only-of-type {\n",
       "        vertical-align: middle;\n",
       "    }\n",
       "\n",
       "    .dataframe tbody tr th {\n",
       "        vertical-align: top;\n",
       "    }\n",
       "\n",
       "    .dataframe thead th {\n",
       "        text-align: right;\n",
       "    }\n",
       "</style>\n",
       "<table border=\"1\" class=\"dataframe\">\n",
       "  <thead>\n",
       "    <tr style=\"text-align: right;\">\n",
       "      <th></th>\n",
       "      <th>danceability</th>\n",
       "      <th>energy</th>\n",
       "      <th>key</th>\n",
       "      <th>loudness</th>\n",
       "      <th>mode</th>\n",
       "      <th>speechiness</th>\n",
       "      <th>acousticness</th>\n",
       "      <th>instrumentalness</th>\n",
       "      <th>liveness</th>\n",
       "      <th>valence</th>\n",
       "      <th>tempo</th>\n",
       "      <th>duration_ms</th>\n",
       "      <th>time_signature</th>\n",
       "      <th>genre</th>\n",
       "    </tr>\n",
       "  </thead>\n",
       "  <tbody>\n",
       "    <tr>\n",
       "      <th>0</th>\n",
       "      <td>0.795</td>\n",
       "      <td>0.859</td>\n",
       "      <td>2</td>\n",
       "      <td>-2.994</td>\n",
       "      <td>1</td>\n",
       "      <td>0.0542</td>\n",
       "      <td>0.0361</td>\n",
       "      <td>0.000000</td>\n",
       "      <td>0.0321</td>\n",
       "      <td>0.356</td>\n",
       "      <td>96.986</td>\n",
       "      <td>168107</td>\n",
       "      <td>4</td>\n",
       "      <td>pop</td>\n",
       "    </tr>\n",
       "    <tr>\n",
       "      <th>1</th>\n",
       "      <td>0.725</td>\n",
       "      <td>0.446</td>\n",
       "      <td>4</td>\n",
       "      <td>-8.958</td>\n",
       "      <td>0</td>\n",
       "      <td>0.0287</td>\n",
       "      <td>0.8500</td>\n",
       "      <td>0.243000</td>\n",
       "      <td>0.1070</td>\n",
       "      <td>0.311</td>\n",
       "      <td>90.024</td>\n",
       "      <td>187333</td>\n",
       "      <td>4</td>\n",
       "      <td>pop</td>\n",
       "    </tr>\n",
       "    <tr>\n",
       "      <th>2</th>\n",
       "      <td>0.566</td>\n",
       "      <td>0.769</td>\n",
       "      <td>7</td>\n",
       "      <td>-4.342</td>\n",
       "      <td>1</td>\n",
       "      <td>0.0872</td>\n",
       "      <td>0.0183</td>\n",
       "      <td>0.000000</td>\n",
       "      <td>0.1080</td>\n",
       "      <td>0.385</td>\n",
       "      <td>170.036</td>\n",
       "      <td>191100</td>\n",
       "      <td>4</td>\n",
       "      <td>pop</td>\n",
       "    </tr>\n",
       "    <tr>\n",
       "      <th>3</th>\n",
       "      <td>0.480</td>\n",
       "      <td>0.602</td>\n",
       "      <td>10</td>\n",
       "      <td>-6.335</td>\n",
       "      <td>0</td>\n",
       "      <td>0.3680</td>\n",
       "      <td>0.4870</td>\n",
       "      <td>0.000000</td>\n",
       "      <td>0.0848</td>\n",
       "      <td>0.269</td>\n",
       "      <td>179.798</td>\n",
       "      <td>213333</td>\n",
       "      <td>4</td>\n",
       "      <td>pop</td>\n",
       "    </tr>\n",
       "    <tr>\n",
       "      <th>4</th>\n",
       "      <td>0.823</td>\n",
       "      <td>0.586</td>\n",
       "      <td>6</td>\n",
       "      <td>-6.606</td>\n",
       "      <td>0</td>\n",
       "      <td>0.2000</td>\n",
       "      <td>0.1140</td>\n",
       "      <td>0.000000</td>\n",
       "      <td>0.1930</td>\n",
       "      <td>0.347</td>\n",
       "      <td>125.971</td>\n",
       "      <td>190476</td>\n",
       "      <td>4</td>\n",
       "      <td>pop</td>\n",
       "    </tr>\n",
       "    <tr>\n",
       "      <th>5</th>\n",
       "      <td>0.625</td>\n",
       "      <td>0.488</td>\n",
       "      <td>2</td>\n",
       "      <td>-8.624</td>\n",
       "      <td>0</td>\n",
       "      <td>0.0461</td>\n",
       "      <td>0.1180</td>\n",
       "      <td>0.000028</td>\n",
       "      <td>0.1150</td>\n",
       "      <td>0.381</td>\n",
       "      <td>159.991</td>\n",
       "      <td>160500</td>\n",
       "      <td>4</td>\n",
       "      <td>pop</td>\n",
       "    </tr>\n",
       "    <tr>\n",
       "      <th>6</th>\n",
       "      <td>0.800</td>\n",
       "      <td>0.560</td>\n",
       "      <td>5</td>\n",
       "      <td>-4.818</td>\n",
       "      <td>0</td>\n",
       "      <td>0.2610</td>\n",
       "      <td>0.0570</td>\n",
       "      <td>0.000000</td>\n",
       "      <td>0.1340</td>\n",
       "      <td>0.450</td>\n",
       "      <td>163.071</td>\n",
       "      <td>200221</td>\n",
       "      <td>4</td>\n",
       "      <td>pop</td>\n",
       "    </tr>\n",
       "    <tr>\n",
       "      <th>7</th>\n",
       "      <td>0.709</td>\n",
       "      <td>0.548</td>\n",
       "      <td>10</td>\n",
       "      <td>-8.493</td>\n",
       "      <td>1</td>\n",
       "      <td>0.3530</td>\n",
       "      <td>0.6500</td>\n",
       "      <td>0.000002</td>\n",
       "      <td>0.1330</td>\n",
       "      <td>0.543</td>\n",
       "      <td>83.995</td>\n",
       "      <td>160000</td>\n",
       "      <td>4</td>\n",
       "      <td>pop</td>\n",
       "    </tr>\n",
       "    <tr>\n",
       "      <th>8</th>\n",
       "      <td>0.548</td>\n",
       "      <td>0.805</td>\n",
       "      <td>7</td>\n",
       "      <td>-5.732</td>\n",
       "      <td>1</td>\n",
       "      <td>0.3510</td>\n",
       "      <td>0.2120</td>\n",
       "      <td>0.000389</td>\n",
       "      <td>0.4080</td>\n",
       "      <td>0.648</td>\n",
       "      <td>142.094</td>\n",
       "      <td>216387</td>\n",
       "      <td>4</td>\n",
       "      <td>pop</td>\n",
       "    </tr>\n",
       "    <tr>\n",
       "      <th>9</th>\n",
       "      <td>0.392</td>\n",
       "      <td>0.579</td>\n",
       "      <td>7</td>\n",
       "      <td>-9.195</td>\n",
       "      <td>1</td>\n",
       "      <td>0.1640</td>\n",
       "      <td>0.8350</td>\n",
       "      <td>0.001790</td>\n",
       "      <td>0.1450</td>\n",
       "      <td>0.549</td>\n",
       "      <td>80.961</td>\n",
       "      <td>214707</td>\n",
       "      <td>4</td>\n",
       "      <td>pop</td>\n",
       "    </tr>\n",
       "  </tbody>\n",
       "</table>\n",
       "</div>"
      ],
      "text/plain": [
       "   danceability  energy  key  loudness  mode  speechiness  acousticness  \\\n",
       "0         0.795   0.859    2    -2.994     1       0.0542        0.0361   \n",
       "1         0.725   0.446    4    -8.958     0       0.0287        0.8500   \n",
       "2         0.566   0.769    7    -4.342     1       0.0872        0.0183   \n",
       "3         0.480   0.602   10    -6.335     0       0.3680        0.4870   \n",
       "4         0.823   0.586    6    -6.606     0       0.2000        0.1140   \n",
       "5         0.625   0.488    2    -8.624     0       0.0461        0.1180   \n",
       "6         0.800   0.560    5    -4.818     0       0.2610        0.0570   \n",
       "7         0.709   0.548   10    -8.493     1       0.3530        0.6500   \n",
       "8         0.548   0.805    7    -5.732     1       0.3510        0.2120   \n",
       "9         0.392   0.579    7    -9.195     1       0.1640        0.8350   \n",
       "\n",
       "   instrumentalness  liveness  valence    tempo  duration_ms  time_signature  \\\n",
       "0          0.000000    0.0321    0.356   96.986       168107               4   \n",
       "1          0.243000    0.1070    0.311   90.024       187333               4   \n",
       "2          0.000000    0.1080    0.385  170.036       191100               4   \n",
       "3          0.000000    0.0848    0.269  179.798       213333               4   \n",
       "4          0.000000    0.1930    0.347  125.971       190476               4   \n",
       "5          0.000028    0.1150    0.381  159.991       160500               4   \n",
       "6          0.000000    0.1340    0.450  163.071       200221               4   \n",
       "7          0.000002    0.1330    0.543   83.995       160000               4   \n",
       "8          0.000389    0.4080    0.648  142.094       216387               4   \n",
       "9          0.001790    0.1450    0.549   80.961       214707               4   \n",
       "\n",
       "  genre  \n",
       "0   pop  \n",
       "1   pop  \n",
       "2   pop  \n",
       "3   pop  \n",
       "4   pop  \n",
       "5   pop  \n",
       "6   pop  \n",
       "7   pop  \n",
       "8   pop  \n",
       "9   pop  "
      ]
     },
     "execution_count": 5,
     "metadata": {},
     "output_type": "execute_result"
    }
   ],
   "source": [
    "raw_data = df.drop(['id'], axis=1)\n",
    "raw_data.head(10)"
   ]
  },
  {
   "cell_type": "code",
   "execution_count": 17,
   "metadata": {},
   "outputs": [
    {
     "data": {
      "text/html": [
       "<div>\n",
       "<style scoped>\n",
       "    .dataframe tbody tr th:only-of-type {\n",
       "        vertical-align: middle;\n",
       "    }\n",
       "\n",
       "    .dataframe tbody tr th {\n",
       "        vertical-align: top;\n",
       "    }\n",
       "\n",
       "    .dataframe thead th {\n",
       "        text-align: right;\n",
       "    }\n",
       "</style>\n",
       "<table border=\"1\" class=\"dataframe\">\n",
       "  <thead>\n",
       "    <tr style=\"text-align: right;\">\n",
       "      <th></th>\n",
       "      <th>danceability</th>\n",
       "      <th>energy</th>\n",
       "      <th>key</th>\n",
       "      <th>loudness</th>\n",
       "      <th>mode</th>\n",
       "      <th>speechiness</th>\n",
       "      <th>acousticness</th>\n",
       "      <th>instrumentalness</th>\n",
       "      <th>liveness</th>\n",
       "      <th>valence</th>\n",
       "      <th>tempo</th>\n",
       "      <th>duration_min</th>\n",
       "      <th>time_signature</th>\n",
       "      <th>genre</th>\n",
       "    </tr>\n",
       "  </thead>\n",
       "  <tbody>\n",
       "    <tr>\n",
       "      <th>0</th>\n",
       "      <td>0.795</td>\n",
       "      <td>0.859</td>\n",
       "      <td>2</td>\n",
       "      <td>-2.994</td>\n",
       "      <td>1</td>\n",
       "      <td>0.0542</td>\n",
       "      <td>0.036100</td>\n",
       "      <td>0.000</td>\n",
       "      <td>0.0321</td>\n",
       "      <td>0.3560</td>\n",
       "      <td>96.986</td>\n",
       "      <td>2.802</td>\n",
       "      <td>4</td>\n",
       "      <td>pop</td>\n",
       "    </tr>\n",
       "    <tr>\n",
       "      <th>1</th>\n",
       "      <td>0.725</td>\n",
       "      <td>0.446</td>\n",
       "      <td>4</td>\n",
       "      <td>-8.958</td>\n",
       "      <td>0</td>\n",
       "      <td>0.0287</td>\n",
       "      <td>0.850000</td>\n",
       "      <td>24.300</td>\n",
       "      <td>0.1070</td>\n",
       "      <td>0.3110</td>\n",
       "      <td>90.024</td>\n",
       "      <td>3.122</td>\n",
       "      <td>4</td>\n",
       "      <td>pop</td>\n",
       "    </tr>\n",
       "    <tr>\n",
       "      <th>2</th>\n",
       "      <td>0.566</td>\n",
       "      <td>0.769</td>\n",
       "      <td>7</td>\n",
       "      <td>-4.342</td>\n",
       "      <td>1</td>\n",
       "      <td>0.0872</td>\n",
       "      <td>0.018300</td>\n",
       "      <td>0.000</td>\n",
       "      <td>0.1080</td>\n",
       "      <td>0.3850</td>\n",
       "      <td>170.036</td>\n",
       "      <td>3.185</td>\n",
       "      <td>4</td>\n",
       "      <td>pop</td>\n",
       "    </tr>\n",
       "    <tr>\n",
       "      <th>3</th>\n",
       "      <td>0.480</td>\n",
       "      <td>0.602</td>\n",
       "      <td>10</td>\n",
       "      <td>-6.335</td>\n",
       "      <td>0</td>\n",
       "      <td>0.3680</td>\n",
       "      <td>0.487000</td>\n",
       "      <td>0.000</td>\n",
       "      <td>0.0848</td>\n",
       "      <td>0.2690</td>\n",
       "      <td>179.798</td>\n",
       "      <td>3.556</td>\n",
       "      <td>4</td>\n",
       "      <td>pop</td>\n",
       "    </tr>\n",
       "    <tr>\n",
       "      <th>4</th>\n",
       "      <td>0.823</td>\n",
       "      <td>0.586</td>\n",
       "      <td>6</td>\n",
       "      <td>-6.606</td>\n",
       "      <td>0</td>\n",
       "      <td>0.2000</td>\n",
       "      <td>0.114000</td>\n",
       "      <td>0.000</td>\n",
       "      <td>0.1930</td>\n",
       "      <td>0.3470</td>\n",
       "      <td>125.971</td>\n",
       "      <td>3.175</td>\n",
       "      <td>4</td>\n",
       "      <td>pop</td>\n",
       "    </tr>\n",
       "    <tr>\n",
       "      <th>...</th>\n",
       "      <td>...</td>\n",
       "      <td>...</td>\n",
       "      <td>...</td>\n",
       "      <td>...</td>\n",
       "      <td>...</td>\n",
       "      <td>...</td>\n",
       "      <td>...</td>\n",
       "      <td>...</td>\n",
       "      <td>...</td>\n",
       "      <td>...</td>\n",
       "      <td>...</td>\n",
       "      <td>...</td>\n",
       "      <td>...</td>\n",
       "      <td>...</td>\n",
       "    </tr>\n",
       "    <tr>\n",
       "      <th>8811</th>\n",
       "      <td>0.574</td>\n",
       "      <td>0.983</td>\n",
       "      <td>0</td>\n",
       "      <td>-3.612</td>\n",
       "      <td>0</td>\n",
       "      <td>0.0818</td>\n",
       "      <td>0.001050</td>\n",
       "      <td>0.191</td>\n",
       "      <td>0.2900</td>\n",
       "      <td>0.7840</td>\n",
       "      <td>140.011</td>\n",
       "      <td>2.972</td>\n",
       "      <td>4</td>\n",
       "      <td>edm</td>\n",
       "    </tr>\n",
       "    <tr>\n",
       "      <th>8812</th>\n",
       "      <td>0.524</td>\n",
       "      <td>0.862</td>\n",
       "      <td>7</td>\n",
       "      <td>-5.135</td>\n",
       "      <td>1</td>\n",
       "      <td>0.0378</td>\n",
       "      <td>0.114000</td>\n",
       "      <td>20.300</td>\n",
       "      <td>0.1010</td>\n",
       "      <td>0.6880</td>\n",
       "      <td>106.954</td>\n",
       "      <td>2.601</td>\n",
       "      <td>4</td>\n",
       "      <td>edm</td>\n",
       "    </tr>\n",
       "    <tr>\n",
       "      <th>8813</th>\n",
       "      <td>0.557</td>\n",
       "      <td>0.661</td>\n",
       "      <td>1</td>\n",
       "      <td>-4.824</td>\n",
       "      <td>0</td>\n",
       "      <td>0.0858</td>\n",
       "      <td>0.094700</td>\n",
       "      <td>0.000</td>\n",
       "      <td>0.1420</td>\n",
       "      <td>0.6080</td>\n",
       "      <td>62.597</td>\n",
       "      <td>3.310</td>\n",
       "      <td>4</td>\n",
       "      <td>edm</td>\n",
       "    </tr>\n",
       "    <tr>\n",
       "      <th>8814</th>\n",
       "      <td>0.678</td>\n",
       "      <td>0.992</td>\n",
       "      <td>5</td>\n",
       "      <td>-7.128</td>\n",
       "      <td>1</td>\n",
       "      <td>0.0528</td>\n",
       "      <td>0.000425</td>\n",
       "      <td>88.000</td>\n",
       "      <td>0.1290</td>\n",
       "      <td>0.0695</td>\n",
       "      <td>125.013</td>\n",
       "      <td>0.850</td>\n",
       "      <td>4</td>\n",
       "      <td>edm</td>\n",
       "    </tr>\n",
       "    <tr>\n",
       "      <th>8815</th>\n",
       "      <td>0.784</td>\n",
       "      <td>0.954</td>\n",
       "      <td>11</td>\n",
       "      <td>-3.348</td>\n",
       "      <td>0</td>\n",
       "      <td>0.0366</td>\n",
       "      <td>0.007020</td>\n",
       "      <td>11.700</td>\n",
       "      <td>0.6740</td>\n",
       "      <td>0.6650</td>\n",
       "      <td>128.002</td>\n",
       "      <td>2.406</td>\n",
       "      <td>4</td>\n",
       "      <td>edm</td>\n",
       "    </tr>\n",
       "  </tbody>\n",
       "</table>\n",
       "<p>8816 rows × 14 columns</p>\n",
       "</div>"
      ],
      "text/plain": [
       "      danceability  energy  key  loudness  mode  speechiness  acousticness  \\\n",
       "0            0.795   0.859    2    -2.994     1       0.0542      0.036100   \n",
       "1            0.725   0.446    4    -8.958     0       0.0287      0.850000   \n",
       "2            0.566   0.769    7    -4.342     1       0.0872      0.018300   \n",
       "3            0.480   0.602   10    -6.335     0       0.3680      0.487000   \n",
       "4            0.823   0.586    6    -6.606     0       0.2000      0.114000   \n",
       "...            ...     ...  ...       ...   ...          ...           ...   \n",
       "8811         0.574   0.983    0    -3.612     0       0.0818      0.001050   \n",
       "8812         0.524   0.862    7    -5.135     1       0.0378      0.114000   \n",
       "8813         0.557   0.661    1    -4.824     0       0.0858      0.094700   \n",
       "8814         0.678   0.992    5    -7.128     1       0.0528      0.000425   \n",
       "8815         0.784   0.954   11    -3.348     0       0.0366      0.007020   \n",
       "\n",
       "      instrumentalness  liveness  valence    tempo  duration_min  \\\n",
       "0                0.000    0.0321   0.3560   96.986         2.802   \n",
       "1               24.300    0.1070   0.3110   90.024         3.122   \n",
       "2                0.000    0.1080   0.3850  170.036         3.185   \n",
       "3                0.000    0.0848   0.2690  179.798         3.556   \n",
       "4                0.000    0.1930   0.3470  125.971         3.175   \n",
       "...                ...       ...      ...      ...           ...   \n",
       "8811             0.191    0.2900   0.7840  140.011         2.972   \n",
       "8812            20.300    0.1010   0.6880  106.954         2.601   \n",
       "8813             0.000    0.1420   0.6080   62.597         3.310   \n",
       "8814            88.000    0.1290   0.0695  125.013         0.850   \n",
       "8815            11.700    0.6740   0.6650  128.002         2.406   \n",
       "\n",
       "      time_signature genre  \n",
       "0                  4   pop  \n",
       "1                  4   pop  \n",
       "2                  4   pop  \n",
       "3                  4   pop  \n",
       "4                  4   pop  \n",
       "...              ...   ...  \n",
       "8811               4   edm  \n",
       "8812               4   edm  \n",
       "8813               4   edm  \n",
       "8814               4   edm  \n",
       "8815               4   edm  \n",
       "\n",
       "[8816 rows x 14 columns]"
      ]
     },
     "execution_count": 17,
     "metadata": {},
     "output_type": "execute_result"
    }
   ],
   "source": [
    "data = raw_data.drop_duplicates().reset_index(drop=True)\n",
    "data['instrumentalness'] = data['instrumentalness'].mul(100).round(3)\n",
    "data['duration_ms'] = data['duration_ms'].div(60000).round(3)\n",
    "data.columns = data.columns.str.replace('duration_ms', 'duration_min')\n",
    "data"
   ]
  },
  {
   "cell_type": "code",
   "execution_count": 23,
   "metadata": {},
   "outputs": [
    {
     "data": {
      "image/png": "[encoded data removed]",
      "text/plain": [
       "<Figure size 2000x2000 with 16 Axes>"
      ]
     },
     "metadata": {},
     "output_type": "display_data"
    }
   ],
   "source": [
    "data.hist(layout=(4, 4), figsize=(20, 20))\n",
    "plt.show()"
   ]
  },
  {
   "cell_type": "code",
   "execution_count": 19,
   "metadata": {},
   "outputs": [
    {
     "data": {
      "text/plain": [
       "indie      976\n",
       "k-pop      967\n",
       "metal      966\n",
       "hip hop    963\n",
       "edm        946\n",
       "house      943\n",
       "country    829\n",
       "rap        802\n",
       "rock       739\n",
       "pop        685\n",
       "Name: genre, dtype: int64"
      ]
     },
     "execution_count": 19,
     "metadata": {},
     "output_type": "execute_result"
    }
   ],
   "source": [
    "label = data['genre']\n",
    "label.value_counts()"
   ]
  },
  {
   "cell_type": "code",
   "execution_count": null,
   "metadata": {},
   "outputs": [
    {
     "data": {
      "text/plain": [
       "8816"
      ]
     },
     "execution_count": 57,
     "metadata": {},
     "output_type": "execute_result"
    }
   ],
   "source": [
    "encoder = LabelEncoder()\n",
    "y = encoder.fit_transform(label)\n",
    "len(y)"
   ]
  },
  {
   "cell_type": "code",
   "execution_count": null,
   "metadata": {},
   "outputs": [
    {
     "data": {
      "text/plain": [
       "(8816, 13)"
      ]
     },
     "execution_count": 58,
     "metadata": {},
     "output_type": "execute_result"
    }
   ],
   "source": [
    "scaler = StandardScaler()\n",
    "x = scaler.fit_transform(np.array(data.iloc[:, :-1], dtype = float))\n",
    "x.shape"
   ]
  },
  {
   "cell_type": "code",
   "execution_count": null,
   "metadata": {},
   "outputs": [
    {
     "data": {
      "text/plain": [
       "(7052, 13)"
      ]
     },
     "execution_count": 66,
     "metadata": {},
     "output_type": "execute_result"
    }
   ],
   "source": [
    "x_train, x_test, y_train, y_test = train_test_split(x, y, test_size=0.2, shuffle=True, random_state=20)\n",
    "x_train.shape"
   ]
  },
  {
   "cell_type": "markdown",
   "metadata": {},
   "source": [
    "-------"
   ]
  },
  {
   "cell_type": "code",
   "execution_count": null,
   "metadata": {},
   "outputs": [],
   "source": [
    "from sklearn.linear_model import LogisticRegression\n",
    "from sklearn.neighbors import KNeighborsClassifier\n",
    "from sklearn.tree import DecisionTreeClassifier\n",
    "from sklearn.neural_network import MLPClassifier\n",
    "from sklearn.ensemble import BaggingClassifier\n",
    "from sklearn.svm import SVC\n",
    "\n",
    "from sklearn.model_selection import cross_val_score\n",
    "from sklearn.model_selection import RepeatedStratifiedKFold\n",
    "from sklearn.metrics import accuracy_score, f1_score, confusion_matrix\n",
    "\n",
    "import plotly.express as px"
   ]
  },
  {
   "cell_type": "code",
   "execution_count": null,
   "metadata": {},
   "outputs": [],
   "source": [
    "knn_model = KNeighborsClassifier()\n",
    "dec_model = DecisionTreeClassifier()\n",
    "mlp_model = MLPClassifier()\n",
    "svm_model = SVC()\n",
    "bagging_model = BaggingClassifier()\n",
    "lgs_model = LogisticRegression()"
   ]
  },
  {
   "cell_type": "code",
   "execution_count": null,
   "metadata": {},
   "outputs": [
    {
     "data": {
      "text/plain": [
       "0.28101018624555485"
      ]
     },
     "execution_count": 69,
     "metadata": {},
     "output_type": "execute_result"
    }
   ],
   "source": [
    "cv = RepeatedStratifiedKFold(n_splits=10, n_repeats=3, random_state=1)\n",
    "n_scores = cross_val_score(knn_model, x_train, y_train, scoring='accuracy', cv=cv, n_jobs=-1, error_score='raise')\n",
    "n_scores.mean()"
   ]
  },
  {
   "cell_type": "code",
   "execution_count": null,
   "metadata": {},
   "outputs": [
    {
     "name": "stderr",
     "output_type": "stream",
     "text": [
      "/home/sukivn/anaconda3/envs/min_ds-env/lib/python3.10/site-packages/sklearn/neural_network/_multilayer_perceptron.py:702: ConvergenceWarning: Stochastic Optimizer: Maximum iterations (200) reached and the optimization hasn't converged yet.\n",
      "  warnings.warn(\n"
     ]
    },
    {
     "data": {
      "text/html": [
       "<style>#sk-container-id-1 {color: black;background-color: white;}#sk-container-id-1 pre{padding: 0;}#sk-container-id-1 div.sk-toggleable {background-color: white;}#sk-container-id-1 label.sk-toggleable__label {cursor: pointer;display: block;width: 100%;margin-bottom: 0;padding: 0.3em;box-sizing: border-box;text-align: center;}#sk-container-id-1 label.sk-toggleable__label-arrow:before {content: \"▸\";float: left;margin-right: 0.25em;color: #696969;}#sk-container-id-1 label.sk-toggleable__label-arrow:hover:before {color: black;}#sk-container-id-1 div.sk-estimator:hover label.sk-toggleable__label-arrow:before {color: black;}#sk-container-id-1 div.sk-toggleable__content {max-height: 0;max-width: 0;overflow: hidden;text-align: left;background-color: #f0f8ff;}#sk-container-id-1 div.sk-toggleable__content pre {margin: 0.2em;color: black;border-radius: 0.25em;background-color: #f0f8ff;}#sk-container-id-1 input.sk-toggleable__control:checked~div.sk-toggleable__content {max-height: 200px;max-width: 100%;overflow: auto;}#sk-container-id-1 input.sk-toggleable__control:checked~label.sk-toggleable__label-arrow:before {content: \"▾\";}#sk-container-id-1 div.sk-estimator input.sk-toggleable__control:checked~label.sk-toggleable__label {background-color: #d4ebff;}#sk-container-id-1 div.sk-label input.sk-toggleable__control:checked~label.sk-toggleable__label {background-color: #d4ebff;}#sk-container-id-1 input.sk-hidden--visually {border: 0;clip: rect(1px 1px 1px 1px);clip: rect(1px, 1px, 1px, 1px);height: 1px;margin: -1px;overflow: hidden;padding: 0;position: absolute;width: 1px;}#sk-container-id-1 div.sk-estimator {font-family: monospace;background-color: #f0f8ff;border: 1px dotted black;border-radius: 0.25em;box-sizing: border-box;margin-bottom: 0.5em;}#sk-container-id-1 div.sk-estimator:hover {background-color: #d4ebff;}#sk-container-id-1 div.sk-parallel-item::after {content: \"\";width: 100%;border-bottom: 1px solid gray;flex-grow: 1;}#sk-container-id-1 div.sk-label:hover label.sk-toggleable__label {background-color: #d4ebff;}#sk-container-id-1 div.sk-serial::before {content: \"\";position: absolute;border-left: 1px solid gray;box-sizing: border-box;top: 0;bottom: 0;left: 50%;z-index: 0;}#sk-container-id-1 div.sk-serial {display: flex;flex-direction: column;align-items: center;background-color: white;padding-right: 0.2em;padding-left: 0.2em;position: relative;}#sk-container-id-1 div.sk-item {position: relative;z-index: 1;}#sk-container-id-1 div.sk-parallel {display: flex;align-items: stretch;justify-content: center;background-color: white;position: relative;}#sk-container-id-1 div.sk-item::before, #sk-container-id-1 div.sk-parallel-item::before {content: \"\";position: absolute;border-left: 1px solid gray;box-sizing: border-box;top: 0;bottom: 0;left: 50%;z-index: -1;}#sk-container-id-1 div.sk-parallel-item {display: flex;flex-direction: column;z-index: 1;position: relative;background-color: white;}#sk-container-id-1 div.sk-parallel-item:first-child::after {align-self: flex-end;width: 50%;}#sk-container-id-1 div.sk-parallel-item:last-child::after {align-self: flex-start;width: 50%;}#sk-container-id-1 div.sk-parallel-item:only-child::after {width: 0;}#sk-container-id-1 div.sk-dashed-wrapped {border: 1px dashed gray;margin: 0 0.4em 0.5em 0.4em;box-sizing: border-box;padding-bottom: 0.4em;background-color: white;}#sk-container-id-1 div.sk-label label {font-family: monospace;font-weight: bold;display: inline-block;line-height: 1.2em;}#sk-container-id-1 div.sk-label-container {text-align: center;}#sk-container-id-1 div.sk-container {/* jupyter's `normalize.less` sets `[hidden] { display: none; }` but bootstrap.min.css set `[hidden] { display: none !important; }` so we also need the `!important` here to be able to override the default hidden behavior on the sphinx rendered scikit-learn.org. See: https://github.com/scikit-learn/scikit-learn/issues/21755 */display: inline-block !important;position: relative;}#sk-container-id-1 div.sk-text-repr-fallback {display: none;}</style><div id=\"sk-container-id-1\" class=\"sk-top-container\"><div class=\"sk-text-repr-fallback\"><pre>BaggingClassifier()</pre><b>In a Jupyter environment, please rerun this cell to show the HTML representation or trust the notebook. <br />On GitHub, the HTML representation is unable to render, please try loading this page with nbviewer.org.</b></div><div class=\"sk-container\" hidden><div class=\"sk-item\"><div class=\"sk-estimator sk-toggleable\"><input class=\"sk-toggleable__control sk-hidden--visually\" id=\"sk-estimator-id-1\" type=\"checkbox\" checked><label for=\"sk-estimator-id-1\" class=\"sk-toggleable__label sk-toggleable__label-arrow\">BaggingClassifier</label><div class=\"sk-toggleable__content\"><pre>BaggingClassifier()</pre></div></div></div></div></div>"
      ],
      "text/plain": [
       "BaggingClassifier()"
      ]
     },
     "execution_count": 62,
     "metadata": {},
     "output_type": "execute_result"
    }
   ],
   "source": [
    "lgs_model.fit(x_train, y_train)\n",
    "knn_model.fit(x_train, y_train)\n",
    "dec_model.fit(x_train, y_train)\n",
    "mlp_model.fit(x_train, y_train)\n",
    "svm_model.fit(x_train, y_train)\n",
    "bagging_model.fit(x_train, y_train)"
   ]
  },
  {
   "cell_type": "code",
   "execution_count": null,
   "metadata": {},
   "outputs": [
    {
     "name": "stdout",
     "output_type": "stream",
     "text": [
      "Logistic Regression Accuracy 0.3299319727891156\n",
      "K-Nearest-Neighbors Accuracy: 0.28741496598639454\n",
      "Decision Tree Accuracy: 0.2619047619047619\n",
      "Neural Network Accuracy: 0.37188208616780044\n",
      "Bagging Algorithms Accuracy: 0.3599773242630385\n",
      "Support Vector Machine Accuracy: 0.3764172335600907\n"
     ]
    }
   ],
   "source": [
    "lgs_acc = lgs_model.score(x_test, y_test)\n",
    "knn_acc = knn_model.score(x_test, y_test)\n",
    "dec_acc = dec_model.score(x_test, y_test)\n",
    "mlp_acc = mlp_model.score(x_test, y_test)\n",
    "svm_acc = svm_model.score(x_test, y_test)\n",
    "bagging_acc = bagging_model.score(x_test, y_test)\n",
    "\n",
    "print(\"Logistic Regression Accuracy\", lgs_acc)\n",
    "print(\"K-Nearest-Neighbors Accuracy:\", knn_acc)\n",
    "print(\"Decision Tree Accuracy:\", dec_acc)\n",
    "print(\"Neural Network Accuracy:\", mlp_acc)\n",
    "print(\"Bagging Algorithms Accuracy:\", bagging_acc)\n",
    "print(\"Support Vector Machine Accuracy:\", svm_acc)"
   ]
  },
  {
   "cell_type": "code",
   "execution_count": null,
   "metadata": {},
   "outputs": [
    {
     "data": {
      "text/plain": [
       "0.23587223587223588"
      ]
     },
     "execution_count": 49,
     "metadata": {},
     "output_type": "execute_result"
    }
   ],
   "source": [
    "accuracy_score(y_test, knn_model.predict(x_test))"
   ]
  },
  {
   "cell_type": "code",
   "execution_count": null,
   "metadata": {},
   "outputs": [
    {
     "data": {
      "text/plain": [
       "0.1929095426239358"
      ]
     },
     "execution_count": 50,
     "metadata": {},
     "output_type": "execute_result"
    }
   ],
   "source": [
    "f1_score(y_test, knn_model.predict(x_test), average='weighted')"
   ]
  },
  {
   "cell_type": "code",
   "execution_count": null,
   "metadata": {},
   "outputs": [
    {
     "data": {
      "application/vnd.plotly.v1+json": {
       "config": {
        "plotlyServerURL": "https://plot.ly"
       },
       "data": [
        {
         "alignmentgroup": "True",
         "hovertemplate": "color=Logistic Regression<br>Model=%{x}<br>Accuracy=%{y}<extra></extra>",
         "legendgroup": "Logistic Regression",
         "marker": {
          "color": "#636efa",
          "pattern": {
           "shape": ""
          }
         },
         "name": "Logistic Regression",
         "offsetgroup": "Logistic Regression",
         "orientation": "v",
         "showlegend": true,
         "textposition": "auto",
         "type": "bar",
         "x": [
          "Logistic Regression"
         ],
         "xaxis": "x",
         "y": [
          0.3299319727891156
         ],
         "yaxis": "y"
        },
        {
         "alignmentgroup": "True",
         "hovertemplate": "color=K-Nearest-Neighbors<br>Model=%{x}<br>Accuracy=%{y}<extra></extra>",
         "legendgroup": "K-Nearest-Neighbors",
         "marker": {
          "color": "#EF553B",
          "pattern": {
           "shape": ""
          }
         },
         "name": "K-Nearest-Neighbors",
         "offsetgroup": "K-Nearest-Neighbors",
         "orientation": "v",
         "showlegend": true,
         "textposition": "auto",
         "type": "bar",
         "x": [
          "K-Nearest-Neighbors"
         ],
         "xaxis": "x",
         "y": [
          0.28741496598639454
         ],
         "yaxis": "y"
        },
        {
         "alignmentgroup": "True",
         "hovertemplate": "color=Decision Tree<br>Model=%{x}<br>Accuracy=%{y}<extra></extra>",
         "legendgroup": "Decision Tree",
         "marker": {
          "color": "#00cc96",
          "pattern": {
           "shape": ""
          }
         },
         "name": "Decision Tree",
         "offsetgroup": "Decision Tree",
         "orientation": "v",
         "showlegend": true,
         "textposition": "auto",
         "type": "bar",
         "x": [
          "Decision Tree"
         ],
         "xaxis": "x",
         "y": [
          0.2619047619047619
         ],
         "yaxis": "y"
        },
        {
         "alignmentgroup": "True",
         "hovertemplate": "color=Neural Network<br>Model=%{x}<br>Accuracy=%{y}<extra></extra>",
         "legendgroup": "Neural Network",
         "marker": {
          "color": "#ab63fa",
          "pattern": {
           "shape": ""
          }
         },
         "name": "Neural Network",
         "offsetgroup": "Neural Network",
         "orientation": "v",
         "showlegend": true,
         "textposition": "auto",
         "type": "bar",
         "x": [
          "Neural Network"
         ],
         "xaxis": "x",
         "y": [
          0.37188208616780044
         ],
         "yaxis": "y"
        },
        {
         "alignmentgroup": "True",
         "hovertemplate": "color=Bagging Algorithms<br>Model=%{x}<br>Accuracy=%{y}<extra></extra>",
         "legendgroup": "Bagging Algorithms",
         "marker": {
          "color": "#FFA15A",
          "pattern": {
           "shape": ""
          }
         },
         "name": "Bagging Algorithms",
         "offsetgroup": "Bagging Algorithms",
         "orientation": "v",
         "showlegend": true,
         "textposition": "auto",
         "type": "bar",
         "x": [
          "Bagging Algorithms"
         ],
         "xaxis": "x",
         "y": [
          0.3599773242630385
         ],
         "yaxis": "y"
        },
        {
         "alignmentgroup": "True",
         "hovertemplate": "color=Support Vector Machine<br>Model=%{x}<br>Accuracy=%{y}<extra></extra>",
         "legendgroup": "Support Vector Machine",
         "marker": {
          "color": "#19d3f3",
          "pattern": {
           "shape": ""
          }
         },
         "name": "Support Vector Machine",
         "offsetgroup": "Support Vector Machine",
         "orientation": "v",
         "showlegend": true,
         "textposition": "auto",
         "type": "bar",
         "x": [
          "Support Vector Machine"
         ],
         "xaxis": "x",
         "y": [
          0.3764172335600907
         ],
         "yaxis": "y"
        }
       ],
       "layout": {
        "barmode": "relative",
        "legend": {
         "title": {
          "text": "color"
         },
         "tracegroupgap": 0
        },
        "template": {
         "data": {
          "bar": [
           {
            "error_x": {
             "color": "#2a3f5f"
            },
            "error_y": {
             "color": "#2a3f5f"
            },
            "marker": {
             "line": {
              "color": "#E5ECF6",
              "width": 0.5
             },
             "pattern": {
              "fillmode": "overlay",
              "size": 10,
              "solidity": 0.2
             }
            },
            "type": "bar"
           }
          ],
          "barpolar": [
           {
            "marker": {
             "line": {
              "color": "#E5ECF6",
              "width": 0.5
             },
             "pattern": {
              "fillmode": "overlay",
              "size": 10,
              "solidity": 0.2
             }
            },
            "type": "barpolar"
           }
          ],
          "carpet": [
           {
            "aaxis": {
             "endlinecolor": "#2a3f5f",
             "gridcolor": "white",
             "linecolor": "white",
             "minorgridcolor": "white",
             "startlinecolor": "#2a3f5f"
            },
            "baxis": {
             "endlinecolor": "#2a3f5f",
             "gridcolor": "white",
             "linecolor": "white",
             "minorgridcolor": "white",
             "startlinecolor": "#2a3f5f"
            },
            "type": "carpet"
           }
          ],
          "choropleth": [
           {
            "colorbar": {
             "outlinewidth": 0,
             "ticks": ""
            },
            "type": "choropleth"
           }
          ],
          "contour": [
           {
            "colorbar": {
             "outlinewidth": 0,
             "ticks": ""
            },
            "colorscale": [
             [
              0,
              "#0d0887"
             ],
             [
              0.1111111111111111,
              "#46039f"
             ],
             [
              0.2222222222222222,
              "#7201a8"
             ],
             [
              0.3333333333333333,
              "#9c179e"
             ],
             [
              0.4444444444444444,
              "#bd3786"
             ],
             [
              0.5555555555555556,
              "#d8576b"
             ],
             [
              0.6666666666666666,
              "#ed7953"
             ],
             [
              0.7777777777777778,
              "#fb9f3a"
             ],
             [
              0.8888888888888888,
              "#fdca26"
             ],
             [
              1,
              "#f0f921"
             ]
            ],
            "type": "contour"
           }
          ],
          "contourcarpet": [
           {
            "colorbar": {
             "outlinewidth": 0,
             "ticks": ""
            },
            "type": "contourcarpet"
           }
          ],
          "heatmap": [
           {
            "colorbar": {
             "outlinewidth": 0,
             "ticks": ""
            },
            "colorscale": [
             [
              0,
              "#0d0887"
             ],
             [
              0.1111111111111111,
              "#46039f"
             ],
             [
              0.2222222222222222,
              "#7201a8"
             ],
             [
              0.3333333333333333,
              "#9c179e"
             ],
             [
              0.4444444444444444,
              "#bd3786"
             ],
             [
              0.5555555555555556,
              "#d8576b"
             ],
             [
              0.6666666666666666,
              "#ed7953"
             ],
             [
              0.7777777777777778,
              "#fb9f3a"
             ],
             [
              0.8888888888888888,
              "#fdca26"
             ],
             [
              1,
              "#f0f921"
             ]
            ],
            "type": "heatmap"
           }
          ],
          "heatmapgl": [
           {
            "colorbar": {
             "outlinewidth": 0,
             "ticks": ""
            },
            "colorscale": [
             [
              0,
              "#0d0887"
             ],
             [
              0.1111111111111111,
              "#46039f"
             ],
             [
              0.2222222222222222,
              "#7201a8"
             ],
             [
              0.3333333333333333,
              "#9c179e"
             ],
             [
              0.4444444444444444,
              "#bd3786"
             ],
             [
              0.5555555555555556,
              "#d8576b"
             ],
             [
              0.6666666666666666,
              "#ed7953"
             ],
             [
              0.7777777777777778,
              "#fb9f3a"
             ],
             [
              0.8888888888888888,
              "#fdca26"
             ],
             [
              1,
              "#f0f921"
             ]
            ],
            "type": "heatmapgl"
           }
          ],
          "histogram": [
           {
            "marker": {
             "pattern": {
              "fillmode": "overlay",
              "size": 10,
              "solidity": 0.2
             }
            },
            "type": "histogram"
           }
          ],
          "histogram2d": [
           {
            "colorbar": {
             "outlinewidth": 0,
             "ticks": ""
            },
            "colorscale": [
             [
              0,
              "#0d0887"
             ],
             [
              0.1111111111111111,
              "#46039f"
             ],
             [
              0.2222222222222222,
              "#7201a8"
             ],
             [
              0.3333333333333333,
              "#9c179e"
             ],
             [
              0.4444444444444444,
              "#bd3786"
             ],
             [
              0.5555555555555556,
              "#d8576b"
             ],
             [
              0.6666666666666666,
              "#ed7953"
             ],
             [
              0.7777777777777778,
              "#fb9f3a"
             ],
             [
              0.8888888888888888,
              "#fdca26"
             ],
             [
              1,
              "#f0f921"
             ]
            ],
            "type": "histogram2d"
           }
          ],
          "histogram2dcontour": [
           {
            "colorbar": {
             "outlinewidth": 0,
             "ticks": ""
            },
            "colorscale": [
             [
              0,
              "#0d0887"
             ],
             [
              0.1111111111111111,
              "#46039f"
             ],
             [
              0.2222222222222222,
              "#7201a8"
             ],
             [
              0.3333333333333333,
              "#9c179e"
             ],
             [
              0.4444444444444444,
              "#bd3786"
             ],
             [
              0.5555555555555556,
              "#d8576b"
             ],
             [
              0.6666666666666666,
              "#ed7953"
             ],
             [
              0.7777777777777778,
              "#fb9f3a"
             ],
             [
              0.8888888888888888,
              "#fdca26"
             ],
             [
              1,
              "#f0f921"
             ]
            ],
            "type": "histogram2dcontour"
           }
          ],
          "mesh3d": [
           {
            "colorbar": {
             "outlinewidth": 0,
             "ticks": ""
            },
            "type": "mesh3d"
           }
          ],
          "parcoords": [
           {
            "line": {
             "colorbar": {
              "outlinewidth": 0,
              "ticks": ""
             }
            },
            "type": "parcoords"
           }
          ],
          "pie": [
           {
            "automargin": true,
            "type": "pie"
           }
          ],
          "scatter": [
           {
            "fillpattern": {
             "fillmode": "overlay",
             "size": 10,
             "solidity": 0.2
            },
            "type": "scatter"
           }
          ],
          "scatter3d": [
           {
            "line": {
             "colorbar": {
              "outlinewidth": 0,
              "ticks": ""
             }
            },
            "marker": {
             "colorbar": {
              "outlinewidth": 0,
              "ticks": ""
             }
            },
            "type": "scatter3d"
           }
          ],
          "scattercarpet": [
           {
            "marker": {
             "colorbar": {
              "outlinewidth": 0,
              "ticks": ""
             }
            },
            "type": "scattercarpet"
           }
          ],
          "scattergeo": [
           {
            "marker": {
             "colorbar": {
              "outlinewidth": 0,
              "ticks": ""
             }
            },
            "type": "scattergeo"
           }
          ],
          "scattergl": [
           {
            "marker": {
             "colorbar": {
              "outlinewidth": 0,
              "ticks": ""
             }
            },
            "type": "scattergl"
           }
          ],
          "scattermapbox": [
           {
            "marker": {
             "colorbar": {
              "outlinewidth": 0,
              "ticks": ""
             }
            },
            "type": "scattermapbox"
           }
          ],
          "scatterpolar": [
           {
            "marker": {
             "colorbar": {
              "outlinewidth": 0,
              "ticks": ""
             }
            },
            "type": "scatterpolar"
           }
          ],
          "scatterpolargl": [
           {
            "marker": {
             "colorbar": {
              "outlinewidth": 0,
              "ticks": ""
             }
            },
            "type": "scatterpolargl"
           }
          ],
          "scatterternary": [
           {
            "marker": {
             "colorbar": {
              "outlinewidth": 0,
              "ticks": ""
             }
            },
            "type": "scatterternary"
           }
          ],
          "surface": [
           {
            "colorbar": {
             "outlinewidth": 0,
             "ticks": ""
            },
            "colorscale": [
             [
              0,
              "#0d0887"
             ],
             [
              0.1111111111111111,
              "#46039f"
             ],
             [
              0.2222222222222222,
              "#7201a8"
             ],
             [
              0.3333333333333333,
              "#9c179e"
             ],
             [
              0.4444444444444444,
              "#bd3786"
             ],
             [
              0.5555555555555556,
              "#d8576b"
             ],
             [
              0.6666666666666666,
              "#ed7953"
             ],
             [
              0.7777777777777778,
              "#fb9f3a"
             ],
             [
              0.8888888888888888,
              "#fdca26"
             ],
             [
              1,
              "#f0f921"
             ]
            ],
            "type": "surface"
           }
          ],
          "table": [
           {
            "cells": {
             "fill": {
              "color": "#EBF0F8"
             },
             "line": {
              "color": "white"
             }
            },
            "header": {
             "fill": {
              "color": "#C8D4E3"
             },
             "line": {
              "color": "white"
             }
            },
            "type": "table"
           }
          ]
         },
         "layout": {
          "annotationdefaults": {
           "arrowcolor": "#2a3f5f",
           "arrowhead": 0,
           "arrowwidth": 1
          },
          "autotypenumbers": "strict",
          "coloraxis": {
           "colorbar": {
            "outlinewidth": 0,
            "ticks": ""
           }
          },
          "colorscale": {
           "diverging": [
            [
             0,
             "#8e0152"
            ],
            [
             0.1,
             "#c51b7d"
            ],
            [
             0.2,
             "#de77ae"
            ],
            [
             0.3,
             "#f1b6da"
            ],
            [
             0.4,
             "#fde0ef"
            ],
            [
             0.5,
             "#f7f7f7"
            ],
            [
             0.6,
             "#e6f5d0"
            ],
            [
             0.7,
             "#b8e186"
            ],
            [
             0.8,
             "#7fbc41"
            ],
            [
             0.9,
             "#4d9221"
            ],
            [
             1,
             "#276419"
            ]
           ],
           "sequential": [
            [
             0,
             "#0d0887"
            ],
            [
             0.1111111111111111,
             "#46039f"
            ],
            [
             0.2222222222222222,
             "#7201a8"
            ],
            [
             0.3333333333333333,
             "#9c179e"
            ],
            [
             0.4444444444444444,
             "#bd3786"
            ],
            [
             0.5555555555555556,
             "#d8576b"
            ],
            [
             0.6666666666666666,
             "#ed7953"
            ],
            [
             0.7777777777777778,
             "#fb9f3a"
            ],
            [
             0.8888888888888888,
             "#fdca26"
            ],
            [
             1,
             "#f0f921"
            ]
           ],
           "sequentialminus": [
            [
             0,
             "#0d0887"
            ],
            [
             0.1111111111111111,
             "#46039f"
            ],
            [
             0.2222222222222222,
             "#7201a8"
            ],
            [
             0.3333333333333333,
             "#9c179e"
            ],
            [
             0.4444444444444444,
             "#bd3786"
            ],
            [
             0.5555555555555556,
             "#d8576b"
            ],
            [
             0.6666666666666666,
             "#ed7953"
            ],
            [
             0.7777777777777778,
             "#fb9f3a"
            ],
            [
             0.8888888888888888,
             "#fdca26"
            ],
            [
             1,
             "#f0f921"
            ]
           ]
          },
          "colorway": [
           "#636efa",
           "#EF553B",
           "#00cc96",
           "#ab63fa",
           "#FFA15A",
           "#19d3f3",
           "#FF6692",
           "#B6E880",
           "#FF97FF",
           "#FECB52"
          ],
          "font": {
           "color": "#2a3f5f"
          },
          "geo": {
           "bgcolor": "white",
           "lakecolor": "white",
           "landcolor": "#E5ECF6",
           "showlakes": true,
           "showland": true,
           "subunitcolor": "white"
          },
          "hoverlabel": {
           "align": "left"
          },
          "hovermode": "closest",
          "mapbox": {
           "style": "light"
          },
          "paper_bgcolor": "white",
          "plot_bgcolor": "#E5ECF6",
          "polar": {
           "angularaxis": {
            "gridcolor": "white",
            "linecolor": "white",
            "ticks": ""
           },
           "bgcolor": "#E5ECF6",
           "radialaxis": {
            "gridcolor": "white",
            "linecolor": "white",
            "ticks": ""
           }
          },
          "scene": {
           "xaxis": {
            "backgroundcolor": "#E5ECF6",
            "gridcolor": "white",
            "gridwidth": 2,
            "linecolor": "white",
            "showbackground": true,
            "ticks": "",
            "zerolinecolor": "white"
           },
           "yaxis": {
            "backgroundcolor": "#E5ECF6",
            "gridcolor": "white",
            "gridwidth": 2,
            "linecolor": "white",
            "showbackground": true,
            "ticks": "",
            "zerolinecolor": "white"
           },
           "zaxis": {
            "backgroundcolor": "#E5ECF6",
            "gridcolor": "white",
            "gridwidth": 2,
            "linecolor": "white",
            "showbackground": true,
            "ticks": "",
            "zerolinecolor": "white"
           }
          },
          "shapedefaults": {
           "line": {
            "color": "#2a3f5f"
           }
          },
          "ternary": {
           "aaxis": {
            "gridcolor": "white",
            "linecolor": "white",
            "ticks": ""
           },
           "baxis": {
            "gridcolor": "white",
            "linecolor": "white",
            "ticks": ""
           },
           "bgcolor": "#E5ECF6",
           "caxis": {
            "gridcolor": "white",
            "linecolor": "white",
            "ticks": ""
           }
          },
          "title": {
           "x": 0.05
          },
          "xaxis": {
           "automargin": true,
           "gridcolor": "white",
           "linecolor": "white",
           "ticks": "",
           "title": {
            "standoff": 15
           },
           "zerolinecolor": "white",
           "zerolinewidth": 2
          },
          "yaxis": {
           "automargin": true,
           "gridcolor": "white",
           "linecolor": "white",
           "ticks": "",
           "title": {
            "standoff": 15
           },
           "zerolinecolor": "white",
           "zerolinewidth": 2
          }
         }
        },
        "title": {
         "text": "Model Accuracy Comparison"
        },
        "xaxis": {
         "anchor": "y",
         "domain": [
          0,
          1
         ],
         "title": {
          "text": "Model"
         }
        },
        "yaxis": {
         "anchor": "x",
         "domain": [
          0,
          1
         ],
         "title": {
          "text": "Accuracy"
         }
        }
       }
      }
     },
     "metadata": {},
     "output_type": "display_data"
    }
   ],
   "source": [
    "fig = px.bar(\n",
    "    x=[\"Logistic Regression\", \"K-Nearest-Neighbors\", \"Decision Tree\", \"Neural Network\", \"Bagging Algorithms\", \"Support Vector Machine\"],\n",
    "    y=[lgs_acc, knn_acc, dec_acc, mlp_acc, bagging_acc, svm_acc],\n",
    "    color=[\"Logistic Regression\", \"K-Nearest-Neighbors\", \"Decision Tree\", \"Neural Network\", \"Bagging Algorithms\", \"Support Vector Machine\"],\n",
    "    labels={'x': \"Model\", 'y': \"Accuracy\"},\n",
    "    title=\"Model Accuracy Comparison\"\n",
    ")\n",
    "\n",
    "fig.show()"
   ]
  },
  {
   "cell_type": "code",
   "execution_count": null,
   "metadata": {},
   "outputs": [],
   "source": []
  }
 ],
 "metadata": {
  "kernelspec": {
   "display_name": "Python 3.10.6 ('min_ds-env')",
   "language": "python",
   "name": "python3"
  },
  "language_info": {
   "codemirror_mode": {
    "name": "ipython",
    "version": 3
   },
   "file_extension": ".py",
   "mimetype": "text/x-python",
   "name": "python",
   "nbconvert_exporter": "python",
   "pygments_lexer": "ipython3",
   "version": "3.10.6"
  },
  "orig_nbformat": 4,
  "vscode": {
   "interpreter": {
    "hash": "3b298dc8b5ec9755d3b5e5b4831b9bf767d0a22ad509bcbd5b6f1f1a5498747c"
   }
  }
 },
 "nbformat": 4,
 "nbformat_minor": 2
}
