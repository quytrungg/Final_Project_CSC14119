{
 "cells": [
  {
   "attachments": {},
   "cell_type": "markdown",
   "metadata": {},
   "source": [
    "# <b>Section 3: Data Modeling</b>\n",
    "\n",
    "### <b><u>Step 0</u>: Download library for support</b>"
   ]
  },
  {
   "cell_type": "code",
   "execution_count": null,
   "metadata": {},
   "outputs": [],
   "source": [
    "! pip install ipynb"
   ]
  },
  {
   "attachments": {},
   "cell_type": "markdown",
   "metadata": {},
   "source": [
    "### <b><u>Step 1</u>: Import library</b>\n",
    "\n",
    "These are the main libraries used for data crawling:\n",
    "- `sys`: Spotipy is a lightweight Python library for the Spotify Web API. With Spotipy you get full access to all of the music data provided by the Spotify platform.\n",
    "- `numpy`: used to get spotipy's client_id, secret and redirect uri in .env file\n",
    "- `pandas`: used to get accessed to .env files in system\n",
    "- `matplotlib`: used to support write data to csv files\n",
    "- `sklearn`: used to support write data to csv files"
   ]
  },
  {
   "cell_type": "code",
   "execution_count": 1,
   "metadata": {},
   "outputs": [],
   "source": [
    "import sys\n",
    "sys.path.insert(0, '../../data_exploration/components/')\n",
    "sys.path.insert(0, '../../data')"
   ]
  },
  {
   "cell_type": "code",
   "execution_count": 100,
   "metadata": {},
   "outputs": [],
   "source": [
    "import numpy as np\n",
    "import pandas as pd\n",
    "import matplotlib.pyplot as plt\n",
    "from sklearn.cluster import KMeans\n",
    "from sklearn import metrics\n",
    "from ipynb.fs.full.songs_data_exploration import songs_df"
   ]
  },
  {
   "cell_type": "code",
   "execution_count": 101,
   "metadata": {},
   "outputs": [
    {
     "data": {
      "text/html": [
       "<div>\n",
       "<style scoped>\n",
       "    .dataframe tbody tr th:only-of-type {\n",
       "        vertical-align: middle;\n",
       "    }\n",
       "\n",
       "    .dataframe tbody tr th {\n",
       "        vertical-align: top;\n",
       "    }\n",
       "\n",
       "    .dataframe thead th {\n",
       "        text-align: right;\n",
       "    }\n",
       "</style>\n",
       "<table border=\"1\" class=\"dataframe\">\n",
       "  <thead>\n",
       "    <tr style=\"text-align: right;\">\n",
       "      <th></th>\n",
       "      <th>id</th>\n",
       "      <th>name</th>\n",
       "      <th>artist</th>\n",
       "      <th>genres</th>\n",
       "      <th>artist_followers</th>\n",
       "      <th>artist_popularity</th>\n",
       "      <th>markets</th>\n",
       "      <th>album</th>\n",
       "      <th>released_date</th>\n",
       "      <th>album_popularity</th>\n",
       "      <th>duration</th>\n",
       "      <th>popularity</th>\n",
       "      <th>main_genre</th>\n",
       "      <th>artists_count</th>\n",
       "      <th>year</th>\n",
       "      <th>month</th>\n",
       "      <th>cluster</th>\n",
       "    </tr>\n",
       "  </thead>\n",
       "  <tbody>\n",
       "    <tr>\n",
       "      <th>0</th>\n",
       "      <td>1RDvyOk4WtPCtoqciJwVn8</td>\n",
       "      <td>Dreamers [Music from the FIFA World Cup Qatar ...</td>\n",
       "      <td>[Jung Kook, BTS, FIFA Sound]</td>\n",
       "      <td>[k-pop boy group, k-pop]</td>\n",
       "      <td>58961886</td>\n",
       "      <td>100</td>\n",
       "      <td>183</td>\n",
       "      <td>Dreamers [Music from the FIFA World Cup Qatar ...</td>\n",
       "      <td>2022-11-20</td>\n",
       "      <td>81</td>\n",
       "      <td>201391</td>\n",
       "      <td>92</td>\n",
       "      <td>k-pop boy group</td>\n",
       "      <td>3</td>\n",
       "      <td>2022</td>\n",
       "      <td>11</td>\n",
       "      <td>1</td>\n",
       "    </tr>\n",
       "    <tr>\n",
       "      <th>1</th>\n",
       "      <td>6A1IbMKwjvXibcrU1sdqKH</td>\n",
       "      <td>Em Là</td>\n",
       "      <td>[MONO, Onionn]</td>\n",
       "      <td>None</td>\n",
       "      <td>100162</td>\n",
       "      <td>77</td>\n",
       "      <td>182</td>\n",
       "      <td>22</td>\n",
       "      <td>2022-08-18</td>\n",
       "      <td>60</td>\n",
       "      <td>197333</td>\n",
       "      <td>62</td>\n",
       "      <td>None</td>\n",
       "      <td>2</td>\n",
       "      <td>2022</td>\n",
       "      <td>8</td>\n",
       "      <td>0</td>\n",
       "    </tr>\n",
       "    <tr>\n",
       "      <th>2</th>\n",
       "      <td>7bFFUPBiF15n8m8RziqS4o</td>\n",
       "      <td>dự báo thời tiết hôm nay mưa</td>\n",
       "      <td>[GREY D]</td>\n",
       "      <td>[v-pop]</td>\n",
       "      <td>39690</td>\n",
       "      <td>56</td>\n",
       "      <td>182</td>\n",
       "      <td>dự báo thời tiết hôm nay mưa – Maxi Single</td>\n",
       "      <td>2022-11-22</td>\n",
       "      <td>52</td>\n",
       "      <td>281493</td>\n",
       "      <td>62</td>\n",
       "      <td>v-pop</td>\n",
       "      <td>1</td>\n",
       "      <td>2022</td>\n",
       "      <td>11</td>\n",
       "      <td>0</td>\n",
       "    </tr>\n",
       "    <tr>\n",
       "      <th>3</th>\n",
       "      <td>4QjxvzEFwb63NZ1pp3wvHy</td>\n",
       "      <td>Chết Trong Em</td>\n",
       "      <td>[Thịnh Suy]</td>\n",
       "      <td>[vietnamese singer-songwriter, v-pop]</td>\n",
       "      <td>359817</td>\n",
       "      <td>54</td>\n",
       "      <td>183</td>\n",
       "      <td>Chết Trong Em</td>\n",
       "      <td>2022-10-31</td>\n",
       "      <td>50</td>\n",
       "      <td>256663</td>\n",
       "      <td>62</td>\n",
       "      <td>vietnamese singer-songwriter</td>\n",
       "      <td>1</td>\n",
       "      <td>2022</td>\n",
       "      <td>10</td>\n",
       "      <td>0</td>\n",
       "    </tr>\n",
       "    <tr>\n",
       "      <th>4</th>\n",
       "      <td>5p8ThxM2OhJ0igfxkz0Z1q</td>\n",
       "      <td>Wild Flower (with youjeen)</td>\n",
       "      <td>[RM]</td>\n",
       "      <td>[k-rap]</td>\n",
       "      <td>12005881</td>\n",
       "      <td>81</td>\n",
       "      <td>183</td>\n",
       "      <td>Indigo</td>\n",
       "      <td>2022-12-02</td>\n",
       "      <td>85</td>\n",
       "      <td>273499</td>\n",
       "      <td>88</td>\n",
       "      <td>k-rap</td>\n",
       "      <td>1</td>\n",
       "      <td>2022</td>\n",
       "      <td>12</td>\n",
       "      <td>0</td>\n",
       "    </tr>\n",
       "  </tbody>\n",
       "</table>\n",
       "</div>"
      ],
      "text/plain": [
       "                       id                                               name  \\\n",
       "0  1RDvyOk4WtPCtoqciJwVn8  Dreamers [Music from the FIFA World Cup Qatar ...   \n",
       "1  6A1IbMKwjvXibcrU1sdqKH                                              Em Là   \n",
       "2  7bFFUPBiF15n8m8RziqS4o                       dự báo thời tiết hôm nay mưa   \n",
       "3  4QjxvzEFwb63NZ1pp3wvHy                                      Chết Trong Em   \n",
       "4  5p8ThxM2OhJ0igfxkz0Z1q                         Wild Flower (with youjeen)   \n",
       "\n",
       "                         artist                                 genres  \\\n",
       "0  [Jung Kook, BTS, FIFA Sound]               [k-pop boy group, k-pop]   \n",
       "1                [MONO, Onionn]                                   None   \n",
       "2                      [GREY D]                                [v-pop]   \n",
       "3                   [Thịnh Suy]  [vietnamese singer-songwriter, v-pop]   \n",
       "4                          [RM]                                [k-rap]   \n",
       "\n",
       "   artist_followers  artist_popularity  markets  \\\n",
       "0          58961886                100      183   \n",
       "1            100162                 77      182   \n",
       "2             39690                 56      182   \n",
       "3            359817                 54      183   \n",
       "4          12005881                 81      183   \n",
       "\n",
       "                                               album released_date  \\\n",
       "0  Dreamers [Music from the FIFA World Cup Qatar ...    2022-11-20   \n",
       "1                                                 22    2022-08-18   \n",
       "2         dự báo thời tiết hôm nay mưa – Maxi Single    2022-11-22   \n",
       "3                                      Chết Trong Em    2022-10-31   \n",
       "4                                             Indigo    2022-12-02   \n",
       "\n",
       "   album_popularity  duration  popularity                    main_genre  \\\n",
       "0                81    201391          92               k-pop boy group   \n",
       "1                60    197333          62                          None   \n",
       "2                52    281493          62                         v-pop   \n",
       "3                50    256663          62  vietnamese singer-songwriter   \n",
       "4                85    273499          88                         k-rap   \n",
       "\n",
       "   artists_count  year  month  cluster  \n",
       "0              3  2022     11        1  \n",
       "1              2  2022      8        0  \n",
       "2              1  2022     11        0  \n",
       "3              1  2022     10        0  \n",
       "4              1  2022     12        0  "
      ]
     },
     "execution_count": 101,
     "metadata": {},
     "output_type": "execute_result"
    }
   ],
   "source": [
    "songs_df.head()"
   ]
  },
  {
   "cell_type": "code",
   "execution_count": 102,
   "metadata": {},
   "outputs": [
    {
     "name": "stdout",
     "output_type": "stream",
     "text": [
      "<class 'pandas.core.frame.DataFrame'>\n",
      "Int64Index: 3000 entries, 0 to 2999\n",
      "Data columns (total 17 columns):\n",
      " #   Column             Non-Null Count  Dtype         \n",
      "---  ------             --------------  -----         \n",
      " 0   id                 3000 non-null   object        \n",
      " 1   name               3000 non-null   object        \n",
      " 2   artist             3000 non-null   object        \n",
      " 3   genres             3000 non-null   object        \n",
      " 4   artist_followers   3000 non-null   int64         \n",
      " 5   artist_popularity  3000 non-null   int64         \n",
      " 6   markets            3000 non-null   int64         \n",
      " 7   album              3000 non-null   object        \n",
      " 8   released_date      3000 non-null   datetime64[ns]\n",
      " 9   album_popularity   3000 non-null   int64         \n",
      " 10  duration           3000 non-null   int64         \n",
      " 11  popularity         3000 non-null   int64         \n",
      " 12  main_genre         3000 non-null   object        \n",
      " 13  artists_count      3000 non-null   int64         \n",
      " 14  year               3000 non-null   int64         \n",
      " 15  month              3000 non-null   int64         \n",
      " 16  cluster            3000 non-null   int32         \n",
      "dtypes: datetime64[ns](1), int32(1), int64(9), object(6)\n",
      "memory usage: 410.2+ KB\n"
     ]
    }
   ],
   "source": [
    "songs_df.info()"
   ]
  },
  {
   "cell_type": "code",
   "execution_count": 112,
   "metadata": {},
   "outputs": [
    {
     "data": {
      "text/html": [
       "<div>\n",
       "<style scoped>\n",
       "    .dataframe tbody tr th:only-of-type {\n",
       "        vertical-align: middle;\n",
       "    }\n",
       "\n",
       "    .dataframe tbody tr th {\n",
       "        vertical-align: top;\n",
       "    }\n",
       "\n",
       "    .dataframe thead th {\n",
       "        text-align: right;\n",
       "    }\n",
       "</style>\n",
       "<table border=\"1\" class=\"dataframe\">\n",
       "  <thead>\n",
       "    <tr style=\"text-align: right;\">\n",
       "      <th></th>\n",
       "      <th>artist_popularity</th>\n",
       "      <th>artists_count</th>\n",
       "      <th>year</th>\n",
       "      <th>month</th>\n",
       "      <th>main_genre</th>\n",
       "    </tr>\n",
       "  </thead>\n",
       "  <tbody>\n",
       "    <tr>\n",
       "      <th>0</th>\n",
       "      <td>100</td>\n",
       "      <td>3</td>\n",
       "      <td>2022</td>\n",
       "      <td>11</td>\n",
       "      <td>k-pop boy group</td>\n",
       "    </tr>\n",
       "    <tr>\n",
       "      <th>1</th>\n",
       "      <td>77</td>\n",
       "      <td>2</td>\n",
       "      <td>2022</td>\n",
       "      <td>8</td>\n",
       "      <td>None</td>\n",
       "    </tr>\n",
       "    <tr>\n",
       "      <th>2</th>\n",
       "      <td>56</td>\n",
       "      <td>1</td>\n",
       "      <td>2022</td>\n",
       "      <td>11</td>\n",
       "      <td>v-pop</td>\n",
       "    </tr>\n",
       "    <tr>\n",
       "      <th>3</th>\n",
       "      <td>54</td>\n",
       "      <td>1</td>\n",
       "      <td>2022</td>\n",
       "      <td>10</td>\n",
       "      <td>vietnamese singer-songwriter</td>\n",
       "    </tr>\n",
       "    <tr>\n",
       "      <th>4</th>\n",
       "      <td>81</td>\n",
       "      <td>1</td>\n",
       "      <td>2022</td>\n",
       "      <td>12</td>\n",
       "      <td>k-rap</td>\n",
       "    </tr>\n",
       "  </tbody>\n",
       "</table>\n",
       "</div>"
      ],
      "text/plain": [
       "   artist_popularity  artists_count  year  month                    main_genre\n",
       "0                100              3  2022     11               k-pop boy group\n",
       "1                 77              2  2022      8                          None\n",
       "2                 56              1  2022     11                         v-pop\n",
       "3                 54              1  2022     10  vietnamese singer-songwriter\n",
       "4                 81              1  2022     12                         k-rap"
      ]
     },
     "execution_count": 112,
     "metadata": {},
     "output_type": "execute_result"
    }
   ],
   "source": [
    "recommend_df = songs_df[['artist_popularity', 'artists_count', 'year', 'month', 'main_genre']]\n",
    "recommend_df.head()"
   ]
  },
  {
   "cell_type": "code",
   "execution_count": 113,
   "metadata": {},
   "outputs": [
    {
     "data": {
      "text/plain": [
       "main_genre    222\n",
       "dtype: int64"
      ]
     },
     "execution_count": 113,
     "metadata": {},
     "output_type": "execute_result"
    }
   ],
   "source": [
    "recommend_df[['main_genre']].nunique()"
   ]
  },
  {
   "cell_type": "code",
   "execution_count": 114,
   "metadata": {},
   "outputs": [],
   "source": [
    "genres_dict = {g: 0 for g in recommend_df['main_genre'].unique()}\n",
    "idx = 0\n",
    "\n",
    "for i,_ in genres_dict.items():\n",
    "    genres_dict[i] = idx\n",
    "    idx += 1"
   ]
  },
  {
   "cell_type": "code",
   "execution_count": 115,
   "metadata": {},
   "outputs": [
    {
     "data": {
      "text/html": [
       "<div>\n",
       "<style scoped>\n",
       "    .dataframe tbody tr th:only-of-type {\n",
       "        vertical-align: middle;\n",
       "    }\n",
       "\n",
       "    .dataframe tbody tr th {\n",
       "        vertical-align: top;\n",
       "    }\n",
       "\n",
       "    .dataframe thead th {\n",
       "        text-align: right;\n",
       "    }\n",
       "</style>\n",
       "<table border=\"1\" class=\"dataframe\">\n",
       "  <thead>\n",
       "    <tr style=\"text-align: right;\">\n",
       "      <th></th>\n",
       "      <th>artist_popularity</th>\n",
       "      <th>artists_count</th>\n",
       "      <th>year</th>\n",
       "      <th>month</th>\n",
       "      <th>main_genre</th>\n",
       "    </tr>\n",
       "  </thead>\n",
       "  <tbody>\n",
       "    <tr>\n",
       "      <th>0</th>\n",
       "      <td>100</td>\n",
       "      <td>3</td>\n",
       "      <td>2022</td>\n",
       "      <td>11</td>\n",
       "      <td>0</td>\n",
       "    </tr>\n",
       "    <tr>\n",
       "      <th>1</th>\n",
       "      <td>77</td>\n",
       "      <td>2</td>\n",
       "      <td>2022</td>\n",
       "      <td>8</td>\n",
       "      <td>1</td>\n",
       "    </tr>\n",
       "    <tr>\n",
       "      <th>2</th>\n",
       "      <td>56</td>\n",
       "      <td>1</td>\n",
       "      <td>2022</td>\n",
       "      <td>11</td>\n",
       "      <td>2</td>\n",
       "    </tr>\n",
       "    <tr>\n",
       "      <th>3</th>\n",
       "      <td>54</td>\n",
       "      <td>1</td>\n",
       "      <td>2022</td>\n",
       "      <td>10</td>\n",
       "      <td>3</td>\n",
       "    </tr>\n",
       "    <tr>\n",
       "      <th>4</th>\n",
       "      <td>81</td>\n",
       "      <td>1</td>\n",
       "      <td>2022</td>\n",
       "      <td>12</td>\n",
       "      <td>4</td>\n",
       "    </tr>\n",
       "  </tbody>\n",
       "</table>\n",
       "</div>"
      ],
      "text/plain": [
       "   artist_popularity  artists_count  year  month  main_genre\n",
       "0                100              3  2022     11           0\n",
       "1                 77              2  2022      8           1\n",
       "2                 56              1  2022     11           2\n",
       "3                 54              1  2022     10           3\n",
       "4                 81              1  2022     12           4"
      ]
     },
     "execution_count": 115,
     "metadata": {},
     "output_type": "execute_result"
    }
   ],
   "source": [
    "recommend_df['main_genre'] = recommend_df['main_genre'].map(genres_dict)\n",
    "recommend_df.head()"
   ]
  },
  {
   "cell_type": "code",
   "execution_count": 116,
   "metadata": {},
   "outputs": [
    {
     "data": {
      "text/plain": [
       "array([[ 100,    3, 2022,   11,    0],\n",
       "       [  77,    2, 2022,    8,    1],\n",
       "       [  56,    1, 2022,   11,    2],\n",
       "       ...,\n",
       "       [  72,    1, 2020,   12,  111],\n",
       "       [  79,    1, 2020,    7,  120],\n",
       "       [ 100,    2, 2020,    9,   99]])"
      ]
     },
     "execution_count": 116,
     "metadata": {},
     "output_type": "execute_result"
    }
   ],
   "source": [
    "recommend_np = recommend_df.to_numpy()\n",
    "recommend_np"
   ]
  },
  {
   "cell_type": "code",
   "execution_count": 117,
   "metadata": {},
   "outputs": [],
   "source": [
    "sum_distances = []\n",
    "K = range(1,15)\n",
    "for k in K:\n",
    "  k_mean = KMeans(n_clusters=k)\n",
    "  k_mean.fit(recommend_np)\n",
    "  sum_distances.append(k_mean.inertia_)"
   ]
  },
  {
   "cell_type": "code",
   "execution_count": 118,
   "metadata": {},
   "outputs": [
    {
     "data": {
      "image/png": "[encoded data removed]",
      "text/plain": [
       "<Figure size 640x480 with 1 Axes>"
      ]
     },
     "metadata": {},
     "output_type": "display_data"
    }
   ],
   "source": [
    "plt.plot(K, sum_distances, 'bx-')\n",
    "plt.show()"
   ]
  },
  {
   "cell_type": "code",
   "execution_count": 119,
   "metadata": {},
   "outputs": [],
   "source": [
    "k_mean_3 = KMeans(n_clusters=4)\n",
    "model = k_mean_3.fit(recommend_np)\n",
    "result = k_mean_3.labels_"
   ]
  },
  {
   "cell_type": "code",
   "execution_count": 120,
   "metadata": {},
   "outputs": [
    {
     "data": {
      "text/plain": [
       "0.5132165646191659"
      ]
     },
     "execution_count": 120,
     "metadata": {},
     "output_type": "execute_result"
    }
   ],
   "source": [
    "metrics.silhouette_score(recommend_np, result, metric='euclidean')"
   ]
  },
  {
   "cell_type": "code",
   "execution_count": 121,
   "metadata": {},
   "outputs": [
    {
     "data": {
      "text/plain": [
       "4909.522402149433"
      ]
     },
     "execution_count": 121,
     "metadata": {},
     "output_type": "execute_result"
    }
   ],
   "source": [
    "metrics.calinski_harabasz_score(recommend_np, result)"
   ]
  },
  {
   "cell_type": "code",
   "execution_count": 122,
   "metadata": {},
   "outputs": [
    {
     "data": {
      "image/png": "[encoded data removed]",
      "text/plain": [
       "<Figure size 640x480 with 1 Axes>"
      ]
     },
     "metadata": {},
     "output_type": "display_data"
    }
   ],
   "source": [
    "plt.scatter(recommend_np[:,0], recommend_np[:,-1])\n",
    "plt.show()"
   ]
  },
  {
   "cell_type": "code",
   "execution_count": 123,
   "metadata": {},
   "outputs": [
    {
     "name": "stderr",
     "output_type": "stream",
     "text": [
      "/var/folders/m7/368g6v5d01g4x7brwcqrgvg40000gn/T/ipykernel_60176/2687906986.py:22: UserWarning: You passed a edgecolor/edgecolors ('black') for an unfilled marker ('x').  Matplotlib is ignoring the edgecolor in favor of the facecolor.  This behavior may change in the future.\n",
      "  plt.scatter(\n"
     ]
    },
    {
     "data": {
      "image/png": "[encoded data removed]",
      "text/plain": [
       "<Figure size 640x480 with 1 Axes>"
      ]
     },
     "metadata": {},
     "output_type": "display_data"
    }
   ],
   "source": [
    "plt.scatter(\n",
    "    recommend_np[result == 0, 0], recommend_np[result == 0, -1],\n",
    "    c='lightgreen',\n",
    "    marker='s', edgecolor='black',\n",
    "    label='cluster 1'\n",
    ")\n",
    "\n",
    "plt.scatter(\n",
    "    recommend_np[result == 1, 0], recommend_np[result == 1, -1],\n",
    "    c='orange',\n",
    "    marker='o', edgecolor='black',\n",
    "    label='cluster 2'\n",
    ")\n",
    "\n",
    "plt.scatter(\n",
    "    recommend_np[result == 2, 0], recommend_np[result == 2, -1],\n",
    "    c='lightblue',\n",
    "    marker='v', edgecolor='black',\n",
    "    label='cluster 3'\n",
    ")\n",
    "\n",
    "plt.scatter(\n",
    "    recommend_np[result == 3, 0], recommend_np[result == 3, -1],\n",
    "    c='pink',\n",
    "    marker='x', edgecolor='black',\n",
    "    label='cluster 4'\n",
    ")\n",
    "\n",
    "plt.scatter(\n",
    "    model.cluster_centers_[:, 0], model.cluster_centers_[:, -1],\n",
    "    s=250, marker='*',\n",
    "    c='red', edgecolor='black',\n",
    "    label='centroids'\n",
    ")\n",
    "\n",
    "plt.legend(scatterpoints=1)\n",
    "plt.grid()\n",
    "plt.show()"
   ]
  },
  {
   "cell_type": "code",
   "execution_count": 124,
   "metadata": {},
   "outputs": [
    {
     "data": {
      "text/plain": [
       "(3000, 5)"
      ]
     },
     "execution_count": 124,
     "metadata": {},
     "output_type": "execute_result"
    }
   ],
   "source": [
    "recommend_np.shape"
   ]
  },
  {
   "cell_type": "code",
   "execution_count": 125,
   "metadata": {},
   "outputs": [],
   "source": [
    "songs_df['cluster'] = result"
   ]
  },
  {
   "cell_type": "code",
   "execution_count": 126,
   "metadata": {},
   "outputs": [
    {
     "name": "stdout",
     "output_type": "stream",
     "text": [
      "<class 'pandas.core.frame.DataFrame'>\n",
      "Int64Index: 3000 entries, 0 to 2999\n",
      "Data columns (total 5 columns):\n",
      " #   Column             Non-Null Count  Dtype\n",
      "---  ------             --------------  -----\n",
      " 0   artist_popularity  3000 non-null   int64\n",
      " 1   artists_count      3000 non-null   int64\n",
      " 2   year               3000 non-null   int64\n",
      " 3   month              3000 non-null   int64\n",
      " 4   main_genre         3000 non-null   int64\n",
      "dtypes: int64(5)\n",
      "memory usage: 140.6 KB\n"
     ]
    }
   ],
   "source": [
    "recommend_df.info()"
   ]
  },
  {
   "cell_type": "code",
   "execution_count": 127,
   "metadata": {},
   "outputs": [],
   "source": [
    "def recommend(model, art_pop, artist_count, year, month, main_genre):\n",
    "  arr = np.array([[art_pop, artist_count, year, month, main_genre]])\n",
    "  pred = model.predict(arr)\n",
    "  return songs_df[songs_df['cluster'] == pred[0]].sample(5)"
   ]
  },
  {
   "cell_type": "code",
   "execution_count": 129,
   "metadata": {},
   "outputs": [
    {
     "data": {
      "text/html": [
       "<div>\n",
       "<style scoped>\n",
       "    .dataframe tbody tr th:only-of-type {\n",
       "        vertical-align: middle;\n",
       "    }\n",
       "\n",
       "    .dataframe tbody tr th {\n",
       "        vertical-align: top;\n",
       "    }\n",
       "\n",
       "    .dataframe thead th {\n",
       "        text-align: right;\n",
       "    }\n",
       "</style>\n",
       "<table border=\"1\" class=\"dataframe\">\n",
       "  <thead>\n",
       "    <tr style=\"text-align: right;\">\n",
       "      <th></th>\n",
       "      <th>id</th>\n",
       "      <th>name</th>\n",
       "      <th>artist</th>\n",
       "      <th>genres</th>\n",
       "      <th>artist_followers</th>\n",
       "      <th>artist_popularity</th>\n",
       "      <th>markets</th>\n",
       "      <th>album</th>\n",
       "      <th>released_date</th>\n",
       "      <th>album_popularity</th>\n",
       "      <th>duration</th>\n",
       "      <th>popularity</th>\n",
       "      <th>main_genre</th>\n",
       "      <th>artists_count</th>\n",
       "      <th>year</th>\n",
       "      <th>month</th>\n",
       "      <th>cluster</th>\n",
       "    </tr>\n",
       "  </thead>\n",
       "  <tbody>\n",
       "    <tr>\n",
       "      <th>1727</th>\n",
       "      <td>3ga15nIuWQdS2kgerozfAu</td>\n",
       "      <td>Về Phía Mưa</td>\n",
       "      <td>[Thế Bảo &amp; Hoàng Dũng]</td>\n",
       "      <td>None</td>\n",
       "      <td>109</td>\n",
       "      <td>16</td>\n",
       "      <td>184</td>\n",
       "      <td>Tôi Đã Từng Như Thế</td>\n",
       "      <td>2021-12-15</td>\n",
       "      <td>33</td>\n",
       "      <td>349442</td>\n",
       "      <td>33</td>\n",
       "      <td>None</td>\n",
       "      <td>1</td>\n",
       "      <td>2021</td>\n",
       "      <td>12</td>\n",
       "      <td>2</td>\n",
       "    </tr>\n",
       "    <tr>\n",
       "      <th>1350</th>\n",
       "      <td>6MQ0GpN8UM4vXkz930q5UN</td>\n",
       "      <td>Thiên Thần Tình Yêu</td>\n",
       "      <td>[Ricky Star, T.R.I]</td>\n",
       "      <td>[indie viet, vietnamese hip hop, v-pop, viet l...</td>\n",
       "      <td>132769</td>\n",
       "      <td>64</td>\n",
       "      <td>183</td>\n",
       "      <td>Thiên Thần Tình Yêu</td>\n",
       "      <td>2021-12-24</td>\n",
       "      <td>28</td>\n",
       "      <td>222439</td>\n",
       "      <td>39</td>\n",
       "      <td>indie viet</td>\n",
       "      <td>2</td>\n",
       "      <td>2021</td>\n",
       "      <td>12</td>\n",
       "      <td>2</td>\n",
       "    </tr>\n",
       "    <tr>\n",
       "      <th>1395</th>\n",
       "      <td>4RX020eHQpZbZFP5jpbwOP</td>\n",
       "      <td>Coping</td>\n",
       "      <td>[Rosie Darling]</td>\n",
       "      <td>[alt z, pop]</td>\n",
       "      <td>46197</td>\n",
       "      <td>62</td>\n",
       "      <td>183</td>\n",
       "      <td>Coping</td>\n",
       "      <td>2021-04-02</td>\n",
       "      <td>64</td>\n",
       "      <td>190266</td>\n",
       "      <td>69</td>\n",
       "      <td>alt z</td>\n",
       "      <td>1</td>\n",
       "      <td>2021</td>\n",
       "      <td>4</td>\n",
       "      <td>2</td>\n",
       "    </tr>\n",
       "    <tr>\n",
       "      <th>2410</th>\n",
       "      <td>7fBS3lMEHU3XIzn6lXgH3X</td>\n",
       "      <td>Chim Sẻ Và Dâu Tây (feat. Dế Choắt &amp; Wowy)</td>\n",
       "      <td>[RAP VIỆT, Dế Choắt (DC), Wowy]</td>\n",
       "      <td>[vietnamese trap, vietnamese hip hop, v-pop, v...</td>\n",
       "      <td>954498</td>\n",
       "      <td>68</td>\n",
       "      <td>184</td>\n",
       "      <td>Rap Việt Tập 16</td>\n",
       "      <td>2020-11-16</td>\n",
       "      <td>39</td>\n",
       "      <td>207789</td>\n",
       "      <td>37</td>\n",
       "      <td>vietnamese trap</td>\n",
       "      <td>3</td>\n",
       "      <td>2020</td>\n",
       "      <td>11</td>\n",
       "      <td>2</td>\n",
       "    </tr>\n",
       "    <tr>\n",
       "      <th>2753</th>\n",
       "      <td>6S0uTVKBoXVC826jLqattP</td>\n",
       "      <td>Hãy Nói Đi</td>\n",
       "      <td>[Bệt Band]</td>\n",
       "      <td>[indie viet]</td>\n",
       "      <td>2062</td>\n",
       "      <td>22</td>\n",
       "      <td>184</td>\n",
       "      <td>Hãy Nói Đi</td>\n",
       "      <td>2020-04-10</td>\n",
       "      <td>21</td>\n",
       "      <td>256173</td>\n",
       "      <td>33</td>\n",
       "      <td>indie viet</td>\n",
       "      <td>1</td>\n",
       "      <td>2020</td>\n",
       "      <td>4</td>\n",
       "      <td>2</td>\n",
       "    </tr>\n",
       "  </tbody>\n",
       "</table>\n",
       "</div>"
      ],
      "text/plain": [
       "                          id                                        name  \\\n",
       "1727  3ga15nIuWQdS2kgerozfAu                                 Về Phía Mưa   \n",
       "1350  6MQ0GpN8UM4vXkz930q5UN                         Thiên Thần Tình Yêu   \n",
       "1395  4RX020eHQpZbZFP5jpbwOP                                      Coping   \n",
       "2410  7fBS3lMEHU3XIzn6lXgH3X  Chim Sẻ Và Dâu Tây (feat. Dế Choắt & Wowy)   \n",
       "2753  6S0uTVKBoXVC826jLqattP                                  Hãy Nói Đi   \n",
       "\n",
       "                               artist  \\\n",
       "1727           [Thế Bảo & Hoàng Dũng]   \n",
       "1350              [Ricky Star, T.R.I]   \n",
       "1395                  [Rosie Darling]   \n",
       "2410  [RAP VIỆT, Dế Choắt (DC), Wowy]   \n",
       "2753                       [Bệt Band]   \n",
       "\n",
       "                                                 genres  artist_followers  \\\n",
       "1727                                               None               109   \n",
       "1350  [indie viet, vietnamese hip hop, v-pop, viet l...            132769   \n",
       "1395                                       [alt z, pop]             46197   \n",
       "2410  [vietnamese trap, vietnamese hip hop, v-pop, v...            954498   \n",
       "2753                                       [indie viet]              2062   \n",
       "\n",
       "      artist_popularity  markets                album released_date  \\\n",
       "1727                 16      184  Tôi Đã Từng Như Thế    2021-12-15   \n",
       "1350                 64      183  Thiên Thần Tình Yêu    2021-12-24   \n",
       "1395                 62      183               Coping    2021-04-02   \n",
       "2410                 68      184      Rap Việt Tập 16    2020-11-16   \n",
       "2753                 22      184           Hãy Nói Đi    2020-04-10   \n",
       "\n",
       "      album_popularity  duration  popularity       main_genre  artists_count  \\\n",
       "1727                33    349442          33             None              1   \n",
       "1350                28    222439          39       indie viet              2   \n",
       "1395                64    190266          69            alt z              1   \n",
       "2410                39    207789          37  vietnamese trap              3   \n",
       "2753                21    256173          33       indie viet              1   \n",
       "\n",
       "      year  month  cluster  \n",
       "1727  2021     12        2  \n",
       "1350  2021     12        2  \n",
       "1395  2021      4        2  \n",
       "2410  2020     11        2  \n",
       "2753  2020      4        2  "
      ]
     },
     "execution_count": 129,
     "metadata": {},
     "output_type": "execute_result"
    }
   ],
   "source": [
    "art_pop = 50\n",
    "artist_count = 1\n",
    "year = 2022\n",
    "month = 12\n",
    "main_genre = 'pop'\n",
    "try:\n",
    "    main_genre = genres_dict[main_genre]\n",
    "except:\n",
    "    for i,_ in genres_dict.items():\n",
    "        if main_genre in i:\n",
    "            main_genre = genres_dict[i]\n",
    "            break\n",
    "\n",
    "recommend(model, art_pop, artist_count, year, month, main_genre)"
   ]
  },
  {
   "cell_type": "code",
   "execution_count": null,
   "metadata": {},
   "outputs": [],
   "source": []
  }
 ],
 "metadata": {
  "kernelspec": {
   "display_name": "Python 3",
   "language": "python",
   "name": "python3"
  },
  "language_info": {
   "codemirror_mode": {
    "name": "ipython",
    "version": 3
   },
   "file_extension": ".py",
   "mimetype": "text/x-python",
   "name": "python",
   "nbconvert_exporter": "python",
   "pygments_lexer": "ipython3",
   "version": "3.10.6 (main, Oct 27 2022, 18:07:01) [Clang 13.0.0 (clang-1300.0.27.3)]"
  },
  "orig_nbformat": 4,
  "vscode": {
   "interpreter": {
    "hash": "89e8354a88354ecf7ffb299b56239fb0ecc48c48d372ba43f5b93cc4e944f72d"
   }
  }
 },
 "nbformat": 4,
 "nbformat_minor": 2
}
