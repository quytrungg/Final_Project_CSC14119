{
 "cells": [
  {
   "cell_type": "code",
   "execution_count": 2,
   "metadata": {},
   "outputs": [],
   "source": [
    "import spotipy\n",
    "import csv\n",
    "import os\n",
    "\n",
    "from spotipy.oauth2 import SpotifyClientCredentials"
   ]
  },
  {
   "cell_type": "code",
   "execution_count": 3,
   "metadata": {},
   "outputs": [],
   "source": [
    "os.environ['SPOTIPY_CLIENT_ID'] = '5b5584de9cd64d2a9aac9587c9ddf70b'\n",
    "os.environ['SPOTIPY_CLIENT_SECRET'] = 'a5d4ded39e1041adace890a2df3fe248'\n",
    "os.environ['SPOTIPY_REDIRECT_URI'] = 'https://localhosts/3000/callback'"
   ]
  },
  {
   "cell_type": "code",
   "execution_count": 14,
   "metadata": {},
   "outputs": [],
   "source": [
    "spotify = spotipy.Spotify(auth_manager=SpotifyClientCredentials())"
   ]
  },
  {
   "cell_type": "code",
   "execution_count": 20,
   "metadata": {},
   "outputs": [],
   "source": [
    "search_result = spotify.search(q='2022', limit=50) #the result only consists of tracks\n",
    "\n",
    "tracks = search_result['tracks']['items']\n",
    "\n",
    "for i in range(19):\n",
    "    search_result = spotify.next(search_result['tracks'])\n",
    "    tracks.extend(search_result['tracks']['items'])"
   ]
  },
  {
   "cell_type": "code",
   "execution_count": 21,
   "metadata": {},
   "outputs": [],
   "source": [
    "artists_id = []\n",
    "for i in range(len(tracks)):\n",
    "    for j in range(len(tracks[i]['artists'])):\n",
    "        artists_id.append(tracks[i]['artists'][j]['id'])\n",
    "\n",
    "artists_id = list(dict.fromkeys(artists_id))"
   ]
  },
  {
   "cell_type": "code",
   "execution_count": 26,
   "metadata": {},
   "outputs": [],
   "source": [
    "artists = []\n",
    "for i in range(len(artists_id)):\n",
    "    artist_info = spotify.artist(artist_id=artists_id[i])\n",
    "    cols = ['id', 'name', 'genres', 'followers', 'popularity']\n",
    "    artist = dict.fromkeys(cols)\n",
    "    for key in artist:\n",
    "        if key != 'followers' and key != 'genres':\n",
    "            artist[key] = artist_info[key]\n",
    "        elif key != 'genres':\n",
    "            artist[key] = artist_info[key]['total']\n",
    "        else:\n",
    "            artist[key] = ', '.join(artist_info[key])\n",
    "    artists.append(artist)"
   ]
  },
  {
   "cell_type": "code",
   "execution_count": 27,
   "metadata": {},
   "outputs": [],
   "source": [
    "with open('artists.csv', 'w') as file:\n",
    "    writer = csv.DictWriter(file, fieldnames=artists[0].keys(), delimiter='\\t')\n",
    "    writer.writeheader()\n",
    "    for data in artists:\n",
    "        writer.writerow(data)"
   ]
  }
 ],
 "metadata": {
  "kernelspec": {
   "display_name": "Python 3.10.6 ('min_ds-env')",
   "language": "python",
   "name": "python3"
  },
  "language_info": {
   "codemirror_mode": {
    "name": "ipython",
    "version": 3
   },
   "file_extension": ".py",
   "mimetype": "text/x-python",
   "name": "python",
   "nbconvert_exporter": "python",
   "pygments_lexer": "ipython3",
   "version": "3.10.6"
  },
  "orig_nbformat": 4,
  "vscode": {
   "interpreter": {
    "hash": "3b298dc8b5ec9755d3b5e5b4831b9bf767d0a22ad509bcbd5b6f1f1a5498747c"
   }
  }
 },
 "nbformat": 4,
 "nbformat_minor": 2
}
