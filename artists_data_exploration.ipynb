{
 "cells": [
  {
   "cell_type": "code",
   "execution_count": 1,
   "metadata": {},
   "outputs": [],
   "source": [
    "import numpy as np\n",
    "import pandas as pd\n",
    "import matplotlib.pyplot as plt"
   ]
  },
  {
   "cell_type": "code",
   "execution_count": 2,
   "metadata": {},
   "outputs": [
    {
     "data": {
      "text/html": [
       "<div>\n",
       "<style scoped>\n",
       "    .dataframe tbody tr th:only-of-type {\n",
       "        vertical-align: middle;\n",
       "    }\n",
       "\n",
       "    .dataframe tbody tr th {\n",
       "        vertical-align: top;\n",
       "    }\n",
       "\n",
       "    .dataframe thead th {\n",
       "        text-align: right;\n",
       "    }\n",
       "</style>\n",
       "<table border=\"1\" class=\"dataframe\">\n",
       "  <thead>\n",
       "    <tr style=\"text-align: right;\">\n",
       "      <th></th>\n",
       "      <th>id</th>\n",
       "      <th>name</th>\n",
       "      <th>genres</th>\n",
       "      <th>followers</th>\n",
       "      <th>popularity</th>\n",
       "    </tr>\n",
       "  </thead>\n",
       "  <tbody>\n",
       "    <tr>\n",
       "      <th>0</th>\n",
       "      <td>7EnWkKTmRG5i9rW93o5DZm</td>\n",
       "      <td>Axxad</td>\n",
       "      <td>viral rap</td>\n",
       "      <td>6049</td>\n",
       "      <td>47</td>\n",
       "    </tr>\n",
       "    <tr>\n",
       "      <th>1</th>\n",
       "      <td>1SQRv42e4PjEYfPhS0Tk9E</td>\n",
       "      <td>The Kinks</td>\n",
       "      <td>album rock, british invasion, classic rock, fo...</td>\n",
       "      <td>2262130</td>\n",
       "      <td>65</td>\n",
       "    </tr>\n",
       "    <tr>\n",
       "      <th>2</th>\n",
       "      <td>0cEVpgfIpUSsUKUMsRrhtZ</td>\n",
       "      <td>Mitch Rossell</td>\n",
       "      <td>contemporary country, country, country pop, co...</td>\n",
       "      <td>27381</td>\n",
       "      <td>50</td>\n",
       "    </tr>\n",
       "    <tr>\n",
       "      <th>3</th>\n",
       "      <td>432R46LaYsJZV2Gmc4jUV5</td>\n",
       "      <td>Joy Division</td>\n",
       "      <td>alternative rock, art rock, madchester, new wa...</td>\n",
       "      <td>1994832</td>\n",
       "      <td>63</td>\n",
       "    </tr>\n",
       "    <tr>\n",
       "      <th>4</th>\n",
       "      <td>5I7ErPVeubiYhds5DFcbfM</td>\n",
       "      <td>axxturel</td>\n",
       "      <td>NaN</td>\n",
       "      <td>15606</td>\n",
       "      <td>46</td>\n",
       "    </tr>\n",
       "  </tbody>\n",
       "</table>\n",
       "</div>"
      ],
      "text/plain": [
       "                       id           name  \\\n",
       "0  7EnWkKTmRG5i9rW93o5DZm          Axxad   \n",
       "1  1SQRv42e4PjEYfPhS0Tk9E      The Kinks   \n",
       "2  0cEVpgfIpUSsUKUMsRrhtZ  Mitch Rossell   \n",
       "3  432R46LaYsJZV2Gmc4jUV5   Joy Division   \n",
       "4  5I7ErPVeubiYhds5DFcbfM       axxturel   \n",
       "\n",
       "                                              genres  followers  popularity  \n",
       "0                                          viral rap       6049          47  \n",
       "1  album rock, british invasion, classic rock, fo...    2262130          65  \n",
       "2  contemporary country, country, country pop, co...      27381          50  \n",
       "3  alternative rock, art rock, madchester, new wa...    1994832          63  \n",
       "4                                                NaN      15606          46  "
      ]
     },
     "execution_count": 2,
     "metadata": {},
     "output_type": "execute_result"
    }
   ],
   "source": [
    "raw_data = pd.read_csv(\"artists.tsv\", delimiter='\\t')\n",
    "raw_data.head()"
   ]
  },
  {
   "cell_type": "code",
   "execution_count": 3,
   "metadata": {},
   "outputs": [
    {
     "name": "stdout",
     "output_type": "stream",
     "text": [
      "<class 'pandas.core.frame.DataFrame'>\n",
      "RangeIndex: 4454 entries, 0 to 4453\n",
      "Data columns (total 5 columns):\n",
      " #   Column      Non-Null Count  Dtype \n",
      "---  ------      --------------  ----- \n",
      " 0   id          4454 non-null   object\n",
      " 1   name        4454 non-null   object\n",
      " 2   genres      3799 non-null   object\n",
      " 3   followers   4454 non-null   int64 \n",
      " 4   popularity  4454 non-null   int64 \n",
      "dtypes: int64(2), object(3)\n",
      "memory usage: 174.1+ KB\n"
     ]
    }
   ],
   "source": [
    "raw_data.info()"
   ]
  },
  {
   "cell_type": "markdown",
   "metadata": {},
   "source": [
    "**I. Describe columns meaning:**"
   ]
  },
  {
   "cell_type": "code",
   "execution_count": 4,
   "metadata": {},
   "outputs": [
    {
     "data": {
      "text/plain": [
       "Index(['id', 'name', 'genres', 'followers', 'popularity'], dtype='object')"
      ]
     },
     "execution_count": 4,
     "metadata": {},
     "output_type": "execute_result"
    }
   ],
   "source": [
    "raw_data.columns"
   ]
  },
  {
   "cell_type": "code",
   "execution_count": 5,
   "metadata": {},
   "outputs": [
    {
     "data": {
      "text/plain": [
       "{'column name': ['id', 'name', 'genres', 'followers', 'popularity'],\n",
       " 'data type': ['string', 'string', 'string', 'int', 'int'],\n",
       " 'meaning': ['Id of artist',\n",
       "  'Name of artist',\n",
       "  'Artist genres',\n",
       "  'Artist number of followers',\n",
       "  'Artist popularity'],\n",
       " 'example': ['7EnWkKTmRG5i9rW93o5DZm', 'Axxad', 'viral rap', 6049, 47]}"
      ]
     },
     "execution_count": 5,
     "metadata": {},
     "output_type": "execute_result"
    }
   ],
   "source": [
    "meaning_categories = dict.fromkeys(['column name', 'data type', 'meaning', 'example'])\n",
    "\n",
    "meaning_categories['column name'] = raw_data.columns.tolist()\n",
    "\n",
    "data_types = ['string', 'string', 'string', 'int', 'int']\n",
    "meaning_categories['data type'] = data_types\n",
    "\n",
    "cols_meaning = ['Id of artist', 'Name of artist', 'Artist genres', 'Artist number of followers', 'Artist popularity']\n",
    "meaning_categories['meaning'] = cols_meaning\n",
    "\n",
    "examples = []\n",
    "for col in meaning_categories['column name']:\n",
    "    examples.append(raw_data[col][0])\n",
    "meaning_categories['example'] = examples\n",
    "\n",
    "meaning_categories"
   ]
  },
  {
   "cell_type": "code",
   "execution_count": 6,
   "metadata": {},
   "outputs": [],
   "source": [
    "pd.DataFrame.from_dict(meaning_categories).to_csv('artists_data_description.tsv', sep='\\t', index=False)"
   ]
  },
  {
   "cell_type": "markdown",
   "metadata": {},
   "source": [
    "**II. Check duplicated artists and get the number of unique artists**"
   ]
  },
  {
   "cell_type": "markdown",
   "metadata": {},
   "source": [
    "Number of dupicated artists:"
   ]
  },
  {
   "cell_type": "code",
   "execution_count": 7,
   "metadata": {},
   "outputs": [
    {
     "data": {
      "text/plain": [
       "2420"
      ]
     },
     "execution_count": 7,
     "metadata": {},
     "output_type": "execute_result"
    }
   ],
   "source": [
    "raw_data['id'].duplicated().sum()"
   ]
  },
  {
   "cell_type": "code",
   "execution_count": 8,
   "metadata": {},
   "outputs": [
    {
     "data": {
      "text/html": [
       "<div>\n",
       "<style scoped>\n",
       "    .dataframe tbody tr th:only-of-type {\n",
       "        vertical-align: middle;\n",
       "    }\n",
       "\n",
       "    .dataframe tbody tr th {\n",
       "        vertical-align: top;\n",
       "    }\n",
       "\n",
       "    .dataframe thead th {\n",
       "        text-align: right;\n",
       "    }\n",
       "</style>\n",
       "<table border=\"1\" class=\"dataframe\">\n",
       "  <thead>\n",
       "    <tr style=\"text-align: right;\">\n",
       "      <th></th>\n",
       "      <th>id</th>\n",
       "      <th>name</th>\n",
       "      <th>genres</th>\n",
       "      <th>followers</th>\n",
       "      <th>popularity</th>\n",
       "    </tr>\n",
       "  </thead>\n",
       "  <tbody>\n",
       "    <tr>\n",
       "      <th>15</th>\n",
       "      <td>4O15NlyKLIASxsJ0PrXPfz</td>\n",
       "      <td>Lil Uzi Vert</td>\n",
       "      <td>melodic rap, philly rap, rap, trap</td>\n",
       "      <td>14067489</td>\n",
       "      <td>85</td>\n",
       "    </tr>\n",
       "    <tr>\n",
       "      <th>63</th>\n",
       "      <td>08F3Y3SctIlsOEmKd6dnH8</td>\n",
       "      <td>Yusuf / Cat Stevens</td>\n",
       "      <td>british folk, classic rock, folk, folk rock, m...</td>\n",
       "      <td>1615500</td>\n",
       "      <td>68</td>\n",
       "    </tr>\n",
       "    <tr>\n",
       "      <th>82</th>\n",
       "      <td>1SQRv42e4PjEYfPhS0Tk9E</td>\n",
       "      <td>The Kinks</td>\n",
       "      <td>album rock, british invasion, classic rock, fo...</td>\n",
       "      <td>2262130</td>\n",
       "      <td>65</td>\n",
       "    </tr>\n",
       "    <tr>\n",
       "      <th>84</th>\n",
       "      <td>757aE44tKEUQEqRuT6GnEB</td>\n",
       "      <td>Roddy Ricch</td>\n",
       "      <td>melodic rap, rap, trap</td>\n",
       "      <td>8612380</td>\n",
       "      <td>81</td>\n",
       "    </tr>\n",
       "    <tr>\n",
       "      <th>85</th>\n",
       "      <td>2PU4qFehXQF7WnlFsJpBiJ</td>\n",
       "      <td>Raury</td>\n",
       "      <td>psychedelic hip hop</td>\n",
       "      <td>192850</td>\n",
       "      <td>49</td>\n",
       "    </tr>\n",
       "    <tr>\n",
       "      <th>...</th>\n",
       "      <td>...</td>\n",
       "      <td>...</td>\n",
       "      <td>...</td>\n",
       "      <td>...</td>\n",
       "      <td>...</td>\n",
       "    </tr>\n",
       "    <tr>\n",
       "      <th>4447</th>\n",
       "      <td>5H6xmHXjsq98NLbEjuE29f</td>\n",
       "      <td>NEIKED</td>\n",
       "      <td>dance pop, edm, pop, pop dance, scandipop, tro...</td>\n",
       "      <td>132251</td>\n",
       "      <td>66</td>\n",
       "    </tr>\n",
       "    <tr>\n",
       "      <th>4448</th>\n",
       "      <td>4H1PNuHElBLVok0lnYMrRb</td>\n",
       "      <td>Dyo</td>\n",
       "      <td>alte</td>\n",
       "      <td>5695</td>\n",
       "      <td>51</td>\n",
       "    </tr>\n",
       "    <tr>\n",
       "      <th>4449</th>\n",
       "      <td>77CaCn32H4mOMQA7UElzfF</td>\n",
       "      <td>Academy of St. Martin in the Fields</td>\n",
       "      <td>british orchestra, chamber orchestra, classica...</td>\n",
       "      <td>47376</td>\n",
       "      <td>65</td>\n",
       "    </tr>\n",
       "    <tr>\n",
       "      <th>4450</th>\n",
       "      <td>6NUhQz7eAEsZvjEHTKHux9</td>\n",
       "      <td>Sir Neville Marriner</td>\n",
       "      <td>classical performance, orchestral performance</td>\n",
       "      <td>28038</td>\n",
       "      <td>64</td>\n",
       "    </tr>\n",
       "    <tr>\n",
       "      <th>4453</th>\n",
       "      <td>5pUo3fmmHT8bhCyHE52hA6</td>\n",
       "      <td>Liam Payne</td>\n",
       "      <td>dance pop, pop, post-teen pop</td>\n",
       "      <td>9872573</td>\n",
       "      <td>65</td>\n",
       "    </tr>\n",
       "  </tbody>\n",
       "</table>\n",
       "<p>2420 rows × 5 columns</p>\n",
       "</div>"
      ],
      "text/plain": [
       "                          id                                 name  \\\n",
       "15    4O15NlyKLIASxsJ0PrXPfz                         Lil Uzi Vert   \n",
       "63    08F3Y3SctIlsOEmKd6dnH8                  Yusuf / Cat Stevens   \n",
       "82    1SQRv42e4PjEYfPhS0Tk9E                            The Kinks   \n",
       "84    757aE44tKEUQEqRuT6GnEB                          Roddy Ricch   \n",
       "85    2PU4qFehXQF7WnlFsJpBiJ                                Raury   \n",
       "...                      ...                                  ...   \n",
       "4447  5H6xmHXjsq98NLbEjuE29f                               NEIKED   \n",
       "4448  4H1PNuHElBLVok0lnYMrRb                                  Dyo   \n",
       "4449  77CaCn32H4mOMQA7UElzfF  Academy of St. Martin in the Fields   \n",
       "4450  6NUhQz7eAEsZvjEHTKHux9                 Sir Neville Marriner   \n",
       "4453  5pUo3fmmHT8bhCyHE52hA6                           Liam Payne   \n",
       "\n",
       "                                                 genres  followers  popularity  \n",
       "15                   melodic rap, philly rap, rap, trap   14067489          85  \n",
       "63    british folk, classic rock, folk, folk rock, m...    1615500          68  \n",
       "82    album rock, british invasion, classic rock, fo...    2262130          65  \n",
       "84                               melodic rap, rap, trap    8612380          81  \n",
       "85                                  psychedelic hip hop     192850          49  \n",
       "...                                                 ...        ...         ...  \n",
       "4447  dance pop, edm, pop, pop dance, scandipop, tro...     132251          66  \n",
       "4448                                               alte       5695          51  \n",
       "4449  british orchestra, chamber orchestra, classica...      47376          65  \n",
       "4450      classical performance, orchestral performance      28038          64  \n",
       "4453                      dance pop, pop, post-teen pop    9872573          65  \n",
       "\n",
       "[2420 rows x 5 columns]"
      ]
     },
     "execution_count": 8,
     "metadata": {},
     "output_type": "execute_result"
    }
   ],
   "source": [
    "raw_data[raw_data['id'].duplicated()]"
   ]
  },
  {
   "cell_type": "markdown",
   "metadata": {},
   "source": [
    "Number of unique artists:"
   ]
  },
  {
   "cell_type": "code",
   "execution_count": 9,
   "metadata": {},
   "outputs": [
    {
     "data": {
      "text/plain": [
       "2034"
      ]
     },
     "execution_count": 9,
     "metadata": {},
     "output_type": "execute_result"
    }
   ],
   "source": [
    "raw_data['id'].nunique()"
   ]
  },
  {
   "cell_type": "markdown",
   "metadata": {},
   "source": [
    "**III. Tracks participation of artists**"
   ]
  },
  {
   "cell_type": "markdown",
   "metadata": {},
   "source": [
    "Counting artists occurences:"
   ]
  },
  {
   "cell_type": "code",
   "execution_count": 10,
   "metadata": {},
   "outputs": [
    {
     "data": {
      "text/html": [
       "<div>\n",
       "<style scoped>\n",
       "    .dataframe tbody tr th:only-of-type {\n",
       "        vertical-align: middle;\n",
       "    }\n",
       "\n",
       "    .dataframe tbody tr th {\n",
       "        vertical-align: top;\n",
       "    }\n",
       "\n",
       "    .dataframe thead th {\n",
       "        text-align: right;\n",
       "    }\n",
       "</style>\n",
       "<table border=\"1\" class=\"dataframe\">\n",
       "  <thead>\n",
       "    <tr style=\"text-align: right;\">\n",
       "      <th></th>\n",
       "      <th>id</th>\n",
       "      <th>name</th>\n",
       "      <th>genres</th>\n",
       "      <th>followers</th>\n",
       "      <th>popularity</th>\n",
       "      <th>size</th>\n",
       "    </tr>\n",
       "  </thead>\n",
       "  <tbody>\n",
       "    <tr>\n",
       "      <th>0</th>\n",
       "      <td>003f4bk13c6Q3gAUXv7dGJ</td>\n",
       "      <td>Wiener Philharmoniker</td>\n",
       "      <td>austrian orchestra, classical performance, orc...</td>\n",
       "      <td>110584</td>\n",
       "      <td>66</td>\n",
       "      <td>1</td>\n",
       "    </tr>\n",
       "    <tr>\n",
       "      <th>1</th>\n",
       "      <td>00FQb4jTyendYWaN8pK0wa</td>\n",
       "      <td>Lana Del Rey</td>\n",
       "      <td>art pop, pop</td>\n",
       "      <td>18878861</td>\n",
       "      <td>88</td>\n",
       "      <td>2</td>\n",
       "    </tr>\n",
       "    <tr>\n",
       "      <th>2</th>\n",
       "      <td>00gh6kmKYOu8xyorRxQm6a</td>\n",
       "      <td>Steve Roach</td>\n",
       "      <td>ambient, drift, drone, fourth world, moog</td>\n",
       "      <td>32163</td>\n",
       "      <td>37</td>\n",
       "      <td>1</td>\n",
       "    </tr>\n",
       "    <tr>\n",
       "      <th>3</th>\n",
       "      <td>00i4PzAbt6fpwgBqdtSP0q</td>\n",
       "      <td>anbuu</td>\n",
       "      <td>chillhop</td>\n",
       "      <td>4216</td>\n",
       "      <td>40</td>\n",
       "      <td>1</td>\n",
       "    </tr>\n",
       "    <tr>\n",
       "      <th>4</th>\n",
       "      <td>02QYcz7JjwzKiKGHg53rZY</td>\n",
       "      <td>Sasha</td>\n",
       "      <td>dancehall queen</td>\n",
       "      <td>7167</td>\n",
       "      <td>54</td>\n",
       "      <td>1</td>\n",
       "    </tr>\n",
       "    <tr>\n",
       "      <th>...</th>\n",
       "      <td>...</td>\n",
       "      <td>...</td>\n",
       "      <td>...</td>\n",
       "      <td>...</td>\n",
       "      <td>...</td>\n",
       "      <td>...</td>\n",
       "    </tr>\n",
       "    <tr>\n",
       "      <th>1466</th>\n",
       "      <td>7xxrAPVVTZaXLTXfvwABVF</td>\n",
       "      <td>Lo Fi Hip Hop</td>\n",
       "      <td>lo-fi product</td>\n",
       "      <td>26409</td>\n",
       "      <td>47</td>\n",
       "      <td>1</td>\n",
       "    </tr>\n",
       "    <tr>\n",
       "      <th>1467</th>\n",
       "      <td>7yK3vix9XmeNwPDmjGs78F</td>\n",
       "      <td>Manal</td>\n",
       "      <td>arabic hip hop, moroccan pop, rap maroc</td>\n",
       "      <td>428705</td>\n",
       "      <td>51</td>\n",
       "      <td>1</td>\n",
       "    </tr>\n",
       "    <tr>\n",
       "      <th>1468</th>\n",
       "      <td>7yL97o50EXql8p3iFo6MHe</td>\n",
       "      <td>Jake Eaw</td>\n",
       "      <td>anime piano</td>\n",
       "      <td>1578</td>\n",
       "      <td>41</td>\n",
       "      <td>5</td>\n",
       "    </tr>\n",
       "    <tr>\n",
       "      <th>1469</th>\n",
       "      <td>7z2avKuuiMAT4XZJFv8Rvh</td>\n",
       "      <td>Tom Walker</td>\n",
       "      <td>indie anthem-folk, pop, uk pop</td>\n",
       "      <td>1000022</td>\n",
       "      <td>68</td>\n",
       "      <td>2</td>\n",
       "    </tr>\n",
       "    <tr>\n",
       "      <th>1470</th>\n",
       "      <td>7z5WFjZAIYejWy0NI5lv4T</td>\n",
       "      <td>Dan + Shay</td>\n",
       "      <td>contemporary country, country, country road, pop</td>\n",
       "      <td>2790637</td>\n",
       "      <td>72</td>\n",
       "      <td>3</td>\n",
       "    </tr>\n",
       "  </tbody>\n",
       "</table>\n",
       "<p>1471 rows × 6 columns</p>\n",
       "</div>"
      ],
      "text/plain": [
       "                          id                   name  \\\n",
       "0     003f4bk13c6Q3gAUXv7dGJ  Wiener Philharmoniker   \n",
       "1     00FQb4jTyendYWaN8pK0wa           Lana Del Rey   \n",
       "2     00gh6kmKYOu8xyorRxQm6a            Steve Roach   \n",
       "3     00i4PzAbt6fpwgBqdtSP0q                  anbuu   \n",
       "4     02QYcz7JjwzKiKGHg53rZY                  Sasha   \n",
       "...                      ...                    ...   \n",
       "1466  7xxrAPVVTZaXLTXfvwABVF          Lo Fi Hip Hop   \n",
       "1467  7yK3vix9XmeNwPDmjGs78F                  Manal   \n",
       "1468  7yL97o50EXql8p3iFo6MHe               Jake Eaw   \n",
       "1469  7z2avKuuiMAT4XZJFv8Rvh             Tom Walker   \n",
       "1470  7z5WFjZAIYejWy0NI5lv4T             Dan + Shay   \n",
       "\n",
       "                                                 genres  followers  \\\n",
       "0     austrian orchestra, classical performance, orc...     110584   \n",
       "1                                          art pop, pop   18878861   \n",
       "2             ambient, drift, drone, fourth world, moog      32163   \n",
       "3                                              chillhop       4216   \n",
       "4                                       dancehall queen       7167   \n",
       "...                                                 ...        ...   \n",
       "1466                                      lo-fi product      26409   \n",
       "1467            arabic hip hop, moroccan pop, rap maroc     428705   \n",
       "1468                                        anime piano       1578   \n",
       "1469                     indie anthem-folk, pop, uk pop    1000022   \n",
       "1470   contemporary country, country, country road, pop    2790637   \n",
       "\n",
       "      popularity  size  \n",
       "0             66     1  \n",
       "1             88     2  \n",
       "2             37     1  \n",
       "3             40     1  \n",
       "4             54     1  \n",
       "...          ...   ...  \n",
       "1466          47     1  \n",
       "1467          51     1  \n",
       "1468          41     5  \n",
       "1469          68     2  \n",
       "1470          72     3  \n",
       "\n",
       "[1471 rows x 6 columns]"
      ]
     },
     "execution_count": 10,
     "metadata": {},
     "output_type": "execute_result"
    }
   ],
   "source": [
    "occurence_count = raw_data.groupby(raw_data.columns.to_list(), as_index=False).size()\n",
    "occurence_count"
   ]
  },
  {
   "cell_type": "markdown",
   "metadata": {},
   "source": [
    "The most frequent artist:"
   ]
  },
  {
   "cell_type": "code",
   "execution_count": 11,
   "metadata": {},
   "outputs": [
    {
     "data": {
      "text/plain": [
       "id                1dABGukgZ8XKKOdd2rVSHM\n",
       "name                   Lofi Fruits Music\n",
       "genres        lo-fi cover, lo-fi product\n",
       "followers                         789617\n",
       "popularity                            78\n",
       "size                                 153\n",
       "Name: 308, dtype: object"
      ]
     },
     "execution_count": 11,
     "metadata": {},
     "output_type": "execute_result"
    }
   ],
   "source": [
    "occurence_count.loc[occurence_count['size'].idxmax()]"
   ]
  },
  {
   "cell_type": "markdown",
   "metadata": {},
   "source": [
    "**IV. Dataset description**"
   ]
  },
  {
   "cell_type": "code",
   "execution_count": 12,
   "metadata": {},
   "outputs": [
    {
     "data": {
      "text/html": [
       "<div>\n",
       "<style scoped>\n",
       "    .dataframe tbody tr th:only-of-type {\n",
       "        vertical-align: middle;\n",
       "    }\n",
       "\n",
       "    .dataframe tbody tr th {\n",
       "        vertical-align: top;\n",
       "    }\n",
       "\n",
       "    .dataframe thead th {\n",
       "        text-align: right;\n",
       "    }\n",
       "</style>\n",
       "<table border=\"1\" class=\"dataframe\">\n",
       "  <thead>\n",
       "    <tr style=\"text-align: right;\">\n",
       "      <th></th>\n",
       "      <th>followers</th>\n",
       "      <th>popularity</th>\n",
       "    </tr>\n",
       "  </thead>\n",
       "  <tbody>\n",
       "    <tr>\n",
       "      <th>count</th>\n",
       "      <td>4454</td>\n",
       "      <td>4454</td>\n",
       "    </tr>\n",
       "    <tr>\n",
       "      <th>mean</th>\n",
       "      <td>4404180</td>\n",
       "      <td>60</td>\n",
       "    </tr>\n",
       "    <tr>\n",
       "      <th>std</th>\n",
       "      <td>11069912</td>\n",
       "      <td>20</td>\n",
       "    </tr>\n",
       "    <tr>\n",
       "      <th>min</th>\n",
       "      <td>0</td>\n",
       "      <td>0</td>\n",
       "    </tr>\n",
       "    <tr>\n",
       "      <th>25%</th>\n",
       "      <td>38974</td>\n",
       "      <td>48</td>\n",
       "    </tr>\n",
       "    <tr>\n",
       "      <th>50%</th>\n",
       "      <td>545412</td>\n",
       "      <td>66</td>\n",
       "    </tr>\n",
       "    <tr>\n",
       "      <th>75%</th>\n",
       "      <td>3742855</td>\n",
       "      <td>76</td>\n",
       "    </tr>\n",
       "    <tr>\n",
       "      <th>max</th>\n",
       "      <td>105448608</td>\n",
       "      <td>100</td>\n",
       "    </tr>\n",
       "  </tbody>\n",
       "</table>\n",
       "</div>"
      ],
      "text/plain": [
       "       followers  popularity\n",
       "count       4454        4454\n",
       "mean     4404180          60\n",
       "std     11069912          20\n",
       "min            0           0\n",
       "25%        38974          48\n",
       "50%       545412          66\n",
       "75%      3742855          76\n",
       "max    105448608         100"
      ]
     },
     "execution_count": 12,
     "metadata": {},
     "output_type": "execute_result"
    }
   ],
   "source": [
    "data_description = raw_data.describe().astype('int')\n",
    "data_description"
   ]
  },
  {
   "cell_type": "code",
   "execution_count": 13,
   "metadata": {},
   "outputs": [
    {
     "data": {
      "text/plain": [
       "<BarContainer object of 8 artists>"
      ]
     },
     "execution_count": 13,
     "metadata": {},
     "output_type": "execute_result"
    },
    {
     "data": {
      "text/plain": [
       "<Figure size 2000x2000 with 0 Axes>"
      ]
     },
     "metadata": {},
     "output_type": "display_data"
    },
    {
     "data": {
      "image/png": "[encoded data removed]",
      "text/plain": [
       "<Figure size 640x480 with 2 Axes>"
      ]
     },
     "metadata": {},
     "output_type": "display_data"
    }
   ],
   "source": [
    "plt.figure(figsize=(20, 20))\n",
    "fig, ax = plt.subplots(1, 2)\n",
    "ax[0].barh(data_description.index, data_description['followers'], color = 'red')\n",
    "ax[1].barh(data_description.index, data_description['popularity'], color = 'blue')"
   ]
  },
  {
   "cell_type": "markdown",
   "metadata": {},
   "source": [
    "**V. Compute artists correlation**"
   ]
  },
  {
   "cell_type": "code",
   "execution_count": 15,
   "metadata": {},
   "outputs": [
    {
     "data": {
      "text/html": [
       "<div>\n",
       "<style scoped>\n",
       "    .dataframe tbody tr th:only-of-type {\n",
       "        vertical-align: middle;\n",
       "    }\n",
       "\n",
       "    .dataframe tbody tr th {\n",
       "        vertical-align: top;\n",
       "    }\n",
       "\n",
       "    .dataframe thead th {\n",
       "        text-align: right;\n",
       "    }\n",
       "</style>\n",
       "<table border=\"1\" class=\"dataframe\">\n",
       "  <thead>\n",
       "    <tr style=\"text-align: right;\">\n",
       "      <th></th>\n",
       "      <th>followers</th>\n",
       "      <th>popularity</th>\n",
       "    </tr>\n",
       "  </thead>\n",
       "  <tbody>\n",
       "    <tr>\n",
       "      <th>followers</th>\n",
       "      <td>1.000000</td>\n",
       "      <td>0.844653</td>\n",
       "    </tr>\n",
       "    <tr>\n",
       "      <th>popularity</th>\n",
       "      <td>0.844653</td>\n",
       "      <td>1.000000</td>\n",
       "    </tr>\n",
       "  </tbody>\n",
       "</table>\n",
       "</div>"
      ],
      "text/plain": [
       "            followers  popularity\n",
       "followers    1.000000    0.844653\n",
       "popularity   0.844653    1.000000"
      ]
     },
     "execution_count": 15,
     "metadata": {},
     "output_type": "execute_result"
    }
   ],
   "source": [
    "raw_data.corr(method=\"spearman\")"
   ]
  }
 ],
 "metadata": {
  "kernelspec": {
   "display_name": "Python 3.10.6 ('min_ds-env')",
   "language": "python",
   "name": "python3"
  },
  "language_info": {
   "codemirror_mode": {
    "name": "ipython",
    "version": 3
   },
   "file_extension": ".py",
   "mimetype": "text/x-python",
   "name": "python",
   "nbconvert_exporter": "python",
   "pygments_lexer": "ipython3",
   "version": "3.10.6"
  },
  "orig_nbformat": 4,
  "vscode": {
   "interpreter": {
    "hash": "3b298dc8b5ec9755d3b5e5b4831b9bf767d0a22ad509bcbd5b6f1f1a5498747c"
   }
  }
 },
 "nbformat": 4,
 "nbformat_minor": 2
}
