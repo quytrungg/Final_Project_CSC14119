{
 "cells": [
  {
   "cell_type": "code",
   "execution_count": 40,
   "metadata": {},
   "outputs": [],
   "source": [
    "import numpy as np\n",
    "import pandas as pd\n",
    "import csv"
   ]
  },
  {
   "cell_type": "code",
   "execution_count": 2,
   "metadata": {},
   "outputs": [
    {
     "data": {
      "text/html": [
       "<div>\n",
       "<style scoped>\n",
       "    .dataframe tbody tr th:only-of-type {\n",
       "        vertical-align: middle;\n",
       "    }\n",
       "\n",
       "    .dataframe tbody tr th {\n",
       "        vertical-align: top;\n",
       "    }\n",
       "\n",
       "    .dataframe thead th {\n",
       "        text-align: right;\n",
       "    }\n",
       "</style>\n",
       "<table border=\"1\" class=\"dataframe\">\n",
       "  <thead>\n",
       "    <tr style=\"text-align: right;\">\n",
       "      <th></th>\n",
       "      <th>id</th>\n",
       "      <th>name</th>\n",
       "      <th>genres</th>\n",
       "      <th>followers</th>\n",
       "      <th>popularity</th>\n",
       "    </tr>\n",
       "  </thead>\n",
       "  <tbody>\n",
       "    <tr>\n",
       "      <th>0</th>\n",
       "      <td>7EnWkKTmRG5i9rW93o5DZm</td>\n",
       "      <td>Axxad</td>\n",
       "      <td>viral rap</td>\n",
       "      <td>6049</td>\n",
       "      <td>47</td>\n",
       "    </tr>\n",
       "    <tr>\n",
       "      <th>1</th>\n",
       "      <td>1SQRv42e4PjEYfPhS0Tk9E</td>\n",
       "      <td>The Kinks</td>\n",
       "      <td>album rock, british invasion, classic rock, fo...</td>\n",
       "      <td>2262130</td>\n",
       "      <td>65</td>\n",
       "    </tr>\n",
       "    <tr>\n",
       "      <th>2</th>\n",
       "      <td>0cEVpgfIpUSsUKUMsRrhtZ</td>\n",
       "      <td>Mitch Rossell</td>\n",
       "      <td>contemporary country, country, country pop, co...</td>\n",
       "      <td>27381</td>\n",
       "      <td>50</td>\n",
       "    </tr>\n",
       "    <tr>\n",
       "      <th>3</th>\n",
       "      <td>432R46LaYsJZV2Gmc4jUV5</td>\n",
       "      <td>Joy Division</td>\n",
       "      <td>alternative rock, art rock, madchester, new wa...</td>\n",
       "      <td>1994832</td>\n",
       "      <td>63</td>\n",
       "    </tr>\n",
       "    <tr>\n",
       "      <th>4</th>\n",
       "      <td>5I7ErPVeubiYhds5DFcbfM</td>\n",
       "      <td>axxturel</td>\n",
       "      <td>NaN</td>\n",
       "      <td>15606</td>\n",
       "      <td>46</td>\n",
       "    </tr>\n",
       "  </tbody>\n",
       "</table>\n",
       "</div>"
      ],
      "text/plain": [
       "                       id           name  \\\n",
       "0  7EnWkKTmRG5i9rW93o5DZm          Axxad   \n",
       "1  1SQRv42e4PjEYfPhS0Tk9E      The Kinks   \n",
       "2  0cEVpgfIpUSsUKUMsRrhtZ  Mitch Rossell   \n",
       "3  432R46LaYsJZV2Gmc4jUV5   Joy Division   \n",
       "4  5I7ErPVeubiYhds5DFcbfM       axxturel   \n",
       "\n",
       "                                              genres  followers  popularity  \n",
       "0                                          viral rap       6049          47  \n",
       "1  album rock, british invasion, classic rock, fo...    2262130          65  \n",
       "2  contemporary country, country, country pop, co...      27381          50  \n",
       "3  alternative rock, art rock, madchester, new wa...    1994832          63  \n",
       "4                                                NaN      15606          46  "
      ]
     },
     "execution_count": 2,
     "metadata": {},
     "output_type": "execute_result"
    }
   ],
   "source": [
    "raw_data = pd.read_csv(\"artists.tsv\", delimiter='\\t')\n",
    "raw_data.head()"
   ]
  },
  {
   "cell_type": "code",
   "execution_count": 3,
   "metadata": {},
   "outputs": [
    {
     "name": "stdout",
     "output_type": "stream",
     "text": [
      "<class 'pandas.core.frame.DataFrame'>\n",
      "RangeIndex: 4454 entries, 0 to 4453\n",
      "Data columns (total 5 columns):\n",
      " #   Column      Non-Null Count  Dtype \n",
      "---  ------      --------------  ----- \n",
      " 0   id          4454 non-null   object\n",
      " 1   name        4454 non-null   object\n",
      " 2   genres      3799 non-null   object\n",
      " 3   followers   4454 non-null   int64 \n",
      " 4   popularity  4454 non-null   int64 \n",
      "dtypes: int64(2), object(3)\n",
      "memory usage: 174.1+ KB\n"
     ]
    }
   ],
   "source": [
    "raw_data.info()"
   ]
  },
  {
   "cell_type": "markdown",
   "metadata": {},
   "source": [
    "**1. Describe columns meaning:**"
   ]
  },
  {
   "cell_type": "code",
   "execution_count": 4,
   "metadata": {},
   "outputs": [
    {
     "data": {
      "text/plain": [
       "Index(['id', 'name', 'genres', 'followers', 'popularity'], dtype='object')"
      ]
     },
     "execution_count": 4,
     "metadata": {},
     "output_type": "execute_result"
    }
   ],
   "source": [
    "raw_data.columns"
   ]
  },
  {
   "cell_type": "code",
   "execution_count": 39,
   "metadata": {},
   "outputs": [
    {
     "data": {
      "text/plain": [
       "{'column name': ['id', 'name', 'genres', 'followers', 'popularity'],\n",
       " 'data type': ['string', 'string', 'string', 'int', 'int'],\n",
       " 'meaning': ['Id of artist',\n",
       "  'Name of artist',\n",
       "  'Artist genres',\n",
       "  'Artist number of followers',\n",
       "  'Artist popularity'],\n",
       " 'example': ['7EnWkKTmRG5i9rW93o5DZm', 'Axxad', 'viral rap', 6049, 47]}"
      ]
     },
     "execution_count": 39,
     "metadata": {},
     "output_type": "execute_result"
    }
   ],
   "source": [
    "meaning_categories = dict.fromkeys(['column name', 'data type', 'meaning', 'example'])\n",
    "\n",
    "meaning_categories['column name'] = raw_data.columns.tolist()\n",
    "\n",
    "data_types = ['string', 'string', 'string', 'int', 'int']\n",
    "meaning_categories['data type'] = data_types\n",
    "\n",
    "cols_meaning = ['Id of artist', 'Name of artist', 'Artist genres', 'Artist number of followers', 'Artist popularity']\n",
    "meaning_categories['meaning'] = cols_meaning\n",
    "\n",
    "examples = []\n",
    "for col in meaning_categories['column name']:\n",
    "    examples.append(raw_data[col][0])\n",
    "meaning_categories['example'] = examples\n",
    "\n",
    "meaning_categories"
   ]
  },
  {
   "cell_type": "code",
   "execution_count": 47,
   "metadata": {},
   "outputs": [],
   "source": [
    "pd.DataFrame.from_dict(meaning_categories).to_csv('artists_data_description.tsv', sep='\\t', index=False)"
   ]
  }
 ],
 "metadata": {
  "kernelspec": {
   "display_name": "Python 3.10.6 ('min_ds-env')",
   "language": "python",
   "name": "python3"
  },
  "language_info": {
   "codemirror_mode": {
    "name": "ipython",
    "version": 3
   },
   "file_extension": ".py",
   "mimetype": "text/x-python",
   "name": "python",
   "nbconvert_exporter": "python",
   "pygments_lexer": "ipython3",
   "version": "3.10.6"
  },
  "orig_nbformat": 4,
  "vscode": {
   "interpreter": {
    "hash": "3b298dc8b5ec9755d3b5e5b4831b9bf767d0a22ad509bcbd5b6f1f1a5498747c"
   }
  }
 },
 "nbformat": 4,
 "nbformat_minor": 2
}
