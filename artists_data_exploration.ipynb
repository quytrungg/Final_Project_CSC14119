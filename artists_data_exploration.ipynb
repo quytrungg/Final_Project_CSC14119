{
 "cells": [
  {
   "cell_type": "code",
   "execution_count": 2,
   "metadata": {},
   "outputs": [],
   "source": [
    "import numpy as np\n",
    "import pandas as pd\n",
    "import matplotlib.pyplot as plt"
   ]
  },
  {
   "cell_type": "code",
   "execution_count": 4,
   "metadata": {},
   "outputs": [
    {
     "data": {
      "text/html": [
       "<div>\n",
       "<style scoped>\n",
       "    .dataframe tbody tr th:only-of-type {\n",
       "        vertical-align: middle;\n",
       "    }\n",
       "\n",
       "    .dataframe tbody tr th {\n",
       "        vertical-align: top;\n",
       "    }\n",
       "\n",
       "    .dataframe thead th {\n",
       "        text-align: right;\n",
       "    }\n",
       "</style>\n",
       "<table border=\"1\" class=\"dataframe\">\n",
       "  <thead>\n",
       "    <tr style=\"text-align: right;\">\n",
       "      <th></th>\n",
       "      <th>id</th>\n",
       "      <th>name</th>\n",
       "      <th>genres</th>\n",
       "      <th>followers</th>\n",
       "      <th>popularity</th>\n",
       "    </tr>\n",
       "  </thead>\n",
       "  <tbody>\n",
       "    <tr>\n",
       "      <th>0</th>\n",
       "      <td>7EnWkKTmRG5i9rW93o5DZm</td>\n",
       "      <td>Axxad</td>\n",
       "      <td>viral rap</td>\n",
       "      <td>6826</td>\n",
       "      <td>48</td>\n",
       "    </tr>\n",
       "    <tr>\n",
       "      <th>1</th>\n",
       "      <td>1SQRv42e4PjEYfPhS0Tk9E</td>\n",
       "      <td>The Kinks</td>\n",
       "      <td>album rock, art rock, british invasion, classi...</td>\n",
       "      <td>2272554</td>\n",
       "      <td>65</td>\n",
       "    </tr>\n",
       "    <tr>\n",
       "      <th>2</th>\n",
       "      <td>5I7ErPVeubiYhds5DFcbfM</td>\n",
       "      <td>axxturel</td>\n",
       "      <td>NaN</td>\n",
       "      <td>17119</td>\n",
       "      <td>46</td>\n",
       "    </tr>\n",
       "    <tr>\n",
       "      <th>3</th>\n",
       "      <td>0cEVpgfIpUSsUKUMsRrhtZ</td>\n",
       "      <td>Mitch Rossell</td>\n",
       "      <td>contemporary country, country, country pop, co...</td>\n",
       "      <td>27714</td>\n",
       "      <td>51</td>\n",
       "    </tr>\n",
       "    <tr>\n",
       "      <th>4</th>\n",
       "      <td>4yiQZ8tQPux8cPriYMWUFP</td>\n",
       "      <td>Gwen Stefani</td>\n",
       "      <td>dance pop, pop, post-teen pop</td>\n",
       "      <td>5681900</td>\n",
       "      <td>75</td>\n",
       "    </tr>\n",
       "  </tbody>\n",
       "</table>\n",
       "</div>"
      ],
      "text/plain": [
       "                       id           name  \\\n",
       "0  7EnWkKTmRG5i9rW93o5DZm          Axxad   \n",
       "1  1SQRv42e4PjEYfPhS0Tk9E      The Kinks   \n",
       "2  5I7ErPVeubiYhds5DFcbfM       axxturel   \n",
       "3  0cEVpgfIpUSsUKUMsRrhtZ  Mitch Rossell   \n",
       "4  4yiQZ8tQPux8cPriYMWUFP   Gwen Stefani   \n",
       "\n",
       "                                              genres  followers  popularity  \n",
       "0                                          viral rap       6826          48  \n",
       "1  album rock, art rock, british invasion, classi...    2272554          65  \n",
       "2                                                NaN      17119          46  \n",
       "3  contemporary country, country, country pop, co...      27714          51  \n",
       "4                      dance pop, pop, post-teen pop    5681900          75  "
      ]
     },
     "execution_count": 4,
     "metadata": {},
     "output_type": "execute_result"
    }
   ],
   "source": [
    "raw_data = pd.read_csv(\"artists.csv\", delimiter='\\t')\n",
    "raw_data.head()"
   ]
  },
  {
   "cell_type": "code",
   "execution_count": 5,
   "metadata": {},
   "outputs": [
    {
     "name": "stdout",
     "output_type": "stream",
     "text": [
      "<class 'pandas.core.frame.DataFrame'>\n",
      "RangeIndex: 4378 entries, 0 to 4377\n",
      "Data columns (total 5 columns):\n",
      " #   Column      Non-Null Count  Dtype \n",
      "---  ------      --------------  ----- \n",
      " 0   id          4378 non-null   object\n",
      " 1   name        4378 non-null   object\n",
      " 2   genres      3767 non-null   object\n",
      " 3   followers   4378 non-null   int64 \n",
      " 4   popularity  4378 non-null   int64 \n",
      "dtypes: int64(2), object(3)\n",
      "memory usage: 171.1+ KB\n"
     ]
    }
   ],
   "source": [
    "raw_data.info()"
   ]
  },
  {
   "cell_type": "markdown",
   "metadata": {},
   "source": [
    "**I. Describe columns meaning:**"
   ]
  },
  {
   "cell_type": "code",
   "execution_count": 24,
   "metadata": {},
   "outputs": [
    {
     "data": {
      "text/html": [
       "<div>\n",
       "<style scoped>\n",
       "    .dataframe tbody tr th:only-of-type {\n",
       "        vertical-align: middle;\n",
       "    }\n",
       "\n",
       "    .dataframe tbody tr th {\n",
       "        vertical-align: top;\n",
       "    }\n",
       "\n",
       "    .dataframe thead th {\n",
       "        text-align: right;\n",
       "    }\n",
       "</style>\n",
       "<table border=\"1\" class=\"dataframe\">\n",
       "  <thead>\n",
       "    <tr style=\"text-align: right;\">\n",
       "      <th></th>\n",
       "      <th>column name</th>\n",
       "      <th>data type</th>\n",
       "      <th>meaning</th>\n",
       "      <th>example</th>\n",
       "    </tr>\n",
       "  </thead>\n",
       "  <tbody>\n",
       "    <tr>\n",
       "      <th>0</th>\n",
       "      <td>id</td>\n",
       "      <td>string</td>\n",
       "      <td>Id of artist</td>\n",
       "      <td>7EnWkKTmRG5i9rW93o5DZm</td>\n",
       "    </tr>\n",
       "    <tr>\n",
       "      <th>1</th>\n",
       "      <td>name</td>\n",
       "      <td>string</td>\n",
       "      <td>Name of artist</td>\n",
       "      <td>Axxad</td>\n",
       "    </tr>\n",
       "    <tr>\n",
       "      <th>2</th>\n",
       "      <td>genres</td>\n",
       "      <td>string</td>\n",
       "      <td>Artist genres</td>\n",
       "      <td>viral rap</td>\n",
       "    </tr>\n",
       "    <tr>\n",
       "      <th>3</th>\n",
       "      <td>followers</td>\n",
       "      <td>int</td>\n",
       "      <td>Number of followers</td>\n",
       "      <td>6826</td>\n",
       "    </tr>\n",
       "    <tr>\n",
       "      <th>4</th>\n",
       "      <td>popularity</td>\n",
       "      <td>int</td>\n",
       "      <td>Artist popularity</td>\n",
       "      <td>48</td>\n",
       "    </tr>\n",
       "  </tbody>\n",
       "</table>\n",
       "</div>"
      ],
      "text/plain": [
       "  column name data type              meaning                 example\n",
       "0          id    string         Id of artist  7EnWkKTmRG5i9rW93o5DZm\n",
       "1        name    string       Name of artist                   Axxad\n",
       "2      genres    string        Artist genres               viral rap\n",
       "3   followers       int  Number of followers                    6826\n",
       "4  popularity       int    Artist popularity                      48"
      ]
     },
     "execution_count": 24,
     "metadata": {},
     "output_type": "execute_result"
    }
   ],
   "source": [
    "artists_data_des = pd.read_csv('artists_data_des.csv', delimiter='\\t')\n",
    "artists_data_des"
   ]
  },
  {
   "cell_type": "markdown",
   "metadata": {},
   "source": [
    "**II. Check duplicated artists and get the number of unique artists**"
   ]
  },
  {
   "cell_type": "markdown",
   "metadata": {},
   "source": [
    "Number of dupicated artists:"
   ]
  },
  {
   "cell_type": "code",
   "execution_count": 25,
   "metadata": {},
   "outputs": [
    {
     "data": {
      "text/plain": [
       "2460"
      ]
     },
     "execution_count": 25,
     "metadata": {},
     "output_type": "execute_result"
    }
   ],
   "source": [
    "raw_data['id'].duplicated().sum()"
   ]
  },
  {
   "cell_type": "code",
   "execution_count": 10,
   "metadata": {},
   "outputs": [
    {
     "data": {
      "text/html": [
       "<div>\n",
       "<style scoped>\n",
       "    .dataframe tbody tr th:only-of-type {\n",
       "        vertical-align: middle;\n",
       "    }\n",
       "\n",
       "    .dataframe tbody tr th {\n",
       "        vertical-align: top;\n",
       "    }\n",
       "\n",
       "    .dataframe thead th {\n",
       "        text-align: right;\n",
       "    }\n",
       "</style>\n",
       "<table border=\"1\" class=\"dataframe\">\n",
       "  <thead>\n",
       "    <tr style=\"text-align: right;\">\n",
       "      <th></th>\n",
       "      <th>id</th>\n",
       "      <th>name</th>\n",
       "      <th>genres</th>\n",
       "      <th>followers</th>\n",
       "      <th>popularity</th>\n",
       "    </tr>\n",
       "  </thead>\n",
       "  <tbody>\n",
       "    <tr>\n",
       "      <th>19</th>\n",
       "      <td>4O15NlyKLIASxsJ0PrXPfz</td>\n",
       "      <td>Lil Uzi Vert</td>\n",
       "      <td>melodic rap, philly rap, rap, trap</td>\n",
       "      <td>14157761</td>\n",
       "      <td>86</td>\n",
       "    </tr>\n",
       "    <tr>\n",
       "      <th>74</th>\n",
       "      <td>4Gso3d4CscCijv0lmajZWs</td>\n",
       "      <td>Don Toliver</td>\n",
       "      <td>pop, rap, trap</td>\n",
       "      <td>2413501</td>\n",
       "      <td>82</td>\n",
       "    </tr>\n",
       "    <tr>\n",
       "      <th>76</th>\n",
       "      <td>757aE44tKEUQEqRuT6GnEB</td>\n",
       "      <td>Roddy Ricch</td>\n",
       "      <td>melodic rap, rap, trap</td>\n",
       "      <td>8673726</td>\n",
       "      <td>81</td>\n",
       "    </tr>\n",
       "    <tr>\n",
       "      <th>78</th>\n",
       "      <td>08F3Y3SctIlsOEmKd6dnH8</td>\n",
       "      <td>Yusuf / Cat Stevens</td>\n",
       "      <td>british folk, classic rock, folk, folk rock, m...</td>\n",
       "      <td>1623579</td>\n",
       "      <td>69</td>\n",
       "    </tr>\n",
       "    <tr>\n",
       "      <th>97</th>\n",
       "      <td>4STHEaNw4mPZ2tzheohgXB</td>\n",
       "      <td>Paul McCartney</td>\n",
       "      <td>album rock, art rock, beatlesque, classic rock...</td>\n",
       "      <td>4206798</td>\n",
       "      <td>74</td>\n",
       "    </tr>\n",
       "    <tr>\n",
       "      <th>...</th>\n",
       "      <td>...</td>\n",
       "      <td>...</td>\n",
       "      <td>...</td>\n",
       "      <td>...</td>\n",
       "      <td>...</td>\n",
       "    </tr>\n",
       "    <tr>\n",
       "      <th>4371</th>\n",
       "      <td>1MIVXf74SZHmTIp4V4paH4</td>\n",
       "      <td>Mabel</td>\n",
       "      <td>dance pop, edm, pop, pop dance, post-teen pop,...</td>\n",
       "      <td>1717262</td>\n",
       "      <td>70</td>\n",
       "    </tr>\n",
       "    <tr>\n",
       "      <th>4372</th>\n",
       "      <td>4oLeXFyACqeem2VImYeBFe</td>\n",
       "      <td>Fred again..</td>\n",
       "      <td>edm, house</td>\n",
       "      <td>443653</td>\n",
       "      <td>76</td>\n",
       "    </tr>\n",
       "    <tr>\n",
       "      <th>4375</th>\n",
       "      <td>2VSHKHBTiXWplO8lxcnUC9</td>\n",
       "      <td>GAYLE</td>\n",
       "      <td>modern alternative pop</td>\n",
       "      <td>545792</td>\n",
       "      <td>70</td>\n",
       "    </tr>\n",
       "    <tr>\n",
       "      <th>4376</th>\n",
       "      <td>4XC335ouK6pXyq4QiIb8bP</td>\n",
       "      <td>Eliza Rose</td>\n",
       "      <td>house</td>\n",
       "      <td>25021</td>\n",
       "      <td>70</td>\n",
       "    </tr>\n",
       "    <tr>\n",
       "      <th>4377</th>\n",
       "      <td>6uJ51uV5rYzu1MJkC4CceI</td>\n",
       "      <td>Interplanetary Criminal</td>\n",
       "      <td>breaks, experimental house</td>\n",
       "      <td>20779</td>\n",
       "      <td>70</td>\n",
       "    </tr>\n",
       "  </tbody>\n",
       "</table>\n",
       "<p>2460 rows × 5 columns</p>\n",
       "</div>"
      ],
      "text/plain": [
       "                          id                     name  \\\n",
       "19    4O15NlyKLIASxsJ0PrXPfz             Lil Uzi Vert   \n",
       "74    4Gso3d4CscCijv0lmajZWs              Don Toliver   \n",
       "76    757aE44tKEUQEqRuT6GnEB              Roddy Ricch   \n",
       "78    08F3Y3SctIlsOEmKd6dnH8      Yusuf / Cat Stevens   \n",
       "97    4STHEaNw4mPZ2tzheohgXB           Paul McCartney   \n",
       "...                      ...                      ...   \n",
       "4371  1MIVXf74SZHmTIp4V4paH4                    Mabel   \n",
       "4372  4oLeXFyACqeem2VImYeBFe             Fred again..   \n",
       "4375  2VSHKHBTiXWplO8lxcnUC9                    GAYLE   \n",
       "4376  4XC335ouK6pXyq4QiIb8bP               Eliza Rose   \n",
       "4377  6uJ51uV5rYzu1MJkC4CceI  Interplanetary Criminal   \n",
       "\n",
       "                                                 genres  followers  popularity  \n",
       "19                   melodic rap, philly rap, rap, trap   14157761          86  \n",
       "74                                       pop, rap, trap    2413501          82  \n",
       "76                               melodic rap, rap, trap    8673726          81  \n",
       "78    british folk, classic rock, folk, folk rock, m...    1623579          69  \n",
       "97    album rock, art rock, beatlesque, classic rock...    4206798          74  \n",
       "...                                                 ...        ...         ...  \n",
       "4371  dance pop, edm, pop, pop dance, post-teen pop,...    1717262          70  \n",
       "4372                                         edm, house     443653          76  \n",
       "4375                             modern alternative pop     545792          70  \n",
       "4376                                              house      25021          70  \n",
       "4377                         breaks, experimental house      20779          70  \n",
       "\n",
       "[2460 rows x 5 columns]"
      ]
     },
     "execution_count": 10,
     "metadata": {},
     "output_type": "execute_result"
    }
   ],
   "source": [
    "raw_data[raw_data['id'].duplicated()]"
   ]
  },
  {
   "cell_type": "markdown",
   "metadata": {},
   "source": [
    "Number of unique artists:"
   ]
  },
  {
   "cell_type": "code",
   "execution_count": 11,
   "metadata": {},
   "outputs": [
    {
     "data": {
      "text/plain": [
       "1918"
      ]
     },
     "execution_count": 11,
     "metadata": {},
     "output_type": "execute_result"
    }
   ],
   "source": [
    "raw_data['id'].nunique()"
   ]
  },
  {
   "cell_type": "markdown",
   "metadata": {},
   "source": [
    "**III. Tracks participation of artists**"
   ]
  },
  {
   "cell_type": "markdown",
   "metadata": {},
   "source": [
    "Counting artists occurences:"
   ]
  },
  {
   "cell_type": "code",
   "execution_count": 12,
   "metadata": {},
   "outputs": [
    {
     "data": {
      "text/html": [
       "<div>\n",
       "<style scoped>\n",
       "    .dataframe tbody tr th:only-of-type {\n",
       "        vertical-align: middle;\n",
       "    }\n",
       "\n",
       "    .dataframe tbody tr th {\n",
       "        vertical-align: top;\n",
       "    }\n",
       "\n",
       "    .dataframe thead th {\n",
       "        text-align: right;\n",
       "    }\n",
       "</style>\n",
       "<table border=\"1\" class=\"dataframe\">\n",
       "  <thead>\n",
       "    <tr style=\"text-align: right;\">\n",
       "      <th></th>\n",
       "      <th>id</th>\n",
       "      <th>name</th>\n",
       "      <th>genres</th>\n",
       "      <th>followers</th>\n",
       "      <th>popularity</th>\n",
       "      <th>size</th>\n",
       "    </tr>\n",
       "  </thead>\n",
       "  <tbody>\n",
       "    <tr>\n",
       "      <th>0</th>\n",
       "      <td>003f4bk13c6Q3gAUXv7dGJ</td>\n",
       "      <td>Wiener Philharmoniker</td>\n",
       "      <td>austrian orchestra, classical performance, orc...</td>\n",
       "      <td>111232</td>\n",
       "      <td>67</td>\n",
       "      <td>1</td>\n",
       "    </tr>\n",
       "    <tr>\n",
       "      <th>1</th>\n",
       "      <td>00FQb4jTyendYWaN8pK0wa</td>\n",
       "      <td>Lana Del Rey</td>\n",
       "      <td>art pop, pop</td>\n",
       "      <td>19300869</td>\n",
       "      <td>89</td>\n",
       "      <td>1</td>\n",
       "    </tr>\n",
       "    <tr>\n",
       "      <th>2</th>\n",
       "      <td>00XhexlJEXQstHimpZN910</td>\n",
       "      <td>Brytiago</td>\n",
       "      <td>latin hip hop, reggaeton, reggaeton flow, trap...</td>\n",
       "      <td>5707154</td>\n",
       "      <td>74</td>\n",
       "      <td>1</td>\n",
       "    </tr>\n",
       "    <tr>\n",
       "      <th>3</th>\n",
       "      <td>00gh6kmKYOu8xyorRxQm6a</td>\n",
       "      <td>Steve Roach</td>\n",
       "      <td>ambient, drift, drone, fourth world, moog</td>\n",
       "      <td>32337</td>\n",
       "      <td>37</td>\n",
       "      <td>1</td>\n",
       "    </tr>\n",
       "    <tr>\n",
       "      <th>4</th>\n",
       "      <td>02QYcz7JjwzKiKGHg53rZY</td>\n",
       "      <td>Sasha</td>\n",
       "      <td>dancehall queen</td>\n",
       "      <td>7191</td>\n",
       "      <td>54</td>\n",
       "      <td>1</td>\n",
       "    </tr>\n",
       "    <tr>\n",
       "      <th>...</th>\n",
       "      <td>...</td>\n",
       "      <td>...</td>\n",
       "      <td>...</td>\n",
       "      <td>...</td>\n",
       "      <td>...</td>\n",
       "      <td>...</td>\n",
       "    </tr>\n",
       "    <tr>\n",
       "      <th>1394</th>\n",
       "      <td>7xxrAPVVTZaXLTXfvwABVF</td>\n",
       "      <td>Lo Fi Hip Hop</td>\n",
       "      <td>lo-fi product</td>\n",
       "      <td>26461</td>\n",
       "      <td>48</td>\n",
       "      <td>3</td>\n",
       "    </tr>\n",
       "    <tr>\n",
       "      <th>1395</th>\n",
       "      <td>7yK3vix9XmeNwPDmjGs78F</td>\n",
       "      <td>Manal</td>\n",
       "      <td>arabic hip hop, moroccan pop, rap maroc</td>\n",
       "      <td>431835</td>\n",
       "      <td>53</td>\n",
       "      <td>1</td>\n",
       "    </tr>\n",
       "    <tr>\n",
       "      <th>1396</th>\n",
       "      <td>7yL97o50EXql8p3iFo6MHe</td>\n",
       "      <td>Jake Eaw</td>\n",
       "      <td>anime piano</td>\n",
       "      <td>1692</td>\n",
       "      <td>42</td>\n",
       "      <td>5</td>\n",
       "    </tr>\n",
       "    <tr>\n",
       "      <th>1397</th>\n",
       "      <td>7z2avKuuiMAT4XZJFv8Rvh</td>\n",
       "      <td>Tom Walker</td>\n",
       "      <td>indie anthem-folk, pop, uk pop</td>\n",
       "      <td>1004760</td>\n",
       "      <td>68</td>\n",
       "      <td>1</td>\n",
       "    </tr>\n",
       "    <tr>\n",
       "      <th>1398</th>\n",
       "      <td>7z5WFjZAIYejWy0NI5lv4T</td>\n",
       "      <td>Dan + Shay</td>\n",
       "      <td>contemporary country, country, country road, pop</td>\n",
       "      <td>2803626</td>\n",
       "      <td>73</td>\n",
       "      <td>4</td>\n",
       "    </tr>\n",
       "  </tbody>\n",
       "</table>\n",
       "<p>1399 rows × 6 columns</p>\n",
       "</div>"
      ],
      "text/plain": [
       "                          id                   name  \\\n",
       "0     003f4bk13c6Q3gAUXv7dGJ  Wiener Philharmoniker   \n",
       "1     00FQb4jTyendYWaN8pK0wa           Lana Del Rey   \n",
       "2     00XhexlJEXQstHimpZN910               Brytiago   \n",
       "3     00gh6kmKYOu8xyorRxQm6a            Steve Roach   \n",
       "4     02QYcz7JjwzKiKGHg53rZY                  Sasha   \n",
       "...                      ...                    ...   \n",
       "1394  7xxrAPVVTZaXLTXfvwABVF          Lo Fi Hip Hop   \n",
       "1395  7yK3vix9XmeNwPDmjGs78F                  Manal   \n",
       "1396  7yL97o50EXql8p3iFo6MHe               Jake Eaw   \n",
       "1397  7z2avKuuiMAT4XZJFv8Rvh             Tom Walker   \n",
       "1398  7z5WFjZAIYejWy0NI5lv4T             Dan + Shay   \n",
       "\n",
       "                                                 genres  followers  \\\n",
       "0     austrian orchestra, classical performance, orc...     111232   \n",
       "1                                          art pop, pop   19300869   \n",
       "2     latin hip hop, reggaeton, reggaeton flow, trap...    5707154   \n",
       "3             ambient, drift, drone, fourth world, moog      32337   \n",
       "4                                       dancehall queen       7191   \n",
       "...                                                 ...        ...   \n",
       "1394                                      lo-fi product      26461   \n",
       "1395            arabic hip hop, moroccan pop, rap maroc     431835   \n",
       "1396                                        anime piano       1692   \n",
       "1397                     indie anthem-folk, pop, uk pop    1004760   \n",
       "1398   contemporary country, country, country road, pop    2803626   \n",
       "\n",
       "      popularity  size  \n",
       "0             67     1  \n",
       "1             89     1  \n",
       "2             74     1  \n",
       "3             37     1  \n",
       "4             54     1  \n",
       "...          ...   ...  \n",
       "1394          48     3  \n",
       "1395          53     1  \n",
       "1396          42     5  \n",
       "1397          68     1  \n",
       "1398          73     4  \n",
       "\n",
       "[1399 rows x 6 columns]"
      ]
     },
     "execution_count": 12,
     "metadata": {},
     "output_type": "execute_result"
    }
   ],
   "source": [
    "occurence_count = raw_data.groupby(raw_data.columns.to_list(), as_index=False).size()\n",
    "occurence_count"
   ]
  },
  {
   "cell_type": "markdown",
   "metadata": {},
   "source": [
    "The most frequent artist:"
   ]
  },
  {
   "cell_type": "code",
   "execution_count": 13,
   "metadata": {},
   "outputs": [
    {
     "data": {
      "text/plain": [
       "id                1dABGukgZ8XKKOdd2rVSHM\n",
       "name                   Lofi Fruits Music\n",
       "genres        lo-fi cover, lo-fi product\n",
       "followers                         792245\n",
       "popularity                            78\n",
       "size                                 154\n",
       "Name: 295, dtype: object"
      ]
     },
     "execution_count": 13,
     "metadata": {},
     "output_type": "execute_result"
    }
   ],
   "source": [
    "occurence_count.loc[occurence_count['size'].idxmax()]"
   ]
  },
  {
   "cell_type": "markdown",
   "metadata": {},
   "source": [
    "**IV. Dataset description**"
   ]
  },
  {
   "cell_type": "code",
   "execution_count": 14,
   "metadata": {},
   "outputs": [
    {
     "data": {
      "text/html": [
       "<div>\n",
       "<style scoped>\n",
       "    .dataframe tbody tr th:only-of-type {\n",
       "        vertical-align: middle;\n",
       "    }\n",
       "\n",
       "    .dataframe tbody tr th {\n",
       "        vertical-align: top;\n",
       "    }\n",
       "\n",
       "    .dataframe thead th {\n",
       "        text-align: right;\n",
       "    }\n",
       "</style>\n",
       "<table border=\"1\" class=\"dataframe\">\n",
       "  <thead>\n",
       "    <tr style=\"text-align: right;\">\n",
       "      <th></th>\n",
       "      <th>followers</th>\n",
       "      <th>popularity</th>\n",
       "    </tr>\n",
       "  </thead>\n",
       "  <tbody>\n",
       "    <tr>\n",
       "      <th>count</th>\n",
       "      <td>4378</td>\n",
       "      <td>4378</td>\n",
       "    </tr>\n",
       "    <tr>\n",
       "      <th>mean</th>\n",
       "      <td>4923317</td>\n",
       "      <td>62</td>\n",
       "    </tr>\n",
       "    <tr>\n",
       "      <th>std</th>\n",
       "      <td>11977425</td>\n",
       "      <td>20</td>\n",
       "    </tr>\n",
       "    <tr>\n",
       "      <th>min</th>\n",
       "      <td>0</td>\n",
       "      <td>0</td>\n",
       "    </tr>\n",
       "    <tr>\n",
       "      <th>25%</th>\n",
       "      <td>50084</td>\n",
       "      <td>50</td>\n",
       "    </tr>\n",
       "    <tr>\n",
       "      <th>50%</th>\n",
       "      <td>758915</td>\n",
       "      <td>69</td>\n",
       "    </tr>\n",
       "    <tr>\n",
       "      <th>75%</th>\n",
       "      <td>4250297</td>\n",
       "      <td>77</td>\n",
       "    </tr>\n",
       "    <tr>\n",
       "      <th>max</th>\n",
       "      <td>106095624</td>\n",
       "      <td>100</td>\n",
       "    </tr>\n",
       "  </tbody>\n",
       "</table>\n",
       "</div>"
      ],
      "text/plain": [
       "       followers  popularity\n",
       "count       4378        4378\n",
       "mean     4923317          62\n",
       "std     11977425          20\n",
       "min            0           0\n",
       "25%        50084          50\n",
       "50%       758915          69\n",
       "75%      4250297          77\n",
       "max    106095624         100"
      ]
     },
     "execution_count": 14,
     "metadata": {},
     "output_type": "execute_result"
    }
   ],
   "source": [
    "data_description = raw_data.describe().astype('int')\n",
    "data_description"
   ]
  },
  {
   "cell_type": "code",
   "execution_count": 15,
   "metadata": {},
   "outputs": [
    {
     "data": {
      "text/plain": [
       "<BarContainer object of 8 artists>"
      ]
     },
     "execution_count": 15,
     "metadata": {},
     "output_type": "execute_result"
    },
    {
     "data": {
      "text/plain": [
       "<Figure size 2000x2000 with 0 Axes>"
      ]
     },
     "metadata": {},
     "output_type": "display_data"
    },
    {
     "data": {
      "image/png": "[encoded data removed]",
      "text/plain": [
       "<Figure size 640x480 with 2 Axes>"
      ]
     },
     "metadata": {},
     "output_type": "display_data"
    }
   ],
   "source": [
    "plt.figure(figsize=(20, 20))\n",
    "fig, ax = plt.subplots(1, 2)\n",
    "ax[0].barh(data_description.index, data_description['followers'], color = 'red')\n",
    "ax[1].barh(data_description.index, data_description['popularity'], color = 'blue')"
   ]
  },
  {
   "cell_type": "markdown",
   "metadata": {},
   "source": [
    "**V. Compute artists correlation**"
   ]
  },
  {
   "cell_type": "code",
   "execution_count": 16,
   "metadata": {},
   "outputs": [
    {
     "data": {
      "text/html": [
       "<div>\n",
       "<style scoped>\n",
       "    .dataframe tbody tr th:only-of-type {\n",
       "        vertical-align: middle;\n",
       "    }\n",
       "\n",
       "    .dataframe tbody tr th {\n",
       "        vertical-align: top;\n",
       "    }\n",
       "\n",
       "    .dataframe thead th {\n",
       "        text-align: right;\n",
       "    }\n",
       "</style>\n",
       "<table border=\"1\" class=\"dataframe\">\n",
       "  <thead>\n",
       "    <tr style=\"text-align: right;\">\n",
       "      <th></th>\n",
       "      <th>followers</th>\n",
       "      <th>popularity</th>\n",
       "    </tr>\n",
       "  </thead>\n",
       "  <tbody>\n",
       "    <tr>\n",
       "      <th>followers</th>\n",
       "      <td>1.000000</td>\n",
       "      <td>0.854698</td>\n",
       "    </tr>\n",
       "    <tr>\n",
       "      <th>popularity</th>\n",
       "      <td>0.854698</td>\n",
       "      <td>1.000000</td>\n",
       "    </tr>\n",
       "  </tbody>\n",
       "</table>\n",
       "</div>"
      ],
      "text/plain": [
       "            followers  popularity\n",
       "followers    1.000000    0.854698\n",
       "popularity   0.854698    1.000000"
      ]
     },
     "execution_count": 16,
     "metadata": {},
     "output_type": "execute_result"
    }
   ],
   "source": [
    "raw_data.corr(method=\"spearman\")"
   ]
  }
 ],
 "metadata": {
  "kernelspec": {
   "display_name": "Python 3.10.6 ('min_ds-env')",
   "language": "python",
   "name": "python3"
  },
  "language_info": {
   "codemirror_mode": {
    "name": "ipython",
    "version": 3
   },
   "file_extension": ".py",
   "mimetype": "text/x-python",
   "name": "python",
   "nbconvert_exporter": "python",
   "pygments_lexer": "ipython3",
   "version": "3.10.6"
  },
  "orig_nbformat": 4,
  "vscode": {
   "interpreter": {
    "hash": "3b298dc8b5ec9755d3b5e5b4831b9bf767d0a22ad509bcbd5b6f1f1a5498747c"
   }
  }
 },
 "nbformat": 4,
 "nbformat_minor": 2
}
