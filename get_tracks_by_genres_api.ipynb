{
 "cells": [
  {
   "cell_type": "code",
   "execution_count": 1,
   "metadata": {},
   "outputs": [],
   "source": [
    "import spotipy\n",
    "import csv\n",
    "import os\n",
    "from spotipy.oauth2 import SpotifyClientCredentials, SpotifyOAuth\n",
    "from dotenv import load_dotenv"
   ]
  },
  {
   "cell_type": "code",
   "execution_count": 2,
   "metadata": {},
   "outputs": [],
   "source": [
    "load_dotenv()\n",
    "\n",
    "client_id = os.getenv('SPOTIPY_CLIENT_ID')\n",
    "client_secret = os.getenv('SPOTIPY_CLIENT_SECRET')\n",
    "redirect_uri = os.getenv('SPOTIPY_REDIRECT_URI')\n",
    "\n",
    "client_credentials_manager = SpotifyClientCredentials()\n",
    "spotify = spotipy.Spotify(auth_manager=SpotifyClientCredentials())"
   ]
  },
  {
   "cell_type": "code",
   "execution_count": 3,
   "metadata": {},
   "outputs": [],
   "source": [
    "genre_list = ['pop', 'rock', 'hip hop', 'rap', 'chillhop', 'metal', 'indie', 'house', 'country', 'edm']\n",
    "genre_dict = dict.fromkeys(genre_list)\n",
    "\n",
    "for genre in genre_dict:\n",
    "    genre_dict[genre] = []\n",
    "\n",
    "for genre in genre_list:\n",
    "    search_result = spotify.search(q=genre, limit=50) #the result only consists of tracks\n",
    "\n",
    "    genre_dict[genre].extend(search_result['tracks']['items'])\n",
    "\n",
    "    for i in range(19):\n",
    "        search_result = spotify.next(search_result['tracks'])\n",
    "        genre_dict[genre].extend(search_result['tracks']['items'])"
   ]
  },
  {
   "cell_type": "code",
   "execution_count": 4,
   "metadata": {},
   "outputs": [
    {
     "data": {
      "text/plain": [
       "dict_keys(['album', 'artists', 'available_markets', 'disc_number', 'duration_ms', 'explicit', 'external_ids', 'external_urls', 'href', 'id', 'is_local', 'name', 'popularity', 'preview_url', 'track_number', 'type', 'uri'])"
      ]
     },
     "execution_count": 4,
     "metadata": {},
     "output_type": "execute_result"
    }
   ],
   "source": [
    "genre_dict['pop'][0].keys()"
   ]
  },
  {
   "cell_type": "code",
   "execution_count": 5,
   "metadata": {},
   "outputs": [],
   "source": [
    "tracks_id = dict.fromkeys(genre_list)\n",
    "\n",
    "for genre in tracks_id:\n",
    "    tracks_id[genre] = []\n",
    "\n",
    "for genre in genre_dict:\n",
    "    for i in range(len(genre_dict[genre])):\n",
    "        tracks_id[genre].append(genre_dict[genre][i]['id'])\n",
    "\n",
    "for genre in tracks_id:\n",
    "    tracks_id[genre] = list(dict.fromkeys(tracks_id[genre]))"
   ]
  },
  {
   "cell_type": "code",
   "execution_count": 6,
   "metadata": {},
   "outputs": [],
   "source": [
    "track_features_list = dict.fromkeys(genre_list)\n",
    "\n",
    "for genre in track_features_list:\n",
    "    track_features_list[genre] = []\n",
    "\n",
    "for genre in tracks_id:\n",
    "    for i in range(len(tracks_id[genre])):\n",
    "        track_features_list[genre].append(spotify.audio_features(tracks_id[genre][i]))"
   ]
  },
  {
   "cell_type": "code",
   "execution_count": 7,
   "metadata": {},
   "outputs": [],
   "source": [
    "for genre in track_features_list:\n",
    "    track_features_list[genre] = list(filter(lambda x: x != [None], track_features_list[genre]))"
   ]
  },
  {
   "cell_type": "code",
   "execution_count": 8,
   "metadata": {},
   "outputs": [],
   "source": [
    "for genre in track_features_list: \n",
    "    for i in range(len(track_features_list[genre])):\n",
    "        track_features_list[genre][i] = dict(list(filter(lambda x: x[0] == 'id' or type(x[1]) != str, list(track_features_list[genre][i][0].items()))))"
   ]
  },
  {
   "cell_type": "code",
   "execution_count": 9,
   "metadata": {},
   "outputs": [],
   "source": [
    "for genre in track_features_list:\n",
    "    for i in range(len(track_features_list[genre])):\n",
    "        track_features_list[genre][i]['genre'] = genre"
   ]
  },
  {
   "cell_type": "code",
   "execution_count": 10,
   "metadata": {},
   "outputs": [],
   "source": [
    "for genre in track_features_list:\n",
    "    for i in range(len(track_features_list[genre])):\n",
    "        track_features_list[genre][i] = {'id': track_features_list[genre][i].pop('id'), **track_features_list[genre][i]}"
   ]
  },
  {
   "cell_type": "code",
   "execution_count": 11,
   "metadata": {},
   "outputs": [],
   "source": [
    "save_data = []\n",
    "for genre in track_features_list:\n",
    "    for i in range(len(track_features_list[genre])):\n",
    "        save_data.append(track_features_list[genre][i])"
   ]
  },
  {
   "cell_type": "code",
   "execution_count": 12,
   "metadata": {},
   "outputs": [],
   "source": [
    "with open('10_genres_audio_features.tsv', 'w') as file:\n",
    "    writer = csv.DictWriter(file, fieldnames=save_data[0].keys(), delimiter='\\t')\n",
    "    writer.writeheader()\n",
    "    for data in save_data:\n",
    "        writer.writerow(data)"
   ]
  }
 ],
 "metadata": {
  "kernelspec": {
   "display_name": "Python 3.10.6 ('min_ds-env')",
   "language": "python",
   "name": "python3"
  },
  "language_info": {
   "codemirror_mode": {
    "name": "ipython",
    "version": 3
   },
   "file_extension": ".py",
   "mimetype": "text/x-python",
   "name": "python",
   "nbconvert_exporter": "python",
   "pygments_lexer": "ipython3",
   "version": "3.10.6 (main, Oct 24 2022, 16:07:47) [GCC 11.2.0]"
  },
  "orig_nbformat": 4,
  "vscode": {
   "interpreter": {
    "hash": "3b298dc8b5ec9755d3b5e5b4831b9bf767d0a22ad509bcbd5b6f1f1a5498747c"
   }
  }
 },
 "nbformat": 4,
 "nbformat_minor": 2
}
